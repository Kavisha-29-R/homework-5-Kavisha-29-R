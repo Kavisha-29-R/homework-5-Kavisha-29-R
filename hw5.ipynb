{
 "cells": [
  {
   "cell_type": "markdown",
   "id": "7292f4b5",
   "metadata": {},
   "source": [
    "# Homework Assignment 5\n",
    "## by Kavisha Reddy"
   ]
  },
  {
   "cell_type": "markdown",
   "id": "31cb1dc3",
   "metadata": {},
   "source": [
    "## Links to repositories and webpage:\n",
    "1. Homework repo: https://github.com/Kavisha-29-R/homework-5-Kavisha-29-R.git\n",
    "2. Webpage repo: https://github.com/Kavisha-29-R/hw5-Sankey-Plot.git \n",
    "## Live Sankey Diagram\n",
    "You can view the interactive Sankey diagram for Subject 127 [Sankey-Diagram](https://kavisha-29-r.github.io/hw5-Sankey-Plot/sankey.html)\n"
   ]
  },
  {
   "cell_type": "markdown",
   "id": "7f40ccbf",
   "metadata": {},
   "source": [
    "### Instructions:"
   ]
  },
  {
   "cell_type": "markdown",
   "id": "8da92c97",
   "metadata": {},
   "source": [
    "Submit a PDF or HTML export of your hw5.ipnyb file. Before exporting, select \"Restart & Run All\" to make sure all code runs cleanly and outputs are displayed. Also submit both .html plots.\n",
    "\n",
    "1. Create a python file that webscrapes GDP by country [Wiki - GDP](https://en.wikipedia.org/wiki/List_of_countries_by_GDP_(nominal)). and plots a stacked interactive bar plot using plotly. \n",
    "    - Stack countries within regions using the IMF numbers. \n",
    "    - Please include this in your ipython notebook and output your plot to an html file containing the plot.\n",
    "2. Look at the chapter on interactive graphics [CH - interactive graphic desgin](https://smart-stats.github.io/ds4bio_book/book/_build/html/interactive.html). and, specifically, the code to display a subject's MRICloud data as a sunburst plot. \n",
    "Do the following: \n",
    "    - Display this subject's data as a Sankey diagram [Sankey diagram](https://plotly.com/python/sankey-diagram/). \n",
    "    - Display as many levels as you can (at least 3) for Type = 1, starting from the intracranial volume.\n",
    "3. Create a simple webpage containing the Sankey graphic and host it on github pages. \n",
    "    - Do not - host this off of your assignment repo from github classroom, since this is not public. Instead, you'll have to create a new public repo from your regular github account and add this file. \n",
    "    - Put the link to your live web page in a markdown cell of your hw5.ipynb file as a text block.\n",
    "\n",
    "Your homework should include:\n",
    "* An file called hw5.ipynb that has your code for parts 1 and 2.\n",
    "* Two html files, one called sankey.html and one called stacked_bar.html that contain the two plots as html files.\n",
    "* Your hw5.ipynb file should have a text block that contains a link to the live and publiclyl hosted sankey diagram.\n",
    "\n",
    "Remember that you should have two repositories for this assignment. \n",
    "- First, you need the HW repository that you create when you accept the assignment. This is where you do the work for the three files (hw5.ipynb, sankey.html, stacked_bar.html). \n",
    "- Secondly, you will need to create your own repository containing a live link to your sankey html file. So, when I click on that link it should show a page containing your plot.\n",
    "\n",
    "Note plotly objects contain a method called to_html() which is useful for creating an html file.\n",
    "\n"
   ]
  },
  {
   "cell_type": "markdown",
   "id": "85dd29e9",
   "metadata": {},
   "source": [
    "### 1. Web-scrape GDP by country (IMF numbers) and stacked interactive bar plot"
   ]
  },
  {
   "cell_type": "code",
   "execution_count": 1,
   "id": "66d9632b",
   "metadata": {},
   "outputs": [],
   "source": [
    "# Standard imports used in both parts\n",
    "import os\n",
    "import pandas as pd\n",
    "import numpy as np\n",
    "import requests\n",
    "from bs4 import BeautifulSoup\n",
    "import plotly.express as px\n",
    "import plotly.colors as pc\n",
    "import plotly.graph_objects as go\n",
    "\n",
    "# Optional helper: country_converter (nice for mapping country -> continent/UN region)\n",
    "try:\n",
    "    import country_converter as coco   \n",
    "except Exception:\n",
    "    coco = None\n",
    "    print(\"country_converter not available: region mapping will fall back on a small manual map (see notes).\")\n"
   ]
  },
  {
   "cell_type": "code",
   "execution_count": 2,
   "id": "7511629a",
   "metadata": {},
   "outputs": [
    {
     "name": "stdout",
     "output_type": "stream",
     "text": [
      "Found 1 tables\n"
     ]
    }
   ],
   "source": [
    "# Download the Wikipedia page with a browser-like User-Agent header\n",
    "wiki_url = \"https://en.wikipedia.org/wiki/List_of_countries_by_GDP_(nominal)\"\n",
    "\n",
    "headers = {\n",
    "    \"User-Agent\": \"Mozilla/5.0 (Windows NT 10.0; Win64; x64) \"\n",
    "                  \"AppleWebKit/537.36 (KHTML, like Gecko) \"\n",
    "                  \"Chrome/120.0.0.0 Safari/537.36\"\n",
    "}\n",
    "\n",
    "resp = requests.get(wiki_url, headers=headers)\n",
    "resp.raise_for_status()  # stop if page couldn't be fetched\n",
    "\n",
    "# BeautifulSoup parse\n",
    "soup = BeautifulSoup(resp.text, \"html.parser\")\n",
    "\n",
    "# Extract all wikitables\n",
    "tables = soup.find_all(\"table\", {\"class\": \"wikitable\"})\n",
    "len(tables)\n",
    "# Use pandas.read_html directly with the headers (need to pass resp.text)\n",
    "#tables = pd.read_html(resp.text)\n",
    "print(f\"Found {len(tables)} tables\")\n"
   ]
  },
  {
   "cell_type": "code",
   "execution_count": 3,
   "id": "eb30d96b",
   "metadata": {},
   "outputs": [
    {
     "name": "stderr",
     "output_type": "stream",
     "text": [
      "C:\\Users\\Kavisha\\AppData\\Local\\Temp\\ipykernel_31048\\964544547.py:2: FutureWarning: Passing literal html to 'read_html' is deprecated and will be removed in a future version. To read from a literal string, wrap it in a 'StringIO' object.\n",
      "  imf_df = pd.read_html(str(tables[0]))[0]\n"
     ]
    },
    {
     "data": {
      "application/vnd.microsoft.datawrangler.viewer.v0+json": {
       "columns": [
        {
         "name": "index",
         "rawType": "int64",
         "type": "integer"
        },
        {
         "name": "Country",
         "rawType": "object",
         "type": "string"
        },
        {
         "name": "IMF (2025)",
         "rawType": "object",
         "type": "string"
        },
        {
         "name": "World Bank (2022–24)",
         "rawType": "object",
         "type": "string"
        },
        {
         "name": "United Nations (2023)",
         "rawType": "object",
         "type": "string"
        }
       ],
       "ref": "f4eb6aab-7696-473d-a13c-22b82a66c16c",
       "rows": [
        [
         "0",
         "World",
         "113795678",
         "111326370",
         "100834796"
        ],
        [
         "1",
         "United States",
         "30507217",
         "29184890",
         "27720700"
        ],
        [
         "2",
         "China[n 1]",
         "19231705",
         "18743803",
         "17794782"
        ],
        [
         "3",
         "Germany",
         "4744804",
         "4659929",
         "4525704"
        ],
        [
         "4",
         "India",
         "4187017",
         "3912686",
         "3575778"
        ]
       ],
       "shape": {
        "columns": 4,
        "rows": 5
       }
      },
      "text/html": [
       "<div>\n",
       "<style scoped>\n",
       "    .dataframe tbody tr th:only-of-type {\n",
       "        vertical-align: middle;\n",
       "    }\n",
       "\n",
       "    .dataframe tbody tr th {\n",
       "        vertical-align: top;\n",
       "    }\n",
       "\n",
       "    .dataframe thead th {\n",
       "        text-align: right;\n",
       "    }\n",
       "</style>\n",
       "<table border=\"1\" class=\"dataframe\">\n",
       "  <thead>\n",
       "    <tr style=\"text-align: right;\">\n",
       "      <th></th>\n",
       "      <th>Country</th>\n",
       "      <th>IMF (2025)</th>\n",
       "      <th>World Bank (2022–24)</th>\n",
       "      <th>United Nations (2023)</th>\n",
       "    </tr>\n",
       "  </thead>\n",
       "  <tbody>\n",
       "    <tr>\n",
       "      <th>0</th>\n",
       "      <td>World</td>\n",
       "      <td>113795678</td>\n",
       "      <td>111326370</td>\n",
       "      <td>100834796</td>\n",
       "    </tr>\n",
       "    <tr>\n",
       "      <th>1</th>\n",
       "      <td>United States</td>\n",
       "      <td>30507217</td>\n",
       "      <td>29184890</td>\n",
       "      <td>27720700</td>\n",
       "    </tr>\n",
       "    <tr>\n",
       "      <th>2</th>\n",
       "      <td>China[n 1]</td>\n",
       "      <td>19231705</td>\n",
       "      <td>18743803</td>\n",
       "      <td>17794782</td>\n",
       "    </tr>\n",
       "    <tr>\n",
       "      <th>3</th>\n",
       "      <td>Germany</td>\n",
       "      <td>4744804</td>\n",
       "      <td>4659929</td>\n",
       "      <td>4525704</td>\n",
       "    </tr>\n",
       "    <tr>\n",
       "      <th>4</th>\n",
       "      <td>India</td>\n",
       "      <td>4187017</td>\n",
       "      <td>3912686</td>\n",
       "      <td>3575778</td>\n",
       "    </tr>\n",
       "  </tbody>\n",
       "</table>\n",
       "</div>"
      ],
      "text/plain": [
       "         Country IMF (2025) World Bank (2022–24) United Nations (2023)\n",
       "0          World  113795678            111326370             100834796\n",
       "1  United States   30507217             29184890              27720700\n",
       "2     China[n 1]   19231705             18743803              17794782\n",
       "3        Germany    4744804              4659929               4525704\n",
       "4          India    4187017              3912686               3575778"
      ]
     },
     "execution_count": 3,
     "metadata": {},
     "output_type": "execute_result"
    }
   ],
   "source": [
    "# Convert the first big table to pandas DataFrame\n",
    "imf_df = pd.read_html(str(tables[0]))[0]\n",
    "\n",
    "# Clean column names (remove footnotes)\n",
    "imf_df.columns = [c.split(\"[\")[0].strip() for c in imf_df.columns]\n",
    "\n",
    "# Rename the country column for clarity\n",
    "if \"Country/Territory\" in imf_df.columns:\n",
    "    imf_df.rename(columns={\"Country/Territory\": \"Country\"}, inplace=True)\n",
    "\n",
    "# Show first few rows\n",
    "imf_df.head()\n"
   ]
  },
  {
   "cell_type": "code",
   "execution_count": 4,
   "id": "0e3fc155",
   "metadata": {},
   "outputs": [
    {
     "data": {
      "application/vnd.microsoft.datawrangler.viewer.v0+json": {
       "columns": [
        {
         "name": "index",
         "rawType": "int64",
         "type": "integer"
        },
        {
         "name": "Country",
         "rawType": "object",
         "type": "string"
        },
        {
         "name": "IMF (2025)",
         "rawType": "float64",
         "type": "float"
        }
       ],
       "ref": "55d44715-4669-4959-bb80-568148e9ad08",
       "rows": [
        [
         "0",
         "United States",
         "30507217.0"
        ],
        [
         "1",
         "China[n 1]",
         "19231705.0"
        ],
        [
         "2",
         "Germany",
         "4744804.0"
        ],
        [
         "3",
         "India",
         "4187017.0"
        ],
        [
         "4",
         "Japan",
         "4186431.0"
        ],
        [
         "5",
         "United Kingdom",
         "3839180.0"
        ],
        [
         "6",
         "France",
         "3211292.0"
        ],
        [
         "7",
         "Italy",
         "2422855.0"
        ],
        [
         "8",
         "Canada",
         "2225341.0"
        ],
        [
         "9",
         "Brazil",
         "2125958.0"
        ]
       ],
       "shape": {
        "columns": 2,
        "rows": 10
       }
      },
      "text/html": [
       "<div>\n",
       "<style scoped>\n",
       "    .dataframe tbody tr th:only-of-type {\n",
       "        vertical-align: middle;\n",
       "    }\n",
       "\n",
       "    .dataframe tbody tr th {\n",
       "        vertical-align: top;\n",
       "    }\n",
       "\n",
       "    .dataframe thead th {\n",
       "        text-align: right;\n",
       "    }\n",
       "</style>\n",
       "<table border=\"1\" class=\"dataframe\">\n",
       "  <thead>\n",
       "    <tr style=\"text-align: right;\">\n",
       "      <th></th>\n",
       "      <th>Country</th>\n",
       "      <th>IMF (2025)</th>\n",
       "    </tr>\n",
       "  </thead>\n",
       "  <tbody>\n",
       "    <tr>\n",
       "      <th>0</th>\n",
       "      <td>United States</td>\n",
       "      <td>30507217.0</td>\n",
       "    </tr>\n",
       "    <tr>\n",
       "      <th>1</th>\n",
       "      <td>China[n 1]</td>\n",
       "      <td>19231705.0</td>\n",
       "    </tr>\n",
       "    <tr>\n",
       "      <th>2</th>\n",
       "      <td>Germany</td>\n",
       "      <td>4744804.0</td>\n",
       "    </tr>\n",
       "    <tr>\n",
       "      <th>3</th>\n",
       "      <td>India</td>\n",
       "      <td>4187017.0</td>\n",
       "    </tr>\n",
       "    <tr>\n",
       "      <th>4</th>\n",
       "      <td>Japan</td>\n",
       "      <td>4186431.0</td>\n",
       "    </tr>\n",
       "    <tr>\n",
       "      <th>5</th>\n",
       "      <td>United Kingdom</td>\n",
       "      <td>3839180.0</td>\n",
       "    </tr>\n",
       "    <tr>\n",
       "      <th>6</th>\n",
       "      <td>France</td>\n",
       "      <td>3211292.0</td>\n",
       "    </tr>\n",
       "    <tr>\n",
       "      <th>7</th>\n",
       "      <td>Italy</td>\n",
       "      <td>2422855.0</td>\n",
       "    </tr>\n",
       "    <tr>\n",
       "      <th>8</th>\n",
       "      <td>Canada</td>\n",
       "      <td>2225341.0</td>\n",
       "    </tr>\n",
       "    <tr>\n",
       "      <th>9</th>\n",
       "      <td>Brazil</td>\n",
       "      <td>2125958.0</td>\n",
       "    </tr>\n",
       "  </tbody>\n",
       "</table>\n",
       "</div>"
      ],
      "text/plain": [
       "          Country  IMF (2025)\n",
       "0   United States  30507217.0\n",
       "1      China[n 1]  19231705.0\n",
       "2         Germany   4744804.0\n",
       "3           India   4187017.0\n",
       "4           Japan   4186431.0\n",
       "5  United Kingdom   3839180.0\n",
       "6          France   3211292.0\n",
       "7           Italy   2422855.0\n",
       "8          Canada   2225341.0\n",
       "9          Brazil   2125958.0"
      ]
     },
     "execution_count": 4,
     "metadata": {},
     "output_type": "execute_result"
    }
   ],
   "source": [
    "# Pick only Country + IMF column\n",
    "# (the IMF column name might be like 'IMF (2025)')\n",
    "imf_col = [c for c in imf_df.columns if \"IMF\" in c][0]\n",
    "\n",
    "gdp_df = imf_df[[\"Country\", imf_col]].copy()\n",
    "\n",
    "# Filter out 'World' or aggregates\n",
    "exclude = [\n",
    "    \"World\", \"World total\", \"European Union\", \"Eurozone\",\n",
    "    \"Asia\", \"Africa\", \"Europe\", \"Americas\", \"Oceania\"\n",
    "]\n",
    "gdp_df = gdp_df[~gdp_df[\"Country\"].isin(exclude)]\n",
    "\n",
    "# Clean GDP values (remove commas etc.)\n",
    "gdp_df[imf_col] = (\n",
    "    gdp_df[imf_col]\n",
    "    .astype(str)\n",
    "    .str.replace(\",\", \"\", regex=False)\n",
    "    .str.replace(r\"[^0-9.]\", \"\", regex=True)\n",
    "    .replace(\"\", None)\n",
    "    .astype(float)\n",
    ")\n",
    "\n",
    "# Drop rows with no IMF data\n",
    "gdp_df = gdp_df.dropna(subset=[imf_col]).reset_index(drop=True)\n",
    "\n",
    "gdp_df.head(10)\n"
   ]
  },
  {
   "cell_type": "code",
   "execution_count": 5,
   "id": "ac7a6e6c",
   "metadata": {},
   "outputs": [
    {
     "name": "stdout",
     "output_type": "stream",
     "text": [
      "Detected GDP column: IMF (2025)\n"
     ]
    },
    {
     "data": {
      "application/vnd.microsoft.datawrangler.viewer.v0+json": {
       "columns": [
        {
         "name": "index",
         "rawType": "int64",
         "type": "integer"
        },
        {
         "name": "country",
         "rawType": "object",
         "type": "string"
        },
        {
         "name": "gdp_million_usd",
         "rawType": "float64",
         "type": "float"
        }
       ],
       "ref": "ce7685c6-73c7-4299-bd89-f8e6fb8aa54e",
       "rows": [
        [
         "0",
         "United States",
         "30507217.0"
        ],
        [
         "1",
         "China",
         "19231705.0"
        ],
        [
         "2",
         "Germany",
         "4744804.0"
        ],
        [
         "3",
         "India",
         "4187017.0"
        ],
        [
         "4",
         "Japan",
         "4186431.0"
        ],
        [
         "5",
         "United Kingdom",
         "3839180.0"
        ],
        [
         "6",
         "France",
         "3211292.0"
        ],
        [
         "7",
         "Italy",
         "2422855.0"
        ],
        [
         "8",
         "Canada",
         "2225341.0"
        ],
        [
         "9",
         "Brazil",
         "2125958.0"
        ]
       ],
       "shape": {
        "columns": 2,
        "rows": 10
       }
      },
      "text/html": [
       "<div>\n",
       "<style scoped>\n",
       "    .dataframe tbody tr th:only-of-type {\n",
       "        vertical-align: middle;\n",
       "    }\n",
       "\n",
       "    .dataframe tbody tr th {\n",
       "        vertical-align: top;\n",
       "    }\n",
       "\n",
       "    .dataframe thead th {\n",
       "        text-align: right;\n",
       "    }\n",
       "</style>\n",
       "<table border=\"1\" class=\"dataframe\">\n",
       "  <thead>\n",
       "    <tr style=\"text-align: right;\">\n",
       "      <th></th>\n",
       "      <th>country</th>\n",
       "      <th>gdp_million_usd</th>\n",
       "    </tr>\n",
       "  </thead>\n",
       "  <tbody>\n",
       "    <tr>\n",
       "      <th>0</th>\n",
       "      <td>United States</td>\n",
       "      <td>30507217.0</td>\n",
       "    </tr>\n",
       "    <tr>\n",
       "      <th>1</th>\n",
       "      <td>China</td>\n",
       "      <td>19231705.0</td>\n",
       "    </tr>\n",
       "    <tr>\n",
       "      <th>2</th>\n",
       "      <td>Germany</td>\n",
       "      <td>4744804.0</td>\n",
       "    </tr>\n",
       "    <tr>\n",
       "      <th>3</th>\n",
       "      <td>India</td>\n",
       "      <td>4187017.0</td>\n",
       "    </tr>\n",
       "    <tr>\n",
       "      <th>4</th>\n",
       "      <td>Japan</td>\n",
       "      <td>4186431.0</td>\n",
       "    </tr>\n",
       "    <tr>\n",
       "      <th>5</th>\n",
       "      <td>United Kingdom</td>\n",
       "      <td>3839180.0</td>\n",
       "    </tr>\n",
       "    <tr>\n",
       "      <th>6</th>\n",
       "      <td>France</td>\n",
       "      <td>3211292.0</td>\n",
       "    </tr>\n",
       "    <tr>\n",
       "      <th>7</th>\n",
       "      <td>Italy</td>\n",
       "      <td>2422855.0</td>\n",
       "    </tr>\n",
       "    <tr>\n",
       "      <th>8</th>\n",
       "      <td>Canada</td>\n",
       "      <td>2225341.0</td>\n",
       "    </tr>\n",
       "    <tr>\n",
       "      <th>9</th>\n",
       "      <td>Brazil</td>\n",
       "      <td>2125958.0</td>\n",
       "    </tr>\n",
       "  </tbody>\n",
       "</table>\n",
       "</div>"
      ],
      "text/plain": [
       "          country  gdp_million_usd\n",
       "0   United States       30507217.0\n",
       "1           China       19231705.0\n",
       "2         Germany        4744804.0\n",
       "3           India        4187017.0\n",
       "4           Japan        4186431.0\n",
       "5  United Kingdom        3839180.0\n",
       "6          France        3211292.0\n",
       "7           Italy        2422855.0\n",
       "8          Canada        2225341.0\n",
       "9          Brazil        2125958.0"
      ]
     },
     "execution_count": 5,
     "metadata": {},
     "output_type": "execute_result"
    }
   ],
   "source": [
    "# normalize column names and extract GDP value column\n",
    "df = gdp_df.copy()\n",
    "# lower-case column names for easier matching\n",
    "df.columns = [str(c).strip() for c in df.columns]\n",
    "\n",
    "# Try to find a numeric GDP column (some variants: 'GDP (US$million)', 'US$million', 'GDP (millions of US$)')\n",
    "gdp_col = None\n",
    "for c in df.columns:\n",
    "    lc = str(c).lower()\n",
    "    if \"gdp\" in lc and (\"$\" in lc or \"us\" in lc or \"million\" in lc or \"nominal\" in lc):\n",
    "        gdp_col = c\n",
    "        break\n",
    "# If still not found, fall back to any numeric-like column\n",
    "if gdp_col is None:\n",
    "    # try to find first numeric-like column (contains digits or commas)\n",
    "    for c in df.columns:\n",
    "        sample = df[c].astype(str).head(10).str.replace(\",\", \"\").str.replace(\".\", \"\", 1)\n",
    "        if sample.str.isnumeric().any():\n",
    "            gdp_col = c\n",
    "            break\n",
    "\n",
    "if gdp_col is None:\n",
    "    raise RuntimeError(\"Could not find a GDP column automatically. Inspect df.columns to pick the correct column.\")\n",
    "\n",
    "print(\"Detected GDP column:\", gdp_col)\n",
    "\n",
    "# Standardize GDP values to numeric (in US$ millions) by removing commas/footnotes and coercing\n",
    "def to_numeric_money(series):\n",
    "    # Remove bracket footnotes like [1], commas, parentheses, and non-numeric characters\n",
    "    cleaned = series.astype(str).str.replace(r\"\\[.*?\\]\", \"\", regex=True)\n",
    "    cleaned = cleaned.str.replace(\",\", \"\", regex=False)\n",
    "    cleaned = cleaned.str.replace(r\"[^\\d.\\-]\", \"\", regex=True)\n",
    "    return pd.to_numeric(cleaned, errors=\"coerce\")\n",
    "\n",
    "df[\"country\"] = df.iloc[:,0].astype(str).str.replace(r\"\\[.*\\]\", \"\", regex=True).str.strip()\n",
    "df[\"gdp_million_usd\"] = to_numeric_money(df[gdp_col])\n",
    "\n",
    "# drop rows without GDP numeric values\n",
    "df = df.dropna(subset=[\"gdp_million_usd\"]).reset_index(drop=True)\n",
    "df = df[[\"country\", \"gdp_million_usd\"]].copy()\n",
    "df.head(10)\n"
   ]
  },
  {
   "cell_type": "code",
   "execution_count": 6,
   "id": "281185df",
   "metadata": {},
   "outputs": [
    {
     "name": "stdout",
     "output_type": "stream",
     "text": [
      "Countries mapped to 'Other' (you may wish to add to fallback_map):\n",
      "[]\n"
     ]
    }
   ],
   "source": [
    "# Map country -> region (IMF regions or at least continent). We try to use country_converter if available,\n",
    "# otherwise we use a small manual mapping / fallbacks.\n",
    "\n",
    "def map_country_to_region(country_name):\n",
    "    # First try country_converter if available\n",
    "    if coco is not None:\n",
    "        try:\n",
    "            # convert to continent name (e.g., 'Africa', 'Europe')\n",
    "            cont = coco.convert(names=country_name, to='continent')\n",
    "            if cont is not None and cont != \"not found\":\n",
    "                return cont\n",
    "        except Exception:\n",
    "            pass\n",
    "    # Manual quick-fallbacks (extend if you see missing countries)\n",
    "    fallback_map = {\n",
    "        \"United States\": \"North America\",\n",
    "        \"United States of America\": \"North America\",\n",
    "        \"Russia\": \"Europe/Asia\",\n",
    "        \"Bolivia\": \"South America\",\n",
    "        \"Congo\": \"Africa\",\n",
    "        \"DR Congo\": \"Africa\",\n",
    "        \"Côte d'Ivoire\": \"Africa\",\n",
    "        \"Ivory Coast\": \"Africa\",\n",
    "        \"South Korea\": \"Asia\",\n",
    "        \"North Korea\": \"Asia\",\n",
    "        \"Laos\": \"Asia\",\n",
    "        \"Vietnam\": \"Asia\",\n",
    "        \"Syria\": \"Asia\",\n",
    "        \"Palestine\": \"Asia\",\n",
    "        \"Czechia\": \"Europe\",\n",
    "        \"Czech Republic\": \"Europe\",\n",
    "    }\n",
    "    # try exact\n",
    "    if country_name in fallback_map:\n",
    "        return fallback_map[country_name]\n",
    "    # try partial matching (simple)\n",
    "    lname = country_name.lower()\n",
    "    if \"united states\" in lname or lname == \"usa\":\n",
    "        return \"North America\"\n",
    "    if \"korea\" in lname:\n",
    "        return \"Asia\"\n",
    "    if \"china\" in lname or \"india\" in lname or \"japan\" in lname:\n",
    "        return \"Asia\"\n",
    "    if \"island\" in lname or \"seychelles\" in lname or \"mauritius\" in lname:\n",
    "        return \"Africa\"\n",
    "    # last resort: Unknown\n",
    "    return \"Other\"\n",
    "\n",
    "# apply mapping\n",
    "df['region'] = df['country'].apply(map_country_to_region)\n",
    "\n",
    "# Show sample of countries flagged \"Other\" so you can refine mapping if needed\n",
    "others = df[df['region']==\"Other\"]\n",
    "print(\"Countries mapped to 'Other' (you may wish to add to fallback_map):\")\n",
    "print(others['country'].head(20).to_list())\n"
   ]
  },
  {
   "cell_type": "code",
   "execution_count": 7,
   "id": "d7609a81",
   "metadata": {},
   "outputs": [
    {
     "data": {
      "application/vnd.microsoft.datawrangler.viewer.v0+json": {
       "columns": [
        {
         "name": "index",
         "rawType": "int64",
         "type": "integer"
        },
        {
         "name": "region",
         "rawType": "object",
         "type": "string"
        },
        {
         "name": "country",
         "rawType": "object",
         "type": "string"
        },
        {
         "name": "gdp_million_usd",
         "rawType": "float64",
         "type": "float"
        }
       ],
       "ref": "b18d3381-1c96-4db9-a4b0-fe2e611296aa",
       "rows": [
        [
         "0",
         "Africa",
         "Other (rest)",
         "921038.0"
        ],
        [
         "1",
         "Africa",
         "South Africa",
         "410338.0"
        ],
        [
         "2",
         "Africa",
         "Egypt",
         "347342.0"
        ],
        [
         "3",
         "Africa",
         "Algeria",
         "268885.0"
        ],
        [
         "4",
         "Africa",
         "Nigeria",
         "188271.0"
        ],
        [
         "5",
         "Africa",
         "Morocco",
         "165835.0"
        ],
        [
         "6",
         "Africa",
         "Kenya",
         "131673.0"
        ],
        [
         "7",
         "Africa",
         "Ethiopia",
         "117457.0"
        ],
        [
         "8",
         "Africa",
         "Angola",
         "113343.0"
        ],
        [
         "9",
         "Africa",
         "Ivory Coast",
         "94483.0"
        ],
        [
         "10",
         "Africa",
         "Ghana",
         "88332.0"
        ],
        [
         "11",
         "America",
         "United States",
         "30507217.0"
        ],
        [
         "12",
         "America",
         "Canada",
         "2225341.0"
        ],
        [
         "13",
         "America",
         "Brazil",
         "2125958.0"
        ],
        [
         "14",
         "America",
         "Mexico",
         "1692640.0"
        ],
        [
         "15",
         "America",
         "Other (rest)",
         "975864.0"
        ],
        [
         "16",
         "America",
         "Argentina",
         "683533.0"
        ],
        [
         "17",
         "America",
         "Colombia",
         "427766.0"
        ],
        [
         "18",
         "America",
         "Chile",
         "343823.0"
        ],
        [
         "19",
         "America",
         "Peru",
         "303293.0"
        ],
        [
         "20",
         "America",
         "Dominican Republic",
         "127828.0"
        ],
        [
         "21",
         "America",
         "Ecuador",
         "125677.0"
        ],
        [
         "22",
         "Asia",
         "China",
         "19231705.0"
        ],
        [
         "23",
         "Asia",
         "Other (rest)",
         "5641386.0"
        ],
        [
         "24",
         "Asia",
         "India",
         "4187017.0"
        ],
        [
         "25",
         "Asia",
         "Japan",
         "4186431.0"
        ],
        [
         "26",
         "Asia",
         "South Korea",
         "1790322.0"
        ],
        [
         "27",
         "Asia",
         "Turkey",
         "1437406.0"
        ],
        [
         "28",
         "Asia",
         "Indonesia",
         "1429743.0"
        ],
        [
         "29",
         "Asia",
         "Saudi Arabia",
         "1083749.0"
        ]
       ],
       "shape": {
        "columns": 3,
        "rows": 30
       }
      },
      "text/html": [
       "<div>\n",
       "<style scoped>\n",
       "    .dataframe tbody tr th:only-of-type {\n",
       "        vertical-align: middle;\n",
       "    }\n",
       "\n",
       "    .dataframe tbody tr th {\n",
       "        vertical-align: top;\n",
       "    }\n",
       "\n",
       "    .dataframe thead th {\n",
       "        text-align: right;\n",
       "    }\n",
       "</style>\n",
       "<table border=\"1\" class=\"dataframe\">\n",
       "  <thead>\n",
       "    <tr style=\"text-align: right;\">\n",
       "      <th></th>\n",
       "      <th>region</th>\n",
       "      <th>country</th>\n",
       "      <th>gdp_million_usd</th>\n",
       "    </tr>\n",
       "  </thead>\n",
       "  <tbody>\n",
       "    <tr>\n",
       "      <th>0</th>\n",
       "      <td>Africa</td>\n",
       "      <td>Other (rest)</td>\n",
       "      <td>921038.0</td>\n",
       "    </tr>\n",
       "    <tr>\n",
       "      <th>1</th>\n",
       "      <td>Africa</td>\n",
       "      <td>South Africa</td>\n",
       "      <td>410338.0</td>\n",
       "    </tr>\n",
       "    <tr>\n",
       "      <th>2</th>\n",
       "      <td>Africa</td>\n",
       "      <td>Egypt</td>\n",
       "      <td>347342.0</td>\n",
       "    </tr>\n",
       "    <tr>\n",
       "      <th>3</th>\n",
       "      <td>Africa</td>\n",
       "      <td>Algeria</td>\n",
       "      <td>268885.0</td>\n",
       "    </tr>\n",
       "    <tr>\n",
       "      <th>4</th>\n",
       "      <td>Africa</td>\n",
       "      <td>Nigeria</td>\n",
       "      <td>188271.0</td>\n",
       "    </tr>\n",
       "    <tr>\n",
       "      <th>5</th>\n",
       "      <td>Africa</td>\n",
       "      <td>Morocco</td>\n",
       "      <td>165835.0</td>\n",
       "    </tr>\n",
       "    <tr>\n",
       "      <th>6</th>\n",
       "      <td>Africa</td>\n",
       "      <td>Kenya</td>\n",
       "      <td>131673.0</td>\n",
       "    </tr>\n",
       "    <tr>\n",
       "      <th>7</th>\n",
       "      <td>Africa</td>\n",
       "      <td>Ethiopia</td>\n",
       "      <td>117457.0</td>\n",
       "    </tr>\n",
       "    <tr>\n",
       "      <th>8</th>\n",
       "      <td>Africa</td>\n",
       "      <td>Angola</td>\n",
       "      <td>113343.0</td>\n",
       "    </tr>\n",
       "    <tr>\n",
       "      <th>9</th>\n",
       "      <td>Africa</td>\n",
       "      <td>Ivory Coast</td>\n",
       "      <td>94483.0</td>\n",
       "    </tr>\n",
       "    <tr>\n",
       "      <th>10</th>\n",
       "      <td>Africa</td>\n",
       "      <td>Ghana</td>\n",
       "      <td>88332.0</td>\n",
       "    </tr>\n",
       "    <tr>\n",
       "      <th>11</th>\n",
       "      <td>America</td>\n",
       "      <td>United States</td>\n",
       "      <td>30507217.0</td>\n",
       "    </tr>\n",
       "    <tr>\n",
       "      <th>12</th>\n",
       "      <td>America</td>\n",
       "      <td>Canada</td>\n",
       "      <td>2225341.0</td>\n",
       "    </tr>\n",
       "    <tr>\n",
       "      <th>13</th>\n",
       "      <td>America</td>\n",
       "      <td>Brazil</td>\n",
       "      <td>2125958.0</td>\n",
       "    </tr>\n",
       "    <tr>\n",
       "      <th>14</th>\n",
       "      <td>America</td>\n",
       "      <td>Mexico</td>\n",
       "      <td>1692640.0</td>\n",
       "    </tr>\n",
       "    <tr>\n",
       "      <th>15</th>\n",
       "      <td>America</td>\n",
       "      <td>Other (rest)</td>\n",
       "      <td>975864.0</td>\n",
       "    </tr>\n",
       "    <tr>\n",
       "      <th>16</th>\n",
       "      <td>America</td>\n",
       "      <td>Argentina</td>\n",
       "      <td>683533.0</td>\n",
       "    </tr>\n",
       "    <tr>\n",
       "      <th>17</th>\n",
       "      <td>America</td>\n",
       "      <td>Colombia</td>\n",
       "      <td>427766.0</td>\n",
       "    </tr>\n",
       "    <tr>\n",
       "      <th>18</th>\n",
       "      <td>America</td>\n",
       "      <td>Chile</td>\n",
       "      <td>343823.0</td>\n",
       "    </tr>\n",
       "    <tr>\n",
       "      <th>19</th>\n",
       "      <td>America</td>\n",
       "      <td>Peru</td>\n",
       "      <td>303293.0</td>\n",
       "    </tr>\n",
       "    <tr>\n",
       "      <th>20</th>\n",
       "      <td>America</td>\n",
       "      <td>Dominican Republic</td>\n",
       "      <td>127828.0</td>\n",
       "    </tr>\n",
       "    <tr>\n",
       "      <th>21</th>\n",
       "      <td>America</td>\n",
       "      <td>Ecuador</td>\n",
       "      <td>125677.0</td>\n",
       "    </tr>\n",
       "    <tr>\n",
       "      <th>22</th>\n",
       "      <td>Asia</td>\n",
       "      <td>China</td>\n",
       "      <td>19231705.0</td>\n",
       "    </tr>\n",
       "    <tr>\n",
       "      <th>23</th>\n",
       "      <td>Asia</td>\n",
       "      <td>Other (rest)</td>\n",
       "      <td>5641386.0</td>\n",
       "    </tr>\n",
       "    <tr>\n",
       "      <th>24</th>\n",
       "      <td>Asia</td>\n",
       "      <td>India</td>\n",
       "      <td>4187017.0</td>\n",
       "    </tr>\n",
       "    <tr>\n",
       "      <th>25</th>\n",
       "      <td>Asia</td>\n",
       "      <td>Japan</td>\n",
       "      <td>4186431.0</td>\n",
       "    </tr>\n",
       "    <tr>\n",
       "      <th>26</th>\n",
       "      <td>Asia</td>\n",
       "      <td>South Korea</td>\n",
       "      <td>1790322.0</td>\n",
       "    </tr>\n",
       "    <tr>\n",
       "      <th>27</th>\n",
       "      <td>Asia</td>\n",
       "      <td>Turkey</td>\n",
       "      <td>1437406.0</td>\n",
       "    </tr>\n",
       "    <tr>\n",
       "      <th>28</th>\n",
       "      <td>Asia</td>\n",
       "      <td>Indonesia</td>\n",
       "      <td>1429743.0</td>\n",
       "    </tr>\n",
       "    <tr>\n",
       "      <th>29</th>\n",
       "      <td>Asia</td>\n",
       "      <td>Saudi Arabia</td>\n",
       "      <td>1083749.0</td>\n",
       "    </tr>\n",
       "  </tbody>\n",
       "</table>\n",
       "</div>"
      ],
      "text/plain": [
       "     region             country  gdp_million_usd\n",
       "0    Africa        Other (rest)         921038.0\n",
       "1    Africa        South Africa         410338.0\n",
       "2    Africa               Egypt         347342.0\n",
       "3    Africa             Algeria         268885.0\n",
       "4    Africa             Nigeria         188271.0\n",
       "5    Africa             Morocco         165835.0\n",
       "6    Africa               Kenya         131673.0\n",
       "7    Africa            Ethiopia         117457.0\n",
       "8    Africa              Angola         113343.0\n",
       "9    Africa         Ivory Coast          94483.0\n",
       "10   Africa               Ghana          88332.0\n",
       "11  America       United States       30507217.0\n",
       "12  America              Canada        2225341.0\n",
       "13  America              Brazil        2125958.0\n",
       "14  America              Mexico        1692640.0\n",
       "15  America        Other (rest)         975864.0\n",
       "16  America           Argentina         683533.0\n",
       "17  America            Colombia         427766.0\n",
       "18  America               Chile         343823.0\n",
       "19  America                Peru         303293.0\n",
       "20  America  Dominican Republic         127828.0\n",
       "21  America             Ecuador         125677.0\n",
       "22     Asia               China       19231705.0\n",
       "23     Asia        Other (rest)        5641386.0\n",
       "24     Asia               India        4187017.0\n",
       "25     Asia               Japan        4186431.0\n",
       "26     Asia         South Korea        1790322.0\n",
       "27     Asia              Turkey        1437406.0\n",
       "28     Asia           Indonesia        1429743.0\n",
       "29     Asia        Saudi Arabia        1083749.0"
      ]
     },
     "execution_count": 7,
     "metadata": {},
     "output_type": "execute_result"
    }
   ],
   "source": [
    "# For readability: pick the top N countries per region to include in the stacked bar.\n",
    "# If you want *all* countries you can skip the top-N filter, but stacks become unreadable.\n",
    "TOP_N = 10  # top 10 countries per region\n",
    "\n",
    "top_countries = (\n",
    "    df\n",
    "    .sort_values([\"region\",\"gdp_million_usd\"], ascending=[True, False])\n",
    "    .groupby(\"region\")\n",
    "    .head(TOP_N)\n",
    "    .reset_index(drop=True)\n",
    ")\n",
    "\n",
    "# We also compute a small 'Other' bucket per region (sum of remaining countries)\n",
    "others_summary = (\n",
    "    df\n",
    "    .merge(top_countries[['country']], on='country', how='left', indicator=True)\n",
    "    .query(\"_merge == 'left_only'\")\n",
    "    .groupby('region', as_index=False)\n",
    "    .agg(country=('country', lambda s: 'Other (rest)'),\n",
    "         gdp_million_usd=('gdp_million_usd','sum'))\n",
    ")\n",
    "\n",
    "# combine top countries + other buckets\n",
    "plot_df = pd.concat([top_countries[['region','country','gdp_million_usd']], others_summary[['region','country','gdp_million_usd']]], ignore_index=True)\n",
    "plot_df = plot_df.sort_values(['region','gdp_million_usd'], ascending=[True, False]).reset_index(drop=True)\n",
    "\n",
    "plot_df.head(30)\n"
   ]
  },
  {
   "cell_type": "code",
   "execution_count": 8,
   "id": "9820abc5",
   "metadata": {},
   "outputs": [
    {
     "name": "stdout",
     "output_type": "stream",
     "text": [
      "Saved stacked bar to stacked_bar.html\n"
     ]
    },
    {
     "data": {
      "application/vnd.plotly.v1+json": {
       "config": {
        "plotlyServerURL": "https://plot.ly"
       },
       "data": [
        {
         "alignmentgroup": "True",
         "hovertemplate": "country=Algeria<br>Region=%{x}<br>GDP (million USD)=%{y}<extra></extra>",
         "legendgroup": "Algeria",
         "marker": {
          "color": "rgb(150, 0, 90)",
          "pattern": {
           "shape": ""
          }
         },
         "name": "Algeria",
         "offsetgroup": "Algeria",
         "orientation": "v",
         "showlegend": true,
         "textposition": "auto",
         "type": "bar",
         "x": [
          "Africa",
          "America",
          "Asia",
          "Europe",
          "Oceania"
         ],
         "xaxis": "x",
         "y": [
          268885,
          0,
          0,
          0,
          0
         ],
         "yaxis": "y"
        },
        {
         "alignmentgroup": "True",
         "hovertemplate": "country=Angola<br>Region=%{x}<br>GDP (million USD)=%{y}<extra></extra>",
         "legendgroup": "Angola",
         "marker": {
          "color": "rgb(126, 0, 108)",
          "pattern": {
           "shape": ""
          }
         },
         "name": "Angola",
         "offsetgroup": "Angola",
         "orientation": "v",
         "showlegend": true,
         "textposition": "auto",
         "type": "bar",
         "x": [
          "Africa",
          "America",
          "Asia",
          "Europe",
          "Oceania"
         ],
         "xaxis": "x",
         "y": [
          113343,
          0,
          0,
          0,
          0
         ],
         "yaxis": "y"
        },
        {
         "alignmentgroup": "True",
         "hovertemplate": "country=Argentina<br>Region=%{x}<br>GDP (million USD)=%{y}<extra></extra>",
         "legendgroup": "Argentina",
         "marker": {
          "color": "rgb(102, 0, 125)",
          "pattern": {
           "shape": ""
          }
         },
         "name": "Argentina",
         "offsetgroup": "Argentina",
         "orientation": "v",
         "showlegend": true,
         "textposition": "auto",
         "type": "bar",
         "x": [
          "Africa",
          "America",
          "Asia",
          "Europe",
          "Oceania"
         ],
         "xaxis": "x",
         "y": [
          0,
          683533,
          0,
          0,
          0
         ],
         "yaxis": "y"
        },
        {
         "alignmentgroup": "True",
         "hovertemplate": "country=Australia<br>Region=%{x}<br>GDP (million USD)=%{y}<extra></extra>",
         "legendgroup": "Australia",
         "marker": {
          "color": "rgb(78, 0, 143)",
          "pattern": {
           "shape": ""
          }
         },
         "name": "Australia",
         "offsetgroup": "Australia",
         "orientation": "v",
         "showlegend": true,
         "textposition": "auto",
         "type": "bar",
         "x": [
          "Africa",
          "America",
          "Asia",
          "Europe",
          "Oceania"
         ],
         "xaxis": "x",
         "y": [
          0,
          0,
          0,
          0,
          1771681
         ],
         "yaxis": "y"
        },
        {
         "alignmentgroup": "True",
         "hovertemplate": "country=Belgium<br>Region=%{x}<br>GDP (million USD)=%{y}<extra></extra>",
         "legendgroup": "Belgium",
         "marker": {
          "color": "rgb(54, 0, 160)",
          "pattern": {
           "shape": ""
          }
         },
         "name": "Belgium",
         "offsetgroup": "Belgium",
         "orientation": "v",
         "showlegend": true,
         "textposition": "auto",
         "type": "bar",
         "x": [
          "Africa",
          "America",
          "Asia",
          "Europe",
          "Oceania"
         ],
         "xaxis": "x",
         "y": [
          0,
          0,
          0,
          684864,
          0
         ],
         "yaxis": "y"
        },
        {
         "alignmentgroup": "True",
         "hovertemplate": "country=Brazil<br>Region=%{x}<br>GDP (million USD)=%{y}<extra></extra>",
         "legendgroup": "Brazil",
         "marker": {
          "color": "rgb(30, 0, 178)",
          "pattern": {
           "shape": ""
          }
         },
         "name": "Brazil",
         "offsetgroup": "Brazil",
         "orientation": "v",
         "showlegend": true,
         "textposition": "auto",
         "type": "bar",
         "x": [
          "Africa",
          "America",
          "Asia",
          "Europe",
          "Oceania"
         ],
         "xaxis": "x",
         "y": [
          0,
          2125958,
          0,
          0,
          0
         ],
         "yaxis": "y"
        },
        {
         "alignmentgroup": "True",
         "hovertemplate": "country=Canada<br>Region=%{x}<br>GDP (million USD)=%{y}<extra></extra>",
         "legendgroup": "Canada",
         "marker": {
          "color": "rgb(6, 0, 196)",
          "pattern": {
           "shape": ""
          }
         },
         "name": "Canada",
         "offsetgroup": "Canada",
         "orientation": "v",
         "showlegend": true,
         "textposition": "auto",
         "type": "bar",
         "x": [
          "Africa",
          "America",
          "Asia",
          "Europe",
          "Oceania"
         ],
         "xaxis": "x",
         "y": [
          0,
          2225341,
          0,
          0,
          0
         ],
         "yaxis": "y"
        },
        {
         "alignmentgroup": "True",
         "hovertemplate": "country=Chile<br>Region=%{x}<br>GDP (million USD)=%{y}<extra></extra>",
         "legendgroup": "Chile",
         "marker": {
          "color": "rgb(0, 3, 207)",
          "pattern": {
           "shape": ""
          }
         },
         "name": "Chile",
         "offsetgroup": "Chile",
         "orientation": "v",
         "showlegend": true,
         "textposition": "auto",
         "type": "bar",
         "x": [
          "Africa",
          "America",
          "Asia",
          "Europe",
          "Oceania"
         ],
         "xaxis": "x",
         "y": [
          0,
          343823,
          0,
          0,
          0
         ],
         "yaxis": "y"
        },
        {
         "alignmentgroup": "True",
         "hovertemplate": "country=China<br>Region=%{x}<br>GDP (million USD)=%{y}<extra></extra>",
         "legendgroup": "China",
         "marker": {
          "color": "rgb(0, 7, 215)",
          "pattern": {
           "shape": ""
          }
         },
         "name": "China",
         "offsetgroup": "China",
         "orientation": "v",
         "showlegend": true,
         "textposition": "auto",
         "type": "bar",
         "x": [
          "Africa",
          "America",
          "Asia",
          "Europe",
          "Oceania"
         ],
         "xaxis": "x",
         "y": [
          0,
          0,
          19231705,
          0,
          0
         ],
         "yaxis": "y"
        },
        {
         "alignmentgroup": "True",
         "hovertemplate": "country=Colombia<br>Region=%{x}<br>GDP (million USD)=%{y}<extra></extra>",
         "legendgroup": "Colombia",
         "marker": {
          "color": "rgb(0, 11, 224)",
          "pattern": {
           "shape": ""
          }
         },
         "name": "Colombia",
         "offsetgroup": "Colombia",
         "orientation": "v",
         "showlegend": true,
         "textposition": "auto",
         "type": "bar",
         "x": [
          "Africa",
          "America",
          "Asia",
          "Europe",
          "Oceania"
         ],
         "xaxis": "x",
         "y": [
          0,
          427766,
          0,
          0,
          0
         ],
         "yaxis": "y"
        },
        {
         "alignmentgroup": "True",
         "hovertemplate": "country=Dominican Republic<br>Region=%{x}<br>GDP (million USD)=%{y}<extra></extra>",
         "legendgroup": "Dominican Republic",
         "marker": {
          "color": "rgb(0, 15, 233)",
          "pattern": {
           "shape": ""
          }
         },
         "name": "Dominican Republic",
         "offsetgroup": "Dominican Republic",
         "orientation": "v",
         "showlegend": true,
         "textposition": "auto",
         "type": "bar",
         "x": [
          "Africa",
          "America",
          "Asia",
          "Europe",
          "Oceania"
         ],
         "xaxis": "x",
         "y": [
          0,
          127828,
          0,
          0,
          0
         ],
         "yaxis": "y"
        },
        {
         "alignmentgroup": "True",
         "hovertemplate": "country=Ecuador<br>Region=%{x}<br>GDP (million USD)=%{y}<extra></extra>",
         "legendgroup": "Ecuador",
         "marker": {
          "color": "rgb(0, 19, 242)",
          "pattern": {
           "shape": ""
          }
         },
         "name": "Ecuador",
         "offsetgroup": "Ecuador",
         "orientation": "v",
         "showlegend": true,
         "textposition": "auto",
         "type": "bar",
         "x": [
          "Africa",
          "America",
          "Asia",
          "Europe",
          "Oceania"
         ],
         "xaxis": "x",
         "y": [
          0,
          125677,
          0,
          0,
          0
         ],
         "yaxis": "y"
        },
        {
         "alignmentgroup": "True",
         "hovertemplate": "country=Egypt<br>Region=%{x}<br>GDP (million USD)=%{y}<extra></extra>",
         "legendgroup": "Egypt",
         "marker": {
          "color": "rgb(0, 23, 251)",
          "pattern": {
           "shape": ""
          }
         },
         "name": "Egypt",
         "offsetgroup": "Egypt",
         "orientation": "v",
         "showlegend": true,
         "textposition": "auto",
         "type": "bar",
         "x": [
          "Africa",
          "America",
          "Asia",
          "Europe",
          "Oceania"
         ],
         "xaxis": "x",
         "y": [
          347342,
          0,
          0,
          0,
          0
         ],
         "yaxis": "y"
        },
        {
         "alignmentgroup": "True",
         "hovertemplate": "country=Ethiopia<br>Region=%{x}<br>GDP (million USD)=%{y}<extra></extra>",
         "legendgroup": "Ethiopia",
         "marker": {
          "color": "rgb(0, 35, 255)",
          "pattern": {
           "shape": ""
          }
         },
         "name": "Ethiopia",
         "offsetgroup": "Ethiopia",
         "orientation": "v",
         "showlegend": true,
         "textposition": "auto",
         "type": "bar",
         "x": [
          "Africa",
          "America",
          "Asia",
          "Europe",
          "Oceania"
         ],
         "xaxis": "x",
         "y": [
          117457,
          0,
          0,
          0,
          0
         ],
         "yaxis": "y"
        },
        {
         "alignmentgroup": "True",
         "hovertemplate": "country=Fiji<br>Region=%{x}<br>GDP (million USD)=%{y}<extra></extra>",
         "legendgroup": "Fiji",
         "marker": {
          "color": "rgb(0, 55, 255)",
          "pattern": {
           "shape": ""
          }
         },
         "name": "Fiji",
         "offsetgroup": "Fiji",
         "orientation": "v",
         "showlegend": true,
         "textposition": "auto",
         "type": "bar",
         "x": [
          "Africa",
          "America",
          "Asia",
          "Europe",
          "Oceania"
         ],
         "xaxis": "x",
         "y": [
          0,
          0,
          0,
          0,
          6257
         ],
         "yaxis": "y"
        },
        {
         "alignmentgroup": "True",
         "hovertemplate": "country=France<br>Region=%{x}<br>GDP (million USD)=%{y}<extra></extra>",
         "legendgroup": "France",
         "marker": {
          "color": "rgb(0, 76, 255)",
          "pattern": {
           "shape": ""
          }
         },
         "name": "France",
         "offsetgroup": "France",
         "orientation": "v",
         "showlegend": true,
         "textposition": "auto",
         "type": "bar",
         "x": [
          "Africa",
          "America",
          "Asia",
          "Europe",
          "Oceania"
         ],
         "xaxis": "x",
         "y": [
          0,
          0,
          0,
          3211292,
          0
         ],
         "yaxis": "y"
        },
        {
         "alignmentgroup": "True",
         "hovertemplate": "country=Germany<br>Region=%{x}<br>GDP (million USD)=%{y}<extra></extra>",
         "legendgroup": "Germany",
         "marker": {
          "color": "rgb(0, 96, 255)",
          "pattern": {
           "shape": ""
          }
         },
         "name": "Germany",
         "offsetgroup": "Germany",
         "orientation": "v",
         "showlegend": true,
         "textposition": "auto",
         "type": "bar",
         "x": [
          "Africa",
          "America",
          "Asia",
          "Europe",
          "Oceania"
         ],
         "xaxis": "x",
         "y": [
          0,
          0,
          0,
          4744804,
          0
         ],
         "yaxis": "y"
        },
        {
         "alignmentgroup": "True",
         "hovertemplate": "country=Ghana<br>Region=%{x}<br>GDP (million USD)=%{y}<extra></extra>",
         "legendgroup": "Ghana",
         "marker": {
          "color": "rgb(0, 116, 255)",
          "pattern": {
           "shape": ""
          }
         },
         "name": "Ghana",
         "offsetgroup": "Ghana",
         "orientation": "v",
         "showlegend": true,
         "textposition": "auto",
         "type": "bar",
         "x": [
          "Africa",
          "America",
          "Asia",
          "Europe",
          "Oceania"
         ],
         "xaxis": "x",
         "y": [
          88332,
          0,
          0,
          0,
          0
         ],
         "yaxis": "y"
        },
        {
         "alignmentgroup": "True",
         "hovertemplate": "country=India<br>Region=%{x}<br>GDP (million USD)=%{y}<extra></extra>",
         "legendgroup": "India",
         "marker": {
          "color": "rgb(0, 137, 255)",
          "pattern": {
           "shape": ""
          }
         },
         "name": "India",
         "offsetgroup": "India",
         "orientation": "v",
         "showlegend": true,
         "textposition": "auto",
         "type": "bar",
         "x": [
          "Africa",
          "America",
          "Asia",
          "Europe",
          "Oceania"
         ],
         "xaxis": "x",
         "y": [
          0,
          0,
          4187017,
          0,
          0
         ],
         "yaxis": "y"
        },
        {
         "alignmentgroup": "True",
         "hovertemplate": "country=Indonesia<br>Region=%{x}<br>GDP (million USD)=%{y}<extra></extra>",
         "legendgroup": "Indonesia",
         "marker": {
          "color": "rgb(2, 156, 251)",
          "pattern": {
           "shape": ""
          }
         },
         "name": "Indonesia",
         "offsetgroup": "Indonesia",
         "orientation": "v",
         "showlegend": true,
         "textposition": "auto",
         "type": "bar",
         "x": [
          "Africa",
          "America",
          "Asia",
          "Europe",
          "Oceania"
         ],
         "xaxis": "x",
         "y": [
          0,
          0,
          1429743,
          0,
          0
         ],
         "yaxis": "y"
        },
        {
         "alignmentgroup": "True",
         "hovertemplate": "country=Israel<br>Region=%{x}<br>GDP (million USD)=%{y}<extra></extra>",
         "legendgroup": "Israel",
         "marker": {
          "color": "rgb(9, 173, 234)",
          "pattern": {
           "shape": ""
          }
         },
         "name": "Israel",
         "offsetgroup": "Israel",
         "orientation": "v",
         "showlegend": true,
         "textposition": "auto",
         "type": "bar",
         "x": [
          "Africa",
          "America",
          "Asia",
          "Europe",
          "Oceania"
         ],
         "xaxis": "x",
         "y": [
          0,
          0,
          583361,
          0,
          0
         ],
         "yaxis": "y"
        },
        {
         "alignmentgroup": "True",
         "hovertemplate": "country=Italy<br>Region=%{x}<br>GDP (million USD)=%{y}<extra></extra>",
         "legendgroup": "Italy",
         "marker": {
          "color": "rgb(16, 189, 217)",
          "pattern": {
           "shape": ""
          }
         },
         "name": "Italy",
         "offsetgroup": "Italy",
         "orientation": "v",
         "showlegend": true,
         "textposition": "auto",
         "type": "bar",
         "x": [
          "Africa",
          "America",
          "Asia",
          "Europe",
          "Oceania"
         ],
         "xaxis": "x",
         "y": [
          0,
          0,
          0,
          2422855,
          0
         ],
         "yaxis": "y"
        },
        {
         "alignmentgroup": "True",
         "hovertemplate": "country=Ivory Coast<br>Region=%{x}<br>GDP (million USD)=%{y}<extra></extra>",
         "legendgroup": "Ivory Coast",
         "marker": {
          "color": "rgb(23, 206, 200)",
          "pattern": {
           "shape": ""
          }
         },
         "name": "Ivory Coast",
         "offsetgroup": "Ivory Coast",
         "orientation": "v",
         "showlegend": true,
         "textposition": "auto",
         "type": "bar",
         "x": [
          "Africa",
          "America",
          "Asia",
          "Europe",
          "Oceania"
         ],
         "xaxis": "x",
         "y": [
          94483,
          0,
          0,
          0,
          0
         ],
         "yaxis": "y"
        },
        {
         "alignmentgroup": "True",
         "hovertemplate": "country=Japan<br>Region=%{x}<br>GDP (million USD)=%{y}<extra></extra>",
         "legendgroup": "Japan",
         "marker": {
          "color": "rgb(30, 222, 184)",
          "pattern": {
           "shape": ""
          }
         },
         "name": "Japan",
         "offsetgroup": "Japan",
         "orientation": "v",
         "showlegend": true,
         "textposition": "auto",
         "type": "bar",
         "x": [
          "Africa",
          "America",
          "Asia",
          "Europe",
          "Oceania"
         ],
         "xaxis": "x",
         "y": [
          0,
          0,
          4186431,
          0,
          0
         ],
         "yaxis": "y"
        },
        {
         "alignmentgroup": "True",
         "hovertemplate": "country=Kenya<br>Region=%{x}<br>GDP (million USD)=%{y}<extra></extra>",
         "legendgroup": "Kenya",
         "marker": {
          "color": "rgb(37, 239, 167)",
          "pattern": {
           "shape": ""
          }
         },
         "name": "Kenya",
         "offsetgroup": "Kenya",
         "orientation": "v",
         "showlegend": true,
         "textposition": "auto",
         "type": "bar",
         "x": [
          "Africa",
          "America",
          "Asia",
          "Europe",
          "Oceania"
         ],
         "xaxis": "x",
         "y": [
          131673,
          0,
          0,
          0,
          0
         ],
         "yaxis": "y"
        },
        {
         "alignmentgroup": "True",
         "hovertemplate": "country=Mexico<br>Region=%{x}<br>GDP (million USD)=%{y}<extra></extra>",
         "legendgroup": "Mexico",
         "marker": {
          "color": "rgb(44, 255, 150)",
          "pattern": {
           "shape": ""
          }
         },
         "name": "Mexico",
         "offsetgroup": "Mexico",
         "orientation": "v",
         "showlegend": true,
         "textposition": "auto",
         "type": "bar",
         "x": [
          "Africa",
          "America",
          "Asia",
          "Europe",
          "Oceania"
         ],
         "xaxis": "x",
         "y": [
          0,
          1692640,
          0,
          0,
          0
         ],
         "yaxis": "y"
        },
        {
         "alignmentgroup": "True",
         "hovertemplate": "country=Micronesia<br>Region=%{x}<br>GDP (million USD)=%{y}<extra></extra>",
         "legendgroup": "Micronesia",
         "marker": {
          "color": "rgb(61, 255, 126)",
          "pattern": {
           "shape": ""
          }
         },
         "name": "Micronesia",
         "offsetgroup": "Micronesia",
         "orientation": "v",
         "showlegend": true,
         "textposition": "auto",
         "type": "bar",
         "x": [
          "Africa",
          "America",
          "Asia",
          "Europe",
          "Oceania"
         ],
         "xaxis": "x",
         "y": [
          0,
          0,
          0,
          0,
          500
         ],
         "yaxis": "y"
        },
        {
         "alignmentgroup": "True",
         "hovertemplate": "country=Morocco<br>Region=%{x}<br>GDP (million USD)=%{y}<extra></extra>",
         "legendgroup": "Morocco",
         "marker": {
          "color": "rgb(78, 255, 102)",
          "pattern": {
           "shape": ""
          }
         },
         "name": "Morocco",
         "offsetgroup": "Morocco",
         "orientation": "v",
         "showlegend": true,
         "textposition": "auto",
         "type": "bar",
         "x": [
          "Africa",
          "America",
          "Asia",
          "Europe",
          "Oceania"
         ],
         "xaxis": "x",
         "y": [
          165835,
          0,
          0,
          0,
          0
         ],
         "yaxis": "y"
        },
        {
         "alignmentgroup": "True",
         "hovertemplate": "country=Netherlands<br>Region=%{x}<br>GDP (million USD)=%{y}<extra></extra>",
         "legendgroup": "Netherlands",
         "marker": {
          "color": "rgb(95, 255, 78)",
          "pattern": {
           "shape": ""
          }
         },
         "name": "Netherlands",
         "offsetgroup": "Netherlands",
         "orientation": "v",
         "showlegend": true,
         "textposition": "auto",
         "type": "bar",
         "x": [
          "Africa",
          "America",
          "Asia",
          "Europe",
          "Oceania"
         ],
         "xaxis": "x",
         "y": [
          0,
          0,
          0,
          1272011,
          0
         ],
         "yaxis": "y"
        },
        {
         "alignmentgroup": "True",
         "hovertemplate": "country=New Zealand<br>Region=%{x}<br>GDP (million USD)=%{y}<extra></extra>",
         "legendgroup": "New Zealand",
         "marker": {
          "color": "rgb(112, 255, 54)",
          "pattern": {
           "shape": ""
          }
         },
         "name": "New Zealand",
         "offsetgroup": "New Zealand",
         "orientation": "v",
         "showlegend": true,
         "textposition": "auto",
         "type": "bar",
         "x": [
          "Africa",
          "America",
          "Asia",
          "Europe",
          "Oceania"
         ],
         "xaxis": "x",
         "y": [
          0,
          0,
          0,
          0,
          248666
         ],
         "yaxis": "y"
        },
        {
         "alignmentgroup": "True",
         "hovertemplate": "country=Nigeria<br>Region=%{x}<br>GDP (million USD)=%{y}<extra></extra>",
         "legendgroup": "Nigeria",
         "marker": {
          "color": "rgb(130, 255, 30)",
          "pattern": {
           "shape": ""
          }
         },
         "name": "Nigeria",
         "offsetgroup": "Nigeria",
         "orientation": "v",
         "showlegend": true,
         "textposition": "auto",
         "type": "bar",
         "x": [
          "Africa",
          "America",
          "Asia",
          "Europe",
          "Oceania"
         ],
         "xaxis": "x",
         "y": [
          188271,
          0,
          0,
          0,
          0
         ],
         "yaxis": "y"
        },
        {
         "alignmentgroup": "True",
         "hovertemplate": "country=Other (rest)<br>Region=%{x}<br>GDP (million USD)=%{y}<extra></extra>",
         "legendgroup": "Other (rest)",
         "marker": {
          "color": "rgb(147, 255, 6)",
          "pattern": {
           "shape": ""
          }
         },
         "name": "Other (rest)",
         "offsetgroup": "Other (rest)",
         "orientation": "v",
         "showlegend": true,
         "textposition": "auto",
         "type": "bar",
         "x": [
          "Africa",
          "America",
          "Asia",
          "Europe",
          "Oceania"
         ],
         "xaxis": "x",
         "y": [
          921038,
          975864,
          5641386,
          5867008,
          843
         ],
         "yaxis": "y"
        },
        {
         "alignmentgroup": "True",
         "hovertemplate": "country=Palau<br>Region=%{x}<br>GDP (million USD)=%{y}<extra></extra>",
         "legendgroup": "Palau",
         "marker": {
          "color": "rgb(163, 252, 0)",
          "pattern": {
           "shape": ""
          }
         },
         "name": "Palau",
         "offsetgroup": "Palau",
         "orientation": "v",
         "showlegend": true,
         "textposition": "auto",
         "type": "bar",
         "x": [
          "Africa",
          "America",
          "Asia",
          "Europe",
          "Oceania"
         ],
         "xaxis": "x",
         "y": [
          0,
          0,
          0,
          0,
          333
         ],
         "yaxis": "y"
        },
        {
         "alignmentgroup": "True",
         "hovertemplate": "country=Papua New Guinea<br>Region=%{x}<br>GDP (million USD)=%{y}<extra></extra>",
         "legendgroup": "Papua New Guinea",
         "marker": {
          "color": "rgb(180, 249, 0)",
          "pattern": {
           "shape": ""
          }
         },
         "name": "Papua New Guinea",
         "offsetgroup": "Papua New Guinea",
         "orientation": "v",
         "showlegend": true,
         "textposition": "auto",
         "type": "bar",
         "x": [
          "Africa",
          "America",
          "Asia",
          "Europe",
          "Oceania"
         ],
         "xaxis": "x",
         "y": [
          0,
          0,
          0,
          0,
          32835
         ],
         "yaxis": "y"
        },
        {
         "alignmentgroup": "True",
         "hovertemplate": "country=Peru<br>Region=%{x}<br>GDP (million USD)=%{y}<extra></extra>",
         "legendgroup": "Peru",
         "marker": {
          "color": "rgb(197, 246, 0)",
          "pattern": {
           "shape": ""
          }
         },
         "name": "Peru",
         "offsetgroup": "Peru",
         "orientation": "v",
         "showlegend": true,
         "textposition": "auto",
         "type": "bar",
         "x": [
          "Africa",
          "America",
          "Asia",
          "Europe",
          "Oceania"
         ],
         "xaxis": "x",
         "y": [
          0,
          303293,
          0,
          0,
          0
         ],
         "yaxis": "y"
        },
        {
         "alignmentgroup": "True",
         "hovertemplate": "country=Poland<br>Region=%{x}<br>GDP (million USD)=%{y}<extra></extra>",
         "legendgroup": "Poland",
         "marker": {
          "color": "rgb(213, 242, 0)",
          "pattern": {
           "shape": ""
          }
         },
         "name": "Poland",
         "offsetgroup": "Poland",
         "orientation": "v",
         "showlegend": true,
         "textposition": "auto",
         "type": "bar",
         "x": [
          "Africa",
          "America",
          "Asia",
          "Europe",
          "Oceania"
         ],
         "xaxis": "x",
         "y": [
          0,
          0,
          0,
          979960,
          0
         ],
         "yaxis": "y"
        },
        {
         "alignmentgroup": "True",
         "hovertemplate": "country=Russia<br>Region=%{x}<br>GDP (million USD)=%{y}<extra></extra>",
         "legendgroup": "Russia",
         "marker": {
          "color": "rgb(230, 239, 0)",
          "pattern": {
           "shape": ""
          }
         },
         "name": "Russia",
         "offsetgroup": "Russia",
         "orientation": "v",
         "showlegend": true,
         "textposition": "auto",
         "type": "bar",
         "x": [
          "Africa",
          "America",
          "Asia",
          "Europe",
          "Oceania"
         ],
         "xaxis": "x",
         "y": [
          0,
          0,
          0,
          2076396,
          0
         ],
         "yaxis": "y"
        },
        {
         "alignmentgroup": "True",
         "hovertemplate": "country=Samoa<br>Region=%{x}<br>GDP (million USD)=%{y}<extra></extra>",
         "legendgroup": "Samoa",
         "marker": {
          "color": "rgb(247, 236, 0)",
          "pattern": {
           "shape": ""
          }
         },
         "name": "Samoa",
         "offsetgroup": "Samoa",
         "orientation": "v",
         "showlegend": true,
         "textposition": "auto",
         "type": "bar",
         "x": [
          "Africa",
          "America",
          "Asia",
          "Europe",
          "Oceania"
         ],
         "xaxis": "x",
         "y": [
          0,
          0,
          0,
          0,
          1160
         ],
         "yaxis": "y"
        },
        {
         "alignmentgroup": "True",
         "hovertemplate": "country=Saudi Arabia<br>Region=%{x}<br>GDP (million USD)=%{y}<extra></extra>",
         "legendgroup": "Saudi Arabia",
         "marker": {
          "color": "rgb(255, 224, 0)",
          "pattern": {
           "shape": ""
          }
         },
         "name": "Saudi Arabia",
         "offsetgroup": "Saudi Arabia",
         "orientation": "v",
         "showlegend": true,
         "textposition": "auto",
         "type": "bar",
         "x": [
          "Africa",
          "America",
          "Asia",
          "Europe",
          "Oceania"
         ],
         "xaxis": "x",
         "y": [
          0,
          0,
          1083749,
          0,
          0
         ],
         "yaxis": "y"
        },
        {
         "alignmentgroup": "True",
         "hovertemplate": "country=Singapore<br>Region=%{x}<br>GDP (million USD)=%{y}<extra></extra>",
         "legendgroup": "Singapore",
         "marker": {
          "color": "rgb(255, 204, 0)",
          "pattern": {
           "shape": ""
          }
         },
         "name": "Singapore",
         "offsetgroup": "Singapore",
         "orientation": "v",
         "showlegend": true,
         "textposition": "auto",
         "type": "bar",
         "x": [
          "Africa",
          "America",
          "Asia",
          "Europe",
          "Oceania"
         ],
         "xaxis": "x",
         "y": [
          0,
          0,
          564774,
          0,
          0
         ],
         "yaxis": "y"
        },
        {
         "alignmentgroup": "True",
         "hovertemplate": "country=Solomon Islands<br>Region=%{x}<br>GDP (million USD)=%{y}<extra></extra>",
         "legendgroup": "Solomon Islands",
         "marker": {
          "color": "rgb(255, 185, 0)",
          "pattern": {
           "shape": ""
          }
         },
         "name": "Solomon Islands",
         "offsetgroup": "Solomon Islands",
         "orientation": "v",
         "showlegend": true,
         "textposition": "auto",
         "type": "bar",
         "x": [
          "Africa",
          "America",
          "Asia",
          "Europe",
          "Oceania"
         ],
         "xaxis": "x",
         "y": [
          0,
          0,
          0,
          0,
          1898
         ],
         "yaxis": "y"
        },
        {
         "alignmentgroup": "True",
         "hovertemplate": "country=South Africa<br>Region=%{x}<br>GDP (million USD)=%{y}<extra></extra>",
         "legendgroup": "South Africa",
         "marker": {
          "color": "rgb(255, 165, 0)",
          "pattern": {
           "shape": ""
          }
         },
         "name": "South Africa",
         "offsetgroup": "South Africa",
         "orientation": "v",
         "showlegend": true,
         "textposition": "auto",
         "type": "bar",
         "x": [
          "Africa",
          "America",
          "Asia",
          "Europe",
          "Oceania"
         ],
         "xaxis": "x",
         "y": [
          410338,
          0,
          0,
          0,
          0
         ],
         "yaxis": "y"
        },
        {
         "alignmentgroup": "True",
         "hovertemplate": "country=South Korea<br>Region=%{x}<br>GDP (million USD)=%{y}<extra></extra>",
         "legendgroup": "South Korea",
         "marker": {
          "color": "rgb(255, 145, 0)",
          "pattern": {
           "shape": ""
          }
         },
         "name": "South Korea",
         "offsetgroup": "South Korea",
         "orientation": "v",
         "showlegend": true,
         "textposition": "auto",
         "type": "bar",
         "x": [
          "Africa",
          "America",
          "Asia",
          "Europe",
          "Oceania"
         ],
         "xaxis": "x",
         "y": [
          0,
          0,
          1790322,
          0,
          0
         ],
         "yaxis": "y"
        },
        {
         "alignmentgroup": "True",
         "hovertemplate": "country=Spain<br>Region=%{x}<br>GDP (million USD)=%{y}<extra></extra>",
         "legendgroup": "Spain",
         "marker": {
          "color": "rgb(255, 126, 0)",
          "pattern": {
           "shape": ""
          }
         },
         "name": "Spain",
         "offsetgroup": "Spain",
         "orientation": "v",
         "showlegend": true,
         "textposition": "auto",
         "type": "bar",
         "x": [
          "Africa",
          "America",
          "Asia",
          "Europe",
          "Oceania"
         ],
         "xaxis": "x",
         "y": [
          0,
          0,
          0,
          1799511,
          0
         ],
         "yaxis": "y"
        },
        {
         "alignmentgroup": "True",
         "hovertemplate": "country=Switzerland<br>Region=%{x}<br>GDP (million USD)=%{y}<extra></extra>",
         "legendgroup": "Switzerland",
         "marker": {
          "color": "rgb(255, 107, 0)",
          "pattern": {
           "shape": ""
          }
         },
         "name": "Switzerland",
         "offsetgroup": "Switzerland",
         "orientation": "v",
         "showlegend": true,
         "textposition": "auto",
         "type": "bar",
         "x": [
          "Africa",
          "America",
          "Asia",
          "Europe",
          "Oceania"
         ],
         "xaxis": "x",
         "y": [
          0,
          0,
          0,
          947125,
          0
         ],
         "yaxis": "y"
        },
        {
         "alignmentgroup": "True",
         "hovertemplate": "country=Taiwan<br>Region=%{x}<br>GDP (million USD)=%{y}<extra></extra>",
         "legendgroup": "Taiwan",
         "marker": {
          "color": "rgb(255, 89, 0)",
          "pattern": {
           "shape": ""
          }
         },
         "name": "Taiwan",
         "offsetgroup": "Taiwan",
         "orientation": "v",
         "showlegend": true,
         "textposition": "auto",
         "type": "bar",
         "x": [
          "Africa",
          "America",
          "Asia",
          "Europe",
          "Oceania"
         ],
         "xaxis": "x",
         "y": [
          0,
          0,
          804889,
          0,
          0
         ],
         "yaxis": "y"
        },
        {
         "alignmentgroup": "True",
         "hovertemplate": "country=Tonga<br>Region=%{x}<br>GDP (million USD)=%{y}<extra></extra>",
         "legendgroup": "Tonga",
         "marker": {
          "color": "rgb(255, 71, 0)",
          "pattern": {
           "shape": ""
          }
         },
         "name": "Tonga",
         "offsetgroup": "Tonga",
         "orientation": "v",
         "showlegend": true,
         "textposition": "auto",
         "type": "bar",
         "x": [
          "Africa",
          "America",
          "Asia",
          "Europe",
          "Oceania"
         ],
         "xaxis": "x",
         "y": [
          0,
          0,
          0,
          0,
          568
         ],
         "yaxis": "y"
        },
        {
         "alignmentgroup": "True",
         "hovertemplate": "country=Turkey<br>Region=%{x}<br>GDP (million USD)=%{y}<extra></extra>",
         "legendgroup": "Turkey",
         "marker": {
          "color": "rgb(255, 53, 0)",
          "pattern": {
           "shape": ""
          }
         },
         "name": "Turkey",
         "offsetgroup": "Turkey",
         "orientation": "v",
         "showlegend": true,
         "textposition": "auto",
         "type": "bar",
         "x": [
          "Africa",
          "America",
          "Asia",
          "Europe",
          "Oceania"
         ],
         "xaxis": "x",
         "y": [
          0,
          0,
          1437406,
          0,
          0
         ],
         "yaxis": "y"
        },
        {
         "alignmentgroup": "True",
         "hovertemplate": "country=United Kingdom<br>Region=%{x}<br>GDP (million USD)=%{y}<extra></extra>",
         "legendgroup": "United Kingdom",
         "marker": {
          "color": "rgb(255, 36, 0)",
          "pattern": {
           "shape": ""
          }
         },
         "name": "United Kingdom",
         "offsetgroup": "United Kingdom",
         "orientation": "v",
         "showlegend": true,
         "textposition": "auto",
         "type": "bar",
         "x": [
          "Africa",
          "America",
          "Asia",
          "Europe",
          "Oceania"
         ],
         "xaxis": "x",
         "y": [
          0,
          0,
          0,
          3839180,
          0
         ],
         "yaxis": "y"
        },
        {
         "alignmentgroup": "True",
         "hovertemplate": "country=United States<br>Region=%{x}<br>GDP (million USD)=%{y}<extra></extra>",
         "legendgroup": "United States",
         "marker": {
          "color": "rgb(255, 18, 0)",
          "pattern": {
           "shape": ""
          }
         },
         "name": "United States",
         "offsetgroup": "United States",
         "orientation": "v",
         "showlegend": true,
         "textposition": "auto",
         "type": "bar",
         "x": [
          "Africa",
          "America",
          "Asia",
          "Europe",
          "Oceania"
         ],
         "xaxis": "x",
         "y": [
          0,
          30507217,
          0,
          0,
          0
         ],
         "yaxis": "y"
        },
        {
         "alignmentgroup": "True",
         "hovertemplate": "country=Vanuatu<br>Region=%{x}<br>GDP (million USD)=%{y}<extra></extra>",
         "legendgroup": "Vanuatu",
         "marker": {
          "color": "rgb(255, 0, 0)",
          "pattern": {
           "shape": ""
          }
         },
         "name": "Vanuatu",
         "offsetgroup": "Vanuatu",
         "orientation": "v",
         "showlegend": true,
         "textposition": "auto",
         "type": "bar",
         "x": [
          "Africa",
          "America",
          "Asia",
          "Europe",
          "Oceania"
         ],
         "xaxis": "x",
         "y": [
          0,
          0,
          0,
          0,
          1267
         ],
         "yaxis": "y"
        }
       ],
       "layout": {
        "barmode": "relative",
        "height": 600,
        "legend": {
         "title": {
          "text": "Country"
         },
         "tracegroupgap": 0
        },
        "template": {
         "data": {
          "bar": [
           {
            "error_x": {
             "color": "#2a3f5f"
            },
            "error_y": {
             "color": "#2a3f5f"
            },
            "marker": {
             "line": {
              "color": "white",
              "width": 0.5
             },
             "pattern": {
              "fillmode": "overlay",
              "size": 10,
              "solidity": 0.2
             }
            },
            "type": "bar"
           }
          ],
          "barpolar": [
           {
            "marker": {
             "line": {
              "color": "white",
              "width": 0.5
             },
             "pattern": {
              "fillmode": "overlay",
              "size": 10,
              "solidity": 0.2
             }
            },
            "type": "barpolar"
           }
          ],
          "carpet": [
           {
            "aaxis": {
             "endlinecolor": "#2a3f5f",
             "gridcolor": "#C8D4E3",
             "linecolor": "#C8D4E3",
             "minorgridcolor": "#C8D4E3",
             "startlinecolor": "#2a3f5f"
            },
            "baxis": {
             "endlinecolor": "#2a3f5f",
             "gridcolor": "#C8D4E3",
             "linecolor": "#C8D4E3",
             "minorgridcolor": "#C8D4E3",
             "startlinecolor": "#2a3f5f"
            },
            "type": "carpet"
           }
          ],
          "choropleth": [
           {
            "colorbar": {
             "outlinewidth": 0,
             "ticks": ""
            },
            "type": "choropleth"
           }
          ],
          "contour": [
           {
            "colorbar": {
             "outlinewidth": 0,
             "ticks": ""
            },
            "colorscale": [
             [
              0,
              "#0d0887"
             ],
             [
              0.1111111111111111,
              "#46039f"
             ],
             [
              0.2222222222222222,
              "#7201a8"
             ],
             [
              0.3333333333333333,
              "#9c179e"
             ],
             [
              0.4444444444444444,
              "#bd3786"
             ],
             [
              0.5555555555555556,
              "#d8576b"
             ],
             [
              0.6666666666666666,
              "#ed7953"
             ],
             [
              0.7777777777777778,
              "#fb9f3a"
             ],
             [
              0.8888888888888888,
              "#fdca26"
             ],
             [
              1,
              "#f0f921"
             ]
            ],
            "type": "contour"
           }
          ],
          "contourcarpet": [
           {
            "colorbar": {
             "outlinewidth": 0,
             "ticks": ""
            },
            "type": "contourcarpet"
           }
          ],
          "heatmap": [
           {
            "colorbar": {
             "outlinewidth": 0,
             "ticks": ""
            },
            "colorscale": [
             [
              0,
              "#0d0887"
             ],
             [
              0.1111111111111111,
              "#46039f"
             ],
             [
              0.2222222222222222,
              "#7201a8"
             ],
             [
              0.3333333333333333,
              "#9c179e"
             ],
             [
              0.4444444444444444,
              "#bd3786"
             ],
             [
              0.5555555555555556,
              "#d8576b"
             ],
             [
              0.6666666666666666,
              "#ed7953"
             ],
             [
              0.7777777777777778,
              "#fb9f3a"
             ],
             [
              0.8888888888888888,
              "#fdca26"
             ],
             [
              1,
              "#f0f921"
             ]
            ],
            "type": "heatmap"
           }
          ],
          "heatmapgl": [
           {
            "colorbar": {
             "outlinewidth": 0,
             "ticks": ""
            },
            "colorscale": [
             [
              0,
              "#0d0887"
             ],
             [
              0.1111111111111111,
              "#46039f"
             ],
             [
              0.2222222222222222,
              "#7201a8"
             ],
             [
              0.3333333333333333,
              "#9c179e"
             ],
             [
              0.4444444444444444,
              "#bd3786"
             ],
             [
              0.5555555555555556,
              "#d8576b"
             ],
             [
              0.6666666666666666,
              "#ed7953"
             ],
             [
              0.7777777777777778,
              "#fb9f3a"
             ],
             [
              0.8888888888888888,
              "#fdca26"
             ],
             [
              1,
              "#f0f921"
             ]
            ],
            "type": "heatmapgl"
           }
          ],
          "histogram": [
           {
            "marker": {
             "pattern": {
              "fillmode": "overlay",
              "size": 10,
              "solidity": 0.2
             }
            },
            "type": "histogram"
           }
          ],
          "histogram2d": [
           {
            "colorbar": {
             "outlinewidth": 0,
             "ticks": ""
            },
            "colorscale": [
             [
              0,
              "#0d0887"
             ],
             [
              0.1111111111111111,
              "#46039f"
             ],
             [
              0.2222222222222222,
              "#7201a8"
             ],
             [
              0.3333333333333333,
              "#9c179e"
             ],
             [
              0.4444444444444444,
              "#bd3786"
             ],
             [
              0.5555555555555556,
              "#d8576b"
             ],
             [
              0.6666666666666666,
              "#ed7953"
             ],
             [
              0.7777777777777778,
              "#fb9f3a"
             ],
             [
              0.8888888888888888,
              "#fdca26"
             ],
             [
              1,
              "#f0f921"
             ]
            ],
            "type": "histogram2d"
           }
          ],
          "histogram2dcontour": [
           {
            "colorbar": {
             "outlinewidth": 0,
             "ticks": ""
            },
            "colorscale": [
             [
              0,
              "#0d0887"
             ],
             [
              0.1111111111111111,
              "#46039f"
             ],
             [
              0.2222222222222222,
              "#7201a8"
             ],
             [
              0.3333333333333333,
              "#9c179e"
             ],
             [
              0.4444444444444444,
              "#bd3786"
             ],
             [
              0.5555555555555556,
              "#d8576b"
             ],
             [
              0.6666666666666666,
              "#ed7953"
             ],
             [
              0.7777777777777778,
              "#fb9f3a"
             ],
             [
              0.8888888888888888,
              "#fdca26"
             ],
             [
              1,
              "#f0f921"
             ]
            ],
            "type": "histogram2dcontour"
           }
          ],
          "mesh3d": [
           {
            "colorbar": {
             "outlinewidth": 0,
             "ticks": ""
            },
            "type": "mesh3d"
           }
          ],
          "parcoords": [
           {
            "line": {
             "colorbar": {
              "outlinewidth": 0,
              "ticks": ""
             }
            },
            "type": "parcoords"
           }
          ],
          "pie": [
           {
            "automargin": true,
            "type": "pie"
           }
          ],
          "scatter": [
           {
            "fillpattern": {
             "fillmode": "overlay",
             "size": 10,
             "solidity": 0.2
            },
            "type": "scatter"
           }
          ],
          "scatter3d": [
           {
            "line": {
             "colorbar": {
              "outlinewidth": 0,
              "ticks": ""
             }
            },
            "marker": {
             "colorbar": {
              "outlinewidth": 0,
              "ticks": ""
             }
            },
            "type": "scatter3d"
           }
          ],
          "scattercarpet": [
           {
            "marker": {
             "colorbar": {
              "outlinewidth": 0,
              "ticks": ""
             }
            },
            "type": "scattercarpet"
           }
          ],
          "scattergeo": [
           {
            "marker": {
             "colorbar": {
              "outlinewidth": 0,
              "ticks": ""
             }
            },
            "type": "scattergeo"
           }
          ],
          "scattergl": [
           {
            "marker": {
             "colorbar": {
              "outlinewidth": 0,
              "ticks": ""
             }
            },
            "type": "scattergl"
           }
          ],
          "scattermapbox": [
           {
            "marker": {
             "colorbar": {
              "outlinewidth": 0,
              "ticks": ""
             }
            },
            "type": "scattermapbox"
           }
          ],
          "scatterpolar": [
           {
            "marker": {
             "colorbar": {
              "outlinewidth": 0,
              "ticks": ""
             }
            },
            "type": "scatterpolar"
           }
          ],
          "scatterpolargl": [
           {
            "marker": {
             "colorbar": {
              "outlinewidth": 0,
              "ticks": ""
             }
            },
            "type": "scatterpolargl"
           }
          ],
          "scatterternary": [
           {
            "marker": {
             "colorbar": {
              "outlinewidth": 0,
              "ticks": ""
             }
            },
            "type": "scatterternary"
           }
          ],
          "surface": [
           {
            "colorbar": {
             "outlinewidth": 0,
             "ticks": ""
            },
            "colorscale": [
             [
              0,
              "#0d0887"
             ],
             [
              0.1111111111111111,
              "#46039f"
             ],
             [
              0.2222222222222222,
              "#7201a8"
             ],
             [
              0.3333333333333333,
              "#9c179e"
             ],
             [
              0.4444444444444444,
              "#bd3786"
             ],
             [
              0.5555555555555556,
              "#d8576b"
             ],
             [
              0.6666666666666666,
              "#ed7953"
             ],
             [
              0.7777777777777778,
              "#fb9f3a"
             ],
             [
              0.8888888888888888,
              "#fdca26"
             ],
             [
              1,
              "#f0f921"
             ]
            ],
            "type": "surface"
           }
          ],
          "table": [
           {
            "cells": {
             "fill": {
              "color": "#EBF0F8"
             },
             "line": {
              "color": "white"
             }
            },
            "header": {
             "fill": {
              "color": "#C8D4E3"
             },
             "line": {
              "color": "white"
             }
            },
            "type": "table"
           }
          ]
         },
         "layout": {
          "annotationdefaults": {
           "arrowcolor": "#2a3f5f",
           "arrowhead": 0,
           "arrowwidth": 1
          },
          "autotypenumbers": "strict",
          "coloraxis": {
           "colorbar": {
            "outlinewidth": 0,
            "ticks": ""
           }
          },
          "colorscale": {
           "diverging": [
            [
             0,
             "#8e0152"
            ],
            [
             0.1,
             "#c51b7d"
            ],
            [
             0.2,
             "#de77ae"
            ],
            [
             0.3,
             "#f1b6da"
            ],
            [
             0.4,
             "#fde0ef"
            ],
            [
             0.5,
             "#f7f7f7"
            ],
            [
             0.6,
             "#e6f5d0"
            ],
            [
             0.7,
             "#b8e186"
            ],
            [
             0.8,
             "#7fbc41"
            ],
            [
             0.9,
             "#4d9221"
            ],
            [
             1,
             "#276419"
            ]
           ],
           "sequential": [
            [
             0,
             "#0d0887"
            ],
            [
             0.1111111111111111,
             "#46039f"
            ],
            [
             0.2222222222222222,
             "#7201a8"
            ],
            [
             0.3333333333333333,
             "#9c179e"
            ],
            [
             0.4444444444444444,
             "#bd3786"
            ],
            [
             0.5555555555555556,
             "#d8576b"
            ],
            [
             0.6666666666666666,
             "#ed7953"
            ],
            [
             0.7777777777777778,
             "#fb9f3a"
            ],
            [
             0.8888888888888888,
             "#fdca26"
            ],
            [
             1,
             "#f0f921"
            ]
           ],
           "sequentialminus": [
            [
             0,
             "#0d0887"
            ],
            [
             0.1111111111111111,
             "#46039f"
            ],
            [
             0.2222222222222222,
             "#7201a8"
            ],
            [
             0.3333333333333333,
             "#9c179e"
            ],
            [
             0.4444444444444444,
             "#bd3786"
            ],
            [
             0.5555555555555556,
             "#d8576b"
            ],
            [
             0.6666666666666666,
             "#ed7953"
            ],
            [
             0.7777777777777778,
             "#fb9f3a"
            ],
            [
             0.8888888888888888,
             "#fdca26"
            ],
            [
             1,
             "#f0f921"
            ]
           ]
          },
          "colorway": [
           "#636efa",
           "#EF553B",
           "#00cc96",
           "#ab63fa",
           "#FFA15A",
           "#19d3f3",
           "#FF6692",
           "#B6E880",
           "#FF97FF",
           "#FECB52"
          ],
          "font": {
           "color": "#2a3f5f"
          },
          "geo": {
           "bgcolor": "white",
           "lakecolor": "white",
           "landcolor": "white",
           "showlakes": true,
           "showland": true,
           "subunitcolor": "#C8D4E3"
          },
          "hoverlabel": {
           "align": "left"
          },
          "hovermode": "closest",
          "mapbox": {
           "style": "light"
          },
          "paper_bgcolor": "white",
          "plot_bgcolor": "white",
          "polar": {
           "angularaxis": {
            "gridcolor": "#EBF0F8",
            "linecolor": "#EBF0F8",
            "ticks": ""
           },
           "bgcolor": "white",
           "radialaxis": {
            "gridcolor": "#EBF0F8",
            "linecolor": "#EBF0F8",
            "ticks": ""
           }
          },
          "scene": {
           "xaxis": {
            "backgroundcolor": "white",
            "gridcolor": "#DFE8F3",
            "gridwidth": 2,
            "linecolor": "#EBF0F8",
            "showbackground": true,
            "ticks": "",
            "zerolinecolor": "#EBF0F8"
           },
           "yaxis": {
            "backgroundcolor": "white",
            "gridcolor": "#DFE8F3",
            "gridwidth": 2,
            "linecolor": "#EBF0F8",
            "showbackground": true,
            "ticks": "",
            "zerolinecolor": "#EBF0F8"
           },
           "zaxis": {
            "backgroundcolor": "white",
            "gridcolor": "#DFE8F3",
            "gridwidth": 2,
            "linecolor": "#EBF0F8",
            "showbackground": true,
            "ticks": "",
            "zerolinecolor": "#EBF0F8"
           }
          },
          "shapedefaults": {
           "line": {
            "color": "#2a3f5f"
           }
          },
          "ternary": {
           "aaxis": {
            "gridcolor": "#DFE8F3",
            "linecolor": "#A2B1C6",
            "ticks": ""
           },
           "baxis": {
            "gridcolor": "#DFE8F3",
            "linecolor": "#A2B1C6",
            "ticks": ""
           },
           "bgcolor": "white",
           "caxis": {
            "gridcolor": "#DFE8F3",
            "linecolor": "#A2B1C6",
            "ticks": ""
           }
          },
          "title": {
           "x": 0.05
          },
          "xaxis": {
           "automargin": true,
           "gridcolor": "#EBF0F8",
           "linecolor": "#EBF0F8",
           "ticks": "",
           "title": {
            "standoff": 15
           },
           "zerolinecolor": "#EBF0F8",
           "zerolinewidth": 2
          },
          "yaxis": {
           "automargin": true,
           "gridcolor": "#EBF0F8",
           "linecolor": "#EBF0F8",
           "ticks": "",
           "title": {
            "standoff": 15
           },
           "zerolinecolor": "#EBF0F8",
           "zerolinewidth": 2
          }
         }
        },
        "title": {
         "text": "Regional GDP by country (IMF numbers; each bar = region, stacks = countries)"
        },
        "xaxis": {
         "anchor": "y",
         "domain": [
          0,
          1
         ],
         "title": {
          "text": "Region"
         }
        },
        "yaxis": {
         "anchor": "x",
         "domain": [
          0,
          1
         ],
         "title": {
          "text": "GDP (million USD)"
         }
        }
       }
      }
     },
     "metadata": {},
     "output_type": "display_data"
    }
   ],
   "source": [
    "# create a stacked bar where each region is on the x-axis and stacks are countries' GDP contributions.\n",
    "# We pivot the data so that each country is a color segment.\n",
    "pivot = plot_df.pivot_table(\n",
    "    index='region',\n",
    "    columns='country',\n",
    "    values='gdp_million_usd',\n",
    "    aggfunc='sum',\n",
    "    fill_value=0\n",
    ")\n",
    "\n",
    "# reshape pivot into long format for Plotly\n",
    "long_df = pivot.reset_index().melt(id_vars='region', var_name='country', value_name='gdp_million_usd')\n",
    "\n",
    "# make a large gradient palette: sample Viridis at N points\n",
    "n_countries = long_df['country'].nunique()\n",
    "color_scale = pc.sample_colorscale(\"Rainbow\", [i/(n_countries-1) for i in range(n_countries)])\n",
    "\n",
    "# build stacked bar\n",
    "fig = px.bar(\n",
    "    long_df,\n",
    "    x='region',\n",
    "    y='gdp_million_usd',\n",
    "    color='country',\n",
    "    title=\"Regional GDP by country (IMF numbers; each bar = region, stacks = countries)\",\n",
    "    labels={\"gdp_million_usd\": \"GDP (million USD)\", \"region\": \"Region\"},\n",
    "    barmode='relative',\n",
    "    color_discrete_sequence=color_scale\n",
    ")\n",
    "\n",
    "# update layout for readability\n",
    "fig.update_layout(\n",
    "    xaxis_title=\"Region\",\n",
    "    yaxis_title=\"GDP (million USD)\",\n",
    "    legend_title=\"Country\",\n",
    "    template=\"plotly_white\",\n",
    "    height=600,\n",
    ")\n",
    "\n",
    "# save interactive HTML file\n",
    "stacked_bar_filename = \"stacked_bar.html\"\n",
    "fig.write_html(stacked_bar_filename, full_html=True, include_plotlyjs='cdn')\n",
    "print(f\"Saved stacked bar to {stacked_bar_filename}\")\n",
    "\n",
    "# if running in a notebook, show the figure inline as well\n",
    "fig.show()\n"
   ]
  },
  {
   "cell_type": "markdown",
   "id": "ea282323",
   "metadata": {},
   "source": [
    "### 2. MRICloud-style hierarchy → Sankey diagram (Type == 1, at least 3 levels starting from Intracranial Volume)"
   ]
  },
  {
   "cell_type": "markdown",
   "id": "9fa7b161",
   "metadata": {},
   "source": [
    "#### From book:"
   ]
  },
  {
   "cell_type": "code",
   "execution_count": 9,
   "id": "08603b71",
   "metadata": {},
   "outputs": [
    {
     "data": {
      "application/vnd.microsoft.datawrangler.viewer.v0+json": {
       "columns": [
        {
         "name": "index",
         "rawType": "int64",
         "type": "integer"
        },
        {
         "name": "roi",
         "rawType": "object",
         "type": "string"
        },
        {
         "name": "level4",
         "rawType": "object",
         "type": "string"
        },
        {
         "name": "level3",
         "rawType": "object",
         "type": "string"
        },
        {
         "name": "level2",
         "rawType": "object",
         "type": "string"
        },
        {
         "name": "level1",
         "rawType": "object",
         "type": "string"
        }
       ],
       "ref": "5d8e2396-7854-4afa-9a81-f261e49581b4",
       "rows": [
        [
         "0",
         "SFG_L",
         "SFG_L",
         "Frontal_L",
         "CerebralCortex_L",
         "Telencephalon_L"
        ],
        [
         "1",
         "SFG_R",
         "SFG_R",
         "Frontal_R",
         "CerebralCortex_R",
         "Telencephalon_R"
        ],
        [
         "2",
         "SFG_PFC_L",
         "SFG_L",
         "Frontal_L",
         "CerebralCortex_L",
         "Telencephalon_L"
        ],
        [
         "3",
         "SFG_PFC_R",
         "SFG_R",
         "Frontal_R",
         "CerebralCortex_R",
         "Telencephalon_R"
        ],
        [
         "4",
         "SFG_pole_L",
         "SFG_L",
         "Frontal_L",
         "CerebralCortex_L",
         "Telencephalon_L"
        ]
       ],
       "shape": {
        "columns": 5,
        "rows": 5
       }
      },
      "text/html": [
       "<div>\n",
       "<style scoped>\n",
       "    .dataframe tbody tr th:only-of-type {\n",
       "        vertical-align: middle;\n",
       "    }\n",
       "\n",
       "    .dataframe tbody tr th {\n",
       "        vertical-align: top;\n",
       "    }\n",
       "\n",
       "    .dataframe thead th {\n",
       "        text-align: right;\n",
       "    }\n",
       "</style>\n",
       "<table border=\"1\" class=\"dataframe\">\n",
       "  <thead>\n",
       "    <tr style=\"text-align: right;\">\n",
       "      <th></th>\n",
       "      <th>roi</th>\n",
       "      <th>level4</th>\n",
       "      <th>level3</th>\n",
       "      <th>level2</th>\n",
       "      <th>level1</th>\n",
       "    </tr>\n",
       "  </thead>\n",
       "  <tbody>\n",
       "    <tr>\n",
       "      <th>0</th>\n",
       "      <td>SFG_L</td>\n",
       "      <td>SFG_L</td>\n",
       "      <td>Frontal_L</td>\n",
       "      <td>CerebralCortex_L</td>\n",
       "      <td>Telencephalon_L</td>\n",
       "    </tr>\n",
       "    <tr>\n",
       "      <th>1</th>\n",
       "      <td>SFG_R</td>\n",
       "      <td>SFG_R</td>\n",
       "      <td>Frontal_R</td>\n",
       "      <td>CerebralCortex_R</td>\n",
       "      <td>Telencephalon_R</td>\n",
       "    </tr>\n",
       "    <tr>\n",
       "      <th>2</th>\n",
       "      <td>SFG_PFC_L</td>\n",
       "      <td>SFG_L</td>\n",
       "      <td>Frontal_L</td>\n",
       "      <td>CerebralCortex_L</td>\n",
       "      <td>Telencephalon_L</td>\n",
       "    </tr>\n",
       "    <tr>\n",
       "      <th>3</th>\n",
       "      <td>SFG_PFC_R</td>\n",
       "      <td>SFG_R</td>\n",
       "      <td>Frontal_R</td>\n",
       "      <td>CerebralCortex_R</td>\n",
       "      <td>Telencephalon_R</td>\n",
       "    </tr>\n",
       "    <tr>\n",
       "      <th>4</th>\n",
       "      <td>SFG_pole_L</td>\n",
       "      <td>SFG_L</td>\n",
       "      <td>Frontal_L</td>\n",
       "      <td>CerebralCortex_L</td>\n",
       "      <td>Telencephalon_L</td>\n",
       "    </tr>\n",
       "  </tbody>\n",
       "</table>\n",
       "</div>"
      ],
      "text/plain": [
       "          roi level4     level3            level2           level1\n",
       "0       SFG_L  SFG_L  Frontal_L  CerebralCortex_L  Telencephalon_L\n",
       "1       SFG_R  SFG_R  Frontal_R  CerebralCortex_R  Telencephalon_R\n",
       "2   SFG_PFC_L  SFG_L  Frontal_L  CerebralCortex_L  Telencephalon_L\n",
       "3   SFG_PFC_R  SFG_R  Frontal_R  CerebralCortex_R  Telencephalon_R\n",
       "4  SFG_pole_L  SFG_L  Frontal_L  CerebralCortex_L  Telencephalon_L"
      ]
     },
     "execution_count": 9,
     "metadata": {},
     "output_type": "execute_result"
    }
   ],
   "source": [
    "## load in the hierarchy information\n",
    "url = \"https://raw.githubusercontent.com/bcaffo/MRIcloudT1volumetrics/master/inst/extdata/multilevel_lookup_table.txt\"\n",
    "multilevel_lookup = pd.read_csv(url, sep = \"\\t\").drop(['Level5'], axis = 1)\n",
    "multilevel_lookup = multilevel_lookup.rename(columns = {\n",
    "    \"modify\"   : \"roi\",\n",
    "    \"modify.1\" : \"level4\",\n",
    "    \"modify.2\" : \"level3\",\n",
    "    \"modify.3\" : \"level2\",\n",
    "    \"modify.4\" : \"level1\"})\n",
    "multilevel_lookup = multilevel_lookup[['roi', 'level4', 'level3', 'level2', 'level1']]\n",
    "multilevel_lookup.head()"
   ]
  },
  {
   "cell_type": "code",
   "execution_count": 10,
   "id": "7289cb45",
   "metadata": {},
   "outputs": [
    {
     "data": {
      "application/vnd.microsoft.datawrangler.viewer.v0+json": {
       "columns": [
        {
         "name": "index",
         "rawType": "int64",
         "type": "integer"
        },
        {
         "name": "roi",
         "rawType": "object",
         "type": "string"
        },
        {
         "name": "volume",
         "rawType": "int64",
         "type": "integer"
        },
        {
         "name": "level4",
         "rawType": "object",
         "type": "string"
        },
        {
         "name": "level3",
         "rawType": "object",
         "type": "string"
        },
        {
         "name": "level2",
         "rawType": "object",
         "type": "string"
        },
        {
         "name": "level1",
         "rawType": "object",
         "type": "string"
        },
        {
         "name": "icv",
         "rawType": "object",
         "type": "string"
        },
        {
         "name": "comp",
         "rawType": "float64",
         "type": "float"
        }
       ],
       "ref": "ffd594f8-0d66-4e56-978a-d8e20e409528",
       "rows": [
        [
         "0",
         "SFG_L",
         "12926",
         "SFG_L",
         "Frontal_L",
         "CerebralCortex_L",
         "Telencephalon_L",
         "ICV",
         "0.00935028334411155"
        ],
        [
         "1",
         "SFG_R",
         "10050",
         "SFG_R",
         "Frontal_R",
         "CerebralCortex_R",
         "Telencephalon_R",
         "ICV",
         "0.007269870618004106"
        ],
        [
         "2",
         "SFG_PFC_L",
         "12783",
         "SFG_L",
         "Frontal_L",
         "CerebralCortex_L",
         "Telencephalon_L",
         "ICV",
         "0.009246841403974774"
        ],
        [
         "3",
         "SFG_PFC_R",
         "11507",
         "SFG_R",
         "Frontal_R",
         "CerebralCortex_R",
         "Telencephalon_R",
         "ICV",
         "0.008323821015062014"
        ],
        [
         "4",
         "SFG_pole_L",
         "3078",
         "SFG_L",
         "Frontal_L",
         "CerebralCortex_L",
         "Telencephalon_L",
         "ICV",
         "0.0022265335086782724"
        ]
       ],
       "shape": {
        "columns": 8,
        "rows": 5
       }
      },
      "text/html": [
       "<div>\n",
       "<style scoped>\n",
       "    .dataframe tbody tr th:only-of-type {\n",
       "        vertical-align: middle;\n",
       "    }\n",
       "\n",
       "    .dataframe tbody tr th {\n",
       "        vertical-align: top;\n",
       "    }\n",
       "\n",
       "    .dataframe thead th {\n",
       "        text-align: right;\n",
       "    }\n",
       "</style>\n",
       "<table border=\"1\" class=\"dataframe\">\n",
       "  <thead>\n",
       "    <tr style=\"text-align: right;\">\n",
       "      <th></th>\n",
       "      <th>roi</th>\n",
       "      <th>volume</th>\n",
       "      <th>level4</th>\n",
       "      <th>level3</th>\n",
       "      <th>level2</th>\n",
       "      <th>level1</th>\n",
       "      <th>icv</th>\n",
       "      <th>comp</th>\n",
       "    </tr>\n",
       "  </thead>\n",
       "  <tbody>\n",
       "    <tr>\n",
       "      <th>0</th>\n",
       "      <td>SFG_L</td>\n",
       "      <td>12926</td>\n",
       "      <td>SFG_L</td>\n",
       "      <td>Frontal_L</td>\n",
       "      <td>CerebralCortex_L</td>\n",
       "      <td>Telencephalon_L</td>\n",
       "      <td>ICV</td>\n",
       "      <td>0.009350</td>\n",
       "    </tr>\n",
       "    <tr>\n",
       "      <th>1</th>\n",
       "      <td>SFG_R</td>\n",
       "      <td>10050</td>\n",
       "      <td>SFG_R</td>\n",
       "      <td>Frontal_R</td>\n",
       "      <td>CerebralCortex_R</td>\n",
       "      <td>Telencephalon_R</td>\n",
       "      <td>ICV</td>\n",
       "      <td>0.007270</td>\n",
       "    </tr>\n",
       "    <tr>\n",
       "      <th>2</th>\n",
       "      <td>SFG_PFC_L</td>\n",
       "      <td>12783</td>\n",
       "      <td>SFG_L</td>\n",
       "      <td>Frontal_L</td>\n",
       "      <td>CerebralCortex_L</td>\n",
       "      <td>Telencephalon_L</td>\n",
       "      <td>ICV</td>\n",
       "      <td>0.009247</td>\n",
       "    </tr>\n",
       "    <tr>\n",
       "      <th>3</th>\n",
       "      <td>SFG_PFC_R</td>\n",
       "      <td>11507</td>\n",
       "      <td>SFG_R</td>\n",
       "      <td>Frontal_R</td>\n",
       "      <td>CerebralCortex_R</td>\n",
       "      <td>Telencephalon_R</td>\n",
       "      <td>ICV</td>\n",
       "      <td>0.008324</td>\n",
       "    </tr>\n",
       "    <tr>\n",
       "      <th>4</th>\n",
       "      <td>SFG_pole_L</td>\n",
       "      <td>3078</td>\n",
       "      <td>SFG_L</td>\n",
       "      <td>Frontal_L</td>\n",
       "      <td>CerebralCortex_L</td>\n",
       "      <td>Telencephalon_L</td>\n",
       "      <td>ICV</td>\n",
       "      <td>0.002227</td>\n",
       "    </tr>\n",
       "  </tbody>\n",
       "</table>\n",
       "</div>"
      ],
      "text/plain": [
       "          roi  volume level4     level3            level2           level1  \\\n",
       "0       SFG_L   12926  SFG_L  Frontal_L  CerebralCortex_L  Telencephalon_L   \n",
       "1       SFG_R   10050  SFG_R  Frontal_R  CerebralCortex_R  Telencephalon_R   \n",
       "2   SFG_PFC_L   12783  SFG_L  Frontal_L  CerebralCortex_L  Telencephalon_L   \n",
       "3   SFG_PFC_R   11507  SFG_R  Frontal_R  CerebralCortex_R  Telencephalon_R   \n",
       "4  SFG_pole_L    3078  SFG_L  Frontal_L  CerebralCortex_L  Telencephalon_L   \n",
       "\n",
       "   icv      comp  \n",
       "0  ICV  0.009350  \n",
       "1  ICV  0.007270  \n",
       "2  ICV  0.009247  \n",
       "3  ICV  0.008324  \n",
       "4  ICV  0.002227  "
      ]
     },
     "execution_count": 10,
     "metadata": {},
     "output_type": "execute_result"
    }
   ],
   "source": [
    "## Now load in the subject data\n",
    "id = 127\n",
    "subjectData = pd.read_csv(\"https://raw.githubusercontent.com/smart-stats/ds4bio_book/main/book/assetts/kirby21AllLevels.csv\")\n",
    "subjectData = subjectData.loc[(subjectData.type == 1) & (subjectData.level == 5) & (subjectData.id == id)]\n",
    "subjectData = subjectData[['roi', 'volume']]\n",
    "## Merge the subject data with the multilevel data\n",
    "subjectData = pd.merge(subjectData, multilevel_lookup, on = \"roi\")\n",
    "subjectData = subjectData.assign(icv = \"ICV\")\n",
    "subjectData = subjectData.assign(comp = subjectData.volume / np.sum(subjectData.volume))\n",
    "subjectData.head()"
   ]
  },
  {
   "cell_type": "code",
   "execution_count": 11,
   "id": "f65b7da6",
   "metadata": {},
   "outputs": [
    {
     "data": {
      "application/vnd.plotly.v1+json": {
       "config": {
        "plotlyServerURL": "https://plot.ly"
       },
       "data": [
        {
         "branchvalues": "total",
         "domain": {
          "x": [
           0,
           1
          ],
          "y": [
           0,
           1
          ]
         },
         "hovertemplate": "labels=%{label}<br>comp=%{value}<br>parent=%{parent}<br>id=%{id}<extra></extra>",
         "ids": [
          "ICV/Telencephalon_L/WhiteMatter_L/AnteriorWM_L/ant_DPWM_L/ACR_L",
          "ICV/Telencephalon_R/WhiteMatter_R/AnteriorWM_R/ant_DPWM_R/ACR_R",
          "ICV/Telencephalon_L/WhiteMatter_L/PosteriorWM_L/PeripheralParietalWM_L/AGWM_L",
          "ICV/Telencephalon_R/WhiteMatter_R/PosteriorWM_R/PeripheralParietalWM_R/AGWM_R",
          "ICV/Telencephalon_L/CerebralCortex_L/Parietal_L/AG_L/AG_L",
          "ICV/Telencephalon_R/CerebralCortex_R/Parietal_R/AG_R/AG_R",
          "ICV/Telencephalon_L/WhiteMatter_L/InferiorWM_L/ALIC_L/ALIC_L",
          "ICV/Telencephalon_R/WhiteMatter_R/InferiorWM_R/ALIC_R/ALIC_R",
          "ICV/Telencephalon_L/CerebralNucli_L/Limbic_L/Amyg_L/Amyg_L",
          "ICV/Telencephalon_R/CerebralNucli_R/Limbic_R/Amyg_R/Amyg_R",
          "ICV/Telencephalon_L/WhiteMatter_L/CorpusCallosum_L/BCC_L/BCC_L",
          "ICV/Telencephalon_R/WhiteMatter_R/CorpusCallosum_R/BCC_R/BCC_R",
          "ICV/Diencephalon_L/BasalForebrain_L/BasalForebrain_L/BasalForebrain_L/BasalForebrain_L",
          "ICV/Diencephalon_R/BasalForebrain_R/BasalForebrain_R/BasalForebrain_R/BasalForebrain_R",
          "ICV/Telencephalon_L/WhiteMatter_L/LimbicWM_L/CGC_L/CGC_L",
          "ICV/Telencephalon_R/WhiteMatter_R/LimbicWM_R/CGC_R/CGC_R",
          "ICV/Telencephalon_L/WhiteMatter_L/LimbicWM_L/CGH_L/CGH_L",
          "ICV/Telencephalon_R/WhiteMatter_R/LimbicWM_R/CGH_R/CGH_R",
          "ICV/Mesencephalon/Mesencephalon_L/midbrain_L/midbrain_L/CP_L",
          "ICV/Mesencephalon/Mesencephalon_R/midbrain_R/midbrain_R/CP_R",
          "ICV/Metencephalon/Metencephalon_L/Pons_L/Pons_L/CST_L",
          "ICV/Metencephalon/Metencephalon_R/Pons_R/Pons_R/CST_R",
          "ICV/Telencephalon_L/CerebralNucli_L/BasalGang_L/Caud_L/Caud_L",
          "ICV/Telencephalon_R/CerebralNucli_R/BasalGang_R/Caud_R/Caud_R",
          "ICV/Telencephalon_L/CerebralNucli_L/BasalGang_L/Caudate_tail_L/Caudate_tail_L",
          "ICV/Telencephalon_R/CerebralNucli_R/BasalGang_R/Caudate_tail_R/Caudate_tail_R",
          "ICV/CSF/Sulcus_L/CentralSul_L/CentralSul_L/CentralSul_L",
          "ICV/CSF/Sulcus_R/CentralSul_R/CentralSul_R/CentralSul_R",
          "ICV/Metencephalon/Metencephalon_L/Cerebellum_L/Cerebellum_L/CerebellumGM_L",
          "ICV/Metencephalon/Metencephalon_R/Cerebellum_R/Cerebellum_R/CerebellumGM_R",
          "ICV/Metencephalon/Metencephalon_L/Cerebellum_L/CerebellumWM_L/CerebellumWM_L",
          "ICV/Metencephalon/Metencephalon_R/Cerebellum_R/CerebellumWM_R/CerebellumWM_R",
          "ICV/CSF/Ventricle /LateralVentricle_L/AnteriorLateralVentricle_L/Chroid_LVetc_L",
          "ICV/CSF/Ventricle /LateralVentricle_R/AnteriorLateralVentricle_R/Chroid_LVetc_R",
          "ICV/CSF/Sulcus_L/CinguSul_L/CinguSul_L/CinguSul_L",
          "ICV/CSF/Sulcus_R/CinguSul_R/CinguSul_R/CinguSul_R",
          "ICV/Diencephalon_L/BasalForebrain_L/BasalForebrain_L/BasalForebrain_L/Cl_L",
          "ICV/Diencephalon_R/BasalForebrain_R/BasalForebrain_R/BasalForebrain_R/Cl_R",
          "ICV/Telencephalon_L/WhiteMatter_L/PosteriorWM_L/PeripheralOccipitalWM_L/CuWM_L",
          "ICV/Telencephalon_R/WhiteMatter_R/PosteriorWM_R/PeripheralOccipitalWM_R/CuWM_R",
          "ICV/Telencephalon_L/CerebralCortex_L/Occipital_L/Cu_L/Cu_L",
          "ICV/Telencephalon_R/CerebralCortex_R/Occipital_R/Cu_R/Cu_R",
          "ICV/Telencephalon_L/WhiteMatter_L/InferiorWM_L/inf_DPWM_L/ECCL_L",
          "ICV/Telencephalon_R/WhiteMatter_R/InferiorWM_R/inf_DPWM_R/ECCL_R",
          "ICV/Telencephalon_L/WhiteMatter_L/InferiorWM_L/inf_DPWM_L/EC_L",
          "ICV/Telencephalon_R/WhiteMatter_R/InferiorWM_R/inf_DPWM_R/EC_R",
          "ICV/Telencephalon_L/CerebralCortex_L/Limbic_L/Limbic_L/ENT_L",
          "ICV/Telencephalon_R/CerebralCortex_R/Limbic_R/Limbic_R/ENT_R",
          "ICV/Telencephalon_L/CerebralCortex_L/Limbic_L/Hippo_L/Fimbria_L",
          "ICV/Telencephalon_R/CerebralCortex_R/Limbic_R/Hippo_R/Fimbria_R",
          "ICV/CSF/Sulcus_L/FrontSul_L/FrontSul_L/FrontSul_L",
          "ICV/CSF/Sulcus_R/FrontSul_R/FrontSul_R/FrontSul_R",
          "ICV/Telencephalon_L/CerebralCortex_L/Temporal_L/FuG_L/FuG_L",
          "ICV/Telencephalon_R/CerebralCortex_R/Temporal_R/FuG_R/FuG_R",
          "ICV/Telencephalon_L/WhiteMatter_L/InferiorWM_L/PeripheralTemporalWM_L/FuWM_L",
          "ICV/Telencephalon_R/WhiteMatter_R/InferiorWM_R/PeripheralTemporalWM_R/FuWM_R",
          "ICV/Telencephalon_L/WhiteMatter_L/LimbicWM_L/Fx/ST_L/Fx/ST_L",
          "ICV/Telencephalon_R/WhiteMatter_R/LimbicWM_R/Fx/ST_R/Fx/ST_R",
          "ICV/Telencephalon_L/WhiteMatter_L/LimbicWM_L/Fx_L/Fx_L",
          "ICV/Telencephalon_R/WhiteMatter_R/LimbicWM_R/Fx_R/Fx_R",
          "ICV/Telencephalon_L/WhiteMatter_L/CorpusCallosum_L/GCC_L/GCC_L",
          "ICV/Telencephalon_R/WhiteMatter_R/CorpusCallosum_R/GCC_R/GCC_R",
          "ICV/Telencephalon_L/CerebralNucli_L/BasalGang_L/GP_L/GP_L",
          "ICV/Telencephalon_R/CerebralNucli_R/BasalGang_R/GP_R/GP_R",
          "ICV/Telencephalon_L/CerebralCortex_L/Limbic_L/Hippo_L/Hippo_L",
          "ICV/Telencephalon_R/CerebralCortex_R/Limbic_R/Hippo_R/Hippo_R",
          "ICV/Diencephalon_L/BasalForebrain_L/BasalForebrain_L/BasalForebrain_L/HypoThalamus_L",
          "ICV/Diencephalon_R/BasalForebrain_R/BasalForebrain_R/BasalForebrain_R/HypoThalamus_R",
          "ICV/Myelencephalon/Myelencephalon_L/Medulla_L/Medulla_L/ICP_L",
          "ICV/Myelencephalon/Myelencephalon_R/Medulla_R/Medulla_R/ICP_R",
          "ICV/Metencephalon/Metencephalon_L/Cerebellum_L/CerebellumWM_L/ICP_cb_L",
          "ICV/Metencephalon/Metencephalon_R/Cerebellum_R/CerebellumWM_R/ICP_cb_R",
          "ICV/Telencephalon_L/CerebralCortex_L/Frontal_L/IFG_L/IFG_opercularis_L",
          "ICV/Telencephalon_R/CerebralCortex_R/Frontal_R/IFG_R/IFG_opercularis_R",
          "ICV/Telencephalon_L/CerebralCortex_L/Frontal_L/IFG_L/IFG_orbitalis_L",
          "ICV/Telencephalon_R/CerebralCortex_R/Frontal_R/IFG_R/IFG_orbitalis_R",
          "ICV/Telencephalon_L/CerebralCortex_L/Frontal_L/IFG_L/IFG_triangularis_L",
          "ICV/Telencephalon_R/CerebralCortex_R/Frontal_R/IFG_R/IFG_triangularis_R",
          "ICV/Telencephalon_L/WhiteMatter_L/InferiorWM_L/inf_DPWM_L/IFO_L",
          "ICV/Telencephalon_R/WhiteMatter_R/InferiorWM_R/inf_DPWM_R/IFO_R",
          "ICV/Telencephalon_L/WhiteMatter_L/AnteriorWM_L/PeripheralFrontalWM_L/IFWM_opercularis_L",
          "ICV/Telencephalon_R/WhiteMatter_R/AnteriorWM_R/PeripheralFrontalWM_R/IFWM_opercularis_R",
          "ICV/Telencephalon_L/WhiteMatter_L/AnteriorWM_L/PeripheralFrontalWM_L/IFWM_orbitalis_L",
          "ICV/Telencephalon_R/WhiteMatter_R/AnteriorWM_R/PeripheralFrontalWM_R/IFWM_orbitalis_R",
          "ICV/Telencephalon_L/WhiteMatter_L/AnteriorWM_L/PeripheralFrontalWM_L/IFWM_triangularis_L",
          "ICV/Telencephalon_R/WhiteMatter_R/AnteriorWM_R/PeripheralFrontalWM_R/IFWM_triangularis_R",
          "ICV/CSF/Ventricle/III_ventricle/III_ventricle/III_ventricle",
          "ICV/Telencephalon_L/CerebralCortex_L/Occipital_L/IOG_L/IOG_L",
          "ICV/Telencephalon_R/CerebralCortex_R/Occipital_R/IOG_R/IOG_R",
          "ICV/Telencephalon_L/WhiteMatter_L/PosteriorWM_L/PeripheralOccipitalWM_L/IOWM_L",
          "ICV/Telencephalon_R/WhiteMatter_R/PosteriorWM_R/PeripheralOccipitalWM_R/IOWM_R",
          "ICV/Telencephalon_L/CerebralCortex_L/Temporal_L/ITG_L/ITG_L",
          "ICV/Telencephalon_R/CerebralCortex_R/Temporal_R/ITG_R/ITG_R",
          "ICV/Telencephalon_L/WhiteMatter_L/InferiorWM_L/PeripheralTemporalWM_L/ITWM_L",
          "ICV/Telencephalon_R/WhiteMatter_R/InferiorWM_R/PeripheralTemporalWM_R/ITWM_R",
          "ICV/CSF/Ventricle/IV_ventricle/IV_ventricle/IV_ventricle",
          "ICV/Telencephalon_L/CerebralCortex_L/Insula_L/Insula_L/Insula_L",
          "ICV/Telencephalon_R/CerebralCortex_R/Insula_R/Insula_R/Insula_R",
          "ICV/Telencephalon_L/CerebralCortex_L/Frontal_L/OG_L/LFOG_L",
          "ICV/Telencephalon_R/CerebralCortex_R/Frontal_R/OG_R/LFOG_R",
          "ICV/Telencephalon_L/WhiteMatter_L/AnteriorWM_L/PeripheralFrontalWM_L/LFOWM_L",
          "ICV/Telencephalon_R/WhiteMatter_R/AnteriorWM_R/PeripheralFrontalWM_R/LFOWM_R",
          "ICV/Telencephalon_L/WhiteMatter_L/PosteriorWM_L/PeripheralOccipitalWM_L/LGWM_L",
          "ICV/Telencephalon_R/WhiteMatter_R/PosteriorWM_R/PeripheralOccipitalWM_R/LGWM_R",
          "ICV/Telencephalon_L/CerebralCortex_L/Occipital_L/LG_L/LG_L",
          "ICV/Telencephalon_R/CerebralCortex_R/Occipital_R/LG_R/LG_R",
          "ICV/CSF/Ventricle/LateralVentricle_L/AnteriorLateralVentricle_L/LV_Frontal_L",
          "ICV/CSF/Ventricle/LateralVentricle_R/AnteriorLateralVentricle_R/LV_Frontal_R",
          "ICV/CSF/Ventricle/LateralVentricle_L/InferiorLateralVentricle_L/LV_Inferior_L",
          "ICV/CSF/Ventricle/LateralVentricle_R/InferiorLateralVentricle_R/LV_Inferior_R",
          "ICV/CSF/Ventricle/LateralVentricle_L/PosteriorLateralVentricle_L/LV_Occipital_L",
          "ICV/CSF/Ventricle/LateralVentricle_R/PosteriorLateralVentricle_R/LV_Occipital_R",
          "ICV/CSF/Ventricle/LateralVentricle_L/PosteriorLateralVentricle_L/LV_atrium_L",
          "ICV/CSF/Ventricle/LateralVentricle_R/PosteriorLateralVentricle_R/LV_atrium_R",
          "ICV/CSF/Ventricle/LateralVentricle_L/AnteriorLateralVentricle_L/LV_body_L",
          "ICV/CSF/Ventricle/LateralVentricle_R/AnteriorLateralVentricle_R/LV_body_R",
          "ICV/Metencephalon/Metencephalon_L/Pons_L/Pons_L/MCP_L",
          "ICV/Metencephalon/Metencephalon_R/Pons_R/Pons_R/MCP_R",
          "ICV/Metencephalon/Metencephalon_L/Cerebellum_L/CerebellumWM_L/MCP_cb_L",
          "ICV/Metencephalon/Metencephalon_R/Cerebellum_R/CerebellumWM_R/MCP_cb_R",
          "ICV/Telencephalon_L/CerebralCortex_L/Frontal_L/MFG_L/MFG_DPFC_L",
          "ICV/Telencephalon_R/CerebralCortex_R/Frontal_R/MFG_R/MFG_DPFC_R",
          "ICV/Telencephalon_L/CerebralCortex_L/Frontal_L/MFG_L/MFG_L",
          "ICV/Telencephalon_R/CerebralCortex_R/Frontal_R/MFG_R/MFG_R",
          "ICV/Telencephalon_L/CerebralCortex_L/Frontal_L/OG_L/MFOG_L",
          "ICV/Telencephalon_R/CerebralCortex_R/Frontal_R/OG_R/MFOG_R",
          "ICV/Telencephalon_L/WhiteMatter_L/AnteriorWM_L/PeripheralFrontalWM_L/MFOWM_L",
          "ICV/Telencephalon_R/WhiteMatter_R/AnteriorWM_R/PeripheralFrontalWM_R/MFOWM_R",
          "ICV/Telencephalon_L/WhiteMatter_L/AnteriorWM_L/PeripheralFrontalWM_L/MFWM_DPFC_L",
          "ICV/Telencephalon_R/WhiteMatter_R/AnteriorWM_R/PeripheralFrontalWM_R/MFWM_DPFC_R",
          "ICV/Telencephalon_L/WhiteMatter_L/AnteriorWM_L/PeripheralFrontalWM_L/MFWM_L",
          "ICV/Telencephalon_R/WhiteMatter_R/AnteriorWM_R/PeripheralFrontalWM_R/MFWM_R",
          "ICV/Metencephalon/Metencephalon_L/Pons_L/Pons_L/ML_L",
          "ICV/Metencephalon/Metencephalon_R/Pons_R/Pons_R/ML_R",
          "ICV/Telencephalon_L/CerebralCortex_L/Occipital_L/MOG_L/MOG_L",
          "ICV/Telencephalon_R/CerebralCortex_R/Occipital_R/MOG_R/MOG_R",
          "ICV/Telencephalon_L/WhiteMatter_L/PosteriorWM_L/PeripheralOccipitalWM_L/MOWM_L",
          "ICV/Telencephalon_R/WhiteMatter_R/PosteriorWM_R/PeripheralOccipitalWM_R/MOWM_R",
          "ICV/Telencephalon_L/CerebralCortex_L/Temporal_L/MTG_L/MTG_L",
          "ICV/Telencephalon_L/CerebralCortex_L/Temporal_L/MTG_L/MTG_L_pole",
          "ICV/Telencephalon_R/CerebralCortex_R/Temporal_R/MTG_R/MTG_R",
          "ICV/Telencephalon_R/CerebralCortex_R/Temporal_R/MTG_R/MTG_R_pole",
          "ICV/Telencephalon_L/WhiteMatter_L/InferiorWM_L/PeripheralTemporalWM_L/MTWM_L",
          "ICV/Telencephalon_L/WhiteMatter_L/InferiorWM_L/PeripheralTemporalWM_L/MTWM_L_pole",
          "ICV/Telencephalon_R/WhiteMatter_R/InferiorWM_R/PeripheralTemporalWM_R/MTWM_R",
          "ICV/Telencephalon_R/WhiteMatter_R/InferiorWM_R/PeripheralTemporalWM_R/MTWM_R_pole",
          "ICV/Diencephalon_L/BasalForebrain_L/BasalForebrain_L/BasalForebrain_L/Mammillary_L",
          "ICV/Diencephalon_R/BasalForebrain_R/BasalForebrain_R/BasalForebrain_R/Mammillary_R",
          "ICV/Myelencephalon/Myelencephalon_L/Medulla_L/Medulla_L/Medulla_L",
          "ICV/Myelencephalon/Myelencephalon_R/Medulla_R/Medulla_R/Medulla_R",
          "ICV/Mesencephalon/Mesencephalon_L/midbrain_L/midbrain_L/Midbrain_L",
          "ICV/Mesencephalon/Mesencephalon_R/midbrain_R/midbrain_R/Midbrain_R",
          "ICV/Telencephalon_L/CerebralNucli_L/BasalGang_L/BasalForebrain_L/NucAccumbens_L",
          "ICV/Telencephalon_R/CerebralNucli_R/BasalGang_R/BasalForebrain_R/NucAccumbens_R",
          "ICV/CSF/Sulcus_L/OcciptSul_L/OcciptSul_L/OcciptSul_L",
          "ICV/CSF/Sulcus_R/OcciptSul_R/OcciptSul_R/OcciptSul_R",
          "ICV/Telencephalon_L/WhiteMatter_L/LimbicWM_L/PeripheralCingulateWM_L/PCCWM_L",
          "ICV/Telencephalon_R/WhiteMatter_R/LimbicWM_R/PeripheralCingulateWM_R/PCCWM_R",
          "ICV/Telencephalon_L/CerebralCortex_L/Limbic_L/Cingulate_L/PCC_L",
          "ICV/Telencephalon_R/CerebralCortex_R/Limbic_R/Cingulate_R/PCC_R",
          "ICV/Telencephalon_L/WhiteMatter_L/PosteriorWM_L/post_DPWM_L/PCR_L",
          "ICV/Telencephalon_R/WhiteMatter_R/PosteriorWM_R/post_DPWM_R/PCR_R",
          "ICV/Metencephalon/Metencephalon_L/Pons_L/Pons_L/PCT_L",
          "ICV/Metencephalon/Metencephalon_R/Pons_R/Pons_R/PCT_R",
          "ICV/Telencephalon_L/CerebralCortex_L/Limbic_L/Limbic_L/PHG_L",
          "ICV/Telencephalon_R/CerebralCortex_R/Limbic_R/Limbic_R/PHG_R",
          "ICV/Telencephalon_L/WhiteMatter_L/InferiorWM_L/PLIC_L/PLIC_L",
          "ICV/Telencephalon_R/WhiteMatter_R/InferiorWM_R/PLIC_R/PLIC_R",
          "ICV/Telencephalon_L/WhiteMatter_L/InferiorWM_L/inf_DPWM_L/PTR_L",
          "ICV/Telencephalon_R/WhiteMatter_R/InferiorWM_R/inf_DPWM_R/PTR_R",
          "ICV/Telencephalon_L/WhiteMatter_L/AnteriorWM_L/PVA_anterior_L/PVWa_L",
          "ICV/Telencephalon_R/WhiteMatter_R/AnteriorWM_R/PVA_anterior_R/PVWa_R",
          "ICV/Telencephalon_L/WhiteMatter_L/InferiorWM_L/PVA_posterior_L/PVWl_L",
          "ICV/Telencephalon_R/WhiteMatter_R/InferiorWM_R/PVA_posterior_R/PVWl_R",
          "ICV/Telencephalon_L/WhiteMatter_L/PosteriorWM_L/PVA_posterior_L/PVWp_L",
          "ICV/Telencephalon_R/WhiteMatter_R/PosteriorWM_R/PVA_posterior_R/PVWp_R",
          "ICV/CSF/Sulcus_L/ParietSul_L/ParietSul_L/ParietSul_L",
          "ICV/CSF/Sulcus_R/ParietSul_R/ParietSul_R/ParietSul_R",
          "ICV/Telencephalon_L/CerebralCortex_L/Parietal_L/PoCG_L/PoCG_L",
          "ICV/Telencephalon_R/CerebralCortex_R/Parietal_R/PoCG_R/PoCG_R",
          "ICV/Telencephalon_L/WhiteMatter_L/PosteriorWM_L/PeripheralParietalWM_L/PoCWM_L",
          "ICV/Telencephalon_R/WhiteMatter_R/PosteriorWM_R/PeripheralParietalWM_R/PoCWM_R",
          "ICV/Metencephalon/Metencephalon_L/Pons_L/Pons_L/Pons_L",
          "ICV/Metencephalon/Metencephalon_R/Pons_R/Pons_R/Pons_R",
          "ICV/Telencephalon_L/CerebralCortex_L/Frontal_L/PrCG_L/PrCG_L",
          "ICV/Telencephalon_R/CerebralCortex_R/Frontal_R/PrCG_R/PrCG_R",
          "ICV/Telencephalon_L/WhiteMatter_L/AnteriorWM_L/PeripheralFrontalWM_L/PrCWM_L",
          "ICV/Telencephalon_R/WhiteMatter_R/AnteriorWM_R/PeripheralFrontalWM_R/PrCWM_R",
          "ICV/Telencephalon_L/WhiteMatter_L/PosteriorWM_L/PeripheralParietalWM_L/PrCuWM_L",
          "ICV/Telencephalon_R/WhiteMatter_R/PosteriorWM_R/PeripheralParietalWM_R/PrCuWM_R",
          "ICV/Telencephalon_L/CerebralCortex_L/Parietal_L/PrCu_L/PrCu_L",
          "ICV/Telencephalon_R/CerebralCortex_R/Parietal_R/PrCu_R/PrCu_R",
          "ICV/Telencephalon_L/CerebralNucli_L/BasalGang_L/Put_L/Put_L",
          "ICV/Telencephalon_R/CerebralNucli_R/BasalGang_R/Put_R/Put_R",
          "ICV/Telencephalon_L/WhiteMatter_L/AnteriorWM_L/PeripheralFrontalWM_L/RGWM_L",
          "ICV/Telencephalon_R/WhiteMatter_R/AnteriorWM_R/PeripheralFrontalWM_R/RGWM_R",
          "ICV/Telencephalon_L/CerebralCortex_L/Frontal_L/RG_L/RG_L",
          "ICV/Telencephalon_R/CerebralCortex_R/Frontal_R/RG_R/RG_R",
          "ICV/Telencephalon_L/WhiteMatter_L/InferiorWM_L/inf_DPWM_L/RLIC_L",
          "ICV/Telencephalon_R/WhiteMatter_R/InferiorWM_R/inf_DPWM_R/RLIC_R",
          "ICV/Mesencephalon/Mesencephalon_L/midbrain_L/midbrain_L/RedNc_L",
          "ICV/Mesencephalon/Mesencephalon_R/midbrain_R/midbrain_R/RedNc_R",
          "ICV/Telencephalon_L/WhiteMatter_L/CorpusCallosum_L/SCC_L/SCC_L",
          "ICV/Telencephalon_R/WhiteMatter_R/CorpusCallosum_R/SCC_R/SCC_R",
          "ICV/Metencephalon/Metencephalon_L/Pons_L/Pons_L/SCP_L",
          "ICV/Metencephalon/Metencephalon_R/Pons_R/Pons_R/SCP_R",
          "ICV/Telencephalon_L/WhiteMatter_L/AnteriorWM_L/ant_DPWM_L/SCR_L",
          "ICV/Telencephalon_R/WhiteMatter_R/AnteriorWM_R/ant_DPWM_R/SCR_R",
          "ICV/Telencephalon_L/CerebralCortex_L/Frontal_L/SFG_L/SFG_L",
          "ICV/Telencephalon_L/CerebralCortex_L/Frontal_L/SFG_L/SFG_PFC_L",
          "ICV/Telencephalon_R/CerebralCortex_R/Frontal_R/SFG_R/SFG_PFC_R",
          "ICV/Telencephalon_R/CerebralCortex_R/Frontal_R/SFG_R/SFG_R",
          "ICV/Telencephalon_L/CerebralCortex_L/Frontal_L/SFG_L/SFG_pole_L",
          "ICV/Telencephalon_R/CerebralCortex_R/Frontal_R/SFG_R/SFG_pole_R",
          "ICV/Telencephalon_L/WhiteMatter_L/AnteriorWM_L/ant_DPWM_L/SFO_L",
          "ICV/Telencephalon_R/WhiteMatter_R/AnteriorWM_R/ant_DPWM_R/SFO_R",
          "ICV/Telencephalon_L/WhiteMatter_L/AnteriorWM_L/PeripheralFrontalWM_L/SFWM_L",
          "ICV/Telencephalon_L/WhiteMatter_L/AnteriorWM_L/PeripheralFrontalWM_L/SFWM_PFC_L",
          "ICV/Telencephalon_R/WhiteMatter_R/AnteriorWM_R/PeripheralFrontalWM_R/SFWM_PFC_R",
          "ICV/Telencephalon_R/WhiteMatter_R/AnteriorWM_R/PeripheralFrontalWM_R/SFWM_R",
          "ICV/Telencephalon_L/WhiteMatter_L/AnteriorWM_L/PeripheralFrontalWM_L/SFWM_pole_L",
          "ICV/Telencephalon_R/WhiteMatter_R/AnteriorWM_R/PeripheralFrontalWM_R/SFWM_pole_R",
          "ICV/Telencephalon_L/WhiteMatter_L/PosteriorWM_L/PeripheralParietalWM_L/SLF_L",
          "ICV/Telencephalon_R/WhiteMatter_R/PosteriorWM_R/PeripheralParietalWM_R/SLF_R",
          "ICV/Telencephalon_L/CerebralCortex_L/Parietal_L/SMG_L/SMG_L",
          "ICV/Telencephalon_R/CerebralCortex_R/Parietal_R/SMG_R/SMG_R",
          "ICV/Telencephalon_L/WhiteMatter_L/PosteriorWM_L/PeripheralParietalWM_L/SMWM_L",
          "ICV/Telencephalon_R/WhiteMatter_R/PosteriorWM_R/PeripheralParietalWM_R/SMWM_R",
          "ICV/Telencephalon_L/CerebralCortex_L/Occipital_L/SOG_L/SOG_L",
          "ICV/Telencephalon_R/CerebralCortex_R/Occipital_R/SOG_R/SOG_R",
          "ICV/Telencephalon_L/WhiteMatter_L/PosteriorWM_L/PeripheralOccipitalWM_L/SOWM_L",
          "ICV/Telencephalon_R/WhiteMatter_R/PosteriorWM_R/PeripheralOccipitalWM_R/SOWM_R",
          "ICV/Telencephalon_L/CerebralCortex_L/Parietal_L/SPG_L/SPG_L",
          "ICV/Telencephalon_R/CerebralCortex_R/Parietal_R/SPG_R/SPG_R",
          "ICV/Telencephalon_L/WhiteMatter_L/PosteriorWM_L/PeripheralParietalWM_L/SPWM_L",
          "ICV/Telencephalon_R/WhiteMatter_R/PosteriorWM_R/PeripheralParietalWM_R/SPWM_R",
          "ICV/Telencephalon_L/WhiteMatter_L/InferiorWM_L/inf_DPWM_L/SS_L",
          "ICV/Telencephalon_R/WhiteMatter_R/InferiorWM_R/inf_DPWM_R/SS_R",
          "ICV/Telencephalon_L/CerebralCortex_L/Temporal_L/STG_L/STG_L",
          "ICV/Telencephalon_L/CerebralCortex_L/Temporal_L/STG_L/STG_L_pole",
          "ICV/Telencephalon_R/CerebralCortex_R/Temporal_R/STG_R/STG_R",
          "ICV/Telencephalon_R/CerebralCortex_R/Temporal_R/STG_R/STG_R_pole",
          "ICV/Telencephalon_L/WhiteMatter_L/InferiorWM_L/PeripheralTemporalWM_L/STWM_L",
          "ICV/Telencephalon_L/WhiteMatter_L/InferiorWM_L/PeripheralTemporalWM_L/STWM_L_pole",
          "ICV/Telencephalon_R/WhiteMatter_R/InferiorWM_R/PeripheralTemporalWM_R/STWM_R",
          "ICV/Telencephalon_R/WhiteMatter_R/InferiorWM_R/PeripheralTemporalWM_R/STWM_R_pole",
          "ICV/Mesencephalon/Mesencephalon_L/midbrain_L/midbrain_L/Snigra_L",
          "ICV/Mesencephalon/Mesencephalon_R/midbrain_R/midbrain_R/Snigra_R",
          "ICV/CSF/Sulcus_L/SylvianFissureExt_L/SylFrontSul_L/SylFrontSul_L",
          "ICV/CSF/Sulcus_R/SylvianFissureExt_R/SylFrontSul_R/SylFrontSul_R",
          "ICV/CSF/Sulcus_L/SylvianFissureExt_L/SylParieSul_L/SylParieSul_L",
          "ICV/CSF/Sulcus_R/SylvianFissureExt_R/SylParieSul_R/SylParieSul_R",
          "ICV/CSF/Sulcus_L/SylvianFissureExt_L/SylTempSul_L/SylTempSul_L",
          "ICV/CSF/Sulcus_R/SylvianFissureExt_R/SylTempSul_R/SylTempSul_R",
          "ICV/CSF/Sulcus_L/TempSul_L/TempSul_L/TempSul_L",
          "ICV/CSF/Sulcus_R/TempSul_R/TempSul_R/TempSul_R",
          "ICV/Diencephalon_L/Thalamus_L/Thalamus_L/Thalamus_L/Thalamus_L",
          "ICV/Diencephalon_R/Thalamus_R/Thalamus_R/Thalamus_R/Thalamus_R",
          "ICV/Telencephalon_L/WhiteMatter_L/LimbicWM_L/PeripheralCingulateWM_L/dorsalWM_ACC_L",
          "ICV/Telencephalon_R/WhiteMatter_R/LimbicWM_R/PeripheralCingulateWM_R/dorsalWM_ACC_R",
          "ICV/Telencephalon_L/CerebralCortex_L/Limbic_L/Cingulate_L/dorsal_ACC_L",
          "ICV/Telencephalon_R/CerebralCortex_R/Limbic_R/Cingulate_R/dorsal_ACC_R",
          "ICV/Telencephalon_L/WhiteMatter_L/LimbicWM_L/PeripheralCingulateWM_L/rostralWM_ACC_L",
          "ICV/Telencephalon_R/WhiteMatter_R/LimbicWM_R/PeripheralCingulateWM_R/rostralWM_ACC_R",
          "ICV/Telencephalon_L/CerebralCortex_L/Limbic_L/Cingulate_L/rostral_ACC_L",
          "ICV/Telencephalon_R/CerebralCortex_R/Limbic_R/Cingulate_R/rostral_ACC_R",
          "ICV/Telencephalon_L/WhiteMatter_L/LimbicWM_L/PeripheralCingulateWM_L/subcallosalWM_ACC_L",
          "ICV/Telencephalon_R/WhiteMatter_R/LimbicWM_R/PeripheralCingulateWM_R/subcallosalWM_ACC_R",
          "ICV/Telencephalon_L/CerebralCortex_L/Limbic_L/Cingulate_L/subcallosal_ACC_L",
          "ICV/Telencephalon_R/CerebralCortex_R/Limbic_R/Cingulate_R/subcallosal_ACC_R",
          "ICV/Telencephalon_L/WhiteMatter_L/LimbicWM_L/PeripheralCingulateWM_L/subgenualWM_ACC_L",
          "ICV/Telencephalon_R/WhiteMatter_R/LimbicWM_R/PeripheralCingulateWM_R/subgenualWM_ACC_R",
          "ICV/Telencephalon_L/CerebralCortex_L/Limbic_L/Cingulate_L/subgenual_ACC_L",
          "ICV/Telencephalon_R/CerebralCortex_R/Limbic_R/Cingulate_R/subgenual_ACC_R",
          "ICV/Telencephalon_L/CerebralCortex_L/Parietal_L/AG_L",
          "ICV/Telencephalon_R/CerebralCortex_R/Parietal_R/AG_R",
          "ICV/Telencephalon_L/WhiteMatter_L/InferiorWM_L/ALIC_L",
          "ICV/Telencephalon_R/WhiteMatter_R/InferiorWM_R/ALIC_R",
          "ICV/Telencephalon_L/CerebralNucli_L/Limbic_L/Amyg_L",
          "ICV/Telencephalon_R/CerebralNucli_R/Limbic_R/Amyg_R",
          "ICV/CSF/Ventricle/LateralVentricle_L/AnteriorLateralVentricle_L",
          "ICV/CSF/Ventricle /LateralVentricle_L/AnteriorLateralVentricle_L",
          "ICV/CSF/Ventricle/LateralVentricle_R/AnteriorLateralVentricle_R",
          "ICV/CSF/Ventricle /LateralVentricle_R/AnteriorLateralVentricle_R",
          "ICV/Telencephalon_L/WhiteMatter_L/CorpusCallosum_L/BCC_L",
          "ICV/Telencephalon_R/WhiteMatter_R/CorpusCallosum_R/BCC_R",
          "ICV/Diencephalon_L/BasalForebrain_L/BasalForebrain_L/BasalForebrain_L",
          "ICV/Telencephalon_L/CerebralNucli_L/BasalGang_L/BasalForebrain_L",
          "ICV/Diencephalon_R/BasalForebrain_R/BasalForebrain_R/BasalForebrain_R",
          "ICV/Telencephalon_R/CerebralNucli_R/BasalGang_R/BasalForebrain_R",
          "ICV/Telencephalon_L/WhiteMatter_L/LimbicWM_L/CGC_L",
          "ICV/Telencephalon_R/WhiteMatter_R/LimbicWM_R/CGC_R",
          "ICV/Telencephalon_L/WhiteMatter_L/LimbicWM_L/CGH_L",
          "ICV/Telencephalon_R/WhiteMatter_R/LimbicWM_R/CGH_R",
          "ICV/Telencephalon_L/CerebralNucli_L/BasalGang_L/Caud_L",
          "ICV/Telencephalon_R/CerebralNucli_R/BasalGang_R/Caud_R",
          "ICV/Telencephalon_L/CerebralNucli_L/BasalGang_L/Caudate_tail_L",
          "ICV/Telencephalon_R/CerebralNucli_R/BasalGang_R/Caudate_tail_R",
          "ICV/CSF/Sulcus_L/CentralSul_L/CentralSul_L",
          "ICV/CSF/Sulcus_R/CentralSul_R/CentralSul_R",
          "ICV/Metencephalon/Metencephalon_L/Cerebellum_L/CerebellumWM_L",
          "ICV/Metencephalon/Metencephalon_R/Cerebellum_R/CerebellumWM_R",
          "ICV/Metencephalon/Metencephalon_L/Cerebellum_L/Cerebellum_L",
          "ICV/Metencephalon/Metencephalon_R/Cerebellum_R/Cerebellum_R",
          "ICV/CSF/Sulcus_L/CinguSul_L/CinguSul_L",
          "ICV/CSF/Sulcus_R/CinguSul_R/CinguSul_R",
          "ICV/Telencephalon_L/CerebralCortex_L/Limbic_L/Cingulate_L",
          "ICV/Telencephalon_R/CerebralCortex_R/Limbic_R/Cingulate_R",
          "ICV/Telencephalon_L/CerebralCortex_L/Occipital_L/Cu_L",
          "ICV/Telencephalon_R/CerebralCortex_R/Occipital_R/Cu_R",
          "ICV/CSF/Sulcus_L/FrontSul_L/FrontSul_L",
          "ICV/CSF/Sulcus_R/FrontSul_R/FrontSul_R",
          "ICV/Telencephalon_L/CerebralCortex_L/Temporal_L/FuG_L",
          "ICV/Telencephalon_R/CerebralCortex_R/Temporal_R/FuG_R",
          "ICV/Telencephalon_L/WhiteMatter_L/LimbicWM_L/Fx/ST_L",
          "ICV/Telencephalon_R/WhiteMatter_R/LimbicWM_R/Fx/ST_R",
          "ICV/Telencephalon_L/WhiteMatter_L/LimbicWM_L/Fx_L",
          "ICV/Telencephalon_R/WhiteMatter_R/LimbicWM_R/Fx_R",
          "ICV/Telencephalon_L/WhiteMatter_L/CorpusCallosum_L/GCC_L",
          "ICV/Telencephalon_R/WhiteMatter_R/CorpusCallosum_R/GCC_R",
          "ICV/Telencephalon_L/CerebralNucli_L/BasalGang_L/GP_L",
          "ICV/Telencephalon_R/CerebralNucli_R/BasalGang_R/GP_R",
          "ICV/Telencephalon_L/CerebralCortex_L/Limbic_L/Hippo_L",
          "ICV/Telencephalon_R/CerebralCortex_R/Limbic_R/Hippo_R",
          "ICV/Telencephalon_L/CerebralCortex_L/Frontal_L/IFG_L",
          "ICV/Telencephalon_R/CerebralCortex_R/Frontal_R/IFG_R",
          "ICV/CSF/Ventricle/III_ventricle/III_ventricle",
          "ICV/Telencephalon_L/CerebralCortex_L/Occipital_L/IOG_L",
          "ICV/Telencephalon_R/CerebralCortex_R/Occipital_R/IOG_R",
          "ICV/Telencephalon_L/CerebralCortex_L/Temporal_L/ITG_L",
          "ICV/Telencephalon_R/CerebralCortex_R/Temporal_R/ITG_R",
          "ICV/CSF/Ventricle/IV_ventricle/IV_ventricle",
          "ICV/CSF/Ventricle/LateralVentricle_L/InferiorLateralVentricle_L",
          "ICV/CSF/Ventricle/LateralVentricle_R/InferiorLateralVentricle_R",
          "ICV/Telencephalon_L/CerebralCortex_L/Insula_L/Insula_L",
          "ICV/Telencephalon_R/CerebralCortex_R/Insula_R/Insula_R",
          "ICV/Telencephalon_L/CerebralCortex_L/Occipital_L/LG_L",
          "ICV/Telencephalon_R/CerebralCortex_R/Occipital_R/LG_R",
          "ICV/Telencephalon_L/CerebralCortex_L/Limbic_L/Limbic_L",
          "ICV/Telencephalon_R/CerebralCortex_R/Limbic_R/Limbic_R",
          "ICV/Telencephalon_L/CerebralCortex_L/Frontal_L/MFG_L",
          "ICV/Telencephalon_R/CerebralCortex_R/Frontal_R/MFG_R",
          "ICV/Telencephalon_L/CerebralCortex_L/Occipital_L/MOG_L",
          "ICV/Telencephalon_R/CerebralCortex_R/Occipital_R/MOG_R",
          "ICV/Telencephalon_L/CerebralCortex_L/Temporal_L/MTG_L",
          "ICV/Telencephalon_R/CerebralCortex_R/Temporal_R/MTG_R",
          "ICV/Myelencephalon/Myelencephalon_L/Medulla_L/Medulla_L",
          "ICV/Myelencephalon/Myelencephalon_R/Medulla_R/Medulla_R",
          "ICV/Telencephalon_L/CerebralCortex_L/Frontal_L/OG_L",
          "ICV/Telencephalon_R/CerebralCortex_R/Frontal_R/OG_R",
          "ICV/CSF/Sulcus_L/OcciptSul_L/OcciptSul_L",
          "ICV/CSF/Sulcus_R/OcciptSul_R/OcciptSul_R",
          "ICV/Telencephalon_L/WhiteMatter_L/InferiorWM_L/PLIC_L",
          "ICV/Telencephalon_R/WhiteMatter_R/InferiorWM_R/PLIC_R",
          "ICV/Telencephalon_L/WhiteMatter_L/AnteriorWM_L/PVA_anterior_L",
          "ICV/Telencephalon_R/WhiteMatter_R/AnteriorWM_R/PVA_anterior_R",
          "ICV/Telencephalon_L/WhiteMatter_L/InferiorWM_L/PVA_posterior_L",
          "ICV/Telencephalon_L/WhiteMatter_L/PosteriorWM_L/PVA_posterior_L",
          "ICV/Telencephalon_R/WhiteMatter_R/InferiorWM_R/PVA_posterior_R",
          "ICV/Telencephalon_R/WhiteMatter_R/PosteriorWM_R/PVA_posterior_R",
          "ICV/CSF/Sulcus_L/ParietSul_L/ParietSul_L",
          "ICV/CSF/Sulcus_R/ParietSul_R/ParietSul_R",
          "ICV/Telencephalon_L/WhiteMatter_L/LimbicWM_L/PeripheralCingulateWM_L",
          "ICV/Telencephalon_R/WhiteMatter_R/LimbicWM_R/PeripheralCingulateWM_R",
          "ICV/Telencephalon_L/WhiteMatter_L/AnteriorWM_L/PeripheralFrontalWM_L",
          "ICV/Telencephalon_R/WhiteMatter_R/AnteriorWM_R/PeripheralFrontalWM_R",
          "ICV/Telencephalon_L/WhiteMatter_L/PosteriorWM_L/PeripheralOccipitalWM_L",
          "ICV/Telencephalon_R/WhiteMatter_R/PosteriorWM_R/PeripheralOccipitalWM_R",
          "ICV/Telencephalon_L/WhiteMatter_L/PosteriorWM_L/PeripheralParietalWM_L",
          "ICV/Telencephalon_R/WhiteMatter_R/PosteriorWM_R/PeripheralParietalWM_R",
          "ICV/Telencephalon_L/WhiteMatter_L/InferiorWM_L/PeripheralTemporalWM_L",
          "ICV/Telencephalon_R/WhiteMatter_R/InferiorWM_R/PeripheralTemporalWM_R",
          "ICV/Telencephalon_L/CerebralCortex_L/Parietal_L/PoCG_L",
          "ICV/Telencephalon_R/CerebralCortex_R/Parietal_R/PoCG_R",
          "ICV/Metencephalon/Metencephalon_L/Pons_L/Pons_L",
          "ICV/Metencephalon/Metencephalon_R/Pons_R/Pons_R",
          "ICV/CSF/Ventricle/LateralVentricle_L/PosteriorLateralVentricle_L",
          "ICV/CSF/Ventricle/LateralVentricle_R/PosteriorLateralVentricle_R",
          "ICV/Telencephalon_L/CerebralCortex_L/Frontal_L/PrCG_L",
          "ICV/Telencephalon_R/CerebralCortex_R/Frontal_R/PrCG_R",
          "ICV/Telencephalon_L/CerebralCortex_L/Parietal_L/PrCu_L",
          "ICV/Telencephalon_R/CerebralCortex_R/Parietal_R/PrCu_R",
          "ICV/Telencephalon_L/CerebralNucli_L/BasalGang_L/Put_L",
          "ICV/Telencephalon_R/CerebralNucli_R/BasalGang_R/Put_R",
          "ICV/Telencephalon_L/CerebralCortex_L/Frontal_L/RG_L",
          "ICV/Telencephalon_R/CerebralCortex_R/Frontal_R/RG_R",
          "ICV/Telencephalon_L/WhiteMatter_L/CorpusCallosum_L/SCC_L",
          "ICV/Telencephalon_R/WhiteMatter_R/CorpusCallosum_R/SCC_R",
          "ICV/Telencephalon_L/CerebralCortex_L/Frontal_L/SFG_L",
          "ICV/Telencephalon_R/CerebralCortex_R/Frontal_R/SFG_R",
          "ICV/Telencephalon_L/CerebralCortex_L/Parietal_L/SMG_L",
          "ICV/Telencephalon_R/CerebralCortex_R/Parietal_R/SMG_R",
          "ICV/Telencephalon_L/CerebralCortex_L/Occipital_L/SOG_L",
          "ICV/Telencephalon_R/CerebralCortex_R/Occipital_R/SOG_R",
          "ICV/Telencephalon_L/CerebralCortex_L/Parietal_L/SPG_L",
          "ICV/Telencephalon_R/CerebralCortex_R/Parietal_R/SPG_R",
          "ICV/Telencephalon_L/CerebralCortex_L/Temporal_L/STG_L",
          "ICV/Telencephalon_R/CerebralCortex_R/Temporal_R/STG_R",
          "ICV/CSF/Sulcus_L/SylvianFissureExt_L/SylFrontSul_L",
          "ICV/CSF/Sulcus_R/SylvianFissureExt_R/SylFrontSul_R",
          "ICV/CSF/Sulcus_L/SylvianFissureExt_L/SylParieSul_L",
          "ICV/CSF/Sulcus_R/SylvianFissureExt_R/SylParieSul_R",
          "ICV/CSF/Sulcus_L/SylvianFissureExt_L/SylTempSul_L",
          "ICV/CSF/Sulcus_R/SylvianFissureExt_R/SylTempSul_R",
          "ICV/CSF/Sulcus_L/TempSul_L/TempSul_L",
          "ICV/CSF/Sulcus_R/TempSul_R/TempSul_R",
          "ICV/Diencephalon_L/Thalamus_L/Thalamus_L/Thalamus_L",
          "ICV/Diencephalon_R/Thalamus_R/Thalamus_R/Thalamus_R",
          "ICV/Telencephalon_L/WhiteMatter_L/AnteriorWM_L/ant_DPWM_L",
          "ICV/Telencephalon_R/WhiteMatter_R/AnteriorWM_R/ant_DPWM_R",
          "ICV/Telencephalon_L/WhiteMatter_L/InferiorWM_L/inf_DPWM_L",
          "ICV/Telencephalon_R/WhiteMatter_R/InferiorWM_R/inf_DPWM_R",
          "ICV/Mesencephalon/Mesencephalon_L/midbrain_L/midbrain_L",
          "ICV/Mesencephalon/Mesencephalon_R/midbrain_R/midbrain_R",
          "ICV/Telencephalon_L/WhiteMatter_L/PosteriorWM_L/post_DPWM_L",
          "ICV/Telencephalon_R/WhiteMatter_R/PosteriorWM_R/post_DPWM_R",
          "ICV/Telencephalon_L/WhiteMatter_L/AnteriorWM_L",
          "ICV/Telencephalon_R/WhiteMatter_R/AnteriorWM_R",
          "ICV/Diencephalon_L/BasalForebrain_L/BasalForebrain_L",
          "ICV/Diencephalon_R/BasalForebrain_R/BasalForebrain_R",
          "ICV/Telencephalon_L/CerebralNucli_L/BasalGang_L",
          "ICV/Telencephalon_R/CerebralNucli_R/BasalGang_R",
          "ICV/CSF/Sulcus_L/CentralSul_L",
          "ICV/CSF/Sulcus_R/CentralSul_R",
          "ICV/Metencephalon/Metencephalon_L/Cerebellum_L",
          "ICV/Metencephalon/Metencephalon_R/Cerebellum_R",
          "ICV/CSF/Sulcus_L/CinguSul_L",
          "ICV/CSF/Sulcus_R/CinguSul_R",
          "ICV/Telencephalon_L/WhiteMatter_L/CorpusCallosum_L",
          "ICV/Telencephalon_R/WhiteMatter_R/CorpusCallosum_R",
          "ICV/CSF/Sulcus_L/FrontSul_L",
          "ICV/CSF/Sulcus_R/FrontSul_R",
          "ICV/Telencephalon_L/CerebralCortex_L/Frontal_L",
          "ICV/Telencephalon_R/CerebralCortex_R/Frontal_R",
          "ICV/CSF/Ventricle/III_ventricle",
          "ICV/CSF/Ventricle/IV_ventricle",
          "ICV/Telencephalon_L/WhiteMatter_L/InferiorWM_L",
          "ICV/Telencephalon_R/WhiteMatter_R/InferiorWM_R",
          "ICV/Telencephalon_L/CerebralCortex_L/Insula_L",
          "ICV/Telencephalon_R/CerebralCortex_R/Insula_R",
          "ICV/CSF/Ventricle/LateralVentricle_L",
          "ICV/CSF/Ventricle /LateralVentricle_L",
          "ICV/CSF/Ventricle/LateralVentricle_R",
          "ICV/CSF/Ventricle /LateralVentricle_R",
          "ICV/Telencephalon_L/WhiteMatter_L/LimbicWM_L",
          "ICV/Telencephalon_R/WhiteMatter_R/LimbicWM_R",
          "ICV/Telencephalon_L/CerebralCortex_L/Limbic_L",
          "ICV/Telencephalon_L/CerebralNucli_L/Limbic_L",
          "ICV/Telencephalon_R/CerebralCortex_R/Limbic_R",
          "ICV/Telencephalon_R/CerebralNucli_R/Limbic_R",
          "ICV/Myelencephalon/Myelencephalon_L/Medulla_L",
          "ICV/Myelencephalon/Myelencephalon_R/Medulla_R",
          "ICV/Telencephalon_L/CerebralCortex_L/Occipital_L",
          "ICV/Telencephalon_R/CerebralCortex_R/Occipital_R",
          "ICV/CSF/Sulcus_L/OcciptSul_L",
          "ICV/CSF/Sulcus_R/OcciptSul_R",
          "ICV/CSF/Sulcus_L/ParietSul_L",
          "ICV/CSF/Sulcus_R/ParietSul_R",
          "ICV/Telencephalon_L/CerebralCortex_L/Parietal_L",
          "ICV/Telencephalon_R/CerebralCortex_R/Parietal_R",
          "ICV/Metencephalon/Metencephalon_L/Pons_L",
          "ICV/Metencephalon/Metencephalon_R/Pons_R",
          "ICV/Telencephalon_L/WhiteMatter_L/PosteriorWM_L",
          "ICV/Telencephalon_R/WhiteMatter_R/PosteriorWM_R",
          "ICV/CSF/Sulcus_L/SylvianFissureExt_L",
          "ICV/CSF/Sulcus_R/SylvianFissureExt_R",
          "ICV/CSF/Sulcus_L/TempSul_L",
          "ICV/CSF/Sulcus_R/TempSul_R",
          "ICV/Telencephalon_L/CerebralCortex_L/Temporal_L",
          "ICV/Telencephalon_R/CerebralCortex_R/Temporal_R",
          "ICV/Diencephalon_L/Thalamus_L/Thalamus_L",
          "ICV/Diencephalon_R/Thalamus_R/Thalamus_R",
          "ICV/Mesencephalon/Mesencephalon_L/midbrain_L",
          "ICV/Mesencephalon/Mesencephalon_R/midbrain_R",
          "ICV/Diencephalon_L/BasalForebrain_L",
          "ICV/Diencephalon_R/BasalForebrain_R",
          "ICV/Telencephalon_L/CerebralCortex_L",
          "ICV/Telencephalon_R/CerebralCortex_R",
          "ICV/Telencephalon_L/CerebralNucli_L",
          "ICV/Telencephalon_R/CerebralNucli_R",
          "ICV/Mesencephalon/Mesencephalon_L",
          "ICV/Mesencephalon/Mesencephalon_R",
          "ICV/Metencephalon/Metencephalon_L",
          "ICV/Metencephalon/Metencephalon_R",
          "ICV/Myelencephalon/Myelencephalon_L",
          "ICV/Myelencephalon/Myelencephalon_R",
          "ICV/CSF/Sulcus_L",
          "ICV/CSF/Sulcus_R",
          "ICV/Diencephalon_L/Thalamus_L",
          "ICV/Diencephalon_R/Thalamus_R",
          "ICV/CSF/Ventricle",
          "ICV/CSF/Ventricle ",
          "ICV/Telencephalon_L/WhiteMatter_L",
          "ICV/Telencephalon_R/WhiteMatter_R",
          "ICV/CSF",
          "ICV/Diencephalon_L",
          "ICV/Diencephalon_R",
          "ICV/Mesencephalon",
          "ICV/Metencephalon",
          "ICV/Myelencephalon",
          "ICV/Telencephalon_L",
          "ICV/Telencephalon_R",
          "ICV"
         ],
         "labels": [
          "ACR_L",
          "ACR_R",
          "AGWM_L",
          "AGWM_R",
          "AG_L",
          "AG_R",
          "ALIC_L",
          "ALIC_R",
          "Amyg_L",
          "Amyg_R",
          "BCC_L",
          "BCC_R",
          "BasalForebrain_L",
          "BasalForebrain_R",
          "CGC_L",
          "CGC_R",
          "CGH_L",
          "CGH_R",
          "CP_L",
          "CP_R",
          "CST_L",
          "CST_R",
          "Caud_L",
          "Caud_R",
          "Caudate_tail_L",
          "Caudate_tail_R",
          "CentralSul_L",
          "CentralSul_R",
          "CerebellumGM_L",
          "CerebellumGM_R",
          "CerebellumWM_L",
          "CerebellumWM_R",
          "Chroid_LVetc_L",
          "Chroid_LVetc_R",
          "CinguSul_L",
          "CinguSul_R",
          "Cl_L",
          "Cl_R",
          "CuWM_L",
          "CuWM_R",
          "Cu_L",
          "Cu_R",
          "ECCL_L",
          "ECCL_R",
          "EC_L",
          "EC_R",
          "ENT_L",
          "ENT_R",
          "Fimbria_L",
          "Fimbria_R",
          "FrontSul_L",
          "FrontSul_R",
          "FuG_L",
          "FuG_R",
          "FuWM_L",
          "FuWM_R",
          "Fx/ST_L",
          "Fx/ST_R",
          "Fx_L",
          "Fx_R",
          "GCC_L",
          "GCC_R",
          "GP_L",
          "GP_R",
          "Hippo_L",
          "Hippo_R",
          "HypoThalamus_L",
          "HypoThalamus_R",
          "ICP_L",
          "ICP_R",
          "ICP_cb_L",
          "ICP_cb_R",
          "IFG_opercularis_L",
          "IFG_opercularis_R",
          "IFG_orbitalis_L",
          "IFG_orbitalis_R",
          "IFG_triangularis_L",
          "IFG_triangularis_R",
          "IFO_L",
          "IFO_R",
          "IFWM_opercularis_L",
          "IFWM_opercularis_R",
          "IFWM_orbitalis_L",
          "IFWM_orbitalis_R",
          "IFWM_triangularis_L",
          "IFWM_triangularis_R",
          "III_ventricle",
          "IOG_L",
          "IOG_R",
          "IOWM_L",
          "IOWM_R",
          "ITG_L",
          "ITG_R",
          "ITWM_L",
          "ITWM_R",
          "IV_ventricle",
          "Insula_L",
          "Insula_R",
          "LFOG_L",
          "LFOG_R",
          "LFOWM_L",
          "LFOWM_R",
          "LGWM_L",
          "LGWM_R",
          "LG_L",
          "LG_R",
          "LV_Frontal_L",
          "LV_Frontal_R",
          "LV_Inferior_L",
          "LV_Inferior_R",
          "LV_Occipital_L",
          "LV_Occipital_R",
          "LV_atrium_L",
          "LV_atrium_R",
          "LV_body_L",
          "LV_body_R",
          "MCP_L",
          "MCP_R",
          "MCP_cb_L",
          "MCP_cb_R",
          "MFG_DPFC_L",
          "MFG_DPFC_R",
          "MFG_L",
          "MFG_R",
          "MFOG_L",
          "MFOG_R",
          "MFOWM_L",
          "MFOWM_R",
          "MFWM_DPFC_L",
          "MFWM_DPFC_R",
          "MFWM_L",
          "MFWM_R",
          "ML_L",
          "ML_R",
          "MOG_L",
          "MOG_R",
          "MOWM_L",
          "MOWM_R",
          "MTG_L",
          "MTG_L_pole",
          "MTG_R",
          "MTG_R_pole",
          "MTWM_L",
          "MTWM_L_pole",
          "MTWM_R",
          "MTWM_R_pole",
          "Mammillary_L",
          "Mammillary_R",
          "Medulla_L",
          "Medulla_R",
          "Midbrain_L",
          "Midbrain_R",
          "NucAccumbens_L",
          "NucAccumbens_R",
          "OcciptSul_L",
          "OcciptSul_R",
          "PCCWM_L",
          "PCCWM_R",
          "PCC_L",
          "PCC_R",
          "PCR_L",
          "PCR_R",
          "PCT_L",
          "PCT_R",
          "PHG_L",
          "PHG_R",
          "PLIC_L",
          "PLIC_R",
          "PTR_L",
          "PTR_R",
          "PVWa_L",
          "PVWa_R",
          "PVWl_L",
          "PVWl_R",
          "PVWp_L",
          "PVWp_R",
          "ParietSul_L",
          "ParietSul_R",
          "PoCG_L",
          "PoCG_R",
          "PoCWM_L",
          "PoCWM_R",
          "Pons_L",
          "Pons_R",
          "PrCG_L",
          "PrCG_R",
          "PrCWM_L",
          "PrCWM_R",
          "PrCuWM_L",
          "PrCuWM_R",
          "PrCu_L",
          "PrCu_R",
          "Put_L",
          "Put_R",
          "RGWM_L",
          "RGWM_R",
          "RG_L",
          "RG_R",
          "RLIC_L",
          "RLIC_R",
          "RedNc_L",
          "RedNc_R",
          "SCC_L",
          "SCC_R",
          "SCP_L",
          "SCP_R",
          "SCR_L",
          "SCR_R",
          "SFG_L",
          "SFG_PFC_L",
          "SFG_PFC_R",
          "SFG_R",
          "SFG_pole_L",
          "SFG_pole_R",
          "SFO_L",
          "SFO_R",
          "SFWM_L",
          "SFWM_PFC_L",
          "SFWM_PFC_R",
          "SFWM_R",
          "SFWM_pole_L",
          "SFWM_pole_R",
          "SLF_L",
          "SLF_R",
          "SMG_L",
          "SMG_R",
          "SMWM_L",
          "SMWM_R",
          "SOG_L",
          "SOG_R",
          "SOWM_L",
          "SOWM_R",
          "SPG_L",
          "SPG_R",
          "SPWM_L",
          "SPWM_R",
          "SS_L",
          "SS_R",
          "STG_L",
          "STG_L_pole",
          "STG_R",
          "STG_R_pole",
          "STWM_L",
          "STWM_L_pole",
          "STWM_R",
          "STWM_R_pole",
          "Snigra_L",
          "Snigra_R",
          "SylFrontSul_L",
          "SylFrontSul_R",
          "SylParieSul_L",
          "SylParieSul_R",
          "SylTempSul_L",
          "SylTempSul_R",
          "TempSul_L",
          "TempSul_R",
          "Thalamus_L",
          "Thalamus_R",
          "dorsalWM_ACC_L",
          "dorsalWM_ACC_R",
          "dorsal_ACC_L",
          "dorsal_ACC_R",
          "rostralWM_ACC_L",
          "rostralWM_ACC_R",
          "rostral_ACC_L",
          "rostral_ACC_R",
          "subcallosalWM_ACC_L",
          "subcallosalWM_ACC_R",
          "subcallosal_ACC_L",
          "subcallosal_ACC_R",
          "subgenualWM_ACC_L",
          "subgenualWM_ACC_R",
          "subgenual_ACC_L",
          "subgenual_ACC_R",
          "AG_L",
          "AG_R",
          "ALIC_L",
          "ALIC_R",
          "Amyg_L",
          "Amyg_R",
          "AnteriorLateralVentricle_L",
          "AnteriorLateralVentricle_L",
          "AnteriorLateralVentricle_R",
          "AnteriorLateralVentricle_R",
          "BCC_L",
          "BCC_R",
          "BasalForebrain_L",
          "BasalForebrain_L",
          "BasalForebrain_R",
          "BasalForebrain_R",
          "CGC_L",
          "CGC_R",
          "CGH_L",
          "CGH_R",
          "Caud_L",
          "Caud_R",
          "Caudate_tail_L",
          "Caudate_tail_R",
          "CentralSul_L",
          "CentralSul_R",
          "CerebellumWM_L",
          "CerebellumWM_R",
          "Cerebellum_L",
          "Cerebellum_R",
          "CinguSul_L",
          "CinguSul_R",
          "Cingulate_L",
          "Cingulate_R",
          "Cu_L",
          "Cu_R",
          "FrontSul_L",
          "FrontSul_R",
          "FuG_L",
          "FuG_R",
          "Fx/ST_L",
          "Fx/ST_R",
          "Fx_L",
          "Fx_R",
          "GCC_L",
          "GCC_R",
          "GP_L",
          "GP_R",
          "Hippo_L",
          "Hippo_R",
          "IFG_L",
          "IFG_R",
          "III_ventricle",
          "IOG_L",
          "IOG_R",
          "ITG_L",
          "ITG_R",
          "IV_ventricle",
          "InferiorLateralVentricle_L",
          "InferiorLateralVentricle_R",
          "Insula_L",
          "Insula_R",
          "LG_L",
          "LG_R",
          "Limbic_L",
          "Limbic_R",
          "MFG_L",
          "MFG_R",
          "MOG_L",
          "MOG_R",
          "MTG_L",
          "MTG_R",
          "Medulla_L",
          "Medulla_R",
          "OG_L",
          "OG_R",
          "OcciptSul_L",
          "OcciptSul_R",
          "PLIC_L",
          "PLIC_R",
          "PVA_anterior_L",
          "PVA_anterior_R",
          "PVA_posterior_L",
          "PVA_posterior_L",
          "PVA_posterior_R",
          "PVA_posterior_R",
          "ParietSul_L",
          "ParietSul_R",
          "PeripheralCingulateWM_L",
          "PeripheralCingulateWM_R",
          "PeripheralFrontalWM_L",
          "PeripheralFrontalWM_R",
          "PeripheralOccipitalWM_L",
          "PeripheralOccipitalWM_R",
          "PeripheralParietalWM_L",
          "PeripheralParietalWM_R",
          "PeripheralTemporalWM_L",
          "PeripheralTemporalWM_R",
          "PoCG_L",
          "PoCG_R",
          "Pons_L",
          "Pons_R",
          "PosteriorLateralVentricle_L",
          "PosteriorLateralVentricle_R",
          "PrCG_L",
          "PrCG_R",
          "PrCu_L",
          "PrCu_R",
          "Put_L",
          "Put_R",
          "RG_L",
          "RG_R",
          "SCC_L",
          "SCC_R",
          "SFG_L",
          "SFG_R",
          "SMG_L",
          "SMG_R",
          "SOG_L",
          "SOG_R",
          "SPG_L",
          "SPG_R",
          "STG_L",
          "STG_R",
          "SylFrontSul_L",
          "SylFrontSul_R",
          "SylParieSul_L",
          "SylParieSul_R",
          "SylTempSul_L",
          "SylTempSul_R",
          "TempSul_L",
          "TempSul_R",
          "Thalamus_L",
          "Thalamus_R",
          "ant_DPWM_L",
          "ant_DPWM_R",
          "inf_DPWM_L",
          "inf_DPWM_R",
          "midbrain_L",
          "midbrain_R",
          "post_DPWM_L",
          "post_DPWM_R",
          "AnteriorWM_L",
          "AnteriorWM_R",
          "BasalForebrain_L",
          "BasalForebrain_R",
          "BasalGang_L",
          "BasalGang_R",
          "CentralSul_L",
          "CentralSul_R",
          "Cerebellum_L",
          "Cerebellum_R",
          "CinguSul_L",
          "CinguSul_R",
          "CorpusCallosum_L",
          "CorpusCallosum_R",
          "FrontSul_L",
          "FrontSul_R",
          "Frontal_L",
          "Frontal_R",
          "III_ventricle",
          "IV_ventricle",
          "InferiorWM_L",
          "InferiorWM_R",
          "Insula_L",
          "Insula_R",
          "LateralVentricle_L",
          "LateralVentricle_L",
          "LateralVentricle_R",
          "LateralVentricle_R",
          "LimbicWM_L",
          "LimbicWM_R",
          "Limbic_L",
          "Limbic_L",
          "Limbic_R",
          "Limbic_R",
          "Medulla_L",
          "Medulla_R",
          "Occipital_L",
          "Occipital_R",
          "OcciptSul_L",
          "OcciptSul_R",
          "ParietSul_L",
          "ParietSul_R",
          "Parietal_L",
          "Parietal_R",
          "Pons_L",
          "Pons_R",
          "PosteriorWM_L",
          "PosteriorWM_R",
          "SylvianFissureExt_L",
          "SylvianFissureExt_R",
          "TempSul_L",
          "TempSul_R",
          "Temporal_L",
          "Temporal_R",
          "Thalamus_L",
          "Thalamus_R",
          "midbrain_L",
          "midbrain_R",
          "BasalForebrain_L",
          "BasalForebrain_R",
          "CerebralCortex_L",
          "CerebralCortex_R",
          "CerebralNucli_L",
          "CerebralNucli_R",
          "Mesencephalon_L",
          "Mesencephalon_R",
          "Metencephalon_L",
          "Metencephalon_R",
          "Myelencephalon_L",
          "Myelencephalon_R",
          "Sulcus_L",
          "Sulcus_R",
          "Thalamus_L",
          "Thalamus_R",
          "Ventricle",
          "Ventricle ",
          "WhiteMatter_L",
          "WhiteMatter_R",
          "CSF",
          "Diencephalon_L",
          "Diencephalon_R",
          "Mesencephalon",
          "Metencephalon",
          "Myelencephalon",
          "Telencephalon_L",
          "Telencephalon_R",
          "ICV"
         ],
         "name": "",
         "parents": [
          "ICV/Telencephalon_L/WhiteMatter_L/AnteriorWM_L/ant_DPWM_L",
          "ICV/Telencephalon_R/WhiteMatter_R/AnteriorWM_R/ant_DPWM_R",
          "ICV/Telencephalon_L/WhiteMatter_L/PosteriorWM_L/PeripheralParietalWM_L",
          "ICV/Telencephalon_R/WhiteMatter_R/PosteriorWM_R/PeripheralParietalWM_R",
          "ICV/Telencephalon_L/CerebralCortex_L/Parietal_L/AG_L",
          "ICV/Telencephalon_R/CerebralCortex_R/Parietal_R/AG_R",
          "ICV/Telencephalon_L/WhiteMatter_L/InferiorWM_L/ALIC_L",
          "ICV/Telencephalon_R/WhiteMatter_R/InferiorWM_R/ALIC_R",
          "ICV/Telencephalon_L/CerebralNucli_L/Limbic_L/Amyg_L",
          "ICV/Telencephalon_R/CerebralNucli_R/Limbic_R/Amyg_R",
          "ICV/Telencephalon_L/WhiteMatter_L/CorpusCallosum_L/BCC_L",
          "ICV/Telencephalon_R/WhiteMatter_R/CorpusCallosum_R/BCC_R",
          "ICV/Diencephalon_L/BasalForebrain_L/BasalForebrain_L/BasalForebrain_L",
          "ICV/Diencephalon_R/BasalForebrain_R/BasalForebrain_R/BasalForebrain_R",
          "ICV/Telencephalon_L/WhiteMatter_L/LimbicWM_L/CGC_L",
          "ICV/Telencephalon_R/WhiteMatter_R/LimbicWM_R/CGC_R",
          "ICV/Telencephalon_L/WhiteMatter_L/LimbicWM_L/CGH_L",
          "ICV/Telencephalon_R/WhiteMatter_R/LimbicWM_R/CGH_R",
          "ICV/Mesencephalon/Mesencephalon_L/midbrain_L/midbrain_L",
          "ICV/Mesencephalon/Mesencephalon_R/midbrain_R/midbrain_R",
          "ICV/Metencephalon/Metencephalon_L/Pons_L/Pons_L",
          "ICV/Metencephalon/Metencephalon_R/Pons_R/Pons_R",
          "ICV/Telencephalon_L/CerebralNucli_L/BasalGang_L/Caud_L",
          "ICV/Telencephalon_R/CerebralNucli_R/BasalGang_R/Caud_R",
          "ICV/Telencephalon_L/CerebralNucli_L/BasalGang_L/Caudate_tail_L",
          "ICV/Telencephalon_R/CerebralNucli_R/BasalGang_R/Caudate_tail_R",
          "ICV/CSF/Sulcus_L/CentralSul_L/CentralSul_L",
          "ICV/CSF/Sulcus_R/CentralSul_R/CentralSul_R",
          "ICV/Metencephalon/Metencephalon_L/Cerebellum_L/Cerebellum_L",
          "ICV/Metencephalon/Metencephalon_R/Cerebellum_R/Cerebellum_R",
          "ICV/Metencephalon/Metencephalon_L/Cerebellum_L/CerebellumWM_L",
          "ICV/Metencephalon/Metencephalon_R/Cerebellum_R/CerebellumWM_R",
          "ICV/CSF/Ventricle /LateralVentricle_L/AnteriorLateralVentricle_L",
          "ICV/CSF/Ventricle /LateralVentricle_R/AnteriorLateralVentricle_R",
          "ICV/CSF/Sulcus_L/CinguSul_L/CinguSul_L",
          "ICV/CSF/Sulcus_R/CinguSul_R/CinguSul_R",
          "ICV/Diencephalon_L/BasalForebrain_L/BasalForebrain_L/BasalForebrain_L",
          "ICV/Diencephalon_R/BasalForebrain_R/BasalForebrain_R/BasalForebrain_R",
          "ICV/Telencephalon_L/WhiteMatter_L/PosteriorWM_L/PeripheralOccipitalWM_L",
          "ICV/Telencephalon_R/WhiteMatter_R/PosteriorWM_R/PeripheralOccipitalWM_R",
          "ICV/Telencephalon_L/CerebralCortex_L/Occipital_L/Cu_L",
          "ICV/Telencephalon_R/CerebralCortex_R/Occipital_R/Cu_R",
          "ICV/Telencephalon_L/WhiteMatter_L/InferiorWM_L/inf_DPWM_L",
          "ICV/Telencephalon_R/WhiteMatter_R/InferiorWM_R/inf_DPWM_R",
          "ICV/Telencephalon_L/WhiteMatter_L/InferiorWM_L/inf_DPWM_L",
          "ICV/Telencephalon_R/WhiteMatter_R/InferiorWM_R/inf_DPWM_R",
          "ICV/Telencephalon_L/CerebralCortex_L/Limbic_L/Limbic_L",
          "ICV/Telencephalon_R/CerebralCortex_R/Limbic_R/Limbic_R",
          "ICV/Telencephalon_L/CerebralCortex_L/Limbic_L/Hippo_L",
          "ICV/Telencephalon_R/CerebralCortex_R/Limbic_R/Hippo_R",
          "ICV/CSF/Sulcus_L/FrontSul_L/FrontSul_L",
          "ICV/CSF/Sulcus_R/FrontSul_R/FrontSul_R",
          "ICV/Telencephalon_L/CerebralCortex_L/Temporal_L/FuG_L",
          "ICV/Telencephalon_R/CerebralCortex_R/Temporal_R/FuG_R",
          "ICV/Telencephalon_L/WhiteMatter_L/InferiorWM_L/PeripheralTemporalWM_L",
          "ICV/Telencephalon_R/WhiteMatter_R/InferiorWM_R/PeripheralTemporalWM_R",
          "ICV/Telencephalon_L/WhiteMatter_L/LimbicWM_L/Fx/ST_L",
          "ICV/Telencephalon_R/WhiteMatter_R/LimbicWM_R/Fx/ST_R",
          "ICV/Telencephalon_L/WhiteMatter_L/LimbicWM_L/Fx_L",
          "ICV/Telencephalon_R/WhiteMatter_R/LimbicWM_R/Fx_R",
          "ICV/Telencephalon_L/WhiteMatter_L/CorpusCallosum_L/GCC_L",
          "ICV/Telencephalon_R/WhiteMatter_R/CorpusCallosum_R/GCC_R",
          "ICV/Telencephalon_L/CerebralNucli_L/BasalGang_L/GP_L",
          "ICV/Telencephalon_R/CerebralNucli_R/BasalGang_R/GP_R",
          "ICV/Telencephalon_L/CerebralCortex_L/Limbic_L/Hippo_L",
          "ICV/Telencephalon_R/CerebralCortex_R/Limbic_R/Hippo_R",
          "ICV/Diencephalon_L/BasalForebrain_L/BasalForebrain_L/BasalForebrain_L",
          "ICV/Diencephalon_R/BasalForebrain_R/BasalForebrain_R/BasalForebrain_R",
          "ICV/Myelencephalon/Myelencephalon_L/Medulla_L/Medulla_L",
          "ICV/Myelencephalon/Myelencephalon_R/Medulla_R/Medulla_R",
          "ICV/Metencephalon/Metencephalon_L/Cerebellum_L/CerebellumWM_L",
          "ICV/Metencephalon/Metencephalon_R/Cerebellum_R/CerebellumWM_R",
          "ICV/Telencephalon_L/CerebralCortex_L/Frontal_L/IFG_L",
          "ICV/Telencephalon_R/CerebralCortex_R/Frontal_R/IFG_R",
          "ICV/Telencephalon_L/CerebralCortex_L/Frontal_L/IFG_L",
          "ICV/Telencephalon_R/CerebralCortex_R/Frontal_R/IFG_R",
          "ICV/Telencephalon_L/CerebralCortex_L/Frontal_L/IFG_L",
          "ICV/Telencephalon_R/CerebralCortex_R/Frontal_R/IFG_R",
          "ICV/Telencephalon_L/WhiteMatter_L/InferiorWM_L/inf_DPWM_L",
          "ICV/Telencephalon_R/WhiteMatter_R/InferiorWM_R/inf_DPWM_R",
          "ICV/Telencephalon_L/WhiteMatter_L/AnteriorWM_L/PeripheralFrontalWM_L",
          "ICV/Telencephalon_R/WhiteMatter_R/AnteriorWM_R/PeripheralFrontalWM_R",
          "ICV/Telencephalon_L/WhiteMatter_L/AnteriorWM_L/PeripheralFrontalWM_L",
          "ICV/Telencephalon_R/WhiteMatter_R/AnteriorWM_R/PeripheralFrontalWM_R",
          "ICV/Telencephalon_L/WhiteMatter_L/AnteriorWM_L/PeripheralFrontalWM_L",
          "ICV/Telencephalon_R/WhiteMatter_R/AnteriorWM_R/PeripheralFrontalWM_R",
          "ICV/CSF/Ventricle/III_ventricle/III_ventricle",
          "ICV/Telencephalon_L/CerebralCortex_L/Occipital_L/IOG_L",
          "ICV/Telencephalon_R/CerebralCortex_R/Occipital_R/IOG_R",
          "ICV/Telencephalon_L/WhiteMatter_L/PosteriorWM_L/PeripheralOccipitalWM_L",
          "ICV/Telencephalon_R/WhiteMatter_R/PosteriorWM_R/PeripheralOccipitalWM_R",
          "ICV/Telencephalon_L/CerebralCortex_L/Temporal_L/ITG_L",
          "ICV/Telencephalon_R/CerebralCortex_R/Temporal_R/ITG_R",
          "ICV/Telencephalon_L/WhiteMatter_L/InferiorWM_L/PeripheralTemporalWM_L",
          "ICV/Telencephalon_R/WhiteMatter_R/InferiorWM_R/PeripheralTemporalWM_R",
          "ICV/CSF/Ventricle/IV_ventricle/IV_ventricle",
          "ICV/Telencephalon_L/CerebralCortex_L/Insula_L/Insula_L",
          "ICV/Telencephalon_R/CerebralCortex_R/Insula_R/Insula_R",
          "ICV/Telencephalon_L/CerebralCortex_L/Frontal_L/OG_L",
          "ICV/Telencephalon_R/CerebralCortex_R/Frontal_R/OG_R",
          "ICV/Telencephalon_L/WhiteMatter_L/AnteriorWM_L/PeripheralFrontalWM_L",
          "ICV/Telencephalon_R/WhiteMatter_R/AnteriorWM_R/PeripheralFrontalWM_R",
          "ICV/Telencephalon_L/WhiteMatter_L/PosteriorWM_L/PeripheralOccipitalWM_L",
          "ICV/Telencephalon_R/WhiteMatter_R/PosteriorWM_R/PeripheralOccipitalWM_R",
          "ICV/Telencephalon_L/CerebralCortex_L/Occipital_L/LG_L",
          "ICV/Telencephalon_R/CerebralCortex_R/Occipital_R/LG_R",
          "ICV/CSF/Ventricle/LateralVentricle_L/AnteriorLateralVentricle_L",
          "ICV/CSF/Ventricle/LateralVentricle_R/AnteriorLateralVentricle_R",
          "ICV/CSF/Ventricle/LateralVentricle_L/InferiorLateralVentricle_L",
          "ICV/CSF/Ventricle/LateralVentricle_R/InferiorLateralVentricle_R",
          "ICV/CSF/Ventricle/LateralVentricle_L/PosteriorLateralVentricle_L",
          "ICV/CSF/Ventricle/LateralVentricle_R/PosteriorLateralVentricle_R",
          "ICV/CSF/Ventricle/LateralVentricle_L/PosteriorLateralVentricle_L",
          "ICV/CSF/Ventricle/LateralVentricle_R/PosteriorLateralVentricle_R",
          "ICV/CSF/Ventricle/LateralVentricle_L/AnteriorLateralVentricle_L",
          "ICV/CSF/Ventricle/LateralVentricle_R/AnteriorLateralVentricle_R",
          "ICV/Metencephalon/Metencephalon_L/Pons_L/Pons_L",
          "ICV/Metencephalon/Metencephalon_R/Pons_R/Pons_R",
          "ICV/Metencephalon/Metencephalon_L/Cerebellum_L/CerebellumWM_L",
          "ICV/Metencephalon/Metencephalon_R/Cerebellum_R/CerebellumWM_R",
          "ICV/Telencephalon_L/CerebralCortex_L/Frontal_L/MFG_L",
          "ICV/Telencephalon_R/CerebralCortex_R/Frontal_R/MFG_R",
          "ICV/Telencephalon_L/CerebralCortex_L/Frontal_L/MFG_L",
          "ICV/Telencephalon_R/CerebralCortex_R/Frontal_R/MFG_R",
          "ICV/Telencephalon_L/CerebralCortex_L/Frontal_L/OG_L",
          "ICV/Telencephalon_R/CerebralCortex_R/Frontal_R/OG_R",
          "ICV/Telencephalon_L/WhiteMatter_L/AnteriorWM_L/PeripheralFrontalWM_L",
          "ICV/Telencephalon_R/WhiteMatter_R/AnteriorWM_R/PeripheralFrontalWM_R",
          "ICV/Telencephalon_L/WhiteMatter_L/AnteriorWM_L/PeripheralFrontalWM_L",
          "ICV/Telencephalon_R/WhiteMatter_R/AnteriorWM_R/PeripheralFrontalWM_R",
          "ICV/Telencephalon_L/WhiteMatter_L/AnteriorWM_L/PeripheralFrontalWM_L",
          "ICV/Telencephalon_R/WhiteMatter_R/AnteriorWM_R/PeripheralFrontalWM_R",
          "ICV/Metencephalon/Metencephalon_L/Pons_L/Pons_L",
          "ICV/Metencephalon/Metencephalon_R/Pons_R/Pons_R",
          "ICV/Telencephalon_L/CerebralCortex_L/Occipital_L/MOG_L",
          "ICV/Telencephalon_R/CerebralCortex_R/Occipital_R/MOG_R",
          "ICV/Telencephalon_L/WhiteMatter_L/PosteriorWM_L/PeripheralOccipitalWM_L",
          "ICV/Telencephalon_R/WhiteMatter_R/PosteriorWM_R/PeripheralOccipitalWM_R",
          "ICV/Telencephalon_L/CerebralCortex_L/Temporal_L/MTG_L",
          "ICV/Telencephalon_L/CerebralCortex_L/Temporal_L/MTG_L",
          "ICV/Telencephalon_R/CerebralCortex_R/Temporal_R/MTG_R",
          "ICV/Telencephalon_R/CerebralCortex_R/Temporal_R/MTG_R",
          "ICV/Telencephalon_L/WhiteMatter_L/InferiorWM_L/PeripheralTemporalWM_L",
          "ICV/Telencephalon_L/WhiteMatter_L/InferiorWM_L/PeripheralTemporalWM_L",
          "ICV/Telencephalon_R/WhiteMatter_R/InferiorWM_R/PeripheralTemporalWM_R",
          "ICV/Telencephalon_R/WhiteMatter_R/InferiorWM_R/PeripheralTemporalWM_R",
          "ICV/Diencephalon_L/BasalForebrain_L/BasalForebrain_L/BasalForebrain_L",
          "ICV/Diencephalon_R/BasalForebrain_R/BasalForebrain_R/BasalForebrain_R",
          "ICV/Myelencephalon/Myelencephalon_L/Medulla_L/Medulla_L",
          "ICV/Myelencephalon/Myelencephalon_R/Medulla_R/Medulla_R",
          "ICV/Mesencephalon/Mesencephalon_L/midbrain_L/midbrain_L",
          "ICV/Mesencephalon/Mesencephalon_R/midbrain_R/midbrain_R",
          "ICV/Telencephalon_L/CerebralNucli_L/BasalGang_L/BasalForebrain_L",
          "ICV/Telencephalon_R/CerebralNucli_R/BasalGang_R/BasalForebrain_R",
          "ICV/CSF/Sulcus_L/OcciptSul_L/OcciptSul_L",
          "ICV/CSF/Sulcus_R/OcciptSul_R/OcciptSul_R",
          "ICV/Telencephalon_L/WhiteMatter_L/LimbicWM_L/PeripheralCingulateWM_L",
          "ICV/Telencephalon_R/WhiteMatter_R/LimbicWM_R/PeripheralCingulateWM_R",
          "ICV/Telencephalon_L/CerebralCortex_L/Limbic_L/Cingulate_L",
          "ICV/Telencephalon_R/CerebralCortex_R/Limbic_R/Cingulate_R",
          "ICV/Telencephalon_L/WhiteMatter_L/PosteriorWM_L/post_DPWM_L",
          "ICV/Telencephalon_R/WhiteMatter_R/PosteriorWM_R/post_DPWM_R",
          "ICV/Metencephalon/Metencephalon_L/Pons_L/Pons_L",
          "ICV/Metencephalon/Metencephalon_R/Pons_R/Pons_R",
          "ICV/Telencephalon_L/CerebralCortex_L/Limbic_L/Limbic_L",
          "ICV/Telencephalon_R/CerebralCortex_R/Limbic_R/Limbic_R",
          "ICV/Telencephalon_L/WhiteMatter_L/InferiorWM_L/PLIC_L",
          "ICV/Telencephalon_R/WhiteMatter_R/InferiorWM_R/PLIC_R",
          "ICV/Telencephalon_L/WhiteMatter_L/InferiorWM_L/inf_DPWM_L",
          "ICV/Telencephalon_R/WhiteMatter_R/InferiorWM_R/inf_DPWM_R",
          "ICV/Telencephalon_L/WhiteMatter_L/AnteriorWM_L/PVA_anterior_L",
          "ICV/Telencephalon_R/WhiteMatter_R/AnteriorWM_R/PVA_anterior_R",
          "ICV/Telencephalon_L/WhiteMatter_L/InferiorWM_L/PVA_posterior_L",
          "ICV/Telencephalon_R/WhiteMatter_R/InferiorWM_R/PVA_posterior_R",
          "ICV/Telencephalon_L/WhiteMatter_L/PosteriorWM_L/PVA_posterior_L",
          "ICV/Telencephalon_R/WhiteMatter_R/PosteriorWM_R/PVA_posterior_R",
          "ICV/CSF/Sulcus_L/ParietSul_L/ParietSul_L",
          "ICV/CSF/Sulcus_R/ParietSul_R/ParietSul_R",
          "ICV/Telencephalon_L/CerebralCortex_L/Parietal_L/PoCG_L",
          "ICV/Telencephalon_R/CerebralCortex_R/Parietal_R/PoCG_R",
          "ICV/Telencephalon_L/WhiteMatter_L/PosteriorWM_L/PeripheralParietalWM_L",
          "ICV/Telencephalon_R/WhiteMatter_R/PosteriorWM_R/PeripheralParietalWM_R",
          "ICV/Metencephalon/Metencephalon_L/Pons_L/Pons_L",
          "ICV/Metencephalon/Metencephalon_R/Pons_R/Pons_R",
          "ICV/Telencephalon_L/CerebralCortex_L/Frontal_L/PrCG_L",
          "ICV/Telencephalon_R/CerebralCortex_R/Frontal_R/PrCG_R",
          "ICV/Telencephalon_L/WhiteMatter_L/AnteriorWM_L/PeripheralFrontalWM_L",
          "ICV/Telencephalon_R/WhiteMatter_R/AnteriorWM_R/PeripheralFrontalWM_R",
          "ICV/Telencephalon_L/WhiteMatter_L/PosteriorWM_L/PeripheralParietalWM_L",
          "ICV/Telencephalon_R/WhiteMatter_R/PosteriorWM_R/PeripheralParietalWM_R",
          "ICV/Telencephalon_L/CerebralCortex_L/Parietal_L/PrCu_L",
          "ICV/Telencephalon_R/CerebralCortex_R/Parietal_R/PrCu_R",
          "ICV/Telencephalon_L/CerebralNucli_L/BasalGang_L/Put_L",
          "ICV/Telencephalon_R/CerebralNucli_R/BasalGang_R/Put_R",
          "ICV/Telencephalon_L/WhiteMatter_L/AnteriorWM_L/PeripheralFrontalWM_L",
          "ICV/Telencephalon_R/WhiteMatter_R/AnteriorWM_R/PeripheralFrontalWM_R",
          "ICV/Telencephalon_L/CerebralCortex_L/Frontal_L/RG_L",
          "ICV/Telencephalon_R/CerebralCortex_R/Frontal_R/RG_R",
          "ICV/Telencephalon_L/WhiteMatter_L/InferiorWM_L/inf_DPWM_L",
          "ICV/Telencephalon_R/WhiteMatter_R/InferiorWM_R/inf_DPWM_R",
          "ICV/Mesencephalon/Mesencephalon_L/midbrain_L/midbrain_L",
          "ICV/Mesencephalon/Mesencephalon_R/midbrain_R/midbrain_R",
          "ICV/Telencephalon_L/WhiteMatter_L/CorpusCallosum_L/SCC_L",
          "ICV/Telencephalon_R/WhiteMatter_R/CorpusCallosum_R/SCC_R",
          "ICV/Metencephalon/Metencephalon_L/Pons_L/Pons_L",
          "ICV/Metencephalon/Metencephalon_R/Pons_R/Pons_R",
          "ICV/Telencephalon_L/WhiteMatter_L/AnteriorWM_L/ant_DPWM_L",
          "ICV/Telencephalon_R/WhiteMatter_R/AnteriorWM_R/ant_DPWM_R",
          "ICV/Telencephalon_L/CerebralCortex_L/Frontal_L/SFG_L",
          "ICV/Telencephalon_L/CerebralCortex_L/Frontal_L/SFG_L",
          "ICV/Telencephalon_R/CerebralCortex_R/Frontal_R/SFG_R",
          "ICV/Telencephalon_R/CerebralCortex_R/Frontal_R/SFG_R",
          "ICV/Telencephalon_L/CerebralCortex_L/Frontal_L/SFG_L",
          "ICV/Telencephalon_R/CerebralCortex_R/Frontal_R/SFG_R",
          "ICV/Telencephalon_L/WhiteMatter_L/AnteriorWM_L/ant_DPWM_L",
          "ICV/Telencephalon_R/WhiteMatter_R/AnteriorWM_R/ant_DPWM_R",
          "ICV/Telencephalon_L/WhiteMatter_L/AnteriorWM_L/PeripheralFrontalWM_L",
          "ICV/Telencephalon_L/WhiteMatter_L/AnteriorWM_L/PeripheralFrontalWM_L",
          "ICV/Telencephalon_R/WhiteMatter_R/AnteriorWM_R/PeripheralFrontalWM_R",
          "ICV/Telencephalon_R/WhiteMatter_R/AnteriorWM_R/PeripheralFrontalWM_R",
          "ICV/Telencephalon_L/WhiteMatter_L/AnteriorWM_L/PeripheralFrontalWM_L",
          "ICV/Telencephalon_R/WhiteMatter_R/AnteriorWM_R/PeripheralFrontalWM_R",
          "ICV/Telencephalon_L/WhiteMatter_L/PosteriorWM_L/PeripheralParietalWM_L",
          "ICV/Telencephalon_R/WhiteMatter_R/PosteriorWM_R/PeripheralParietalWM_R",
          "ICV/Telencephalon_L/CerebralCortex_L/Parietal_L/SMG_L",
          "ICV/Telencephalon_R/CerebralCortex_R/Parietal_R/SMG_R",
          "ICV/Telencephalon_L/WhiteMatter_L/PosteriorWM_L/PeripheralParietalWM_L",
          "ICV/Telencephalon_R/WhiteMatter_R/PosteriorWM_R/PeripheralParietalWM_R",
          "ICV/Telencephalon_L/CerebralCortex_L/Occipital_L/SOG_L",
          "ICV/Telencephalon_R/CerebralCortex_R/Occipital_R/SOG_R",
          "ICV/Telencephalon_L/WhiteMatter_L/PosteriorWM_L/PeripheralOccipitalWM_L",
          "ICV/Telencephalon_R/WhiteMatter_R/PosteriorWM_R/PeripheralOccipitalWM_R",
          "ICV/Telencephalon_L/CerebralCortex_L/Parietal_L/SPG_L",
          "ICV/Telencephalon_R/CerebralCortex_R/Parietal_R/SPG_R",
          "ICV/Telencephalon_L/WhiteMatter_L/PosteriorWM_L/PeripheralParietalWM_L",
          "ICV/Telencephalon_R/WhiteMatter_R/PosteriorWM_R/PeripheralParietalWM_R",
          "ICV/Telencephalon_L/WhiteMatter_L/InferiorWM_L/inf_DPWM_L",
          "ICV/Telencephalon_R/WhiteMatter_R/InferiorWM_R/inf_DPWM_R",
          "ICV/Telencephalon_L/CerebralCortex_L/Temporal_L/STG_L",
          "ICV/Telencephalon_L/CerebralCortex_L/Temporal_L/STG_L",
          "ICV/Telencephalon_R/CerebralCortex_R/Temporal_R/STG_R",
          "ICV/Telencephalon_R/CerebralCortex_R/Temporal_R/STG_R",
          "ICV/Telencephalon_L/WhiteMatter_L/InferiorWM_L/PeripheralTemporalWM_L",
          "ICV/Telencephalon_L/WhiteMatter_L/InferiorWM_L/PeripheralTemporalWM_L",
          "ICV/Telencephalon_R/WhiteMatter_R/InferiorWM_R/PeripheralTemporalWM_R",
          "ICV/Telencephalon_R/WhiteMatter_R/InferiorWM_R/PeripheralTemporalWM_R",
          "ICV/Mesencephalon/Mesencephalon_L/midbrain_L/midbrain_L",
          "ICV/Mesencephalon/Mesencephalon_R/midbrain_R/midbrain_R",
          "ICV/CSF/Sulcus_L/SylvianFissureExt_L/SylFrontSul_L",
          "ICV/CSF/Sulcus_R/SylvianFissureExt_R/SylFrontSul_R",
          "ICV/CSF/Sulcus_L/SylvianFissureExt_L/SylParieSul_L",
          "ICV/CSF/Sulcus_R/SylvianFissureExt_R/SylParieSul_R",
          "ICV/CSF/Sulcus_L/SylvianFissureExt_L/SylTempSul_L",
          "ICV/CSF/Sulcus_R/SylvianFissureExt_R/SylTempSul_R",
          "ICV/CSF/Sulcus_L/TempSul_L/TempSul_L",
          "ICV/CSF/Sulcus_R/TempSul_R/TempSul_R",
          "ICV/Diencephalon_L/Thalamus_L/Thalamus_L/Thalamus_L",
          "ICV/Diencephalon_R/Thalamus_R/Thalamus_R/Thalamus_R",
          "ICV/Telencephalon_L/WhiteMatter_L/LimbicWM_L/PeripheralCingulateWM_L",
          "ICV/Telencephalon_R/WhiteMatter_R/LimbicWM_R/PeripheralCingulateWM_R",
          "ICV/Telencephalon_L/CerebralCortex_L/Limbic_L/Cingulate_L",
          "ICV/Telencephalon_R/CerebralCortex_R/Limbic_R/Cingulate_R",
          "ICV/Telencephalon_L/WhiteMatter_L/LimbicWM_L/PeripheralCingulateWM_L",
          "ICV/Telencephalon_R/WhiteMatter_R/LimbicWM_R/PeripheralCingulateWM_R",
          "ICV/Telencephalon_L/CerebralCortex_L/Limbic_L/Cingulate_L",
          "ICV/Telencephalon_R/CerebralCortex_R/Limbic_R/Cingulate_R",
          "ICV/Telencephalon_L/WhiteMatter_L/LimbicWM_L/PeripheralCingulateWM_L",
          "ICV/Telencephalon_R/WhiteMatter_R/LimbicWM_R/PeripheralCingulateWM_R",
          "ICV/Telencephalon_L/CerebralCortex_L/Limbic_L/Cingulate_L",
          "ICV/Telencephalon_R/CerebralCortex_R/Limbic_R/Cingulate_R",
          "ICV/Telencephalon_L/WhiteMatter_L/LimbicWM_L/PeripheralCingulateWM_L",
          "ICV/Telencephalon_R/WhiteMatter_R/LimbicWM_R/PeripheralCingulateWM_R",
          "ICV/Telencephalon_L/CerebralCortex_L/Limbic_L/Cingulate_L",
          "ICV/Telencephalon_R/CerebralCortex_R/Limbic_R/Cingulate_R",
          "ICV/Telencephalon_L/CerebralCortex_L/Parietal_L",
          "ICV/Telencephalon_R/CerebralCortex_R/Parietal_R",
          "ICV/Telencephalon_L/WhiteMatter_L/InferiorWM_L",
          "ICV/Telencephalon_R/WhiteMatter_R/InferiorWM_R",
          "ICV/Telencephalon_L/CerebralNucli_L/Limbic_L",
          "ICV/Telencephalon_R/CerebralNucli_R/Limbic_R",
          "ICV/CSF/Ventricle/LateralVentricle_L",
          "ICV/CSF/Ventricle /LateralVentricle_L",
          "ICV/CSF/Ventricle/LateralVentricle_R",
          "ICV/CSF/Ventricle /LateralVentricle_R",
          "ICV/Telencephalon_L/WhiteMatter_L/CorpusCallosum_L",
          "ICV/Telencephalon_R/WhiteMatter_R/CorpusCallosum_R",
          "ICV/Diencephalon_L/BasalForebrain_L/BasalForebrain_L",
          "ICV/Telencephalon_L/CerebralNucli_L/BasalGang_L",
          "ICV/Diencephalon_R/BasalForebrain_R/BasalForebrain_R",
          "ICV/Telencephalon_R/CerebralNucli_R/BasalGang_R",
          "ICV/Telencephalon_L/WhiteMatter_L/LimbicWM_L",
          "ICV/Telencephalon_R/WhiteMatter_R/LimbicWM_R",
          "ICV/Telencephalon_L/WhiteMatter_L/LimbicWM_L",
          "ICV/Telencephalon_R/WhiteMatter_R/LimbicWM_R",
          "ICV/Telencephalon_L/CerebralNucli_L/BasalGang_L",
          "ICV/Telencephalon_R/CerebralNucli_R/BasalGang_R",
          "ICV/Telencephalon_L/CerebralNucli_L/BasalGang_L",
          "ICV/Telencephalon_R/CerebralNucli_R/BasalGang_R",
          "ICV/CSF/Sulcus_L/CentralSul_L",
          "ICV/CSF/Sulcus_R/CentralSul_R",
          "ICV/Metencephalon/Metencephalon_L/Cerebellum_L",
          "ICV/Metencephalon/Metencephalon_R/Cerebellum_R",
          "ICV/Metencephalon/Metencephalon_L/Cerebellum_L",
          "ICV/Metencephalon/Metencephalon_R/Cerebellum_R",
          "ICV/CSF/Sulcus_L/CinguSul_L",
          "ICV/CSF/Sulcus_R/CinguSul_R",
          "ICV/Telencephalon_L/CerebralCortex_L/Limbic_L",
          "ICV/Telencephalon_R/CerebralCortex_R/Limbic_R",
          "ICV/Telencephalon_L/CerebralCortex_L/Occipital_L",
          "ICV/Telencephalon_R/CerebralCortex_R/Occipital_R",
          "ICV/CSF/Sulcus_L/FrontSul_L",
          "ICV/CSF/Sulcus_R/FrontSul_R",
          "ICV/Telencephalon_L/CerebralCortex_L/Temporal_L",
          "ICV/Telencephalon_R/CerebralCortex_R/Temporal_R",
          "ICV/Telencephalon_L/WhiteMatter_L/LimbicWM_L",
          "ICV/Telencephalon_R/WhiteMatter_R/LimbicWM_R",
          "ICV/Telencephalon_L/WhiteMatter_L/LimbicWM_L",
          "ICV/Telencephalon_R/WhiteMatter_R/LimbicWM_R",
          "ICV/Telencephalon_L/WhiteMatter_L/CorpusCallosum_L",
          "ICV/Telencephalon_R/WhiteMatter_R/CorpusCallosum_R",
          "ICV/Telencephalon_L/CerebralNucli_L/BasalGang_L",
          "ICV/Telencephalon_R/CerebralNucli_R/BasalGang_R",
          "ICV/Telencephalon_L/CerebralCortex_L/Limbic_L",
          "ICV/Telencephalon_R/CerebralCortex_R/Limbic_R",
          "ICV/Telencephalon_L/CerebralCortex_L/Frontal_L",
          "ICV/Telencephalon_R/CerebralCortex_R/Frontal_R",
          "ICV/CSF/Ventricle/III_ventricle",
          "ICV/Telencephalon_L/CerebralCortex_L/Occipital_L",
          "ICV/Telencephalon_R/CerebralCortex_R/Occipital_R",
          "ICV/Telencephalon_L/CerebralCortex_L/Temporal_L",
          "ICV/Telencephalon_R/CerebralCortex_R/Temporal_R",
          "ICV/CSF/Ventricle/IV_ventricle",
          "ICV/CSF/Ventricle/LateralVentricle_L",
          "ICV/CSF/Ventricle/LateralVentricle_R",
          "ICV/Telencephalon_L/CerebralCortex_L/Insula_L",
          "ICV/Telencephalon_R/CerebralCortex_R/Insula_R",
          "ICV/Telencephalon_L/CerebralCortex_L/Occipital_L",
          "ICV/Telencephalon_R/CerebralCortex_R/Occipital_R",
          "ICV/Telencephalon_L/CerebralCortex_L/Limbic_L",
          "ICV/Telencephalon_R/CerebralCortex_R/Limbic_R",
          "ICV/Telencephalon_L/CerebralCortex_L/Frontal_L",
          "ICV/Telencephalon_R/CerebralCortex_R/Frontal_R",
          "ICV/Telencephalon_L/CerebralCortex_L/Occipital_L",
          "ICV/Telencephalon_R/CerebralCortex_R/Occipital_R",
          "ICV/Telencephalon_L/CerebralCortex_L/Temporal_L",
          "ICV/Telencephalon_R/CerebralCortex_R/Temporal_R",
          "ICV/Myelencephalon/Myelencephalon_L/Medulla_L",
          "ICV/Myelencephalon/Myelencephalon_R/Medulla_R",
          "ICV/Telencephalon_L/CerebralCortex_L/Frontal_L",
          "ICV/Telencephalon_R/CerebralCortex_R/Frontal_R",
          "ICV/CSF/Sulcus_L/OcciptSul_L",
          "ICV/CSF/Sulcus_R/OcciptSul_R",
          "ICV/Telencephalon_L/WhiteMatter_L/InferiorWM_L",
          "ICV/Telencephalon_R/WhiteMatter_R/InferiorWM_R",
          "ICV/Telencephalon_L/WhiteMatter_L/AnteriorWM_L",
          "ICV/Telencephalon_R/WhiteMatter_R/AnteriorWM_R",
          "ICV/Telencephalon_L/WhiteMatter_L/InferiorWM_L",
          "ICV/Telencephalon_L/WhiteMatter_L/PosteriorWM_L",
          "ICV/Telencephalon_R/WhiteMatter_R/InferiorWM_R",
          "ICV/Telencephalon_R/WhiteMatter_R/PosteriorWM_R",
          "ICV/CSF/Sulcus_L/ParietSul_L",
          "ICV/CSF/Sulcus_R/ParietSul_R",
          "ICV/Telencephalon_L/WhiteMatter_L/LimbicWM_L",
          "ICV/Telencephalon_R/WhiteMatter_R/LimbicWM_R",
          "ICV/Telencephalon_L/WhiteMatter_L/AnteriorWM_L",
          "ICV/Telencephalon_R/WhiteMatter_R/AnteriorWM_R",
          "ICV/Telencephalon_L/WhiteMatter_L/PosteriorWM_L",
          "ICV/Telencephalon_R/WhiteMatter_R/PosteriorWM_R",
          "ICV/Telencephalon_L/WhiteMatter_L/PosteriorWM_L",
          "ICV/Telencephalon_R/WhiteMatter_R/PosteriorWM_R",
          "ICV/Telencephalon_L/WhiteMatter_L/InferiorWM_L",
          "ICV/Telencephalon_R/WhiteMatter_R/InferiorWM_R",
          "ICV/Telencephalon_L/CerebralCortex_L/Parietal_L",
          "ICV/Telencephalon_R/CerebralCortex_R/Parietal_R",
          "ICV/Metencephalon/Metencephalon_L/Pons_L",
          "ICV/Metencephalon/Metencephalon_R/Pons_R",
          "ICV/CSF/Ventricle/LateralVentricle_L",
          "ICV/CSF/Ventricle/LateralVentricle_R",
          "ICV/Telencephalon_L/CerebralCortex_L/Frontal_L",
          "ICV/Telencephalon_R/CerebralCortex_R/Frontal_R",
          "ICV/Telencephalon_L/CerebralCortex_L/Parietal_L",
          "ICV/Telencephalon_R/CerebralCortex_R/Parietal_R",
          "ICV/Telencephalon_L/CerebralNucli_L/BasalGang_L",
          "ICV/Telencephalon_R/CerebralNucli_R/BasalGang_R",
          "ICV/Telencephalon_L/CerebralCortex_L/Frontal_L",
          "ICV/Telencephalon_R/CerebralCortex_R/Frontal_R",
          "ICV/Telencephalon_L/WhiteMatter_L/CorpusCallosum_L",
          "ICV/Telencephalon_R/WhiteMatter_R/CorpusCallosum_R",
          "ICV/Telencephalon_L/CerebralCortex_L/Frontal_L",
          "ICV/Telencephalon_R/CerebralCortex_R/Frontal_R",
          "ICV/Telencephalon_L/CerebralCortex_L/Parietal_L",
          "ICV/Telencephalon_R/CerebralCortex_R/Parietal_R",
          "ICV/Telencephalon_L/CerebralCortex_L/Occipital_L",
          "ICV/Telencephalon_R/CerebralCortex_R/Occipital_R",
          "ICV/Telencephalon_L/CerebralCortex_L/Parietal_L",
          "ICV/Telencephalon_R/CerebralCortex_R/Parietal_R",
          "ICV/Telencephalon_L/CerebralCortex_L/Temporal_L",
          "ICV/Telencephalon_R/CerebralCortex_R/Temporal_R",
          "ICV/CSF/Sulcus_L/SylvianFissureExt_L",
          "ICV/CSF/Sulcus_R/SylvianFissureExt_R",
          "ICV/CSF/Sulcus_L/SylvianFissureExt_L",
          "ICV/CSF/Sulcus_R/SylvianFissureExt_R",
          "ICV/CSF/Sulcus_L/SylvianFissureExt_L",
          "ICV/CSF/Sulcus_R/SylvianFissureExt_R",
          "ICV/CSF/Sulcus_L/TempSul_L",
          "ICV/CSF/Sulcus_R/TempSul_R",
          "ICV/Diencephalon_L/Thalamus_L/Thalamus_L",
          "ICV/Diencephalon_R/Thalamus_R/Thalamus_R",
          "ICV/Telencephalon_L/WhiteMatter_L/AnteriorWM_L",
          "ICV/Telencephalon_R/WhiteMatter_R/AnteriorWM_R",
          "ICV/Telencephalon_L/WhiteMatter_L/InferiorWM_L",
          "ICV/Telencephalon_R/WhiteMatter_R/InferiorWM_R",
          "ICV/Mesencephalon/Mesencephalon_L/midbrain_L",
          "ICV/Mesencephalon/Mesencephalon_R/midbrain_R",
          "ICV/Telencephalon_L/WhiteMatter_L/PosteriorWM_L",
          "ICV/Telencephalon_R/WhiteMatter_R/PosteriorWM_R",
          "ICV/Telencephalon_L/WhiteMatter_L",
          "ICV/Telencephalon_R/WhiteMatter_R",
          "ICV/Diencephalon_L/BasalForebrain_L",
          "ICV/Diencephalon_R/BasalForebrain_R",
          "ICV/Telencephalon_L/CerebralNucli_L",
          "ICV/Telencephalon_R/CerebralNucli_R",
          "ICV/CSF/Sulcus_L",
          "ICV/CSF/Sulcus_R",
          "ICV/Metencephalon/Metencephalon_L",
          "ICV/Metencephalon/Metencephalon_R",
          "ICV/CSF/Sulcus_L",
          "ICV/CSF/Sulcus_R",
          "ICV/Telencephalon_L/WhiteMatter_L",
          "ICV/Telencephalon_R/WhiteMatter_R",
          "ICV/CSF/Sulcus_L",
          "ICV/CSF/Sulcus_R",
          "ICV/Telencephalon_L/CerebralCortex_L",
          "ICV/Telencephalon_R/CerebralCortex_R",
          "ICV/CSF/Ventricle",
          "ICV/CSF/Ventricle",
          "ICV/Telencephalon_L/WhiteMatter_L",
          "ICV/Telencephalon_R/WhiteMatter_R",
          "ICV/Telencephalon_L/CerebralCortex_L",
          "ICV/Telencephalon_R/CerebralCortex_R",
          "ICV/CSF/Ventricle",
          "ICV/CSF/Ventricle ",
          "ICV/CSF/Ventricle",
          "ICV/CSF/Ventricle ",
          "ICV/Telencephalon_L/WhiteMatter_L",
          "ICV/Telencephalon_R/WhiteMatter_R",
          "ICV/Telencephalon_L/CerebralCortex_L",
          "ICV/Telencephalon_L/CerebralNucli_L",
          "ICV/Telencephalon_R/CerebralCortex_R",
          "ICV/Telencephalon_R/CerebralNucli_R",
          "ICV/Myelencephalon/Myelencephalon_L",
          "ICV/Myelencephalon/Myelencephalon_R",
          "ICV/Telencephalon_L/CerebralCortex_L",
          "ICV/Telencephalon_R/CerebralCortex_R",
          "ICV/CSF/Sulcus_L",
          "ICV/CSF/Sulcus_R",
          "ICV/CSF/Sulcus_L",
          "ICV/CSF/Sulcus_R",
          "ICV/Telencephalon_L/CerebralCortex_L",
          "ICV/Telencephalon_R/CerebralCortex_R",
          "ICV/Metencephalon/Metencephalon_L",
          "ICV/Metencephalon/Metencephalon_R",
          "ICV/Telencephalon_L/WhiteMatter_L",
          "ICV/Telencephalon_R/WhiteMatter_R",
          "ICV/CSF/Sulcus_L",
          "ICV/CSF/Sulcus_R",
          "ICV/CSF/Sulcus_L",
          "ICV/CSF/Sulcus_R",
          "ICV/Telencephalon_L/CerebralCortex_L",
          "ICV/Telencephalon_R/CerebralCortex_R",
          "ICV/Diencephalon_L/Thalamus_L",
          "ICV/Diencephalon_R/Thalamus_R",
          "ICV/Mesencephalon/Mesencephalon_L",
          "ICV/Mesencephalon/Mesencephalon_R",
          "ICV/Diencephalon_L",
          "ICV/Diencephalon_R",
          "ICV/Telencephalon_L",
          "ICV/Telencephalon_R",
          "ICV/Telencephalon_L",
          "ICV/Telencephalon_R",
          "ICV/Mesencephalon",
          "ICV/Mesencephalon",
          "ICV/Metencephalon",
          "ICV/Metencephalon",
          "ICV/Myelencephalon",
          "ICV/Myelencephalon",
          "ICV/CSF",
          "ICV/CSF",
          "ICV/Diencephalon_L",
          "ICV/Diencephalon_R",
          "ICV/CSF",
          "ICV/CSF",
          "ICV/Telencephalon_L",
          "ICV/Telencephalon_R",
          "ICV",
          "ICV",
          "ICV",
          "ICV",
          "ICV",
          "ICV",
          "ICV",
          "ICV",
          ""
         ],
         "type": "sunburst",
         "values": [
          0.009114464655408133,
          0.009606356398715873,
          0.002630174086274918,
          0.003688464704597307,
          0.005374640665847812,
          0.009823367461939876,
          0.0016955797739902113,
          0.0018286798927676,
          0.0014344431279106609,
          0.0016991966250439448,
          0.00298028526827631,
          0.0032457621356203406,
          0.003085897319045325,
          0.0027198719924075064,
          0.002267765610690833,
          0.002577368060890411,
          0.0013100234516622324,
          0.001247813613538018,
          0.0013997213577948203,
          0.0014568676044438079,
          0.0011349678606615366,
          0.0010322492907355084,
          0.0025824316523656377,
          0.002693107294609879,
          0.00026258338650104383,
          0.0002495627227076036,
          0.001561756285002076,
          0.001265897868806685,
          0.04299350847572876,
          0.042320050809523606,
          0.00662462439001807,
          0.0073458244901325066,
          0.0003211763735715247,
          0.00026837034818701723,
          0.0008485132572058524,
          0.001026462329049535,
          0.0003030921183028577,
          0.00040725742865037925,
          0.004372772923963664,
          0.003486644415798984,
          0.004367709332488437,
          0.004947128871296526,
          0.00021122410153802973,
          0.00021122410153802973,
          0.002391461916728515,
          0.0022909134574347267,
          0.0006727342959944098,
          0.000753028389387291,
          0.00003616851053733386,
          0.000032551659483600474,
          0.010853446642043145,
          0.008124894207106678,
          0.010150330797197375,
          0.009775625028030597,
          0.003791183274523335,
          0.004165889043690114,
          0.001030802550314015,
          0.0010402063630537218,
          0.0006532033003042496,
          0.0007204767299036905,
          0.001869188624569414,
          0.001987821339131869,
          0.0009895704483014545,
          0.0010691411714835888,
          0.002837781336759215,
          0.0027017877371388393,
          0.00048104119014654036,
          0.0005504847303782214,
          0.000645246227986036,
          0.0006698408151514231,
          0.00039206665422469904,
          0.00041666124139008606,
          0.003059132621247698,
          0.0029542439406894296,
          0.0032920578291081278,
          0.0027979959751681474,
          0.0031112152764214587,
          0.0026453648607005983,
          0.0013078533410299923,
          0.001349085443042553,
          0.00160877534870061,
          0.0027632742050523068,
          0.0024732027505428894,
          0.001796851603494746,
          0.003358607888496822,
          0.0026591088947047854,
          0.0017491091695854655,
          0.0031032582041032454,
          0.0032370816930913805,
          0.0013801903621046602,
          0.002447884793166756,
          0.009081189625713786,
          0.00892349491977101,
          0.004513106744848519,
          0.004018321520697792,
          0.0019530995690160283,
          0.00523792369601669,
          0.005122907832507968,
          0.003399839990509383,
          0.0032479322462525806,
          0.0018286798927676,
          0.001440953459807381,
          0.006130562536078089,
          0.004824879305680337,
          0.005836150860304192,
          0.00527264546613253,
          0.0048870891438045514,
          0.0042570336902441955,
          0.0006032907557627288,
          0.0006575435215687295,
          0.00030236874809211106,
          0.00008680442528960127,
          0.0032978447907941015,
          0.0029658178640613766,
          0.006019163523623101,
          0.0057573035073328034,
          0.0020956035005331238,
          0.0021679405216077914,
          0.0020760725048429634,
          0.0019118674670034678,
          0.011790934435170838,
          0.011898716596572094,
          0.007188853154400478,
          0.008066301220036197,
          0.003482304194534504,
          0.0034316682797822366,
          0.0016189025316510636,
          0.0014995464468778618,
          0.0035531944751876782,
          0.0044545137577780385,
          0.005082399100706154,
          0.005331961823413758,
          0.0006090777174487022,
          0.0007747294957096913,
          0.011785147473484865,
          0.010245815665015937,
          0.008814989388159009,
          0.008758566511720767,
          0.011746085482104544,
          0.0019502060881730417,
          0.011798891507489051,
          0.002162876930132565,
          0.00682282782776266,
          0.0011689662605666304,
          0.007738614514567953,
          0.0013093000814514858,
          0.00009042127634333466,
          0.00007523050191765443,
          0.0010930123884382293,
          0.0011906673668890307,
          0.0016442204890271973,
          0.0018995701734207742,
          0.0005150395900516342,
          0.0005656755048039016,
          0.0013989979875840737,
          0.001485802412873675,
          0.0025723044694151843,
          0.0028500786303419083,
          0.0041362308650495,
          0.005872319370841526,
          0.0031828289272853795,
          0.0027285524349364666,
          0.0006973288831597968,
          0.000616311419556169,
          0.0009042127634333465,
          0.0009027660230118531,
          0.002451501644220489,
          0.0023849515848317947,
          0.005116397500611248,
          0.00410584931619814,
          0.0006047374961842221,
          0.0006271619727173691,
          0.00028356112261269744,
          0.00028356112261269744,
          0.0005678456154361416,
          0.0004701906369853402,
          0.006321532271715212,
          0.007036945410143676,
          0.007738614514567953,
          0.008085832215726358,
          0.006106691319123449,
          0.006427867692694974,
          0.00019313984626936282,
          0.0004687438965638468,
          0.010666817127670501,
          0.012675616202914025,
          0.008726738222447914,
          0.010623414915025702,
          0.0021592600790788312,
          0.0018344668544535733,
          0.005323281380884798,
          0.0047554357654486555,
          0.0031719783741241793,
          0.0031828289272853795,
          0.002058711619785043,
          0.002536859329088597,
          0.004560125808547053,
          0.004491405638526119,
          0.002216406325727819,
          0.0022424476533146995,
          0.000253179573761337,
          0.0003110491906210712,
          0.003925730133722217,
          0.004291032090149289,
          0.0006900951810523301,
          0.0007523050191765442,
          0.009737286406861022,
          0.010380362524214818,
          0.00935028334411155,
          0.009246841403974774,
          0.008323821015062014,
          0.007269870618004106,
          0.0022265335086782724,
          0.0035257064071793046,
          0.00026258338650104383,
          0.0001996501781660829,
          0.006092947285119262,
          0.006455355760703347,
          0.006343956748248359,
          0.00552727178031536,
          0.0003703655479022987,
          0.0005859298707048085,
          0.005055634402908527,
          0.005629266980030642,
          0.006239791437900838,
          0.006869846891461194,
          0.0028464617792881746,
          0.003458432977579864,
          0.0018576147011974671,
          0.0016406036379734638,
          0.002310444453124887,
          0.002722765473250493,
          0.005471572274087866,
          0.00501150882005298,
          0.005392724921116479,
          0.00528349601929373,
          0.002596899056580571,
          0.002924585762048816,
          0.009372707820644697,
          0.003518472705071838,
          0.008140084981532358,
          0.0039090926188750435,
          0.006365657854570759,
          0.0009353176824954537,
          0.005670499082043203,
          0.0009280839803879868,
          0.0002799442715589641,
          0.00018518277395114936,
          0.00114943526487647,
          0.0008499599976273457,
          0.0004629569348778734,
          0.00020833062069504303,
          0.0011559455967731901,
          0.001057567248111642,
          0.0008239186700404654,
          0.0006582668917794762,
          0.004587613876555427,
          0.0046093149828778275,
          0.0020854763175826704,
          0.0012962794176580455,
          0.00888443292839069,
          0.009074679293817065,
          0.00018445940374040267,
          0.0000014467404214933544,
          0.0019010169138422676,
          0.0026316208266964117,
          0.00008680442528960127,
          0.00007667724233914778,
          0.00034070736926168497,
          0.000432575386026513,
          0.00017216211015770916,
          0.00010344194013677484,
          0.0011176069756036163,
          0.0011704130009881238,
          0.005374640665847812,
          0.009823367461939876,
          0.0016955797739902113,
          0.0018286798927676,
          0.0014344431279106609,
          0.0016991966250439448,
          0.010906252667427653,
          0.0003211763735715247,
          0.010014337197576998,
          0.00026837034818701723,
          0.00298028526827631,
          0.0032457621356203406,
          0.003960451903838058,
          0.0005150395900516342,
          0.0037528446533537613,
          0.0005656755048039016,
          0.002267765610690833,
          0.002577368060890411,
          0.0013100234516622324,
          0.001247813613538018,
          0.0025824316523656377,
          0.002693107294609879,
          0.00026258338650104383,
          0.0002495627227076036,
          0.001561756285002076,
          0.001265897868806685,
          0.009092763549085732,
          0.00967435319852606,
          0.04299350847572876,
          0.042320050809523606,
          0.0008485132572058524,
          0.001026462329049535,
          0.01637999505214776,
          0.01918160787836964,
          0.004367709332488437,
          0.004947128871296526,
          0.010853446642043145,
          0.008124894207106678,
          0.010150330797197375,
          0.009775625028030597,
          0.001030802550314015,
          0.0010402063630537218,
          0.0006532033003042496,
          0.0007204767299036905,
          0.001869188624569414,
          0.001987821339131869,
          0.0009895704483014545,
          0.0010691411714835888,
          0.0028739498472965487,
          0.00273433939662244,
          0.009462405726777284,
          0.008397604776558175,
          0.0017491091695854655,
          0.0031032582041032454,
          0.0032370816930913805,
          0.009081189625713786,
          0.00892349491977101,
          0.0019530995690160283,
          0.0006032907557627288,
          0.0006575435215687295,
          0.00523792369601669,
          0.005122907832507968,
          0.005836150860304192,
          0.00527264546613253,
          0.0015769470594277563,
          0.001655794412399144,
          0.018979787589571317,
          0.01996501781660829,
          0.011785147473484865,
          0.010245815665015937,
          0.013696291570277585,
          0.013961768437621615,
          0.0017382586164242653,
          0.0018605081820404538,
          0.006882144185043886,
          0.006679600526034817,
          0.0013989979875840737,
          0.001485802412873675,
          0.002451501644220489,
          0.0023849515848317947,
          0.0006047374961842221,
          0.0006271619727173691,
          0.00028356112261269744,
          0.0005678456154361416,
          0.00028356112261269744,
          0.0004701906369853402,
          0.006321532271715212,
          0.007036945410143676,
          0.005101206726185568,
          0.0043279239708973695,
          0.043227880424010684,
          0.045563642834511704,
          0.02300895966343031,
          0.022240740499617336,
          0.024190946587790377,
          0.02632199522865009,
          0.023597059644767358,
          0.023830708222838535,
          0.007738614514567953,
          0.008085832215726358,
          0.005420212989124852,
          0.005812279643349551,
          0.0036002135388862127,
          0.0030526222893509777,
          0.010666817127670501,
          0.012675616202914025,
          0.005323281380884798,
          0.0047554357654486555,
          0.0031719783741241793,
          0.0031828289272853795,
          0.004560125808547053,
          0.004491405638526119,
          0.003925730133722217,
          0.004291032090149289,
          0.020823658256764598,
          0.019119398040245424,
          0.006239791437900838,
          0.006869846891461194,
          0.0018576147011974671,
          0.0016406036379734638,
          0.005471572274087866,
          0.00501150882005298,
          0.012891180525716535,
          0.012049177600407402,
          0.00114943526487647,
          0.0008499599976273457,
          0.0004629569348778734,
          0.00020833062069504303,
          0.0011559455967731901,
          0.001057567248111642,
          0.0008239186700404654,
          0.0006582668917794762,
          0.004587613876555427,
          0.0046093149828778275,
          0.0191143344487702,
          0.020186369101096772,
          0.013840242242216175,
          0.013124105733576965,
          0.0035770656921423187,
          0.0038526697424368025,
          0.0031828289272853795,
          0.0027285524349364666,
          0.06294695236896511,
          0.06637717390832584,
          0.003960451903838058,
          0.0037528446533537613,
          0.007521603451343949,
          0.007760315620890352,
          0.001561756285002076,
          0.001265897868806685,
          0.052086272024814494,
          0.051994404008049666,
          0.0008485132572058524,
          0.001026462329049535,
          0.00877520402656794,
          0.009524615564901499,
          0.010853446642043145,
          0.008124894207106678,
          0.07137493869437464,
          0.07132864300088686,
          0.0017491091695854655,
          0.0019530995690160283,
          0.041867944427806926,
          0.04145200655662759,
          0.00523792369601669,
          0.005122907832507968,
          0.015109756962076594,
          0.0003211763735715247,
          0.013724503008496706,
          0.00026837034818701723,
          0.010363001639156898,
          0.00991378873828321,
          0.020830891958872066,
          0.0014344431279106609,
          0.023571741687391224,
          0.0016991966250439448,
          0.0017382586164242653,
          0.0018605081820404538,
          0.026949880571578207,
          0.025343275333509836,
          0.0013989979875840737,
          0.001485802412873675,
          0.006321532271715212,
          0.007036945410143676,
          0.030147900273289265,
          0.034545991154629065,
          0.005420212989124852,
          0.005812279643349551,
          0.050950580793942206,
          0.051761478800189234,
          0.0027683377965275337,
          0.002115857866434031,
          0.0008239186700404654,
          0.0006582668917794762,
          0.04581899251890528,
          0.044710065985830626,
          0.004587613876555427,
          0.0046093149828778275,
          0.0035770656921423187,
          0.0038526697424368025,
          0.003960451903838058,
          0.0037528446533537613,
          0.20036052771303614,
          0.20462262499475556,
          0.00895604657925461,
          0.009459512245934297,
          0.0035770656921423187,
          0.0038526697424368025,
          0.057506485013939346,
          0.05780668365139922,
          0.0017382586164242653,
          0.0018605081820404538,
          0.02457650291011836,
          0.021714126986193755,
          0.004587613876555427,
          0.0046093149828778275,
          0.032536468709174794,
          0.0005895467217585419,
          0.17490368325643907,
          0.17902906356832737,
          0.07941664532724545,
          0.008548065780393485,
          0.00836215963623159,
          0.007429735434579121,
          0.11531316866533857,
          0.003598766798464719,
          0.38422025754872985,
          0.39311120080901724,
          1
         ]
        }
       ],
       "layout": {
        "height": 800,
        "legend": {
         "tracegroupgap": 0
        },
        "margin": {
         "t": 60
        },
        "template": {
         "data": {
          "bar": [
           {
            "error_x": {
             "color": "#2a3f5f"
            },
            "error_y": {
             "color": "#2a3f5f"
            },
            "marker": {
             "line": {
              "color": "#E5ECF6",
              "width": 0.5
             },
             "pattern": {
              "fillmode": "overlay",
              "size": 10,
              "solidity": 0.2
             }
            },
            "type": "bar"
           }
          ],
          "barpolar": [
           {
            "marker": {
             "line": {
              "color": "#E5ECF6",
              "width": 0.5
             },
             "pattern": {
              "fillmode": "overlay",
              "size": 10,
              "solidity": 0.2
             }
            },
            "type": "barpolar"
           }
          ],
          "carpet": [
           {
            "aaxis": {
             "endlinecolor": "#2a3f5f",
             "gridcolor": "white",
             "linecolor": "white",
             "minorgridcolor": "white",
             "startlinecolor": "#2a3f5f"
            },
            "baxis": {
             "endlinecolor": "#2a3f5f",
             "gridcolor": "white",
             "linecolor": "white",
             "minorgridcolor": "white",
             "startlinecolor": "#2a3f5f"
            },
            "type": "carpet"
           }
          ],
          "choropleth": [
           {
            "colorbar": {
             "outlinewidth": 0,
             "ticks": ""
            },
            "type": "choropleth"
           }
          ],
          "contour": [
           {
            "colorbar": {
             "outlinewidth": 0,
             "ticks": ""
            },
            "colorscale": [
             [
              0,
              "#0d0887"
             ],
             [
              0.1111111111111111,
              "#46039f"
             ],
             [
              0.2222222222222222,
              "#7201a8"
             ],
             [
              0.3333333333333333,
              "#9c179e"
             ],
             [
              0.4444444444444444,
              "#bd3786"
             ],
             [
              0.5555555555555556,
              "#d8576b"
             ],
             [
              0.6666666666666666,
              "#ed7953"
             ],
             [
              0.7777777777777778,
              "#fb9f3a"
             ],
             [
              0.8888888888888888,
              "#fdca26"
             ],
             [
              1,
              "#f0f921"
             ]
            ],
            "type": "contour"
           }
          ],
          "contourcarpet": [
           {
            "colorbar": {
             "outlinewidth": 0,
             "ticks": ""
            },
            "type": "contourcarpet"
           }
          ],
          "heatmap": [
           {
            "colorbar": {
             "outlinewidth": 0,
             "ticks": ""
            },
            "colorscale": [
             [
              0,
              "#0d0887"
             ],
             [
              0.1111111111111111,
              "#46039f"
             ],
             [
              0.2222222222222222,
              "#7201a8"
             ],
             [
              0.3333333333333333,
              "#9c179e"
             ],
             [
              0.4444444444444444,
              "#bd3786"
             ],
             [
              0.5555555555555556,
              "#d8576b"
             ],
             [
              0.6666666666666666,
              "#ed7953"
             ],
             [
              0.7777777777777778,
              "#fb9f3a"
             ],
             [
              0.8888888888888888,
              "#fdca26"
             ],
             [
              1,
              "#f0f921"
             ]
            ],
            "type": "heatmap"
           }
          ],
          "heatmapgl": [
           {
            "colorbar": {
             "outlinewidth": 0,
             "ticks": ""
            },
            "colorscale": [
             [
              0,
              "#0d0887"
             ],
             [
              0.1111111111111111,
              "#46039f"
             ],
             [
              0.2222222222222222,
              "#7201a8"
             ],
             [
              0.3333333333333333,
              "#9c179e"
             ],
             [
              0.4444444444444444,
              "#bd3786"
             ],
             [
              0.5555555555555556,
              "#d8576b"
             ],
             [
              0.6666666666666666,
              "#ed7953"
             ],
             [
              0.7777777777777778,
              "#fb9f3a"
             ],
             [
              0.8888888888888888,
              "#fdca26"
             ],
             [
              1,
              "#f0f921"
             ]
            ],
            "type": "heatmapgl"
           }
          ],
          "histogram": [
           {
            "marker": {
             "pattern": {
              "fillmode": "overlay",
              "size": 10,
              "solidity": 0.2
             }
            },
            "type": "histogram"
           }
          ],
          "histogram2d": [
           {
            "colorbar": {
             "outlinewidth": 0,
             "ticks": ""
            },
            "colorscale": [
             [
              0,
              "#0d0887"
             ],
             [
              0.1111111111111111,
              "#46039f"
             ],
             [
              0.2222222222222222,
              "#7201a8"
             ],
             [
              0.3333333333333333,
              "#9c179e"
             ],
             [
              0.4444444444444444,
              "#bd3786"
             ],
             [
              0.5555555555555556,
              "#d8576b"
             ],
             [
              0.6666666666666666,
              "#ed7953"
             ],
             [
              0.7777777777777778,
              "#fb9f3a"
             ],
             [
              0.8888888888888888,
              "#fdca26"
             ],
             [
              1,
              "#f0f921"
             ]
            ],
            "type": "histogram2d"
           }
          ],
          "histogram2dcontour": [
           {
            "colorbar": {
             "outlinewidth": 0,
             "ticks": ""
            },
            "colorscale": [
             [
              0,
              "#0d0887"
             ],
             [
              0.1111111111111111,
              "#46039f"
             ],
             [
              0.2222222222222222,
              "#7201a8"
             ],
             [
              0.3333333333333333,
              "#9c179e"
             ],
             [
              0.4444444444444444,
              "#bd3786"
             ],
             [
              0.5555555555555556,
              "#d8576b"
             ],
             [
              0.6666666666666666,
              "#ed7953"
             ],
             [
              0.7777777777777778,
              "#fb9f3a"
             ],
             [
              0.8888888888888888,
              "#fdca26"
             ],
             [
              1,
              "#f0f921"
             ]
            ],
            "type": "histogram2dcontour"
           }
          ],
          "mesh3d": [
           {
            "colorbar": {
             "outlinewidth": 0,
             "ticks": ""
            },
            "type": "mesh3d"
           }
          ],
          "parcoords": [
           {
            "line": {
             "colorbar": {
              "outlinewidth": 0,
              "ticks": ""
             }
            },
            "type": "parcoords"
           }
          ],
          "pie": [
           {
            "automargin": true,
            "type": "pie"
           }
          ],
          "scatter": [
           {
            "fillpattern": {
             "fillmode": "overlay",
             "size": 10,
             "solidity": 0.2
            },
            "type": "scatter"
           }
          ],
          "scatter3d": [
           {
            "line": {
             "colorbar": {
              "outlinewidth": 0,
              "ticks": ""
             }
            },
            "marker": {
             "colorbar": {
              "outlinewidth": 0,
              "ticks": ""
             }
            },
            "type": "scatter3d"
           }
          ],
          "scattercarpet": [
           {
            "marker": {
             "colorbar": {
              "outlinewidth": 0,
              "ticks": ""
             }
            },
            "type": "scattercarpet"
           }
          ],
          "scattergeo": [
           {
            "marker": {
             "colorbar": {
              "outlinewidth": 0,
              "ticks": ""
             }
            },
            "type": "scattergeo"
           }
          ],
          "scattergl": [
           {
            "marker": {
             "colorbar": {
              "outlinewidth": 0,
              "ticks": ""
             }
            },
            "type": "scattergl"
           }
          ],
          "scattermapbox": [
           {
            "marker": {
             "colorbar": {
              "outlinewidth": 0,
              "ticks": ""
             }
            },
            "type": "scattermapbox"
           }
          ],
          "scatterpolar": [
           {
            "marker": {
             "colorbar": {
              "outlinewidth": 0,
              "ticks": ""
             }
            },
            "type": "scatterpolar"
           }
          ],
          "scatterpolargl": [
           {
            "marker": {
             "colorbar": {
              "outlinewidth": 0,
              "ticks": ""
             }
            },
            "type": "scatterpolargl"
           }
          ],
          "scatterternary": [
           {
            "marker": {
             "colorbar": {
              "outlinewidth": 0,
              "ticks": ""
             }
            },
            "type": "scatterternary"
           }
          ],
          "surface": [
           {
            "colorbar": {
             "outlinewidth": 0,
             "ticks": ""
            },
            "colorscale": [
             [
              0,
              "#0d0887"
             ],
             [
              0.1111111111111111,
              "#46039f"
             ],
             [
              0.2222222222222222,
              "#7201a8"
             ],
             [
              0.3333333333333333,
              "#9c179e"
             ],
             [
              0.4444444444444444,
              "#bd3786"
             ],
             [
              0.5555555555555556,
              "#d8576b"
             ],
             [
              0.6666666666666666,
              "#ed7953"
             ],
             [
              0.7777777777777778,
              "#fb9f3a"
             ],
             [
              0.8888888888888888,
              "#fdca26"
             ],
             [
              1,
              "#f0f921"
             ]
            ],
            "type": "surface"
           }
          ],
          "table": [
           {
            "cells": {
             "fill": {
              "color": "#EBF0F8"
             },
             "line": {
              "color": "white"
             }
            },
            "header": {
             "fill": {
              "color": "#C8D4E3"
             },
             "line": {
              "color": "white"
             }
            },
            "type": "table"
           }
          ]
         },
         "layout": {
          "annotationdefaults": {
           "arrowcolor": "#2a3f5f",
           "arrowhead": 0,
           "arrowwidth": 1
          },
          "autotypenumbers": "strict",
          "coloraxis": {
           "colorbar": {
            "outlinewidth": 0,
            "ticks": ""
           }
          },
          "colorscale": {
           "diverging": [
            [
             0,
             "#8e0152"
            ],
            [
             0.1,
             "#c51b7d"
            ],
            [
             0.2,
             "#de77ae"
            ],
            [
             0.3,
             "#f1b6da"
            ],
            [
             0.4,
             "#fde0ef"
            ],
            [
             0.5,
             "#f7f7f7"
            ],
            [
             0.6,
             "#e6f5d0"
            ],
            [
             0.7,
             "#b8e186"
            ],
            [
             0.8,
             "#7fbc41"
            ],
            [
             0.9,
             "#4d9221"
            ],
            [
             1,
             "#276419"
            ]
           ],
           "sequential": [
            [
             0,
             "#0d0887"
            ],
            [
             0.1111111111111111,
             "#46039f"
            ],
            [
             0.2222222222222222,
             "#7201a8"
            ],
            [
             0.3333333333333333,
             "#9c179e"
            ],
            [
             0.4444444444444444,
             "#bd3786"
            ],
            [
             0.5555555555555556,
             "#d8576b"
            ],
            [
             0.6666666666666666,
             "#ed7953"
            ],
            [
             0.7777777777777778,
             "#fb9f3a"
            ],
            [
             0.8888888888888888,
             "#fdca26"
            ],
            [
             1,
             "#f0f921"
            ]
           ],
           "sequentialminus": [
            [
             0,
             "#0d0887"
            ],
            [
             0.1111111111111111,
             "#46039f"
            ],
            [
             0.2222222222222222,
             "#7201a8"
            ],
            [
             0.3333333333333333,
             "#9c179e"
            ],
            [
             0.4444444444444444,
             "#bd3786"
            ],
            [
             0.5555555555555556,
             "#d8576b"
            ],
            [
             0.6666666666666666,
             "#ed7953"
            ],
            [
             0.7777777777777778,
             "#fb9f3a"
            ],
            [
             0.8888888888888888,
             "#fdca26"
            ],
            [
             1,
             "#f0f921"
            ]
           ]
          },
          "colorway": [
           "#636efa",
           "#EF553B",
           "#00cc96",
           "#ab63fa",
           "#FFA15A",
           "#19d3f3",
           "#FF6692",
           "#B6E880",
           "#FF97FF",
           "#FECB52"
          ],
          "font": {
           "color": "#2a3f5f"
          },
          "geo": {
           "bgcolor": "white",
           "lakecolor": "white",
           "landcolor": "#E5ECF6",
           "showlakes": true,
           "showland": true,
           "subunitcolor": "white"
          },
          "hoverlabel": {
           "align": "left"
          },
          "hovermode": "closest",
          "mapbox": {
           "style": "light"
          },
          "paper_bgcolor": "white",
          "plot_bgcolor": "#E5ECF6",
          "polar": {
           "angularaxis": {
            "gridcolor": "white",
            "linecolor": "white",
            "ticks": ""
           },
           "bgcolor": "#E5ECF6",
           "radialaxis": {
            "gridcolor": "white",
            "linecolor": "white",
            "ticks": ""
           }
          },
          "scene": {
           "xaxis": {
            "backgroundcolor": "#E5ECF6",
            "gridcolor": "white",
            "gridwidth": 2,
            "linecolor": "white",
            "showbackground": true,
            "ticks": "",
            "zerolinecolor": "white"
           },
           "yaxis": {
            "backgroundcolor": "#E5ECF6",
            "gridcolor": "white",
            "gridwidth": 2,
            "linecolor": "white",
            "showbackground": true,
            "ticks": "",
            "zerolinecolor": "white"
           },
           "zaxis": {
            "backgroundcolor": "#E5ECF6",
            "gridcolor": "white",
            "gridwidth": 2,
            "linecolor": "white",
            "showbackground": true,
            "ticks": "",
            "zerolinecolor": "white"
           }
          },
          "shapedefaults": {
           "line": {
            "color": "#2a3f5f"
           }
          },
          "ternary": {
           "aaxis": {
            "gridcolor": "white",
            "linecolor": "white",
            "ticks": ""
           },
           "baxis": {
            "gridcolor": "white",
            "linecolor": "white",
            "ticks": ""
           },
           "bgcolor": "#E5ECF6",
           "caxis": {
            "gridcolor": "white",
            "linecolor": "white",
            "ticks": ""
           }
          },
          "title": {
           "x": 0.05
          },
          "xaxis": {
           "automargin": true,
           "gridcolor": "white",
           "linecolor": "white",
           "ticks": "",
           "title": {
            "standoff": 15
           },
           "zerolinecolor": "white",
           "zerolinewidth": 2
          },
          "yaxis": {
           "automargin": true,
           "gridcolor": "white",
           "linecolor": "white",
           "ticks": "",
           "title": {
            "standoff": 15
           },
           "zerolinecolor": "white",
           "zerolinewidth": 2
          }
         }
        },
        "width": 800
       }
      }
     },
     "metadata": {},
     "output_type": "display_data"
    }
   ],
   "source": [
    "fig = px.sunburst(subjectData, path=['icv', 'level1', 'level2', 'level3', 'level4', 'roi'],\n",
    "                  values='comp', width=800, height=800)\n",
    "fig.show()"
   ]
  },
  {
   "cell_type": "code",
   "execution_count": 12,
   "id": "b54e87f5",
   "metadata": {},
   "outputs": [
    {
     "data": {
      "application/vnd.plotly.v1+json": {
       "config": {
        "plotlyServerURL": "https://plot.ly"
       },
       "data": [
        {
         "link": {
          "color": [
           "pink",
           "pink",
           "pink",
           "pink",
           "pink",
           "pink",
           "pink",
           "pink",
           "pink",
           "pink",
           "pink",
           "pink",
           "pink",
           "pink",
           "pink",
           "pink",
           "pink",
           "pink",
           "pink",
           "pink",
           "pink",
           "pink",
           "pink",
           "pink",
           "pink",
           "pink",
           "pink",
           "pink",
           "pink",
           "pink",
           "pink",
           "pink",
           "pink",
           "pink",
           "pink",
           "pink",
           "pink",
           "pink",
           "pink",
           "pink",
           "pink",
           "pink",
           "pink",
           "pink",
           "pink",
           "pink",
           "pink",
           "pink",
           "pink",
           "pink",
           "pink",
           "pink",
           "pink",
           "pink",
           "pink",
           "pink",
           "pink",
           "pink",
           "pink",
           "pink",
           "pink",
           "pink",
           "pink",
           "pink",
           "pink",
           "pink",
           "pink",
           "pink",
           "pink",
           "pink",
           "pink",
           "pink",
           "pink",
           "pink",
           "pink",
           "pink",
           "pink",
           "pink",
           "pink",
           "pink",
           "pink",
           "pink",
           "pink",
           "pink",
           "pink",
           "pink",
           "pink",
           "pink",
           "pink",
           "pink",
           "pink",
           "pink",
           "pink",
           "pink",
           "pink",
           "pink",
           "pink",
           "pink",
           "pink",
           "pink",
           "pink",
           "pink",
           "pink",
           "pink",
           "pink",
           "pink",
           "pink",
           "pink",
           "pink",
           "pink",
           "pink",
           "pink",
           "pink",
           "pink",
           "pink",
           "pink",
           "pink",
           "pink",
           "pink",
           "pink",
           "pink",
           "pink",
           "pink",
           "pink",
           "pink",
           "pink",
           "pink",
           "pink",
           "pink",
           "pink",
           "pink",
           "pink",
           "pink",
           "pink",
           "pink",
           "pink",
           "pink",
           "pink",
           "pink",
           "pink",
           "pink",
           "pink",
           "pink",
           "pink",
           "pink",
           "pink",
           "pink",
           "pink",
           "pink",
           "pink",
           "pink",
           "pink",
           "pink",
           "pink",
           "pink",
           "pink",
           "pink",
           "pink",
           "pink",
           "pink",
           "pink",
           "pink",
           "pink",
           "pink",
           "pink",
           "pink",
           "pink",
           "pink",
           "pink",
           "pink",
           "pink",
           "pink",
           "pink",
           "pink",
           "pink",
           "pink",
           "pink",
           "pink",
           "pink",
           "pink",
           "pink",
           "pink",
           "pink",
           "pink",
           "pink",
           "pink",
           "pink",
           "pink",
           "pink",
           "pink",
           "pink",
           "pink",
           "pink",
           "pink",
           "pink",
           "pink",
           "pink",
           "pink",
           "pink",
           "pink",
           "pink",
           "pink",
           "pink",
           "pink",
           "pink",
           "pink",
           "pink",
           "pink",
           "pink",
           "pink",
           "pink",
           "pink",
           "pink",
           "pink",
           "pink",
           "pink",
           "pink",
           "pink",
           "pink",
           "pink",
           "pink",
           "pink",
           "pink",
           "pink",
           "pink",
           "pink",
           "pink",
           "pink",
           "pink",
           "pink",
           "pink",
           "pink",
           "pink",
           "pink",
           "pink",
           "pink",
           "pink",
           "pink",
           "pink",
           "pink",
           "pink",
           "pink",
           "pink",
           "pink",
           "pink",
           "pink",
           "pink",
           "pink",
           "pink",
           "pink",
           "pink",
           "pink",
           "pink",
           "pink",
           "pink",
           "pink",
           "pink",
           "pink",
           "pink",
           "pink",
           "pink",
           "pink",
           "pink",
           "pink",
           "pink",
           "pink",
           "pink",
           "pink",
           "pink",
           "pink",
           "pink",
           "pink",
           "pink",
           "pink",
           "pink",
           "pink",
           "pink",
           "pink",
           "pink",
           "pink",
           "purple",
           "purple",
           "purple",
           "purple",
           "purple",
           "purple",
           "purple",
           "purple",
           "purple",
           "purple",
           "purple",
           "purple",
           "purple",
           "purple",
           "purple",
           "purple",
           "purple",
           "purple",
           "purple",
           "purple",
           "purple",
           "purple",
           "purple",
           "purple",
           "purple",
           "purple",
           "purple",
           "purple",
           "purple",
           "purple",
           "purple",
           "purple",
           "purple",
           "purple",
           "purple",
           "purple",
           "purple",
           "purple",
           "purple",
           "purple",
           "purple",
           "purple",
           "purple",
           "purple",
           "purple",
           "purple",
           "purple",
           "purple",
           "purple",
           "purple",
           "purple",
           "purple",
           "purple",
           "purple",
           "purple",
           "purple",
           "purple",
           "purple",
           "purple",
           "purple",
           "purple",
           "purple",
           "purple",
           "purple",
           "purple",
           "purple",
           "purple",
           "purple",
           "purple",
           "purple",
           "purple",
           "purple",
           "purple",
           "purple",
           "purple",
           "purple",
           "purple",
           "purple",
           "purple",
           "purple",
           "purple",
           "purple",
           "purple",
           "purple",
           "purple",
           "purple",
           "purple",
           "purple",
           "purple",
           "purple",
           "purple",
           "purple",
           "purple",
           "purple",
           "purple",
           "purple",
           "purple",
           "purple",
           "purple",
           "purple",
           "purple",
           "purple",
           "purple",
           "purple",
           "purple",
           "purple",
           "purple",
           "purple",
           "purple",
           "purple",
           "purple",
           "purple",
           "purple",
           "purple",
           "purple",
           "purple",
           "purple",
           "purple",
           "purple",
           "purple",
           "purple",
           "purple",
           "purple",
           "purple",
           "purple",
           "purple",
           "purple",
           "purple",
           "purple",
           "purple",
           "purple",
           "purple",
           "purple",
           "purple",
           "purple",
           "purple",
           "purple",
           "purple",
           "purple",
           "purple",
           "purple",
           "purple",
           "purple",
           "purple",
           "purple",
           "purple",
           "purple",
           "purple",
           "purple",
           "purple",
           "purple",
           "purple",
           "purple",
           "purple",
           "purple",
           "purple",
           "purple",
           "purple",
           "purple",
           "purple",
           "purple",
           "purple",
           "purple",
           "purple",
           "purple",
           "purple",
           "purple",
           "purple",
           "purple",
           "purple",
           "purple",
           "purple",
           "purple",
           "purple",
           "purple",
           "purple",
           "purple",
           "purple",
           "purple",
           "purple",
           "purple",
           "purple",
           "purple",
           "purple",
           "purple",
           "purple",
           "purple",
           "purple",
           "purple",
           "purple",
           "purple",
           "purple",
           "purple",
           "purple",
           "purple",
           "purple",
           "purple",
           "purple",
           "purple",
           "purple",
           "purple",
           "purple",
           "purple",
           "purple",
           "purple",
           "purple",
           "purple",
           "purple",
           "purple",
           "purple",
           "purple",
           "purple",
           "purple",
           "purple",
           "purple",
           "purple",
           "purple",
           "purple",
           "purple",
           "purple",
           "purple",
           "purple",
           "purple",
           "purple",
           "purple",
           "purple",
           "purple",
           "purple",
           "purple",
           "purple",
           "purple",
           "purple",
           "purple",
           "purple",
           "purple",
           "purple",
           "purple",
           "purple",
           "purple",
           "purple",
           "purple",
           "purple",
           "purple",
           "purple",
           "purple",
           "purple",
           "purple",
           "purple",
           "purple",
           "purple",
           "purple",
           "purple",
           "purple",
           "purple",
           "purple",
           "purple",
           "purple",
           "purple",
           "purple",
           "purple",
           "purple",
           "purple",
           "purple",
           "purple",
           "purple",
           "purple",
           "purple",
           "purple",
           "purple",
           "purple",
           "purple",
           "purple",
           "purple",
           "purple",
           "purple",
           "purple",
           "purple",
           "purple",
           "purple",
           "purple",
           "green",
           "green",
           "green",
           "green",
           "green",
           "green",
           "green",
           "green",
           "green",
           "green",
           "green",
           "green",
           "green",
           "green",
           "green",
           "green",
           "green",
           "green",
           "green",
           "green",
           "green",
           "green",
           "green",
           "green",
           "green",
           "green",
           "green",
           "green",
           "green",
           "green",
           "green",
           "green",
           "green",
           "green",
           "green",
           "green",
           "green",
           "green",
           "green",
           "green",
           "green",
           "green",
           "green",
           "green",
           "green",
           "green",
           "green",
           "green",
           "green",
           "green",
           "green",
           "green",
           "green",
           "green",
           "green",
           "green",
           "green",
           "green",
           "green",
           "green",
           "green",
           "green",
           "green",
           "green",
           "green",
           "green",
           "green",
           "green",
           "green",
           "green",
           "green",
           "green",
           "green",
           "green",
           "green",
           "green",
           "green",
           "green",
           "green",
           "green",
           "green",
           "green",
           "green",
           "green",
           "green",
           "green",
           "green",
           "green",
           "green",
           "green",
           "green",
           "green",
           "green",
           "green",
           "green",
           "green",
           "green",
           "green",
           "green",
           "green",
           "green",
           "green",
           "green",
           "green",
           "green",
           "green",
           "green",
           "green",
           "green",
           "green",
           "green",
           "green",
           "green",
           "green",
           "green",
           "green",
           "green",
           "green",
           "green",
           "green",
           "green",
           "green",
           "green",
           "green",
           "green",
           "green",
           "green",
           "green",
           "green",
           "green",
           "green",
           "green",
           "green",
           "green",
           "green",
           "green",
           "green",
           "green",
           "green",
           "green",
           "green",
           "green",
           "green",
           "green",
           "green",
           "green",
           "green",
           "green",
           "green",
           "green",
           "green",
           "green",
           "green",
           "green",
           "green",
           "green",
           "green",
           "green",
           "green",
           "green",
           "green",
           "green",
           "green",
           "green",
           "green",
           "green",
           "green",
           "green",
           "green",
           "green",
           "green",
           "green",
           "green",
           "green",
           "green",
           "green",
           "green",
           "green",
           "green",
           "green",
           "green",
           "green",
           "green",
           "green",
           "green",
           "green",
           "green",
           "green",
           "green",
           "green",
           "green",
           "green",
           "green",
           "green",
           "green",
           "green",
           "green",
           "green",
           "green",
           "green",
           "green",
           "green",
           "green",
           "green",
           "green",
           "green",
           "green",
           "green",
           "green",
           "green",
           "green",
           "green",
           "green",
           "green",
           "green",
           "green",
           "green",
           "green",
           "green",
           "green",
           "green",
           "green",
           "green",
           "green",
           "green",
           "green",
           "green",
           "green",
           "green",
           "green",
           "green",
           "green",
           "green",
           "green",
           "green",
           "green",
           "green",
           "green",
           "green",
           "green",
           "green",
           "green",
           "green",
           "green",
           "green",
           "green",
           "green",
           "green",
           "green",
           "green",
           "green",
           "green",
           "green",
           "green",
           "green",
           "green",
           "green",
           "green",
           "green",
           "green",
           "green",
           "green",
           "green",
           "green",
           "green",
           "green",
           "green",
           "green",
           "green",
           "green",
           "green",
           "green",
           "green",
           "green",
           "green",
           "green",
           "green",
           "green",
           "green",
           "green"
          ],
          "source": [
           0,
           0,
           0,
           0,
           0,
           0,
           0,
           0,
           0,
           0,
           0,
           0,
           0,
           0,
           0,
           0,
           0,
           0,
           0,
           0,
           0,
           0,
           0,
           0,
           0,
           0,
           0,
           0,
           0,
           0,
           0,
           0,
           0,
           0,
           0,
           0,
           0,
           0,
           0,
           0,
           0,
           0,
           0,
           0,
           0,
           0,
           0,
           0,
           0,
           0,
           0,
           0,
           0,
           0,
           0,
           0,
           0,
           0,
           0,
           0,
           0,
           0,
           0,
           0,
           0,
           0,
           0,
           0,
           0,
           0,
           0,
           0,
           0,
           0,
           0,
           0,
           0,
           0,
           0,
           0,
           0,
           0,
           0,
           0,
           0,
           0,
           0,
           0,
           0,
           0,
           0,
           0,
           0,
           0,
           0,
           0,
           0,
           0,
           0,
           0,
           0,
           0,
           0,
           0,
           0,
           0,
           0,
           0,
           0,
           0,
           0,
           0,
           0,
           0,
           0,
           0,
           0,
           0,
           0,
           0,
           0,
           0,
           0,
           0,
           0,
           0,
           0,
           0,
           0,
           0,
           0,
           0,
           0,
           0,
           0,
           0,
           0,
           0,
           0,
           0,
           0,
           0,
           0,
           0,
           0,
           0,
           0,
           0,
           0,
           0,
           0,
           0,
           0,
           0,
           0,
           0,
           0,
           0,
           0,
           0,
           0,
           0,
           0,
           0,
           0,
           0,
           0,
           0,
           0,
           0,
           0,
           0,
           0,
           0,
           0,
           0,
           0,
           0,
           0,
           0,
           0,
           0,
           0,
           0,
           0,
           0,
           0,
           0,
           0,
           0,
           0,
           0,
           0,
           0,
           0,
           0,
           0,
           0,
           0,
           0,
           0,
           0,
           0,
           0,
           0,
           0,
           0,
           0,
           0,
           0,
           0,
           0,
           0,
           0,
           0,
           0,
           0,
           0,
           0,
           0,
           0,
           0,
           0,
           0,
           0,
           0,
           0,
           0,
           0,
           0,
           0,
           0,
           0,
           0,
           0,
           0,
           0,
           0,
           0,
           0,
           0,
           0,
           0,
           0,
           0,
           0,
           0,
           0,
           0,
           0,
           0,
           0,
           0,
           0,
           0,
           0,
           0,
           0,
           0,
           0,
           0,
           0,
           0,
           0,
           0,
           0,
           0,
           0,
           0,
           0,
           0,
           0,
           0,
           0,
           0,
           0,
           0,
           0,
           0,
           0,
           1,
           4,
           1,
           4,
           1,
           4,
           1,
           4,
           1,
           4,
           1,
           4,
           1,
           4,
           1,
           4,
           1,
           4,
           1,
           4,
           1,
           4,
           1,
           4,
           1,
           4,
           1,
           4,
           1,
           4,
           1,
           4,
           1,
           4,
           1,
           4,
           1,
           4,
           1,
           4,
           1,
           4,
           1,
           4,
           1,
           4,
           1,
           4,
           1,
           4,
           1,
           4,
           1,
           4,
           1,
           4,
           1,
           4,
           1,
           4,
           1,
           4,
           1,
           4,
           1,
           4,
           1,
           4,
           1,
           4,
           1,
           4,
           1,
           4,
           1,
           4,
           1,
           4,
           1,
           4,
           1,
           4,
           21,
           23,
           21,
           23,
           21,
           21,
           23,
           23,
           1,
           4,
           27,
           27,
           27,
           27,
           32,
           32,
           27,
           27,
           27,
           27,
           32,
           32,
           32,
           32,
           32,
           32,
           32,
           32,
           39,
           39,
           32,
           32,
           32,
           32,
           39,
           39,
           1,
           4,
           1,
           4,
           1,
           4,
           1,
           4,
           1,
           4,
           1,
           4,
           1,
           4,
           1,
           4,
           1,
           4,
           1,
           4,
           1,
           4,
           1,
           4,
           1,
           4,
           1,
           4,
           1,
           4,
           1,
           4,
           1,
           4,
           1,
           4,
           1,
           4,
           1,
           4,
           21,
           23,
           21,
           21,
           23,
           23,
           23,
           21,
           56,
           56,
           56,
           56,
           56,
           56,
           56,
           56,
           56,
           56,
           56,
           1,
           4,
           1,
           4,
           1,
           4,
           1,
           4,
           1,
           4,
           1,
           4,
           1,
           4,
           1,
           4,
           1,
           4,
           1,
           4,
           1,
           4,
           1,
           4,
           1,
           4,
           1,
           4,
           1,
           4,
           1,
           4,
           1,
           4,
           1,
           4,
           1,
           4,
           1,
           4,
           1,
           4,
           1,
           4,
           1,
           4,
           1,
           4,
           1,
           4,
           1,
           4,
           1,
           4,
           1,
           4,
           1,
           4,
           1,
           4,
           1,
           4,
           1,
           4,
           1,
           4,
           1,
           4,
           1,
           4,
           32,
           32,
           32,
           32,
           32,
           32,
           56,
           56,
           56,
           56,
           56,
           56,
           56,
           56,
           56,
           56,
           56,
           56,
           56,
           56,
           56,
           56,
           56,
           56,
           1,
           1,
           4,
           4,
           56,
           56,
           56,
           1,
           4,
           2,
           5,
           2,
           5,
           2,
           5,
           2,
           5,
           2,
           5,
           2,
           5,
           2,
           5,
           2,
           5,
           2,
           5,
           2,
           5,
           2,
           5,
           2,
           5,
           2,
           5,
           2,
           5,
           2,
           5,
           2,
           5,
           2,
           5,
           2,
           5,
           2,
           5,
           2,
           5,
           2,
           5,
           2,
           5,
           2,
           5,
           2,
           5,
           2,
           5,
           2,
           5,
           2,
           5,
           2,
           5,
           2,
           5,
           2,
           5,
           2,
           5,
           2,
           5,
           2,
           5,
           2,
           5,
           2,
           5,
           2,
           5,
           17,
           18,
           2,
           5,
           17,
           18,
           17,
           18,
           17,
           18,
           22,
           24,
           25,
           26,
           25,
           25,
           26,
           26,
           17,
           18,
           28,
           30,
           28,
           30,
           33,
           35,
           28,
           30,
           28,
           30,
           35,
           33,
           35,
           33,
           35,
           33,
           35,
           33,
           40,
           42,
           35,
           33,
           35,
           33,
           40,
           42,
           44,
           46,
           44,
           46,
           44,
           46,
           44,
           46,
           44,
           46,
           44,
           46,
           44,
           46,
           44,
           46,
           44,
           46,
           44,
           46,
           44,
           46,
           44,
           46,
           44,
           46,
           44,
           46,
           44,
           46,
           44,
           46,
           44,
           46,
           44,
           46,
           44,
           46,
           44,
           46,
           25,
           26,
           25,
           25,
           26,
           26,
           26,
           25,
           57,
           57,
           57,
           57,
           57,
           57,
           57,
           57,
           57,
           57,
           57,
           44,
           46,
           44,
           46,
           44,
           46,
           44,
           46,
           44,
           46,
           44,
           46,
           44,
           46,
           44,
           46,
           44,
           46,
           44,
           46,
           44,
           46,
           44,
           46,
           44,
           46,
           44,
           46,
           44,
           46,
           44,
           46,
           44,
           46,
           44,
           46,
           44,
           46,
           44,
           46,
           44,
           46,
           44,
           46,
           44,
           46,
           44,
           46,
           44,
           46,
           44,
           46,
           44,
           46,
           44,
           46,
           44,
           46,
           44,
           46,
           44,
           46,
           44,
           46,
           44,
           46,
           44,
           46,
           44,
           46,
           33,
           35,
           35,
           33,
           35,
           33,
           61,
           63,
           61,
           63,
           61,
           63,
           61,
           63,
           61,
           63,
           61,
           63,
           61,
           63,
           61,
           63,
           61,
           63,
           17,
           2,
           18,
           5,
           77,
           77,
           57,
           44,
           46
          ],
          "target": [
           1,
           4,
           1,
           4,
           1,
           4,
           1,
           4,
           1,
           4,
           1,
           4,
           1,
           4,
           1,
           4,
           1,
           4,
           1,
           4,
           1,
           4,
           1,
           4,
           1,
           4,
           1,
           4,
           1,
           4,
           1,
           4,
           1,
           4,
           1,
           4,
           1,
           4,
           1,
           4,
           1,
           4,
           1,
           4,
           1,
           4,
           1,
           4,
           1,
           4,
           1,
           4,
           1,
           4,
           1,
           4,
           1,
           4,
           1,
           4,
           1,
           4,
           1,
           4,
           1,
           4,
           1,
           4,
           1,
           4,
           1,
           4,
           1,
           4,
           1,
           4,
           1,
           4,
           1,
           4,
           1,
           4,
           21,
           23,
           21,
           23,
           21,
           21,
           23,
           23,
           1,
           4,
           27,
           27,
           27,
           27,
           32,
           32,
           27,
           27,
           27,
           27,
           32,
           32,
           32,
           32,
           32,
           32,
           32,
           32,
           39,
           39,
           32,
           32,
           32,
           32,
           39,
           39,
           1,
           4,
           1,
           4,
           1,
           4,
           1,
           4,
           1,
           4,
           1,
           4,
           1,
           4,
           1,
           4,
           1,
           4,
           1,
           4,
           1,
           4,
           1,
           4,
           1,
           4,
           1,
           4,
           1,
           4,
           1,
           4,
           1,
           4,
           1,
           4,
           1,
           4,
           1,
           4,
           21,
           23,
           21,
           21,
           23,
           23,
           23,
           21,
           56,
           56,
           56,
           56,
           56,
           56,
           56,
           56,
           56,
           56,
           56,
           1,
           4,
           1,
           4,
           1,
           4,
           1,
           4,
           1,
           4,
           1,
           4,
           1,
           4,
           1,
           4,
           1,
           4,
           1,
           4,
           1,
           4,
           1,
           4,
           1,
           4,
           1,
           4,
           1,
           4,
           1,
           4,
           1,
           4,
           1,
           4,
           1,
           4,
           1,
           4,
           1,
           4,
           1,
           4,
           1,
           4,
           1,
           4,
           1,
           4,
           1,
           4,
           1,
           4,
           1,
           4,
           1,
           4,
           1,
           4,
           1,
           4,
           1,
           4,
           1,
           4,
           1,
           4,
           1,
           4,
           32,
           32,
           32,
           32,
           32,
           32,
           56,
           56,
           56,
           56,
           56,
           56,
           56,
           56,
           56,
           56,
           56,
           56,
           56,
           56,
           56,
           56,
           56,
           56,
           1,
           1,
           4,
           4,
           56,
           56,
           56,
           1,
           4,
           2,
           5,
           2,
           5,
           2,
           5,
           2,
           5,
           2,
           5,
           2,
           5,
           2,
           5,
           2,
           5,
           2,
           5,
           2,
           5,
           2,
           5,
           2,
           5,
           2,
           5,
           2,
           5,
           2,
           5,
           2,
           5,
           2,
           5,
           2,
           5,
           2,
           5,
           2,
           5,
           2,
           5,
           2,
           5,
           2,
           5,
           2,
           5,
           2,
           5,
           2,
           5,
           2,
           5,
           2,
           5,
           2,
           5,
           2,
           5,
           2,
           5,
           2,
           5,
           2,
           5,
           2,
           5,
           2,
           5,
           2,
           5,
           17,
           18,
           2,
           5,
           17,
           18,
           17,
           18,
           17,
           18,
           22,
           24,
           25,
           26,
           25,
           25,
           26,
           26,
           17,
           18,
           28,
           30,
           28,
           30,
           33,
           35,
           28,
           30,
           28,
           30,
           35,
           33,
           35,
           33,
           35,
           33,
           35,
           33,
           40,
           42,
           35,
           33,
           35,
           33,
           40,
           42,
           44,
           46,
           44,
           46,
           44,
           46,
           44,
           46,
           44,
           46,
           44,
           46,
           44,
           46,
           44,
           46,
           44,
           46,
           44,
           46,
           44,
           46,
           44,
           46,
           44,
           46,
           44,
           46,
           44,
           46,
           44,
           46,
           44,
           46,
           44,
           46,
           44,
           46,
           44,
           46,
           25,
           26,
           25,
           25,
           26,
           26,
           26,
           25,
           57,
           57,
           57,
           57,
           57,
           57,
           57,
           57,
           57,
           57,
           57,
           44,
           46,
           44,
           46,
           44,
           46,
           44,
           46,
           44,
           46,
           44,
           46,
           44,
           46,
           44,
           46,
           44,
           46,
           44,
           46,
           44,
           46,
           44,
           46,
           44,
           46,
           44,
           46,
           44,
           46,
           44,
           46,
           44,
           46,
           44,
           46,
           44,
           46,
           44,
           46,
           44,
           46,
           44,
           46,
           44,
           46,
           44,
           46,
           44,
           46,
           44,
           46,
           44,
           46,
           44,
           46,
           44,
           46,
           44,
           46,
           44,
           46,
           44,
           46,
           44,
           46,
           44,
           46,
           44,
           46,
           33,
           35,
           35,
           33,
           35,
           33,
           61,
           63,
           61,
           63,
           61,
           63,
           61,
           63,
           61,
           63,
           61,
           63,
           61,
           63,
           61,
           63,
           61,
           63,
           17,
           2,
           18,
           5,
           77,
           77,
           57,
           44,
           46,
           3,
           6,
           3,
           6,
           3,
           6,
           3,
           6,
           3,
           6,
           3,
           6,
           3,
           6,
           3,
           6,
           3,
           6,
           3,
           6,
           3,
           6,
           7,
           8,
           3,
           6,
           7,
           8,
           7,
           8,
           7,
           8,
           7,
           8,
           9,
           10,
           9,
           10,
           9,
           10,
           9,
           10,
           9,
           10,
           11,
           12,
           11,
           12,
           9,
           10,
           13,
           14,
           13,
           14,
           13,
           14,
           13,
           14,
           13,
           14,
           11,
           12,
           11,
           12,
           11,
           12,
           11,
           12,
           11,
           12,
           15,
           16,
           11,
           12,
           11,
           12,
           19,
           20,
           19,
           20,
           19,
           20,
           22,
           24,
           25,
           26,
           25,
           25,
           26,
           26,
           19,
           20,
           29,
           31,
           29,
           31,
           34,
           36,
           29,
           31,
           29,
           31,
           37,
           38,
           37,
           38,
           37,
           38,
           37,
           38,
           41,
           43,
           37,
           38,
           37,
           38,
           41,
           43,
           45,
           47,
           45,
           47,
           48,
           49,
           50,
           51,
           50,
           51,
           50,
           51,
           52,
           53,
           52,
           53,
           52,
           53,
           52,
           53,
           52,
           53,
           54,
           55,
           54,
           55,
           54,
           55,
           54,
           55,
           52,
           53,
           52,
           53,
           52,
           53,
           45,
           47,
           48,
           49,
           25,
           26,
           25,
           25,
           26,
           26,
           26,
           25,
           58,
           58,
           58,
           58,
           58,
           59,
           59,
           59,
           59,
           59,
           60,
           45,
           47,
           48,
           49,
           45,
           47,
           45,
           47,
           45,
           47,
           45,
           47,
           45,
           47,
           45,
           47,
           45,
           47,
           45,
           47,
           45,
           47,
           45,
           47,
           45,
           47,
           48,
           49,
           45,
           47,
           48,
           49,
           48,
           49,
           48,
           49,
           48,
           49,
           52,
           53,
           52,
           53,
           52,
           53,
           52,
           53,
           52,
           53,
           52,
           53,
           48,
           49,
           48,
           49,
           48,
           49,
           48,
           49,
           48,
           49,
           54,
           55,
           54,
           55,
           54,
           55,
           54,
           55,
           54,
           55,
           34,
           36,
           36,
           34,
           36,
           34,
           62,
           64,
           65,
           66,
           67,
           68,
           67,
           68,
           67,
           68,
           69,
           70,
           71,
           72,
           73,
           74,
           75,
           76,
           19,
           11,
           20,
           12,
           58,
           59,
           78,
           52,
           53
          ],
          "value": [
           0.00935028334411155,
           0.007269870618004106,
           0.009246841403974774,
           0.008323821015062014,
           0.0022265335086782724,
           0.0035257064071793046,
           0.007188853154400478,
           0.008066301220036197,
           0.011790934435170838,
           0.011898716596572094,
           0.003059132621247698,
           0.0029542439406894296,
           0.0032920578291081278,
           0.0027979959751681474,
           0.0031112152764214587,
           0.0026453648607005983,
           0.003399839990509383,
           0.0032479322462525806,
           0.003482304194534504,
           0.0034316682797822366,
           0.004560125808547053,
           0.004491405638526119,
           0.007738614514567953,
           0.008085832215726358,
           0.010666817127670501,
           0.012675616202914025,
           0.005471572274087866,
           0.00501150882005298,
           0.006239791437900838,
           0.006869846891461194,
           0.005374640665847812,
           0.009823367461939876,
           0.005323281380884798,
           0.0047554357654486555,
           0.009372707820644697,
           0.008140084981532358,
           0.003518472705071838,
           0.0039090926188750435,
           0.011746085482104544,
           0.011798891507489051,
           0.0019502060881730417,
           0.002162876930132565,
           0.009081189625713786,
           0.00892349491977101,
           0.0009042127634333465,
           0.0009027660230118531,
           0.0006727342959944098,
           0.000753028389387291,
           0.010150330797197375,
           0.009775625028030597,
           0.0018576147011974671,
           0.0016406036379734638,
           0.011785147473484865,
           0.010245815665015937,
           0.0031032582041032454,
           0.0032370816930913805,
           0.004367709332488437,
           0.004947128871296526,
           0.005836150860304192,
           0.00527264546613253,
           0.0019010169138422676,
           0.0026316208266964117,
           0.00034070736926168497,
           0.000432575386026513,
           0.0011176069756036163,
           0.0011704130009881238,
           0.00888443292839069,
           0.009074679293817065,
           0.0041362308650495,
           0.005872319370841526,
           0.00523792369601669,
           0.005122907832507968,
           0.0014344431279106609,
           0.0016991966250439448,
           0.002837781336759215,
           0.0027017877371388393,
           0.0025824316523656377,
           0.002693107294609879,
           0.0031719783741241793,
           0.0031828289272853795,
           0.0009895704483014545,
           0.0010691411714835888,
           0.004587613876555427,
           0.0046093149828778275,
           0.00048104119014654036,
           0.0005504847303782214,
           0.00029368830556315096,
           0.00029368830556315096,
           0.00029658178640613766,
           0.00029658178640613766,
           0.0005150395900516342,
           0.0005656755048039016,
           0.000253179573761337,
           0.0003110491906210712,
           0.0002799442715589641,
           0.00018518277395114936,
           0.042320050809523606,
           0.04299350847572876,
           0.0013997213577948203,
           0.0014568676044438079,
           0.0016442204890271973,
           0.0018995701734207742,
           0.0011349678606615366,
           0.0010322492907355084,
           0.0006900951810523301,
           0.0007523050191765442,
           0.0020956035005331238,
           0.0021679405216077914,
           0.0006973288831597968,
           0.000616311419556169,
           0.000645246227986036,
           0.0006698408151514231,
           0.0006090777174487022,
           0.0007747294957096913,
           0.00019313984626936282,
           0.0004687438965638468,
           0.0010930123884382293,
           0.0011906673668890307,
           0.009114464655408133,
           0.009606356398715873,
           0.009737286406861022,
           0.010380362524214818,
           0.0031828289272853795,
           0.0027285524349364666,
           0.001869188624569414,
           0.001987821339131869,
           0.00298028526827631,
           0.0032457621356203406,
           0.003925730133722217,
           0.004291032090149289,
           0.00028356112261269744,
           0.00028356112261269744,
           0.0016955797739902113,
           0.0018286798927676,
           0.002451501644220489,
           0.0023849515848317947,
           0.002216406325727819,
           0.0022424476533146995,
           0.002391461916728515,
           0.0022909134574347267,
           0.002267765610690833,
           0.002577368060890411,
           0.0013100234516622324,
           0.001247813613538018,
           0.001030802550314015,
           0.0010402063630537218,
           0.0006532033003042496,
           0.0007204767299036905,
           0.0013078533410299923,
           0.001349085443042553,
           0.005116397500611248,
           0.00410584931619814,
           0.002596899056580571,
           0.002924585762048816,
           0.00026258338650104383,
           0.0001996501781660829,
           0.005055634402908527,
           0.005629266980030642,
           0.0003030921183028577,
           0.00040725742865037925,
           0.0012492603539595115,
           0.0012492603539595115,
           0.0010633542097976156,
           0.0010633542097976156,
           0.00007523050191765443,
           0.00009042127634333466,
           0.0048870891438045514,
           0.006019163523623101,
           0.0032978447907941015,
           0.00030236874809211106,
           0.0006032907557627288,
           0.0042570336902441955,
           0.0057573035073328034,
           0.0029658178640613766,
           0.00008680442528960127,
           0.0006575435215687295,
           0.0017491091695854655,
           0.0006047374961842221,
           0.0006271619727173691,
           0.0005678456154361416,
           0.0004701906369853402,
           0.006092947285119262,
           0.00552727178031536,
           0.006455355760703347,
           0.006343956748248359,
           0.0003703655479022987,
           0.0005859298707048085,
           0.005082399100706154,
           0.005331961823413758,
           0.0035531944751876782,
           0.0044545137577780385,
           0.00160877534870061,
           0.0027632742050523068,
           0.0024732027505428894,
           0.001796851603494746,
           0.003358607888496822,
           0.0026591088947047854,
           0.0018286798927676,
           0.001440953459807381,
           0.0016189025316510636,
           0.0014995464468778618,
           0.002058711619785043,
           0.002536859329088597,
           0.006106691319123449,
           0.006427867692694974,
           0.008726738222447914,
           0.010623414915025702,
           0.005392724921116479,
           0.00528349601929373,
           0.0028464617792881746,
           0.003458432977579864,
           0.002630174086274918,
           0.003688464704597307,
           0.0021592600790788312,
           0.0018344668544535733,
           0.006365657854570759,
           0.005670499082043203,
           0.0009353176824954537,
           0.0009280839803879868,
           0.00682282782776266,
           0.007738614514567953,
           0.0011689662605666304,
           0.0013093000814514858,
           0.004513106744848519,
           0.004018321520697792,
           0.003791183274523335,
           0.004165889043690114,
           0.002310444453124887,
           0.002722765473250493,
           0.008814989388159009,
           0.008758566511720767,
           0.0013801903621046602,
           0.002447884793166756,
           0.004372772923963664,
           0.003486644415798984,
           0.006130562536078089,
           0.004824879305680337,
           0.00018445940374040267,
           0.0000014467404214933544,
           0.00008680442528960127,
           0.00007667724233914778,
           0.00017216211015770916,
           0.00010344194013677484,
           0.0020854763175826704,
           0.0012962794176580455,
           0.0025723044694151843,
           0.0028500786303419083,
           0.0073458244901325066,
           0.00662462439001807,
           0.0020760725048429634,
           0.0019118674670034678,
           0.00039206665422469904,
           0.00041666124139008606,
           0.010853446642043145,
           0.008124894207106678,
           0.001561756285002076,
           0.001265897868806685,
           0.00114943526487647,
           0.0008499599976273457,
           0.0011559455967731901,
           0.001057567248111642,
           0.0004629569348778734,
           0.00020833062069504303,
           0.006321532271715212,
           0.007036945410143676,
           0.0008485132572058524,
           0.001026462329049535,
           0.0013989979875840737,
           0.001485802412873675,
           0.0008239186700404654,
           0.0006582668917794762,
           0.00026258338650104383,
           0.00003616851053733386,
           0.0002495627227076036,
           0.000032551659483600474,
           0.0003211763735715247,
           0.00026837034818701723,
           0.0019530995690160283,
           0.00021122410153802973,
           0.00021122410153802973,
           0.00935028334411155,
           0.007269870618004106,
           0.009246841403974774,
           0.008323821015062014,
           0.0022265335086782724,
           0.0035257064071793046,
           0.007188853154400478,
           0.008066301220036197,
           0.011790934435170838,
           0.011898716596572094,
           0.003059132621247698,
           0.0029542439406894296,
           0.0032920578291081278,
           0.0027979959751681474,
           0.0031112152764214587,
           0.0026453648607005983,
           0.003399839990509383,
           0.0032479322462525806,
           0.003482304194534504,
           0.0034316682797822366,
           0.004560125808547053,
           0.004491405638526119,
           0.007738614514567953,
           0.008085832215726358,
           0.010666817127670501,
           0.012675616202914025,
           0.005471572274087866,
           0.00501150882005298,
           0.006239791437900838,
           0.006869846891461194,
           0.005374640665847812,
           0.009823367461939876,
           0.005323281380884798,
           0.0047554357654486555,
           0.009372707820644697,
           0.008140084981532358,
           0.003518472705071838,
           0.0039090926188750435,
           0.011746085482104544,
           0.011798891507489051,
           0.0019502060881730417,
           0.002162876930132565,
           0.009081189625713786,
           0.00892349491977101,
           0.0009042127634333465,
           0.0009027660230118531,
           0.0006727342959944098,
           0.000753028389387291,
           0.010150330797197375,
           0.009775625028030597,
           0.0018576147011974671,
           0.0016406036379734638,
           0.011785147473484865,
           0.010245815665015937,
           0.0031032582041032454,
           0.0032370816930913805,
           0.004367709332488437,
           0.004947128871296526,
           0.005836150860304192,
           0.00527264546613253,
           0.0019010169138422676,
           0.0026316208266964117,
           0.00034070736926168497,
           0.000432575386026513,
           0.0011176069756036163,
           0.0011704130009881238,
           0.00888443292839069,
           0.009074679293817065,
           0.0041362308650495,
           0.005872319370841526,
           0.00523792369601669,
           0.005122907832507968,
           0.0014344431279106609,
           0.0016991966250439448,
           0.002837781336759215,
           0.0027017877371388393,
           0.0025824316523656377,
           0.002693107294609879,
           0.0031719783741241793,
           0.0031828289272853795,
           0.0009895704483014545,
           0.0010691411714835888,
           0.004587613876555427,
           0.0046093149828778275,
           0.00048104119014654036,
           0.0005504847303782214,
           0.00029368830556315096,
           0.00029368830556315096,
           0.00029658178640613766,
           0.00029658178640613766,
           0.0005150395900516342,
           0.0005656755048039016,
           0.000253179573761337,
           0.0003110491906210712,
           0.0002799442715589641,
           0.00018518277395114936,
           0.042320050809523606,
           0.04299350847572876,
           0.0013997213577948203,
           0.0014568676044438079,
           0.0016442204890271973,
           0.0018995701734207742,
           0.0011349678606615366,
           0.0010322492907355084,
           0.0006900951810523301,
           0.0007523050191765442,
           0.0020956035005331238,
           0.0021679405216077914,
           0.0006973288831597968,
           0.000616311419556169,
           0.000645246227986036,
           0.0006698408151514231,
           0.0006090777174487022,
           0.0007747294957096913,
           0.00019313984626936282,
           0.0004687438965638468,
           0.0010930123884382293,
           0.0011906673668890307,
           0.009114464655408133,
           0.009606356398715873,
           0.009737286406861022,
           0.010380362524214818,
           0.0031828289272853795,
           0.0027285524349364666,
           0.001869188624569414,
           0.001987821339131869,
           0.00298028526827631,
           0.0032457621356203406,
           0.003925730133722217,
           0.004291032090149289,
           0.00028356112261269744,
           0.00028356112261269744,
           0.0016955797739902113,
           0.0018286798927676,
           0.002451501644220489,
           0.0023849515848317947,
           0.002216406325727819,
           0.0022424476533146995,
           0.002391461916728515,
           0.0022909134574347267,
           0.002267765610690833,
           0.002577368060890411,
           0.0013100234516622324,
           0.001247813613538018,
           0.001030802550314015,
           0.0010402063630537218,
           0.0006532033003042496,
           0.0007204767299036905,
           0.0013078533410299923,
           0.001349085443042553,
           0.005116397500611248,
           0.00410584931619814,
           0.002596899056580571,
           0.002924585762048816,
           0.00026258338650104383,
           0.0001996501781660829,
           0.005055634402908527,
           0.005629266980030642,
           0.0003030921183028577,
           0.00040725742865037925,
           0.0012492603539595115,
           0.0012492603539595115,
           0.0010633542097976156,
           0.0010633542097976156,
           0.00007523050191765443,
           0.00009042127634333466,
           0.0048870891438045514,
           0.006019163523623101,
           0.0032978447907941015,
           0.00030236874809211106,
           0.0006032907557627288,
           0.0042570336902441955,
           0.0057573035073328034,
           0.0029658178640613766,
           0.00008680442528960127,
           0.0006575435215687295,
           0.0017491091695854655,
           0.0006047374961842221,
           0.0006271619727173691,
           0.0005678456154361416,
           0.0004701906369853402,
           0.006092947285119262,
           0.00552727178031536,
           0.006455355760703347,
           0.006343956748248359,
           0.0003703655479022987,
           0.0005859298707048085,
           0.005082399100706154,
           0.005331961823413758,
           0.0035531944751876782,
           0.0044545137577780385,
           0.00160877534870061,
           0.0027632742050523068,
           0.0024732027505428894,
           0.001796851603494746,
           0.003358607888496822,
           0.0026591088947047854,
           0.0018286798927676,
           0.001440953459807381,
           0.0016189025316510636,
           0.0014995464468778618,
           0.002058711619785043,
           0.002536859329088597,
           0.006106691319123449,
           0.006427867692694974,
           0.008726738222447914,
           0.010623414915025702,
           0.005392724921116479,
           0.00528349601929373,
           0.0028464617792881746,
           0.003458432977579864,
           0.002630174086274918,
           0.003688464704597307,
           0.0021592600790788312,
           0.0018344668544535733,
           0.006365657854570759,
           0.005670499082043203,
           0.0009353176824954537,
           0.0009280839803879868,
           0.00682282782776266,
           0.007738614514567953,
           0.0011689662605666304,
           0.0013093000814514858,
           0.004513106744848519,
           0.004018321520697792,
           0.003791183274523335,
           0.004165889043690114,
           0.002310444453124887,
           0.002722765473250493,
           0.008814989388159009,
           0.008758566511720767,
           0.0013801903621046602,
           0.002447884793166756,
           0.004372772923963664,
           0.003486644415798984,
           0.006130562536078089,
           0.004824879305680337,
           0.00018445940374040267,
           0.0000014467404214933544,
           0.00008680442528960127,
           0.00007667724233914778,
           0.00017216211015770916,
           0.00010344194013677484,
           0.0020854763175826704,
           0.0012962794176580455,
           0.0025723044694151843,
           0.0028500786303419083,
           0.0073458244901325066,
           0.00662462439001807,
           0.0020760725048429634,
           0.0019118674670034678,
           0.00039206665422469904,
           0.00041666124139008606,
           0.010853446642043145,
           0.008124894207106678,
           0.001561756285002076,
           0.001265897868806685,
           0.00114943526487647,
           0.0008499599976273457,
           0.0011559455967731901,
           0.001057567248111642,
           0.0004629569348778734,
           0.00020833062069504303,
           0.006321532271715212,
           0.007036945410143676,
           0.0008485132572058524,
           0.001026462329049535,
           0.0013989979875840737,
           0.001485802412873675,
           0.0008239186700404654,
           0.0006582668917794762,
           0.00026258338650104383,
           0.00003616851053733386,
           0.0002495627227076036,
           0.000032551659483600474,
           0.0003211763735715247,
           0.00026837034818701723,
           0.0019530995690160283,
           0.00021122410153802973,
           0.00021122410153802973,
           0.00935028334411155,
           0.007269870618004106,
           0.009246841403974774,
           0.008323821015062014,
           0.0022265335086782724,
           0.0035257064071793046,
           0.007188853154400478,
           0.008066301220036197,
           0.011790934435170838,
           0.011898716596572094,
           0.003059132621247698,
           0.0029542439406894296,
           0.0032920578291081278,
           0.0027979959751681474,
           0.0031112152764214587,
           0.0026453648607005983,
           0.003399839990509383,
           0.0032479322462525806,
           0.003482304194534504,
           0.0034316682797822366,
           0.004560125808547053,
           0.004491405638526119,
           0.007738614514567953,
           0.008085832215726358,
           0.010666817127670501,
           0.012675616202914025,
           0.005471572274087866,
           0.00501150882005298,
           0.006239791437900838,
           0.006869846891461194,
           0.005374640665847812,
           0.009823367461939876,
           0.005323281380884798,
           0.0047554357654486555,
           0.009372707820644697,
           0.008140084981532358,
           0.003518472705071838,
           0.0039090926188750435,
           0.011746085482104544,
           0.011798891507489051,
           0.0019502060881730417,
           0.002162876930132565,
           0.009081189625713786,
           0.00892349491977101,
           0.0009042127634333465,
           0.0009027660230118531,
           0.0006727342959944098,
           0.000753028389387291,
           0.010150330797197375,
           0.009775625028030597,
           0.0018576147011974671,
           0.0016406036379734638,
           0.011785147473484865,
           0.010245815665015937,
           0.0031032582041032454,
           0.0032370816930913805,
           0.004367709332488437,
           0.004947128871296526,
           0.005836150860304192,
           0.00527264546613253,
           0.0019010169138422676,
           0.0026316208266964117,
           0.00034070736926168497,
           0.000432575386026513,
           0.0011176069756036163,
           0.0011704130009881238,
           0.00888443292839069,
           0.009074679293817065,
           0.0041362308650495,
           0.005872319370841526,
           0.00523792369601669,
           0.005122907832507968,
           0.0014344431279106609,
           0.0016991966250439448,
           0.002837781336759215,
           0.0027017877371388393,
           0.0025824316523656377,
           0.002693107294609879,
           0.0031719783741241793,
           0.0031828289272853795,
           0.0009895704483014545,
           0.0010691411714835888,
           0.004587613876555427,
           0.0046093149828778275,
           0.00048104119014654036,
           0.0005504847303782214,
           0.00029368830556315096,
           0.00029368830556315096,
           0.00029658178640613766,
           0.00029658178640613766,
           0.0005150395900516342,
           0.0005656755048039016,
           0.000253179573761337,
           0.0003110491906210712,
           0.0002799442715589641,
           0.00018518277395114936,
           0.042320050809523606,
           0.04299350847572876,
           0.0013997213577948203,
           0.0014568676044438079,
           0.0016442204890271973,
           0.0018995701734207742,
           0.0011349678606615366,
           0.0010322492907355084,
           0.0006900951810523301,
           0.0007523050191765442,
           0.0020956035005331238,
           0.0021679405216077914,
           0.0006973288831597968,
           0.000616311419556169,
           0.000645246227986036,
           0.0006698408151514231,
           0.0006090777174487022,
           0.0007747294957096913,
           0.00019313984626936282,
           0.0004687438965638468,
           0.0010930123884382293,
           0.0011906673668890307,
           0.009114464655408133,
           0.009606356398715873,
           0.009737286406861022,
           0.010380362524214818,
           0.0031828289272853795,
           0.0027285524349364666,
           0.001869188624569414,
           0.001987821339131869,
           0.00298028526827631,
           0.0032457621356203406,
           0.003925730133722217,
           0.004291032090149289,
           0.00028356112261269744,
           0.00028356112261269744,
           0.0016955797739902113,
           0.0018286798927676,
           0.002451501644220489,
           0.0023849515848317947,
           0.002216406325727819,
           0.0022424476533146995,
           0.002391461916728515,
           0.0022909134574347267,
           0.002267765610690833,
           0.002577368060890411,
           0.0013100234516622324,
           0.001247813613538018,
           0.001030802550314015,
           0.0010402063630537218,
           0.0006532033003042496,
           0.0007204767299036905,
           0.0013078533410299923,
           0.001349085443042553,
           0.005116397500611248,
           0.00410584931619814,
           0.002596899056580571,
           0.002924585762048816,
           0.00026258338650104383,
           0.0001996501781660829,
           0.005055634402908527,
           0.005629266980030642,
           0.0003030921183028577,
           0.00040725742865037925,
           0.0012492603539595115,
           0.0012492603539595115,
           0.0010633542097976156,
           0.0010633542097976156,
           0.00007523050191765443,
           0.00009042127634333466,
           0.0048870891438045514,
           0.006019163523623101,
           0.0032978447907941015,
           0.00030236874809211106,
           0.0006032907557627288,
           0.0042570336902441955,
           0.0057573035073328034,
           0.0029658178640613766,
           0.00008680442528960127,
           0.0006575435215687295,
           0.0017491091695854655,
           0.0006047374961842221,
           0.0006271619727173691,
           0.0005678456154361416,
           0.0004701906369853402,
           0.006092947285119262,
           0.00552727178031536,
           0.006455355760703347,
           0.006343956748248359,
           0.0003703655479022987,
           0.0005859298707048085,
           0.005082399100706154,
           0.005331961823413758,
           0.0035531944751876782,
           0.0044545137577780385,
           0.00160877534870061,
           0.0027632742050523068,
           0.0024732027505428894,
           0.001796851603494746,
           0.003358607888496822,
           0.0026591088947047854,
           0.0018286798927676,
           0.001440953459807381,
           0.0016189025316510636,
           0.0014995464468778618,
           0.002058711619785043,
           0.002536859329088597,
           0.006106691319123449,
           0.006427867692694974,
           0.008726738222447914,
           0.010623414915025702,
           0.005392724921116479,
           0.00528349601929373,
           0.0028464617792881746,
           0.003458432977579864,
           0.002630174086274918,
           0.003688464704597307,
           0.0021592600790788312,
           0.0018344668544535733,
           0.006365657854570759,
           0.005670499082043203,
           0.0009353176824954537,
           0.0009280839803879868,
           0.00682282782776266,
           0.007738614514567953,
           0.0011689662605666304,
           0.0013093000814514858,
           0.004513106744848519,
           0.004018321520697792,
           0.003791183274523335,
           0.004165889043690114,
           0.002310444453124887,
           0.002722765473250493,
           0.008814989388159009,
           0.008758566511720767,
           0.0013801903621046602,
           0.002447884793166756,
           0.004372772923963664,
           0.003486644415798984,
           0.006130562536078089,
           0.004824879305680337,
           0.00018445940374040267,
           0.0000014467404214933544,
           0.00008680442528960127,
           0.00007667724233914778,
           0.00017216211015770916,
           0.00010344194013677484,
           0.0020854763175826704,
           0.0012962794176580455,
           0.0025723044694151843,
           0.0028500786303419083,
           0.0073458244901325066,
           0.00662462439001807,
           0.0020760725048429634,
           0.0019118674670034678,
           0.00039206665422469904,
           0.00041666124139008606,
           0.010853446642043145,
           0.008124894207106678,
           0.001561756285002076,
           0.001265897868806685,
           0.00114943526487647,
           0.0008499599976273457,
           0.0011559455967731901,
           0.001057567248111642,
           0.0004629569348778734,
           0.00020833062069504303,
           0.006321532271715212,
           0.007036945410143676,
           0.0008485132572058524,
           0.001026462329049535,
           0.0013989979875840737,
           0.001485802412873675,
           0.0008239186700404654,
           0.0006582668917794762,
           0.00026258338650104383,
           0.00003616851053733386,
           0.0002495627227076036,
           0.000032551659483600474,
           0.0003211763735715247,
           0.00026837034818701723,
           0.0019530995690160283,
           0.00021122410153802973,
           0.00021122410153802973
          ]
         },
         "node": {
          "color": [
           "pink",
           "purple",
           "green",
           "blue",
           "purple",
           "green",
           "blue",
           "blue",
           "blue",
           "blue",
           "blue",
           "blue",
           "blue",
           "blue",
           "blue",
           "blue",
           "blue",
           "green",
           "green",
           "blue",
           "blue",
           "purple",
           "green",
           "purple",
           "green",
           "green",
           "green",
           "purple",
           "green",
           "blue",
           "green",
           "blue",
           "purple",
           "green",
           "blue",
           "green",
           "blue",
           "blue",
           "blue",
           "purple",
           "green",
           "blue",
           "green",
           "blue",
           "green",
           "blue",
           "green",
           "blue",
           "blue",
           "blue",
           "blue",
           "blue",
           "blue",
           "blue",
           "blue",
           "blue",
           "purple",
           "green",
           "blue",
           "blue",
           "blue",
           "green",
           "blue",
           "green",
           "blue",
           "blue",
           "blue",
           "blue",
           "blue",
           "blue",
           "blue",
           "blue",
           "blue",
           "blue",
           "blue",
           "blue",
           "blue",
           "green",
           "blue"
          ],
          "label": [
           "ICV",
           "Telencephalon_L",
           "CerebralCortex_L",
           "Frontal_L",
           "Telencephalon_R",
           "CerebralCortex_R",
           "Frontal_R",
           "Parietal_L",
           "Parietal_R",
           "Temporal_L",
           "Temporal_R",
           "Limbic_L",
           "Limbic_R",
           "Occipital_L",
           "Occipital_R",
           "Insula_L",
           "Insula_R",
           "CerebralNucli_L",
           "CerebralNucli_R",
           "BasalGang_L",
           "BasalGang_R",
           "Diencephalon_L",
           "Thalamus_L",
           "Diencephalon_R",
           "Thalamus_R",
           "BasalForebrain_L",
           "BasalForebrain_R",
           "Mesencephalon",
           "Mesencephalon_L",
           "midbrain_L",
           "Mesencephalon_R",
           "midbrain_R",
           "Metencephalon",
           "Metencephalon_R",
           "Cerebellum_R",
           "Metencephalon_L",
           "Cerebellum_L",
           "Pons_L",
           "Pons_R",
           "Myelencephalon",
           "Myelencephalon_L",
           "Medulla_L",
           "Myelencephalon_R",
           "Medulla_R",
           "WhiteMatter_L",
           "AnteriorWM_L",
           "WhiteMatter_R",
           "AnteriorWM_R",
           "PosteriorWM_L",
           "PosteriorWM_R",
           "CorpusCallosum_L",
           "CorpusCallosum_R",
           "InferiorWM_L",
           "InferiorWM_R",
           "LimbicWM_L",
           "LimbicWM_R",
           "CSF",
           "Ventricle",
           "LateralVentricle_L",
           "LateralVentricle_R",
           "III_ventricle",
           "Sulcus_L",
           "FrontSul_L",
           "Sulcus_R",
           "FrontSul_R",
           "CentralSul_L",
           "CentralSul_R",
           "SylvianFissureExt_L",
           "SylvianFissureExt_R",
           "ParietSul_L",
           "ParietSul_R",
           "CinguSul_L",
           "CinguSul_R",
           "OcciptSul_L",
           "OcciptSul_R",
           "TempSul_L",
           "TempSul_R",
           "Ventricle ",
           "IV_ventricle"
          ],
          "line": {
           "color": "black",
           "width": 0.5
          },
          "pad": 20,
          "thickness": 25
         },
         "type": "sankey",
         "valueformat": ".2%",
         "valuesuffix": ""
        }
       ],
       "layout": {
        "font": {
         "color": "black",
         "size": 12
        },
        "height": 800,
        "hovermode": "x",
        "paper_bgcolor": "white",
        "plot_bgcolor": "white",
        "template": {
         "data": {
          "bar": [
           {
            "error_x": {
             "color": "#2a3f5f"
            },
            "error_y": {
             "color": "#2a3f5f"
            },
            "marker": {
             "line": {
              "color": "#E5ECF6",
              "width": 0.5
             },
             "pattern": {
              "fillmode": "overlay",
              "size": 10,
              "solidity": 0.2
             }
            },
            "type": "bar"
           }
          ],
          "barpolar": [
           {
            "marker": {
             "line": {
              "color": "#E5ECF6",
              "width": 0.5
             },
             "pattern": {
              "fillmode": "overlay",
              "size": 10,
              "solidity": 0.2
             }
            },
            "type": "barpolar"
           }
          ],
          "carpet": [
           {
            "aaxis": {
             "endlinecolor": "#2a3f5f",
             "gridcolor": "white",
             "linecolor": "white",
             "minorgridcolor": "white",
             "startlinecolor": "#2a3f5f"
            },
            "baxis": {
             "endlinecolor": "#2a3f5f",
             "gridcolor": "white",
             "linecolor": "white",
             "minorgridcolor": "white",
             "startlinecolor": "#2a3f5f"
            },
            "type": "carpet"
           }
          ],
          "choropleth": [
           {
            "colorbar": {
             "outlinewidth": 0,
             "ticks": ""
            },
            "type": "choropleth"
           }
          ],
          "contour": [
           {
            "colorbar": {
             "outlinewidth": 0,
             "ticks": ""
            },
            "colorscale": [
             [
              0,
              "#0d0887"
             ],
             [
              0.1111111111111111,
              "#46039f"
             ],
             [
              0.2222222222222222,
              "#7201a8"
             ],
             [
              0.3333333333333333,
              "#9c179e"
             ],
             [
              0.4444444444444444,
              "#bd3786"
             ],
             [
              0.5555555555555556,
              "#d8576b"
             ],
             [
              0.6666666666666666,
              "#ed7953"
             ],
             [
              0.7777777777777778,
              "#fb9f3a"
             ],
             [
              0.8888888888888888,
              "#fdca26"
             ],
             [
              1,
              "#f0f921"
             ]
            ],
            "type": "contour"
           }
          ],
          "contourcarpet": [
           {
            "colorbar": {
             "outlinewidth": 0,
             "ticks": ""
            },
            "type": "contourcarpet"
           }
          ],
          "heatmap": [
           {
            "colorbar": {
             "outlinewidth": 0,
             "ticks": ""
            },
            "colorscale": [
             [
              0,
              "#0d0887"
             ],
             [
              0.1111111111111111,
              "#46039f"
             ],
             [
              0.2222222222222222,
              "#7201a8"
             ],
             [
              0.3333333333333333,
              "#9c179e"
             ],
             [
              0.4444444444444444,
              "#bd3786"
             ],
             [
              0.5555555555555556,
              "#d8576b"
             ],
             [
              0.6666666666666666,
              "#ed7953"
             ],
             [
              0.7777777777777778,
              "#fb9f3a"
             ],
             [
              0.8888888888888888,
              "#fdca26"
             ],
             [
              1,
              "#f0f921"
             ]
            ],
            "type": "heatmap"
           }
          ],
          "heatmapgl": [
           {
            "colorbar": {
             "outlinewidth": 0,
             "ticks": ""
            },
            "colorscale": [
             [
              0,
              "#0d0887"
             ],
             [
              0.1111111111111111,
              "#46039f"
             ],
             [
              0.2222222222222222,
              "#7201a8"
             ],
             [
              0.3333333333333333,
              "#9c179e"
             ],
             [
              0.4444444444444444,
              "#bd3786"
             ],
             [
              0.5555555555555556,
              "#d8576b"
             ],
             [
              0.6666666666666666,
              "#ed7953"
             ],
             [
              0.7777777777777778,
              "#fb9f3a"
             ],
             [
              0.8888888888888888,
              "#fdca26"
             ],
             [
              1,
              "#f0f921"
             ]
            ],
            "type": "heatmapgl"
           }
          ],
          "histogram": [
           {
            "marker": {
             "pattern": {
              "fillmode": "overlay",
              "size": 10,
              "solidity": 0.2
             }
            },
            "type": "histogram"
           }
          ],
          "histogram2d": [
           {
            "colorbar": {
             "outlinewidth": 0,
             "ticks": ""
            },
            "colorscale": [
             [
              0,
              "#0d0887"
             ],
             [
              0.1111111111111111,
              "#46039f"
             ],
             [
              0.2222222222222222,
              "#7201a8"
             ],
             [
              0.3333333333333333,
              "#9c179e"
             ],
             [
              0.4444444444444444,
              "#bd3786"
             ],
             [
              0.5555555555555556,
              "#d8576b"
             ],
             [
              0.6666666666666666,
              "#ed7953"
             ],
             [
              0.7777777777777778,
              "#fb9f3a"
             ],
             [
              0.8888888888888888,
              "#fdca26"
             ],
             [
              1,
              "#f0f921"
             ]
            ],
            "type": "histogram2d"
           }
          ],
          "histogram2dcontour": [
           {
            "colorbar": {
             "outlinewidth": 0,
             "ticks": ""
            },
            "colorscale": [
             [
              0,
              "#0d0887"
             ],
             [
              0.1111111111111111,
              "#46039f"
             ],
             [
              0.2222222222222222,
              "#7201a8"
             ],
             [
              0.3333333333333333,
              "#9c179e"
             ],
             [
              0.4444444444444444,
              "#bd3786"
             ],
             [
              0.5555555555555556,
              "#d8576b"
             ],
             [
              0.6666666666666666,
              "#ed7953"
             ],
             [
              0.7777777777777778,
              "#fb9f3a"
             ],
             [
              0.8888888888888888,
              "#fdca26"
             ],
             [
              1,
              "#f0f921"
             ]
            ],
            "type": "histogram2dcontour"
           }
          ],
          "mesh3d": [
           {
            "colorbar": {
             "outlinewidth": 0,
             "ticks": ""
            },
            "type": "mesh3d"
           }
          ],
          "parcoords": [
           {
            "line": {
             "colorbar": {
              "outlinewidth": 0,
              "ticks": ""
             }
            },
            "type": "parcoords"
           }
          ],
          "pie": [
           {
            "automargin": true,
            "type": "pie"
           }
          ],
          "scatter": [
           {
            "fillpattern": {
             "fillmode": "overlay",
             "size": 10,
             "solidity": 0.2
            },
            "type": "scatter"
           }
          ],
          "scatter3d": [
           {
            "line": {
             "colorbar": {
              "outlinewidth": 0,
              "ticks": ""
             }
            },
            "marker": {
             "colorbar": {
              "outlinewidth": 0,
              "ticks": ""
             }
            },
            "type": "scatter3d"
           }
          ],
          "scattercarpet": [
           {
            "marker": {
             "colorbar": {
              "outlinewidth": 0,
              "ticks": ""
             }
            },
            "type": "scattercarpet"
           }
          ],
          "scattergeo": [
           {
            "marker": {
             "colorbar": {
              "outlinewidth": 0,
              "ticks": ""
             }
            },
            "type": "scattergeo"
           }
          ],
          "scattergl": [
           {
            "marker": {
             "colorbar": {
              "outlinewidth": 0,
              "ticks": ""
             }
            },
            "type": "scattergl"
           }
          ],
          "scattermapbox": [
           {
            "marker": {
             "colorbar": {
              "outlinewidth": 0,
              "ticks": ""
             }
            },
            "type": "scattermapbox"
           }
          ],
          "scatterpolar": [
           {
            "marker": {
             "colorbar": {
              "outlinewidth": 0,
              "ticks": ""
             }
            },
            "type": "scatterpolar"
           }
          ],
          "scatterpolargl": [
           {
            "marker": {
             "colorbar": {
              "outlinewidth": 0,
              "ticks": ""
             }
            },
            "type": "scatterpolargl"
           }
          ],
          "scatterternary": [
           {
            "marker": {
             "colorbar": {
              "outlinewidth": 0,
              "ticks": ""
             }
            },
            "type": "scatterternary"
           }
          ],
          "surface": [
           {
            "colorbar": {
             "outlinewidth": 0,
             "ticks": ""
            },
            "colorscale": [
             [
              0,
              "#0d0887"
             ],
             [
              0.1111111111111111,
              "#46039f"
             ],
             [
              0.2222222222222222,
              "#7201a8"
             ],
             [
              0.3333333333333333,
              "#9c179e"
             ],
             [
              0.4444444444444444,
              "#bd3786"
             ],
             [
              0.5555555555555556,
              "#d8576b"
             ],
             [
              0.6666666666666666,
              "#ed7953"
             ],
             [
              0.7777777777777778,
              "#fb9f3a"
             ],
             [
              0.8888888888888888,
              "#fdca26"
             ],
             [
              1,
              "#f0f921"
             ]
            ],
            "type": "surface"
           }
          ],
          "table": [
           {
            "cells": {
             "fill": {
              "color": "#EBF0F8"
             },
             "line": {
              "color": "white"
             }
            },
            "header": {
             "fill": {
              "color": "#C8D4E3"
             },
             "line": {
              "color": "white"
             }
            },
            "type": "table"
           }
          ]
         },
         "layout": {
          "annotationdefaults": {
           "arrowcolor": "#2a3f5f",
           "arrowhead": 0,
           "arrowwidth": 1
          },
          "autotypenumbers": "strict",
          "coloraxis": {
           "colorbar": {
            "outlinewidth": 0,
            "ticks": ""
           }
          },
          "colorscale": {
           "diverging": [
            [
             0,
             "#8e0152"
            ],
            [
             0.1,
             "#c51b7d"
            ],
            [
             0.2,
             "#de77ae"
            ],
            [
             0.3,
             "#f1b6da"
            ],
            [
             0.4,
             "#fde0ef"
            ],
            [
             0.5,
             "#f7f7f7"
            ],
            [
             0.6,
             "#e6f5d0"
            ],
            [
             0.7,
             "#b8e186"
            ],
            [
             0.8,
             "#7fbc41"
            ],
            [
             0.9,
             "#4d9221"
            ],
            [
             1,
             "#276419"
            ]
           ],
           "sequential": [
            [
             0,
             "#0d0887"
            ],
            [
             0.1111111111111111,
             "#46039f"
            ],
            [
             0.2222222222222222,
             "#7201a8"
            ],
            [
             0.3333333333333333,
             "#9c179e"
            ],
            [
             0.4444444444444444,
             "#bd3786"
            ],
            [
             0.5555555555555556,
             "#d8576b"
            ],
            [
             0.6666666666666666,
             "#ed7953"
            ],
            [
             0.7777777777777778,
             "#fb9f3a"
            ],
            [
             0.8888888888888888,
             "#fdca26"
            ],
            [
             1,
             "#f0f921"
            ]
           ],
           "sequentialminus": [
            [
             0,
             "#0d0887"
            ],
            [
             0.1111111111111111,
             "#46039f"
            ],
            [
             0.2222222222222222,
             "#7201a8"
            ],
            [
             0.3333333333333333,
             "#9c179e"
            ],
            [
             0.4444444444444444,
             "#bd3786"
            ],
            [
             0.5555555555555556,
             "#d8576b"
            ],
            [
             0.6666666666666666,
             "#ed7953"
            ],
            [
             0.7777777777777778,
             "#fb9f3a"
            ],
            [
             0.8888888888888888,
             "#fdca26"
            ],
            [
             1,
             "#f0f921"
            ]
           ]
          },
          "colorway": [
           "#636efa",
           "#EF553B",
           "#00cc96",
           "#ab63fa",
           "#FFA15A",
           "#19d3f3",
           "#FF6692",
           "#B6E880",
           "#FF97FF",
           "#FECB52"
          ],
          "font": {
           "color": "#2a3f5f"
          },
          "geo": {
           "bgcolor": "white",
           "lakecolor": "white",
           "landcolor": "#E5ECF6",
           "showlakes": true,
           "showland": true,
           "subunitcolor": "white"
          },
          "hoverlabel": {
           "align": "left"
          },
          "hovermode": "closest",
          "mapbox": {
           "style": "light"
          },
          "paper_bgcolor": "white",
          "plot_bgcolor": "#E5ECF6",
          "polar": {
           "angularaxis": {
            "gridcolor": "white",
            "linecolor": "white",
            "ticks": ""
           },
           "bgcolor": "#E5ECF6",
           "radialaxis": {
            "gridcolor": "white",
            "linecolor": "white",
            "ticks": ""
           }
          },
          "scene": {
           "xaxis": {
            "backgroundcolor": "#E5ECF6",
            "gridcolor": "white",
            "gridwidth": 2,
            "linecolor": "white",
            "showbackground": true,
            "ticks": "",
            "zerolinecolor": "white"
           },
           "yaxis": {
            "backgroundcolor": "#E5ECF6",
            "gridcolor": "white",
            "gridwidth": 2,
            "linecolor": "white",
            "showbackground": true,
            "ticks": "",
            "zerolinecolor": "white"
           },
           "zaxis": {
            "backgroundcolor": "#E5ECF6",
            "gridcolor": "white",
            "gridwidth": 2,
            "linecolor": "white",
            "showbackground": true,
            "ticks": "",
            "zerolinecolor": "white"
           }
          },
          "shapedefaults": {
           "line": {
            "color": "#2a3f5f"
           }
          },
          "ternary": {
           "aaxis": {
            "gridcolor": "white",
            "linecolor": "white",
            "ticks": ""
           },
           "baxis": {
            "gridcolor": "white",
            "linecolor": "white",
            "ticks": ""
           },
           "bgcolor": "#E5ECF6",
           "caxis": {
            "gridcolor": "white",
            "linecolor": "white",
            "ticks": ""
           }
          },
          "title": {
           "x": 0.05
          },
          "xaxis": {
           "automargin": true,
           "gridcolor": "white",
           "linecolor": "white",
           "ticks": "",
           "title": {
            "standoff": 15
           },
           "zerolinecolor": "white",
           "zerolinewidth": 2
          },
          "yaxis": {
           "automargin": true,
           "gridcolor": "white",
           "linecolor": "white",
           "ticks": "",
           "title": {
            "standoff": 15
           },
           "zerolinecolor": "white",
           "zerolinewidth": 2
          }
         }
        },
        "title": {
         "font": {
          "color": "black",
          "size": 10
         },
         "text": "Sankey Diagram: Subject 127 Type=1"
        },
        "width": 1000
       }
      }
     },
     "metadata": {},
     "output_type": "display_data"
    }
   ],
   "source": [
    "import pandas as pd\n",
    "import numpy as np\n",
    "import plotly.graph_objects as go\n",
    "\n",
    "# --- Load subject data and multilevel lookup ---\n",
    "id = 127\n",
    "subjectData = pd.read_csv(\"https://raw.githubusercontent.com/smart-stats/ds4bio_book/main/book/assetts/kirby21AllLevels.csv\")\n",
    "\n",
    "# Filter for Type=1, Level=5, specific subject\n",
    "subjectData = subjectData.loc[(subjectData.type == 1) & (subjectData.level == 5) & (subjectData.id == id)]\n",
    "subjectData = subjectData[['roi', 'volume']]\n",
    "\n",
    "# Columns: roi, level1, level2, level3\n",
    "subjectData = pd.merge(subjectData, multilevel_lookup, on=\"roi\")\n",
    "\n",
    "# Add ICV root\n",
    "subjectData['icv'] = 'ICV'\n",
    "subjectData['comp'] = subjectData['volume'] / np.sum(subjectData['volume'])\n",
    "\n",
    "# --- Prepare Sankey labels ---\n",
    "hierarchy_cols = ['icv', 'level1', 'level2', 'level3']\n",
    "labels = pd.unique(subjectData[hierarchy_cols].values.ravel())\n",
    "label_indices = {label: i for i, label in enumerate(labels)}\n",
    "\n",
    "sources = []\n",
    "targets = []\n",
    "values = []\n",
    "link_colors = []\n",
    "\n",
    "# Define colors per level\n",
    "level_colors = {\n",
    "    'icv': 'pink',\n",
    "    'level1': 'purple',\n",
    "    'level2': 'green',\n",
    "    'level3': 'blue'\n",
    "}\n",
    "\n",
    "# Build links and assign color based on source node\n",
    "for i in range(len(hierarchy_cols) - 1):\n",
    "    src_col = hierarchy_cols[i]\n",
    "    tgt_col = hierarchy_cols[i + 1]\n",
    "    src = subjectData[src_col].map(label_indices)\n",
    "    tgt = subjectData[tgt_col].map(label_indices)\n",
    "    val = subjectData['comp']\n",
    "    sources.append(src)\n",
    "    targets.append(tgt)\n",
    "    values.append(val)\n",
    "    \n",
    "    # Assign link color same as source node\n",
    "    colors = []\n",
    "    for s in src:\n",
    "        node_label = labels[s]\n",
    "        if node_label in subjectData['icv'].values:\n",
    "            colors.append(level_colors['icv'])\n",
    "        elif node_label in subjectData['level1'].values:\n",
    "            colors.append(level_colors['level1'])\n",
    "        elif node_label in subjectData['level2'].values:\n",
    "            colors.append(level_colors['level2'])\n",
    "        else:\n",
    "            colors.append(level_colors['level3'])\n",
    "    link_colors.append(pd.Series(colors))\n",
    "\n",
    "# Concatenate all levels\n",
    "sources_all = pd.concat(sources)\n",
    "targets_all = pd.concat(targets)\n",
    "values_all = pd.concat(values)\n",
    "link_colors_all = pd.concat(link_colors)\n",
    "\n",
    "# --- Plot Sankey diagram ---\n",
    "fig = go.Figure(go.Sankey(\n",
    "    valueformat=\".2%\",\n",
    "    valuesuffix=\"\",\n",
    "    node=dict(\n",
    "        pad=20,\n",
    "        thickness=25,\n",
    "        line=dict(color=\"black\", width=0.5),\n",
    "        label=labels,\n",
    "        color=[level_colors['icv'] if l=='ICV' else \n",
    "               level_colors['level1'] if l in subjectData['level1'].values else\n",
    "               level_colors['level2'] if l in subjectData['level2'].values else\n",
    "               level_colors['level3'] for l in labels]\n",
    "    ),\n",
    "    link=dict(\n",
    "        source=sources_all,\n",
    "        target=targets_all,\n",
    "        value=values_all,\n",
    "        color=link_colors_all\n",
    "    )\n",
    "))\n",
    "\n",
    "fig.update_layout(\n",
    "    hovermode='x',\n",
    "    title=dict(text=f\"Sankey Diagram: Subject {id} Type=1\", font=dict(size=10, color='black')),\n",
    "    font=dict(size=12, color='black'),\n",
    "    plot_bgcolor='white',\n",
    "    paper_bgcolor='white',\n",
    "    width=1000,\n",
    "    height=800\n",
    ")\n",
    "\n",
    "fig.show()\n"
   ]
  },
  {
   "cell_type": "code",
   "execution_count": 13,
   "id": "1c30d705",
   "metadata": {},
   "outputs": [],
   "source": [
    "# Save the Sankey plot as an HTML file\n",
    "fig.write_html(\"sankey.html\")"
   ]
  }
 ],
 "metadata": {
  "kernelspec": {
   "display_name": "base",
   "language": "python",
   "name": "python3"
  },
  "language_info": {
   "codemirror_mode": {
    "name": "ipython",
    "version": 3
   },
   "file_extension": ".py",
   "mimetype": "text/x-python",
   "name": "python",
   "nbconvert_exporter": "python",
   "pygments_lexer": "ipython3",
   "version": "3.9.21"
  }
 },
 "nbformat": 4,
 "nbformat_minor": 5
}
