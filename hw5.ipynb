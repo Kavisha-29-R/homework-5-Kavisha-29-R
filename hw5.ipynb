{
 "cells": [
  {
   "cell_type": "markdown",
   "id": "7292f4b5",
   "metadata": {},
   "source": [
    "# Homework Assignment 5\n",
    "## by Kavisha Reddy"
   ]
  },
  {
   "cell_type": "markdown",
   "id": "7f40ccbf",
   "metadata": {},
   "source": [
    "### Instructions:"
   ]
  },
  {
   "cell_type": "markdown",
   "id": "8da92c97",
   "metadata": {},
   "source": [
    "Submit a PDF or HTML export of your hw5.ipnyb file. Before exporting, select \"Restart & Run All\" to make sure all code runs cleanly and outputs are displayed. Also submit both .html plots.\n",
    "\n",
    "1. Create a python file that webscrapes GDP by country [Wiki - GDP](https://en.wikipedia.org/wiki/List_of_countries_by_GDP_(nominal)). and plots a stacked interactive bar plot using plotly. \n",
    "    - Stack countries within regions using the IMF numbers. \n",
    "    - Please include this in your ipython notebook and output your plot to an html file containing the plot.\n",
    "2. Look at the chapter on interactive graphics [CH - interactive graphic desgin](https://smart-stats.github.io/ds4bio_book/book/_build/html/interactive.html). and, specifically, the code to display a subject's MRICloud data as a sunburst plot. \n",
    "Do the following: \n",
    "    - Display this subject's data as a Sankey diagram [Sankey diagram](https://plotly.com/python/sankey-diagram/). \n",
    "    - Display as many levels as you can (at least 3) for Type = 1, starting from the intracranial volume.\n",
    "3. Create a simple webpage containing the Sankey graphic and host it on github pages. \n",
    "    - Do not - host this off of your assignment repo from github classroom, since this is not public. Instead, you'll have to create a new public repo from your regular github account and add this file. \n",
    "    - Put the link to your live web page in a markdown cell of your hw5.ipynb file as a text block.\n",
    "\n",
    "Your homework should include:\n",
    "* An file called hw5.ipynb that has your code for parts 1 and 2.\n",
    "* Two html files, one called sankey.html and one called stacked_bar.html that contain the two plots as html files.\n",
    "* Your hw5.ipynb file should have a text block that contains a link to the live and publiclyl hosted sankey diagram.\n",
    "\n",
    "Remember that you should have two repositories for this assignment. \n",
    "- First, you need the HW repository that you create when you accept the assignment. This is where you do the work for the three files (hw5.ipynb, sankey.html, stacked_bar.html). \n",
    "- Secondly, you will need to create your own repository containing a live link to your sankey html file. So, when I click on that link it should show a page containing your plot.\n",
    "\n",
    "Note plotly objects contain a method called to_html() which is useful for creating an html file.\n",
    "\n"
   ]
  }
 ],
 "metadata": {
  "kernelspec": {
   "display_name": "Python 3",
   "language": "python",
   "name": "python3"
  },
  "language_info": {
   "codemirror_mode": {
    "name": "ipython",
    "version": 3
   },
   "file_extension": ".py",
   "mimetype": "text/x-python",
   "name": "python",
   "nbconvert_exporter": "python",
   "pygments_lexer": "ipython3",
   "version": "3.10.4"
  }
 },
 "nbformat": 4,
 "nbformat_minor": 5
}
