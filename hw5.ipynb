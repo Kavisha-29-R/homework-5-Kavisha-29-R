{
 "cells": [
  {
   "cell_type": "markdown",
   "id": "7292f4b5",
   "metadata": {},
   "source": [
    "# Homework Assignment 5\n",
    "## by Kavisha Reddy"
   ]
  },
  {
   "cell_type": "markdown",
   "id": "7f40ccbf",
   "metadata": {},
   "source": [
    "### Instructions:"
   ]
  },
  {
   "cell_type": "markdown",
   "id": "8da92c97",
   "metadata": {},
   "source": [
    "Submit a PDF or HTML export of your hw5.ipnyb file. Before exporting, select \"Restart & Run All\" to make sure all code runs cleanly and outputs are displayed. Also submit both .html plots.\n",
    "\n",
    "1. Create a python file that webscrapes GDP by country [Wiki - GDP](https://en.wikipedia.org/wiki/List_of_countries_by_GDP_(nominal)). and plots a stacked interactive bar plot using plotly. \n",
    "    - Stack countries within regions using the IMF numbers. \n",
    "    - Please include this in your ipython notebook and output your plot to an html file containing the plot.\n",
    "2. Look at the chapter on interactive graphics [CH - interactive graphic desgin](https://smart-stats.github.io/ds4bio_book/book/_build/html/interactive.html). and, specifically, the code to display a subject's MRICloud data as a sunburst plot. \n",
    "Do the following: \n",
    "    - Display this subject's data as a Sankey diagram [Sankey diagram](https://plotly.com/python/sankey-diagram/). \n",
    "    - Display as many levels as you can (at least 3) for Type = 1, starting from the intracranial volume.\n",
    "3. Create a simple webpage containing the Sankey graphic and host it on github pages. \n",
    "    - Do not - host this off of your assignment repo from github classroom, since this is not public. Instead, you'll have to create a new public repo from your regular github account and add this file. \n",
    "    - Put the link to your live web page in a markdown cell of your hw5.ipynb file as a text block.\n",
    "\n",
    "Your homework should include:\n",
    "* An file called hw5.ipynb that has your code for parts 1 and 2.\n",
    "* Two html files, one called sankey.html and one called stacked_bar.html that contain the two plots as html files.\n",
    "* Your hw5.ipynb file should have a text block that contains a link to the live and publiclyl hosted sankey diagram.\n",
    "\n",
    "Remember that you should have two repositories for this assignment. \n",
    "- First, you need the HW repository that you create when you accept the assignment. This is where you do the work for the three files (hw5.ipynb, sankey.html, stacked_bar.html). \n",
    "- Secondly, you will need to create your own repository containing a live link to your sankey html file. So, when I click on that link it should show a page containing your plot.\n",
    "\n",
    "Note plotly objects contain a method called to_html() which is useful for creating an html file.\n",
    "\n"
   ]
  },
  {
   "cell_type": "code",
   "execution_count": 1,
   "id": "66d9632b",
   "metadata": {},
   "outputs": [],
   "source": [
    "# Standard imports used in both parts\n",
    "import os\n",
    "import pandas as pd\n",
    "import numpy as np\n",
    "import requests\n",
    "from bs4 import BeautifulSoup\n",
    "import plotly.express as px\n",
    "import plotly.graph_objects as go\n",
    "\n",
    "# Optional helper: country_converter (nice for mapping country -> continent/UN region)\n",
    "try:\n",
    "    import country_converter as coco   \n",
    "except Exception:\n",
    "    coco = None\n",
    "    print(\"country_converter not available: region mapping will fall back on a small manual map (see notes).\")\n"
   ]
  },
  {
   "cell_type": "markdown",
   "id": "85dd29e9",
   "metadata": {},
   "source": [
    "### 1. Web-scrape GDP by country (IMF numbers) and stacked interactive bar plot"
   ]
  },
  {
   "cell_type": "code",
   "execution_count": 2,
   "id": "7511629a",
   "metadata": {},
   "outputs": [
    {
     "name": "stdout",
     "output_type": "stream",
     "text": [
      "Found 1 tables\n"
     ]
    }
   ],
   "source": [
    "# Download the Wikipedia page with a browser-like User-Agent header\n",
    "wiki_url = \"https://en.wikipedia.org/wiki/List_of_countries_by_GDP_(nominal)\"\n",
    "\n",
    "headers = {\n",
    "    \"User-Agent\": \"Mozilla/5.0 (Windows NT 10.0; Win64; x64) \"\n",
    "                  \"AppleWebKit/537.36 (KHTML, like Gecko) \"\n",
    "                  \"Chrome/120.0.0.0 Safari/537.36\"\n",
    "}\n",
    "\n",
    "resp = requests.get(wiki_url, headers=headers)\n",
    "resp.raise_for_status()  # stop if page couldn't be fetched\n",
    "\n",
    "# BeautifulSoup parse\n",
    "soup = BeautifulSoup(resp.text, \"html.parser\")\n",
    "\n",
    "# Extract all wikitables\n",
    "tables = soup.find_all(\"table\", {\"class\": \"wikitable\"})\n",
    "len(tables)\n",
    "# Use pandas.read_html directly with the headers (need to pass resp.text)\n",
    "#tables = pd.read_html(resp.text)\n",
    "print(f\"Found {len(tables)} tables\")\n"
   ]
  },
  {
   "cell_type": "code",
   "execution_count": 3,
   "id": "eb30d96b",
   "metadata": {},
   "outputs": [
    {
     "name": "stderr",
     "output_type": "stream",
     "text": [
      "C:\\Users\\Kavisha\\AppData\\Local\\Temp\\ipykernel_31840\\964544547.py:2: FutureWarning: Passing literal html to 'read_html' is deprecated and will be removed in a future version. To read from a literal string, wrap it in a 'StringIO' object.\n",
      "  imf_df = pd.read_html(str(tables[0]))[0]\n"
     ]
    },
    {
     "data": {
      "application/vnd.microsoft.datawrangler.viewer.v0+json": {
       "columns": [
        {
         "name": "index",
         "rawType": "int64",
         "type": "integer"
        },
        {
         "name": "Country",
         "rawType": "object",
         "type": "string"
        },
        {
         "name": "IMF (2025)",
         "rawType": "object",
         "type": "string"
        },
        {
         "name": "World Bank (2022–24)",
         "rawType": "object",
         "type": "string"
        },
        {
         "name": "United Nations (2023)",
         "rawType": "object",
         "type": "string"
        }
       ],
       "ref": "c32c4e50-85c7-46da-9be7-96e0f7ac92c4",
       "rows": [
        [
         "0",
         "World",
         "113795678",
         "111326370",
         "100834796"
        ],
        [
         "1",
         "United States",
         "30507217",
         "29184890",
         "27720700"
        ],
        [
         "2",
         "China[n 1]",
         "19231705",
         "18743803",
         "17794782"
        ],
        [
         "3",
         "Germany",
         "4744804",
         "4659929",
         "4525704"
        ],
        [
         "4",
         "India",
         "4187017",
         "3912686",
         "3575778"
        ]
       ],
       "shape": {
        "columns": 4,
        "rows": 5
       }
      },
      "text/html": [
       "<div>\n",
       "<style scoped>\n",
       "    .dataframe tbody tr th:only-of-type {\n",
       "        vertical-align: middle;\n",
       "    }\n",
       "\n",
       "    .dataframe tbody tr th {\n",
       "        vertical-align: top;\n",
       "    }\n",
       "\n",
       "    .dataframe thead th {\n",
       "        text-align: right;\n",
       "    }\n",
       "</style>\n",
       "<table border=\"1\" class=\"dataframe\">\n",
       "  <thead>\n",
       "    <tr style=\"text-align: right;\">\n",
       "      <th></th>\n",
       "      <th>Country</th>\n",
       "      <th>IMF (2025)</th>\n",
       "      <th>World Bank (2022–24)</th>\n",
       "      <th>United Nations (2023)</th>\n",
       "    </tr>\n",
       "  </thead>\n",
       "  <tbody>\n",
       "    <tr>\n",
       "      <th>0</th>\n",
       "      <td>World</td>\n",
       "      <td>113795678</td>\n",
       "      <td>111326370</td>\n",
       "      <td>100834796</td>\n",
       "    </tr>\n",
       "    <tr>\n",
       "      <th>1</th>\n",
       "      <td>United States</td>\n",
       "      <td>30507217</td>\n",
       "      <td>29184890</td>\n",
       "      <td>27720700</td>\n",
       "    </tr>\n",
       "    <tr>\n",
       "      <th>2</th>\n",
       "      <td>China[n 1]</td>\n",
       "      <td>19231705</td>\n",
       "      <td>18743803</td>\n",
       "      <td>17794782</td>\n",
       "    </tr>\n",
       "    <tr>\n",
       "      <th>3</th>\n",
       "      <td>Germany</td>\n",
       "      <td>4744804</td>\n",
       "      <td>4659929</td>\n",
       "      <td>4525704</td>\n",
       "    </tr>\n",
       "    <tr>\n",
       "      <th>4</th>\n",
       "      <td>India</td>\n",
       "      <td>4187017</td>\n",
       "      <td>3912686</td>\n",
       "      <td>3575778</td>\n",
       "    </tr>\n",
       "  </tbody>\n",
       "</table>\n",
       "</div>"
      ],
      "text/plain": [
       "         Country IMF (2025) World Bank (2022–24) United Nations (2023)\n",
       "0          World  113795678            111326370             100834796\n",
       "1  United States   30507217             29184890              27720700\n",
       "2     China[n 1]   19231705             18743803              17794782\n",
       "3        Germany    4744804              4659929               4525704\n",
       "4          India    4187017              3912686               3575778"
      ]
     },
     "execution_count": 3,
     "metadata": {},
     "output_type": "execute_result"
    }
   ],
   "source": [
    "# Convert the first big table to pandas DataFrame\n",
    "imf_df = pd.read_html(str(tables[0]))[0]\n",
    "\n",
    "# Clean column names (remove footnotes)\n",
    "imf_df.columns = [c.split(\"[\")[0].strip() for c in imf_df.columns]\n",
    "\n",
    "# Rename the country column for clarity\n",
    "if \"Country/Territory\" in imf_df.columns:\n",
    "    imf_df.rename(columns={\"Country/Territory\": \"Country\"}, inplace=True)\n",
    "\n",
    "# Show first few rows\n",
    "imf_df.head()\n"
   ]
  },
  {
   "cell_type": "code",
   "execution_count": 5,
   "id": "0e3fc155",
   "metadata": {},
   "outputs": [
    {
     "data": {
      "application/vnd.microsoft.datawrangler.viewer.v0+json": {
       "columns": [
        {
         "name": "index",
         "rawType": "int64",
         "type": "integer"
        },
        {
         "name": "Country",
         "rawType": "object",
         "type": "string"
        },
        {
         "name": "IMF (2025)",
         "rawType": "float64",
         "type": "float"
        }
       ],
       "ref": "dd82028d-a1f1-48b5-a324-aaaa243fca07",
       "rows": [
        [
         "0",
         "United States",
         "30507217.0"
        ],
        [
         "1",
         "China[n 1]",
         "19231705.0"
        ],
        [
         "2",
         "Germany",
         "4744804.0"
        ],
        [
         "3",
         "India",
         "4187017.0"
        ],
        [
         "4",
         "Japan",
         "4186431.0"
        ],
        [
         "5",
         "United Kingdom",
         "3839180.0"
        ],
        [
         "6",
         "France",
         "3211292.0"
        ],
        [
         "7",
         "Italy",
         "2422855.0"
        ],
        [
         "8",
         "Canada",
         "2225341.0"
        ],
        [
         "9",
         "Brazil",
         "2125958.0"
        ]
       ],
       "shape": {
        "columns": 2,
        "rows": 10
       }
      },
      "text/html": [
       "<div>\n",
       "<style scoped>\n",
       "    .dataframe tbody tr th:only-of-type {\n",
       "        vertical-align: middle;\n",
       "    }\n",
       "\n",
       "    .dataframe tbody tr th {\n",
       "        vertical-align: top;\n",
       "    }\n",
       "\n",
       "    .dataframe thead th {\n",
       "        text-align: right;\n",
       "    }\n",
       "</style>\n",
       "<table border=\"1\" class=\"dataframe\">\n",
       "  <thead>\n",
       "    <tr style=\"text-align: right;\">\n",
       "      <th></th>\n",
       "      <th>Country</th>\n",
       "      <th>IMF (2025)</th>\n",
       "    </tr>\n",
       "  </thead>\n",
       "  <tbody>\n",
       "    <tr>\n",
       "      <th>0</th>\n",
       "      <td>United States</td>\n",
       "      <td>30507217.0</td>\n",
       "    </tr>\n",
       "    <tr>\n",
       "      <th>1</th>\n",
       "      <td>China[n 1]</td>\n",
       "      <td>19231705.0</td>\n",
       "    </tr>\n",
       "    <tr>\n",
       "      <th>2</th>\n",
       "      <td>Germany</td>\n",
       "      <td>4744804.0</td>\n",
       "    </tr>\n",
       "    <tr>\n",
       "      <th>3</th>\n",
       "      <td>India</td>\n",
       "      <td>4187017.0</td>\n",
       "    </tr>\n",
       "    <tr>\n",
       "      <th>4</th>\n",
       "      <td>Japan</td>\n",
       "      <td>4186431.0</td>\n",
       "    </tr>\n",
       "    <tr>\n",
       "      <th>5</th>\n",
       "      <td>United Kingdom</td>\n",
       "      <td>3839180.0</td>\n",
       "    </tr>\n",
       "    <tr>\n",
       "      <th>6</th>\n",
       "      <td>France</td>\n",
       "      <td>3211292.0</td>\n",
       "    </tr>\n",
       "    <tr>\n",
       "      <th>7</th>\n",
       "      <td>Italy</td>\n",
       "      <td>2422855.0</td>\n",
       "    </tr>\n",
       "    <tr>\n",
       "      <th>8</th>\n",
       "      <td>Canada</td>\n",
       "      <td>2225341.0</td>\n",
       "    </tr>\n",
       "    <tr>\n",
       "      <th>9</th>\n",
       "      <td>Brazil</td>\n",
       "      <td>2125958.0</td>\n",
       "    </tr>\n",
       "  </tbody>\n",
       "</table>\n",
       "</div>"
      ],
      "text/plain": [
       "          Country  IMF (2025)\n",
       "0   United States  30507217.0\n",
       "1      China[n 1]  19231705.0\n",
       "2         Germany   4744804.0\n",
       "3           India   4187017.0\n",
       "4           Japan   4186431.0\n",
       "5  United Kingdom   3839180.0\n",
       "6          France   3211292.0\n",
       "7           Italy   2422855.0\n",
       "8          Canada   2225341.0\n",
       "9          Brazil   2125958.0"
      ]
     },
     "execution_count": 5,
     "metadata": {},
     "output_type": "execute_result"
    }
   ],
   "source": [
    "# Pick only Country + IMF column\n",
    "# (the IMF column name might be like 'IMF (2025)')\n",
    "imf_col = [c for c in imf_df.columns if \"IMF\" in c][0]\n",
    "\n",
    "gdp_df = imf_df[[\"Country\", imf_col]].copy()\n",
    "\n",
    "# Filter out 'World' or aggregates\n",
    "exclude = [\n",
    "    \"World\", \"World total\", \"European Union\", \"Eurozone\",\n",
    "    \"Asia\", \"Africa\", \"Europe\", \"Americas\", \"Oceania\"\n",
    "]\n",
    "gdp_df = gdp_df[~gdp_df[\"Country\"].isin(exclude)]\n",
    "\n",
    "# Clean GDP values (remove commas etc.)\n",
    "gdp_df[imf_col] = (\n",
    "    gdp_df[imf_col]\n",
    "    .astype(str)\n",
    "    .str.replace(\",\", \"\", regex=False)\n",
    "    .str.replace(r\"[^0-9.]\", \"\", regex=True)\n",
    "    .replace(\"\", None)\n",
    "    .astype(float)\n",
    ")\n",
    "\n",
    "# Drop rows with no IMF data\n",
    "gdp_df = gdp_df.dropna(subset=[imf_col]).reset_index(drop=True)\n",
    "\n",
    "gdp_df.head(10)\n"
   ]
  },
  {
   "cell_type": "code",
   "execution_count": 7,
   "id": "ac7a6e6c",
   "metadata": {},
   "outputs": [
    {
     "name": "stdout",
     "output_type": "stream",
     "text": [
      "Detected GDP column: IMF (2025)\n"
     ]
    },
    {
     "data": {
      "application/vnd.microsoft.datawrangler.viewer.v0+json": {
       "columns": [
        {
         "name": "index",
         "rawType": "int64",
         "type": "integer"
        },
        {
         "name": "country",
         "rawType": "object",
         "type": "string"
        },
        {
         "name": "gdp_million_usd",
         "rawType": "float64",
         "type": "float"
        }
       ],
       "ref": "7f9db75e-a616-4562-93fc-7ff8fe52b9f8",
       "rows": [
        [
         "0",
         "United States",
         "30507217.0"
        ],
        [
         "1",
         "China",
         "19231705.0"
        ],
        [
         "2",
         "Germany",
         "4744804.0"
        ],
        [
         "3",
         "India",
         "4187017.0"
        ],
        [
         "4",
         "Japan",
         "4186431.0"
        ],
        [
         "5",
         "United Kingdom",
         "3839180.0"
        ],
        [
         "6",
         "France",
         "3211292.0"
        ],
        [
         "7",
         "Italy",
         "2422855.0"
        ],
        [
         "8",
         "Canada",
         "2225341.0"
        ],
        [
         "9",
         "Brazil",
         "2125958.0"
        ]
       ],
       "shape": {
        "columns": 2,
        "rows": 10
       }
      },
      "text/html": [
       "<div>\n",
       "<style scoped>\n",
       "    .dataframe tbody tr th:only-of-type {\n",
       "        vertical-align: middle;\n",
       "    }\n",
       "\n",
       "    .dataframe tbody tr th {\n",
       "        vertical-align: top;\n",
       "    }\n",
       "\n",
       "    .dataframe thead th {\n",
       "        text-align: right;\n",
       "    }\n",
       "</style>\n",
       "<table border=\"1\" class=\"dataframe\">\n",
       "  <thead>\n",
       "    <tr style=\"text-align: right;\">\n",
       "      <th></th>\n",
       "      <th>country</th>\n",
       "      <th>gdp_million_usd</th>\n",
       "    </tr>\n",
       "  </thead>\n",
       "  <tbody>\n",
       "    <tr>\n",
       "      <th>0</th>\n",
       "      <td>United States</td>\n",
       "      <td>30507217.0</td>\n",
       "    </tr>\n",
       "    <tr>\n",
       "      <th>1</th>\n",
       "      <td>China</td>\n",
       "      <td>19231705.0</td>\n",
       "    </tr>\n",
       "    <tr>\n",
       "      <th>2</th>\n",
       "      <td>Germany</td>\n",
       "      <td>4744804.0</td>\n",
       "    </tr>\n",
       "    <tr>\n",
       "      <th>3</th>\n",
       "      <td>India</td>\n",
       "      <td>4187017.0</td>\n",
       "    </tr>\n",
       "    <tr>\n",
       "      <th>4</th>\n",
       "      <td>Japan</td>\n",
       "      <td>4186431.0</td>\n",
       "    </tr>\n",
       "    <tr>\n",
       "      <th>5</th>\n",
       "      <td>United Kingdom</td>\n",
       "      <td>3839180.0</td>\n",
       "    </tr>\n",
       "    <tr>\n",
       "      <th>6</th>\n",
       "      <td>France</td>\n",
       "      <td>3211292.0</td>\n",
       "    </tr>\n",
       "    <tr>\n",
       "      <th>7</th>\n",
       "      <td>Italy</td>\n",
       "      <td>2422855.0</td>\n",
       "    </tr>\n",
       "    <tr>\n",
       "      <th>8</th>\n",
       "      <td>Canada</td>\n",
       "      <td>2225341.0</td>\n",
       "    </tr>\n",
       "    <tr>\n",
       "      <th>9</th>\n",
       "      <td>Brazil</td>\n",
       "      <td>2125958.0</td>\n",
       "    </tr>\n",
       "  </tbody>\n",
       "</table>\n",
       "</div>"
      ],
      "text/plain": [
       "          country  gdp_million_usd\n",
       "0   United States       30507217.0\n",
       "1           China       19231705.0\n",
       "2         Germany        4744804.0\n",
       "3           India        4187017.0\n",
       "4           Japan        4186431.0\n",
       "5  United Kingdom        3839180.0\n",
       "6          France        3211292.0\n",
       "7           Italy        2422855.0\n",
       "8          Canada        2225341.0\n",
       "9          Brazil        2125958.0"
      ]
     },
     "execution_count": 7,
     "metadata": {},
     "output_type": "execute_result"
    }
   ],
   "source": [
    "# normalize column names and extract GDP value column\n",
    "df = gdp_df.copy()\n",
    "# lower-case column names for easier matching\n",
    "df.columns = [str(c).strip() for c in df.columns]\n",
    "\n",
    "# Try to find a numeric GDP column (some variants: 'GDP (US$million)', 'US$million', 'GDP (millions of US$)')\n",
    "gdp_col = None\n",
    "for c in df.columns:\n",
    "    lc = str(c).lower()\n",
    "    if \"gdp\" in lc and (\"$\" in lc or \"us\" in lc or \"million\" in lc or \"nominal\" in lc):\n",
    "        gdp_col = c\n",
    "        break\n",
    "# If still not found, fall back to any numeric-like column\n",
    "if gdp_col is None:\n",
    "    # try to find first numeric-like column (contains digits or commas)\n",
    "    for c in df.columns:\n",
    "        sample = df[c].astype(str).head(10).str.replace(\",\", \"\").str.replace(\".\", \"\", 1)\n",
    "        if sample.str.isnumeric().any():\n",
    "            gdp_col = c\n",
    "            break\n",
    "\n",
    "if gdp_col is None:\n",
    "    raise RuntimeError(\"Could not find a GDP column automatically. Inspect df.columns to pick the correct column.\")\n",
    "\n",
    "print(\"Detected GDP column:\", gdp_col)\n",
    "\n",
    "# Standardize GDP values to numeric (in US$ millions) by removing commas/footnotes and coercing\n",
    "def to_numeric_money(series):\n",
    "    # Remove bracket footnotes like [1], commas, parentheses, and non-numeric characters\n",
    "    cleaned = series.astype(str).str.replace(r\"\\[.*?\\]\", \"\", regex=True)\n",
    "    cleaned = cleaned.str.replace(\",\", \"\", regex=False)\n",
    "    cleaned = cleaned.str.replace(r\"[^\\d.\\-]\", \"\", regex=True)\n",
    "    return pd.to_numeric(cleaned, errors=\"coerce\")\n",
    "\n",
    "df[\"country\"] = df.iloc[:,0].astype(str).str.replace(r\"\\[.*\\]\", \"\", regex=True).str.strip()\n",
    "df[\"gdp_million_usd\"] = to_numeric_money(df[gdp_col])\n",
    "\n",
    "# drop rows without GDP numeric values\n",
    "df = df.dropna(subset=[\"gdp_million_usd\"]).reset_index(drop=True)\n",
    "df = df[[\"country\", \"gdp_million_usd\"]].copy()\n",
    "df.head(10)\n"
   ]
  },
  {
   "cell_type": "code",
   "execution_count": 8,
   "id": "281185df",
   "metadata": {},
   "outputs": [
    {
     "name": "stdout",
     "output_type": "stream",
     "text": [
      "Countries mapped to 'Other' (you may wish to add to fallback_map):\n",
      "[]\n"
     ]
    }
   ],
   "source": [
    "# Map country -> region (IMF regions or at least continent). We try to use country_converter if available,\n",
    "# otherwise we use a small manual mapping / fallbacks.\n",
    "\n",
    "def map_country_to_region(country_name):\n",
    "    # First try country_converter if available\n",
    "    if coco is not None:\n",
    "        try:\n",
    "            # convert to continent name (e.g., 'Africa', 'Europe')\n",
    "            cont = coco.convert(names=country_name, to='continent')\n",
    "            if cont is not None and cont != \"not found\":\n",
    "                return cont\n",
    "        except Exception:\n",
    "            pass\n",
    "    # Manual quick-fallbacks (extend if you see missing countries)\n",
    "    fallback_map = {\n",
    "        \"United States\": \"North America\",\n",
    "        \"United States of America\": \"North America\",\n",
    "        \"Russia\": \"Europe/Asia\",\n",
    "        \"Bolivia\": \"South America\",\n",
    "        \"Congo\": \"Africa\",\n",
    "        \"DR Congo\": \"Africa\",\n",
    "        \"Côte d'Ivoire\": \"Africa\",\n",
    "        \"Ivory Coast\": \"Africa\",\n",
    "        \"South Korea\": \"Asia\",\n",
    "        \"North Korea\": \"Asia\",\n",
    "        \"Laos\": \"Asia\",\n",
    "        \"Vietnam\": \"Asia\",\n",
    "        \"Syria\": \"Asia\",\n",
    "        \"Palestine\": \"Asia\",\n",
    "        \"Czechia\": \"Europe\",\n",
    "        \"Czech Republic\": \"Europe\",\n",
    "    }\n",
    "    # try exact\n",
    "    if country_name in fallback_map:\n",
    "        return fallback_map[country_name]\n",
    "    # try partial matching (simple)\n",
    "    lname = country_name.lower()\n",
    "    if \"united states\" in lname or lname == \"usa\":\n",
    "        return \"North America\"\n",
    "    if \"korea\" in lname:\n",
    "        return \"Asia\"\n",
    "    if \"china\" in lname or \"india\" in lname or \"japan\" in lname:\n",
    "        return \"Asia\"\n",
    "    if \"island\" in lname or \"seychelles\" in lname or \"mauritius\" in lname:\n",
    "        return \"Africa\"\n",
    "    # last resort: Unknown\n",
    "    return \"Other\"\n",
    "\n",
    "# apply mapping\n",
    "df['region'] = df['country'].apply(map_country_to_region)\n",
    "\n",
    "# Show sample of countries flagged \"Other\" so you can refine mapping if needed\n",
    "others = df[df['region']==\"Other\"]\n",
    "print(\"Countries mapped to 'Other' (you may wish to add to fallback_map):\")\n",
    "print(others['country'].head(20).to_list())\n"
   ]
  },
  {
   "cell_type": "code",
   "execution_count": 9,
   "id": "d7609a81",
   "metadata": {},
   "outputs": [
    {
     "data": {
      "application/vnd.microsoft.datawrangler.viewer.v0+json": {
       "columns": [
        {
         "name": "index",
         "rawType": "int64",
         "type": "integer"
        },
        {
         "name": "region",
         "rawType": "object",
         "type": "string"
        },
        {
         "name": "country",
         "rawType": "object",
         "type": "string"
        },
        {
         "name": "gdp_million_usd",
         "rawType": "float64",
         "type": "float"
        }
       ],
       "ref": "c9462e27-3eda-426f-8017-2d0337e2ca41",
       "rows": [
        [
         "0",
         "Africa",
         "Other (rest)",
         "1103853.0"
        ],
        [
         "1",
         "Africa",
         "South Africa",
         "410338.0"
        ],
        [
         "2",
         "Africa",
         "Egypt",
         "347342.0"
        ],
        [
         "3",
         "Africa",
         "Algeria",
         "268885.0"
        ],
        [
         "4",
         "Africa",
         "Nigeria",
         "188271.0"
        ],
        [
         "5",
         "Africa",
         "Morocco",
         "165835.0"
        ],
        [
         "6",
         "Africa",
         "Kenya",
         "131673.0"
        ],
        [
         "7",
         "Africa",
         "Ethiopia",
         "117457.0"
        ],
        [
         "8",
         "Africa",
         "Angola",
         "113343.0"
        ],
        [
         "9",
         "America",
         "United States",
         "30507217.0"
        ],
        [
         "10",
         "America",
         "Canada",
         "2225341.0"
        ],
        [
         "11",
         "America",
         "Brazil",
         "2125958.0"
        ],
        [
         "12",
         "America",
         "Mexico",
         "1692640.0"
        ],
        [
         "13",
         "America",
         "Other (rest)",
         "1229369.0"
        ],
        [
         "14",
         "America",
         "Argentina",
         "683533.0"
        ],
        [
         "15",
         "America",
         "Colombia",
         "427766.0"
        ],
        [
         "16",
         "America",
         "Chile",
         "343823.0"
        ],
        [
         "17",
         "America",
         "Peru",
         "303293.0"
        ],
        [
         "18",
         "Asia",
         "China",
         "19231705.0"
        ],
        [
         "19",
         "Asia",
         "Other (rest)",
         "6789521.0"
        ],
        [
         "20",
         "Asia",
         "India",
         "4187017.0"
        ],
        [
         "21",
         "Asia",
         "Japan",
         "4186431.0"
        ],
        [
         "22",
         "Asia",
         "South Korea",
         "1790322.0"
        ],
        [
         "23",
         "Asia",
         "Turkey",
         "1437406.0"
        ],
        [
         "24",
         "Asia",
         "Indonesia",
         "1429743.0"
        ],
        [
         "25",
         "Asia",
         "Saudi Arabia",
         "1083749.0"
        ],
        [
         "26",
         "Asia",
         "Taiwan",
         "804889.0"
        ],
        [
         "27",
         "Europe",
         "Other (rest)",
         "7498997.0"
        ],
        [
         "28",
         "Europe",
         "Germany",
         "4744804.0"
        ],
        [
         "29",
         "Europe",
         "United Kingdom",
         "3839180.0"
        ]
       ],
       "shape": {
        "columns": 3,
        "rows": 30
       }
      },
      "text/html": [
       "<div>\n",
       "<style scoped>\n",
       "    .dataframe tbody tr th:only-of-type {\n",
       "        vertical-align: middle;\n",
       "    }\n",
       "\n",
       "    .dataframe tbody tr th {\n",
       "        vertical-align: top;\n",
       "    }\n",
       "\n",
       "    .dataframe thead th {\n",
       "        text-align: right;\n",
       "    }\n",
       "</style>\n",
       "<table border=\"1\" class=\"dataframe\">\n",
       "  <thead>\n",
       "    <tr style=\"text-align: right;\">\n",
       "      <th></th>\n",
       "      <th>region</th>\n",
       "      <th>country</th>\n",
       "      <th>gdp_million_usd</th>\n",
       "    </tr>\n",
       "  </thead>\n",
       "  <tbody>\n",
       "    <tr>\n",
       "      <th>0</th>\n",
       "      <td>Africa</td>\n",
       "      <td>Other (rest)</td>\n",
       "      <td>1103853.0</td>\n",
       "    </tr>\n",
       "    <tr>\n",
       "      <th>1</th>\n",
       "      <td>Africa</td>\n",
       "      <td>South Africa</td>\n",
       "      <td>410338.0</td>\n",
       "    </tr>\n",
       "    <tr>\n",
       "      <th>2</th>\n",
       "      <td>Africa</td>\n",
       "      <td>Egypt</td>\n",
       "      <td>347342.0</td>\n",
       "    </tr>\n",
       "    <tr>\n",
       "      <th>3</th>\n",
       "      <td>Africa</td>\n",
       "      <td>Algeria</td>\n",
       "      <td>268885.0</td>\n",
       "    </tr>\n",
       "    <tr>\n",
       "      <th>4</th>\n",
       "      <td>Africa</td>\n",
       "      <td>Nigeria</td>\n",
       "      <td>188271.0</td>\n",
       "    </tr>\n",
       "    <tr>\n",
       "      <th>5</th>\n",
       "      <td>Africa</td>\n",
       "      <td>Morocco</td>\n",
       "      <td>165835.0</td>\n",
       "    </tr>\n",
       "    <tr>\n",
       "      <th>6</th>\n",
       "      <td>Africa</td>\n",
       "      <td>Kenya</td>\n",
       "      <td>131673.0</td>\n",
       "    </tr>\n",
       "    <tr>\n",
       "      <th>7</th>\n",
       "      <td>Africa</td>\n",
       "      <td>Ethiopia</td>\n",
       "      <td>117457.0</td>\n",
       "    </tr>\n",
       "    <tr>\n",
       "      <th>8</th>\n",
       "      <td>Africa</td>\n",
       "      <td>Angola</td>\n",
       "      <td>113343.0</td>\n",
       "    </tr>\n",
       "    <tr>\n",
       "      <th>9</th>\n",
       "      <td>America</td>\n",
       "      <td>United States</td>\n",
       "      <td>30507217.0</td>\n",
       "    </tr>\n",
       "    <tr>\n",
       "      <th>10</th>\n",
       "      <td>America</td>\n",
       "      <td>Canada</td>\n",
       "      <td>2225341.0</td>\n",
       "    </tr>\n",
       "    <tr>\n",
       "      <th>11</th>\n",
       "      <td>America</td>\n",
       "      <td>Brazil</td>\n",
       "      <td>2125958.0</td>\n",
       "    </tr>\n",
       "    <tr>\n",
       "      <th>12</th>\n",
       "      <td>America</td>\n",
       "      <td>Mexico</td>\n",
       "      <td>1692640.0</td>\n",
       "    </tr>\n",
       "    <tr>\n",
       "      <th>13</th>\n",
       "      <td>America</td>\n",
       "      <td>Other (rest)</td>\n",
       "      <td>1229369.0</td>\n",
       "    </tr>\n",
       "    <tr>\n",
       "      <th>14</th>\n",
       "      <td>America</td>\n",
       "      <td>Argentina</td>\n",
       "      <td>683533.0</td>\n",
       "    </tr>\n",
       "    <tr>\n",
       "      <th>15</th>\n",
       "      <td>America</td>\n",
       "      <td>Colombia</td>\n",
       "      <td>427766.0</td>\n",
       "    </tr>\n",
       "    <tr>\n",
       "      <th>16</th>\n",
       "      <td>America</td>\n",
       "      <td>Chile</td>\n",
       "      <td>343823.0</td>\n",
       "    </tr>\n",
       "    <tr>\n",
       "      <th>17</th>\n",
       "      <td>America</td>\n",
       "      <td>Peru</td>\n",
       "      <td>303293.0</td>\n",
       "    </tr>\n",
       "    <tr>\n",
       "      <th>18</th>\n",
       "      <td>Asia</td>\n",
       "      <td>China</td>\n",
       "      <td>19231705.0</td>\n",
       "    </tr>\n",
       "    <tr>\n",
       "      <th>19</th>\n",
       "      <td>Asia</td>\n",
       "      <td>Other (rest)</td>\n",
       "      <td>6789521.0</td>\n",
       "    </tr>\n",
       "    <tr>\n",
       "      <th>20</th>\n",
       "      <td>Asia</td>\n",
       "      <td>India</td>\n",
       "      <td>4187017.0</td>\n",
       "    </tr>\n",
       "    <tr>\n",
       "      <th>21</th>\n",
       "      <td>Asia</td>\n",
       "      <td>Japan</td>\n",
       "      <td>4186431.0</td>\n",
       "    </tr>\n",
       "    <tr>\n",
       "      <th>22</th>\n",
       "      <td>Asia</td>\n",
       "      <td>South Korea</td>\n",
       "      <td>1790322.0</td>\n",
       "    </tr>\n",
       "    <tr>\n",
       "      <th>23</th>\n",
       "      <td>Asia</td>\n",
       "      <td>Turkey</td>\n",
       "      <td>1437406.0</td>\n",
       "    </tr>\n",
       "    <tr>\n",
       "      <th>24</th>\n",
       "      <td>Asia</td>\n",
       "      <td>Indonesia</td>\n",
       "      <td>1429743.0</td>\n",
       "    </tr>\n",
       "    <tr>\n",
       "      <th>25</th>\n",
       "      <td>Asia</td>\n",
       "      <td>Saudi Arabia</td>\n",
       "      <td>1083749.0</td>\n",
       "    </tr>\n",
       "    <tr>\n",
       "      <th>26</th>\n",
       "      <td>Asia</td>\n",
       "      <td>Taiwan</td>\n",
       "      <td>804889.0</td>\n",
       "    </tr>\n",
       "    <tr>\n",
       "      <th>27</th>\n",
       "      <td>Europe</td>\n",
       "      <td>Other (rest)</td>\n",
       "      <td>7498997.0</td>\n",
       "    </tr>\n",
       "    <tr>\n",
       "      <th>28</th>\n",
       "      <td>Europe</td>\n",
       "      <td>Germany</td>\n",
       "      <td>4744804.0</td>\n",
       "    </tr>\n",
       "    <tr>\n",
       "      <th>29</th>\n",
       "      <td>Europe</td>\n",
       "      <td>United Kingdom</td>\n",
       "      <td>3839180.0</td>\n",
       "    </tr>\n",
       "  </tbody>\n",
       "</table>\n",
       "</div>"
      ],
      "text/plain": [
       "     region         country  gdp_million_usd\n",
       "0    Africa    Other (rest)        1103853.0\n",
       "1    Africa    South Africa         410338.0\n",
       "2    Africa           Egypt         347342.0\n",
       "3    Africa         Algeria         268885.0\n",
       "4    Africa         Nigeria         188271.0\n",
       "5    Africa         Morocco         165835.0\n",
       "6    Africa           Kenya         131673.0\n",
       "7    Africa        Ethiopia         117457.0\n",
       "8    Africa          Angola         113343.0\n",
       "9   America   United States       30507217.0\n",
       "10  America          Canada        2225341.0\n",
       "11  America          Brazil        2125958.0\n",
       "12  America          Mexico        1692640.0\n",
       "13  America    Other (rest)        1229369.0\n",
       "14  America       Argentina         683533.0\n",
       "15  America        Colombia         427766.0\n",
       "16  America           Chile         343823.0\n",
       "17  America            Peru         303293.0\n",
       "18     Asia           China       19231705.0\n",
       "19     Asia    Other (rest)        6789521.0\n",
       "20     Asia           India        4187017.0\n",
       "21     Asia           Japan        4186431.0\n",
       "22     Asia     South Korea        1790322.0\n",
       "23     Asia          Turkey        1437406.0\n",
       "24     Asia       Indonesia        1429743.0\n",
       "25     Asia    Saudi Arabia        1083749.0\n",
       "26     Asia          Taiwan         804889.0\n",
       "27   Europe    Other (rest)        7498997.0\n",
       "28   Europe         Germany        4744804.0\n",
       "29   Europe  United Kingdom        3839180.0"
      ]
     },
     "execution_count": 9,
     "metadata": {},
     "output_type": "execute_result"
    }
   ],
   "source": [
    "# For readability: pick the top N countries per region to include in the stacked bar.\n",
    "# If you want *all* countries you can skip the top-N filter, but stacks become unreadable.\n",
    "TOP_N = 8  # top 8 countries per region\n",
    "\n",
    "top_countries = (\n",
    "    df\n",
    "    .sort_values([\"region\",\"gdp_million_usd\"], ascending=[True, False])\n",
    "    .groupby(\"region\")\n",
    "    .head(TOP_N)\n",
    "    .reset_index(drop=True)\n",
    ")\n",
    "\n",
    "# We also compute a small 'Other' bucket per region (sum of remaining countries)\n",
    "others_summary = (\n",
    "    df\n",
    "    .merge(top_countries[['country']], on='country', how='left', indicator=True)\n",
    "    .query(\"_merge == 'left_only'\")\n",
    "    .groupby('region', as_index=False)\n",
    "    .agg(country=('country', lambda s: 'Other (rest)'),\n",
    "         gdp_million_usd=('gdp_million_usd','sum'))\n",
    ")\n",
    "\n",
    "# combine top countries + other buckets\n",
    "plot_df = pd.concat([top_countries[['region','country','gdp_million_usd']], others_summary[['region','country','gdp_million_usd']]], ignore_index=True)\n",
    "plot_df = plot_df.sort_values(['region','gdp_million_usd'], ascending=[True, False]).reset_index(drop=True)\n",
    "\n",
    "plot_df.head(30)\n"
   ]
  },
  {
   "cell_type": "code",
   "execution_count": 10,
   "id": "59c80171",
   "metadata": {},
   "outputs": [
    {
     "name": "stdout",
     "output_type": "stream",
     "text": [
      "Saved stacked bar to stacked_bar.html\n"
     ]
    },
    {
     "data": {
      "application/vnd.plotly.v1+json": {
       "config": {
        "plotlyServerURL": "https://plot.ly"
       },
       "data": [
        {
         "alignmentgroup": "True",
         "hovertemplate": "country=Algeria<br>Region=%{x}<br>GDP (million USD)=%{y}<extra></extra>",
         "legendgroup": "Algeria",
         "marker": {
          "color": "#636efa",
          "pattern": {
           "shape": ""
          }
         },
         "name": "Algeria",
         "offsetgroup": "Algeria",
         "orientation": "v",
         "showlegend": true,
         "textposition": "auto",
         "type": "bar",
         "x": [
          "Africa",
          "America",
          "Asia",
          "Europe",
          "Oceania"
         ],
         "xaxis": "x",
         "y": [
          268885,
          0,
          0,
          0,
          0
         ],
         "yaxis": "y"
        },
        {
         "alignmentgroup": "True",
         "hovertemplate": "country=Angola<br>Region=%{x}<br>GDP (million USD)=%{y}<extra></extra>",
         "legendgroup": "Angola",
         "marker": {
          "color": "#EF553B",
          "pattern": {
           "shape": ""
          }
         },
         "name": "Angola",
         "offsetgroup": "Angola",
         "orientation": "v",
         "showlegend": true,
         "textposition": "auto",
         "type": "bar",
         "x": [
          "Africa",
          "America",
          "Asia",
          "Europe",
          "Oceania"
         ],
         "xaxis": "x",
         "y": [
          113343,
          0,
          0,
          0,
          0
         ],
         "yaxis": "y"
        },
        {
         "alignmentgroup": "True",
         "hovertemplate": "country=Argentina<br>Region=%{x}<br>GDP (million USD)=%{y}<extra></extra>",
         "legendgroup": "Argentina",
         "marker": {
          "color": "#00cc96",
          "pattern": {
           "shape": ""
          }
         },
         "name": "Argentina",
         "offsetgroup": "Argentina",
         "orientation": "v",
         "showlegend": true,
         "textposition": "auto",
         "type": "bar",
         "x": [
          "Africa",
          "America",
          "Asia",
          "Europe",
          "Oceania"
         ],
         "xaxis": "x",
         "y": [
          0,
          683533,
          0,
          0,
          0
         ],
         "yaxis": "y"
        },
        {
         "alignmentgroup": "True",
         "hovertemplate": "country=Australia<br>Region=%{x}<br>GDP (million USD)=%{y}<extra></extra>",
         "legendgroup": "Australia",
         "marker": {
          "color": "#ab63fa",
          "pattern": {
           "shape": ""
          }
         },
         "name": "Australia",
         "offsetgroup": "Australia",
         "orientation": "v",
         "showlegend": true,
         "textposition": "auto",
         "type": "bar",
         "x": [
          "Africa",
          "America",
          "Asia",
          "Europe",
          "Oceania"
         ],
         "xaxis": "x",
         "y": [
          0,
          0,
          0,
          0,
          1771681
         ],
         "yaxis": "y"
        },
        {
         "alignmentgroup": "True",
         "hovertemplate": "country=Brazil<br>Region=%{x}<br>GDP (million USD)=%{y}<extra></extra>",
         "legendgroup": "Brazil",
         "marker": {
          "color": "#FFA15A",
          "pattern": {
           "shape": ""
          }
         },
         "name": "Brazil",
         "offsetgroup": "Brazil",
         "orientation": "v",
         "showlegend": true,
         "textposition": "auto",
         "type": "bar",
         "x": [
          "Africa",
          "America",
          "Asia",
          "Europe",
          "Oceania"
         ],
         "xaxis": "x",
         "y": [
          0,
          2125958,
          0,
          0,
          0
         ],
         "yaxis": "y"
        },
        {
         "alignmentgroup": "True",
         "hovertemplate": "country=Canada<br>Region=%{x}<br>GDP (million USD)=%{y}<extra></extra>",
         "legendgroup": "Canada",
         "marker": {
          "color": "#19d3f3",
          "pattern": {
           "shape": ""
          }
         },
         "name": "Canada",
         "offsetgroup": "Canada",
         "orientation": "v",
         "showlegend": true,
         "textposition": "auto",
         "type": "bar",
         "x": [
          "Africa",
          "America",
          "Asia",
          "Europe",
          "Oceania"
         ],
         "xaxis": "x",
         "y": [
          0,
          2225341,
          0,
          0,
          0
         ],
         "yaxis": "y"
        },
        {
         "alignmentgroup": "True",
         "hovertemplate": "country=Chile<br>Region=%{x}<br>GDP (million USD)=%{y}<extra></extra>",
         "legendgroup": "Chile",
         "marker": {
          "color": "#FF6692",
          "pattern": {
           "shape": ""
          }
         },
         "name": "Chile",
         "offsetgroup": "Chile",
         "orientation": "v",
         "showlegend": true,
         "textposition": "auto",
         "type": "bar",
         "x": [
          "Africa",
          "America",
          "Asia",
          "Europe",
          "Oceania"
         ],
         "xaxis": "x",
         "y": [
          0,
          343823,
          0,
          0,
          0
         ],
         "yaxis": "y"
        },
        {
         "alignmentgroup": "True",
         "hovertemplate": "country=China<br>Region=%{x}<br>GDP (million USD)=%{y}<extra></extra>",
         "legendgroup": "China",
         "marker": {
          "color": "#B6E880",
          "pattern": {
           "shape": ""
          }
         },
         "name": "China",
         "offsetgroup": "China",
         "orientation": "v",
         "showlegend": true,
         "textposition": "auto",
         "type": "bar",
         "x": [
          "Africa",
          "America",
          "Asia",
          "Europe",
          "Oceania"
         ],
         "xaxis": "x",
         "y": [
          0,
          0,
          19231705,
          0,
          0
         ],
         "yaxis": "y"
        },
        {
         "alignmentgroup": "True",
         "hovertemplate": "country=Colombia<br>Region=%{x}<br>GDP (million USD)=%{y}<extra></extra>",
         "legendgroup": "Colombia",
         "marker": {
          "color": "#FF97FF",
          "pattern": {
           "shape": ""
          }
         },
         "name": "Colombia",
         "offsetgroup": "Colombia",
         "orientation": "v",
         "showlegend": true,
         "textposition": "auto",
         "type": "bar",
         "x": [
          "Africa",
          "America",
          "Asia",
          "Europe",
          "Oceania"
         ],
         "xaxis": "x",
         "y": [
          0,
          427766,
          0,
          0,
          0
         ],
         "yaxis": "y"
        },
        {
         "alignmentgroup": "True",
         "hovertemplate": "country=Egypt<br>Region=%{x}<br>GDP (million USD)=%{y}<extra></extra>",
         "legendgroup": "Egypt",
         "marker": {
          "color": "#FECB52",
          "pattern": {
           "shape": ""
          }
         },
         "name": "Egypt",
         "offsetgroup": "Egypt",
         "orientation": "v",
         "showlegend": true,
         "textposition": "auto",
         "type": "bar",
         "x": [
          "Africa",
          "America",
          "Asia",
          "Europe",
          "Oceania"
         ],
         "xaxis": "x",
         "y": [
          347342,
          0,
          0,
          0,
          0
         ],
         "yaxis": "y"
        },
        {
         "alignmentgroup": "True",
         "hovertemplate": "country=Ethiopia<br>Region=%{x}<br>GDP (million USD)=%{y}<extra></extra>",
         "legendgroup": "Ethiopia",
         "marker": {
          "color": "#636efa",
          "pattern": {
           "shape": ""
          }
         },
         "name": "Ethiopia",
         "offsetgroup": "Ethiopia",
         "orientation": "v",
         "showlegend": true,
         "textposition": "auto",
         "type": "bar",
         "x": [
          "Africa",
          "America",
          "Asia",
          "Europe",
          "Oceania"
         ],
         "xaxis": "x",
         "y": [
          117457,
          0,
          0,
          0,
          0
         ],
         "yaxis": "y"
        },
        {
         "alignmentgroup": "True",
         "hovertemplate": "country=Fiji<br>Region=%{x}<br>GDP (million USD)=%{y}<extra></extra>",
         "legendgroup": "Fiji",
         "marker": {
          "color": "#EF553B",
          "pattern": {
           "shape": ""
          }
         },
         "name": "Fiji",
         "offsetgroup": "Fiji",
         "orientation": "v",
         "showlegend": true,
         "textposition": "auto",
         "type": "bar",
         "x": [
          "Africa",
          "America",
          "Asia",
          "Europe",
          "Oceania"
         ],
         "xaxis": "x",
         "y": [
          0,
          0,
          0,
          0,
          6257
         ],
         "yaxis": "y"
        },
        {
         "alignmentgroup": "True",
         "hovertemplate": "country=France<br>Region=%{x}<br>GDP (million USD)=%{y}<extra></extra>",
         "legendgroup": "France",
         "marker": {
          "color": "#00cc96",
          "pattern": {
           "shape": ""
          }
         },
         "name": "France",
         "offsetgroup": "France",
         "orientation": "v",
         "showlegend": true,
         "textposition": "auto",
         "type": "bar",
         "x": [
          "Africa",
          "America",
          "Asia",
          "Europe",
          "Oceania"
         ],
         "xaxis": "x",
         "y": [
          0,
          0,
          0,
          3211292,
          0
         ],
         "yaxis": "y"
        },
        {
         "alignmentgroup": "True",
         "hovertemplate": "country=Germany<br>Region=%{x}<br>GDP (million USD)=%{y}<extra></extra>",
         "legendgroup": "Germany",
         "marker": {
          "color": "#ab63fa",
          "pattern": {
           "shape": ""
          }
         },
         "name": "Germany",
         "offsetgroup": "Germany",
         "orientation": "v",
         "showlegend": true,
         "textposition": "auto",
         "type": "bar",
         "x": [
          "Africa",
          "America",
          "Asia",
          "Europe",
          "Oceania"
         ],
         "xaxis": "x",
         "y": [
          0,
          0,
          0,
          4744804,
          0
         ],
         "yaxis": "y"
        },
        {
         "alignmentgroup": "True",
         "hovertemplate": "country=India<br>Region=%{x}<br>GDP (million USD)=%{y}<extra></extra>",
         "legendgroup": "India",
         "marker": {
          "color": "#FFA15A",
          "pattern": {
           "shape": ""
          }
         },
         "name": "India",
         "offsetgroup": "India",
         "orientation": "v",
         "showlegend": true,
         "textposition": "auto",
         "type": "bar",
         "x": [
          "Africa",
          "America",
          "Asia",
          "Europe",
          "Oceania"
         ],
         "xaxis": "x",
         "y": [
          0,
          0,
          4187017,
          0,
          0
         ],
         "yaxis": "y"
        },
        {
         "alignmentgroup": "True",
         "hovertemplate": "country=Indonesia<br>Region=%{x}<br>GDP (million USD)=%{y}<extra></extra>",
         "legendgroup": "Indonesia",
         "marker": {
          "color": "#19d3f3",
          "pattern": {
           "shape": ""
          }
         },
         "name": "Indonesia",
         "offsetgroup": "Indonesia",
         "orientation": "v",
         "showlegend": true,
         "textposition": "auto",
         "type": "bar",
         "x": [
          "Africa",
          "America",
          "Asia",
          "Europe",
          "Oceania"
         ],
         "xaxis": "x",
         "y": [
          0,
          0,
          1429743,
          0,
          0
         ],
         "yaxis": "y"
        },
        {
         "alignmentgroup": "True",
         "hovertemplate": "country=Italy<br>Region=%{x}<br>GDP (million USD)=%{y}<extra></extra>",
         "legendgroup": "Italy",
         "marker": {
          "color": "#FF6692",
          "pattern": {
           "shape": ""
          }
         },
         "name": "Italy",
         "offsetgroup": "Italy",
         "orientation": "v",
         "showlegend": true,
         "textposition": "auto",
         "type": "bar",
         "x": [
          "Africa",
          "America",
          "Asia",
          "Europe",
          "Oceania"
         ],
         "xaxis": "x",
         "y": [
          0,
          0,
          0,
          2422855,
          0
         ],
         "yaxis": "y"
        },
        {
         "alignmentgroup": "True",
         "hovertemplate": "country=Japan<br>Region=%{x}<br>GDP (million USD)=%{y}<extra></extra>",
         "legendgroup": "Japan",
         "marker": {
          "color": "#B6E880",
          "pattern": {
           "shape": ""
          }
         },
         "name": "Japan",
         "offsetgroup": "Japan",
         "orientation": "v",
         "showlegend": true,
         "textposition": "auto",
         "type": "bar",
         "x": [
          "Africa",
          "America",
          "Asia",
          "Europe",
          "Oceania"
         ],
         "xaxis": "x",
         "y": [
          0,
          0,
          4186431,
          0,
          0
         ],
         "yaxis": "y"
        },
        {
         "alignmentgroup": "True",
         "hovertemplate": "country=Kenya<br>Region=%{x}<br>GDP (million USD)=%{y}<extra></extra>",
         "legendgroup": "Kenya",
         "marker": {
          "color": "#FF97FF",
          "pattern": {
           "shape": ""
          }
         },
         "name": "Kenya",
         "offsetgroup": "Kenya",
         "orientation": "v",
         "showlegend": true,
         "textposition": "auto",
         "type": "bar",
         "x": [
          "Africa",
          "America",
          "Asia",
          "Europe",
          "Oceania"
         ],
         "xaxis": "x",
         "y": [
          131673,
          0,
          0,
          0,
          0
         ],
         "yaxis": "y"
        },
        {
         "alignmentgroup": "True",
         "hovertemplate": "country=Mexico<br>Region=%{x}<br>GDP (million USD)=%{y}<extra></extra>",
         "legendgroup": "Mexico",
         "marker": {
          "color": "#FECB52",
          "pattern": {
           "shape": ""
          }
         },
         "name": "Mexico",
         "offsetgroup": "Mexico",
         "orientation": "v",
         "showlegend": true,
         "textposition": "auto",
         "type": "bar",
         "x": [
          "Africa",
          "America",
          "Asia",
          "Europe",
          "Oceania"
         ],
         "xaxis": "x",
         "y": [
          0,
          1692640,
          0,
          0,
          0
         ],
         "yaxis": "y"
        },
        {
         "alignmentgroup": "True",
         "hovertemplate": "country=Morocco<br>Region=%{x}<br>GDP (million USD)=%{y}<extra></extra>",
         "legendgroup": "Morocco",
         "marker": {
          "color": "#636efa",
          "pattern": {
           "shape": ""
          }
         },
         "name": "Morocco",
         "offsetgroup": "Morocco",
         "orientation": "v",
         "showlegend": true,
         "textposition": "auto",
         "type": "bar",
         "x": [
          "Africa",
          "America",
          "Asia",
          "Europe",
          "Oceania"
         ],
         "xaxis": "x",
         "y": [
          165835,
          0,
          0,
          0,
          0
         ],
         "yaxis": "y"
        },
        {
         "alignmentgroup": "True",
         "hovertemplate": "country=Netherlands<br>Region=%{x}<br>GDP (million USD)=%{y}<extra></extra>",
         "legendgroup": "Netherlands",
         "marker": {
          "color": "#EF553B",
          "pattern": {
           "shape": ""
          }
         },
         "name": "Netherlands",
         "offsetgroup": "Netherlands",
         "orientation": "v",
         "showlegend": true,
         "textposition": "auto",
         "type": "bar",
         "x": [
          "Africa",
          "America",
          "Asia",
          "Europe",
          "Oceania"
         ],
         "xaxis": "x",
         "y": [
          0,
          0,
          0,
          1272011,
          0
         ],
         "yaxis": "y"
        },
        {
         "alignmentgroup": "True",
         "hovertemplate": "country=New Zealand<br>Region=%{x}<br>GDP (million USD)=%{y}<extra></extra>",
         "legendgroup": "New Zealand",
         "marker": {
          "color": "#00cc96",
          "pattern": {
           "shape": ""
          }
         },
         "name": "New Zealand",
         "offsetgroup": "New Zealand",
         "orientation": "v",
         "showlegend": true,
         "textposition": "auto",
         "type": "bar",
         "x": [
          "Africa",
          "America",
          "Asia",
          "Europe",
          "Oceania"
         ],
         "xaxis": "x",
         "y": [
          0,
          0,
          0,
          0,
          248666
         ],
         "yaxis": "y"
        },
        {
         "alignmentgroup": "True",
         "hovertemplate": "country=Nigeria<br>Region=%{x}<br>GDP (million USD)=%{y}<extra></extra>",
         "legendgroup": "Nigeria",
         "marker": {
          "color": "#ab63fa",
          "pattern": {
           "shape": ""
          }
         },
         "name": "Nigeria",
         "offsetgroup": "Nigeria",
         "orientation": "v",
         "showlegend": true,
         "textposition": "auto",
         "type": "bar",
         "x": [
          "Africa",
          "America",
          "Asia",
          "Europe",
          "Oceania"
         ],
         "xaxis": "x",
         "y": [
          188271,
          0,
          0,
          0,
          0
         ],
         "yaxis": "y"
        },
        {
         "alignmentgroup": "True",
         "hovertemplate": "country=Other (rest)<br>Region=%{x}<br>GDP (million USD)=%{y}<extra></extra>",
         "legendgroup": "Other (rest)",
         "marker": {
          "color": "#FFA15A",
          "pattern": {
           "shape": ""
          }
         },
         "name": "Other (rest)",
         "offsetgroup": "Other (rest)",
         "orientation": "v",
         "showlegend": true,
         "textposition": "auto",
         "type": "bar",
         "x": [
          "Africa",
          "America",
          "Asia",
          "Europe",
          "Oceania"
         ],
         "xaxis": "x",
         "y": [
          1103853,
          1229369,
          6789521,
          7498997,
          1676
         ],
         "yaxis": "y"
        },
        {
         "alignmentgroup": "True",
         "hovertemplate": "country=Papua New Guinea<br>Region=%{x}<br>GDP (million USD)=%{y}<extra></extra>",
         "legendgroup": "Papua New Guinea",
         "marker": {
          "color": "#19d3f3",
          "pattern": {
           "shape": ""
          }
         },
         "name": "Papua New Guinea",
         "offsetgroup": "Papua New Guinea",
         "orientation": "v",
         "showlegend": true,
         "textposition": "auto",
         "type": "bar",
         "x": [
          "Africa",
          "America",
          "Asia",
          "Europe",
          "Oceania"
         ],
         "xaxis": "x",
         "y": [
          0,
          0,
          0,
          0,
          32835
         ],
         "yaxis": "y"
        },
        {
         "alignmentgroup": "True",
         "hovertemplate": "country=Peru<br>Region=%{x}<br>GDP (million USD)=%{y}<extra></extra>",
         "legendgroup": "Peru",
         "marker": {
          "color": "#FF6692",
          "pattern": {
           "shape": ""
          }
         },
         "name": "Peru",
         "offsetgroup": "Peru",
         "orientation": "v",
         "showlegend": true,
         "textposition": "auto",
         "type": "bar",
         "x": [
          "Africa",
          "America",
          "Asia",
          "Europe",
          "Oceania"
         ],
         "xaxis": "x",
         "y": [
          0,
          303293,
          0,
          0,
          0
         ],
         "yaxis": "y"
        },
        {
         "alignmentgroup": "True",
         "hovertemplate": "country=Poland<br>Region=%{x}<br>GDP (million USD)=%{y}<extra></extra>",
         "legendgroup": "Poland",
         "marker": {
          "color": "#B6E880",
          "pattern": {
           "shape": ""
          }
         },
         "name": "Poland",
         "offsetgroup": "Poland",
         "orientation": "v",
         "showlegend": true,
         "textposition": "auto",
         "type": "bar",
         "x": [
          "Africa",
          "America",
          "Asia",
          "Europe",
          "Oceania"
         ],
         "xaxis": "x",
         "y": [
          0,
          0,
          0,
          979960,
          0
         ],
         "yaxis": "y"
        },
        {
         "alignmentgroup": "True",
         "hovertemplate": "country=Russia<br>Region=%{x}<br>GDP (million USD)=%{y}<extra></extra>",
         "legendgroup": "Russia",
         "marker": {
          "color": "#FF97FF",
          "pattern": {
           "shape": ""
          }
         },
         "name": "Russia",
         "offsetgroup": "Russia",
         "orientation": "v",
         "showlegend": true,
         "textposition": "auto",
         "type": "bar",
         "x": [
          "Africa",
          "America",
          "Asia",
          "Europe",
          "Oceania"
         ],
         "xaxis": "x",
         "y": [
          0,
          0,
          0,
          2076396,
          0
         ],
         "yaxis": "y"
        },
        {
         "alignmentgroup": "True",
         "hovertemplate": "country=Samoa<br>Region=%{x}<br>GDP (million USD)=%{y}<extra></extra>",
         "legendgroup": "Samoa",
         "marker": {
          "color": "#FECB52",
          "pattern": {
           "shape": ""
          }
         },
         "name": "Samoa",
         "offsetgroup": "Samoa",
         "orientation": "v",
         "showlegend": true,
         "textposition": "auto",
         "type": "bar",
         "x": [
          "Africa",
          "America",
          "Asia",
          "Europe",
          "Oceania"
         ],
         "xaxis": "x",
         "y": [
          0,
          0,
          0,
          0,
          1160
         ],
         "yaxis": "y"
        },
        {
         "alignmentgroup": "True",
         "hovertemplate": "country=Saudi Arabia<br>Region=%{x}<br>GDP (million USD)=%{y}<extra></extra>",
         "legendgroup": "Saudi Arabia",
         "marker": {
          "color": "#636efa",
          "pattern": {
           "shape": ""
          }
         },
         "name": "Saudi Arabia",
         "offsetgroup": "Saudi Arabia",
         "orientation": "v",
         "showlegend": true,
         "textposition": "auto",
         "type": "bar",
         "x": [
          "Africa",
          "America",
          "Asia",
          "Europe",
          "Oceania"
         ],
         "xaxis": "x",
         "y": [
          0,
          0,
          1083749,
          0,
          0
         ],
         "yaxis": "y"
        },
        {
         "alignmentgroup": "True",
         "hovertemplate": "country=Solomon Islands<br>Region=%{x}<br>GDP (million USD)=%{y}<extra></extra>",
         "legendgroup": "Solomon Islands",
         "marker": {
          "color": "#EF553B",
          "pattern": {
           "shape": ""
          }
         },
         "name": "Solomon Islands",
         "offsetgroup": "Solomon Islands",
         "orientation": "v",
         "showlegend": true,
         "textposition": "auto",
         "type": "bar",
         "x": [
          "Africa",
          "America",
          "Asia",
          "Europe",
          "Oceania"
         ],
         "xaxis": "x",
         "y": [
          0,
          0,
          0,
          0,
          1898
         ],
         "yaxis": "y"
        },
        {
         "alignmentgroup": "True",
         "hovertemplate": "country=South Africa<br>Region=%{x}<br>GDP (million USD)=%{y}<extra></extra>",
         "legendgroup": "South Africa",
         "marker": {
          "color": "#00cc96",
          "pattern": {
           "shape": ""
          }
         },
         "name": "South Africa",
         "offsetgroup": "South Africa",
         "orientation": "v",
         "showlegend": true,
         "textposition": "auto",
         "type": "bar",
         "x": [
          "Africa",
          "America",
          "Asia",
          "Europe",
          "Oceania"
         ],
         "xaxis": "x",
         "y": [
          410338,
          0,
          0,
          0,
          0
         ],
         "yaxis": "y"
        },
        {
         "alignmentgroup": "True",
         "hovertemplate": "country=South Korea<br>Region=%{x}<br>GDP (million USD)=%{y}<extra></extra>",
         "legendgroup": "South Korea",
         "marker": {
          "color": "#ab63fa",
          "pattern": {
           "shape": ""
          }
         },
         "name": "South Korea",
         "offsetgroup": "South Korea",
         "orientation": "v",
         "showlegend": true,
         "textposition": "auto",
         "type": "bar",
         "x": [
          "Africa",
          "America",
          "Asia",
          "Europe",
          "Oceania"
         ],
         "xaxis": "x",
         "y": [
          0,
          0,
          1790322,
          0,
          0
         ],
         "yaxis": "y"
        },
        {
         "alignmentgroup": "True",
         "hovertemplate": "country=Spain<br>Region=%{x}<br>GDP (million USD)=%{y}<extra></extra>",
         "legendgroup": "Spain",
         "marker": {
          "color": "#FFA15A",
          "pattern": {
           "shape": ""
          }
         },
         "name": "Spain",
         "offsetgroup": "Spain",
         "orientation": "v",
         "showlegend": true,
         "textposition": "auto",
         "type": "bar",
         "x": [
          "Africa",
          "America",
          "Asia",
          "Europe",
          "Oceania"
         ],
         "xaxis": "x",
         "y": [
          0,
          0,
          0,
          1799511,
          0
         ],
         "yaxis": "y"
        },
        {
         "alignmentgroup": "True",
         "hovertemplate": "country=Taiwan<br>Region=%{x}<br>GDP (million USD)=%{y}<extra></extra>",
         "legendgroup": "Taiwan",
         "marker": {
          "color": "#19d3f3",
          "pattern": {
           "shape": ""
          }
         },
         "name": "Taiwan",
         "offsetgroup": "Taiwan",
         "orientation": "v",
         "showlegend": true,
         "textposition": "auto",
         "type": "bar",
         "x": [
          "Africa",
          "America",
          "Asia",
          "Europe",
          "Oceania"
         ],
         "xaxis": "x",
         "y": [
          0,
          0,
          804889,
          0,
          0
         ],
         "yaxis": "y"
        },
        {
         "alignmentgroup": "True",
         "hovertemplate": "country=Tonga<br>Region=%{x}<br>GDP (million USD)=%{y}<extra></extra>",
         "legendgroup": "Tonga",
         "marker": {
          "color": "#FF6692",
          "pattern": {
           "shape": ""
          }
         },
         "name": "Tonga",
         "offsetgroup": "Tonga",
         "orientation": "v",
         "showlegend": true,
         "textposition": "auto",
         "type": "bar",
         "x": [
          "Africa",
          "America",
          "Asia",
          "Europe",
          "Oceania"
         ],
         "xaxis": "x",
         "y": [
          0,
          0,
          0,
          0,
          568
         ],
         "yaxis": "y"
        },
        {
         "alignmentgroup": "True",
         "hovertemplate": "country=Turkey<br>Region=%{x}<br>GDP (million USD)=%{y}<extra></extra>",
         "legendgroup": "Turkey",
         "marker": {
          "color": "#B6E880",
          "pattern": {
           "shape": ""
          }
         },
         "name": "Turkey",
         "offsetgroup": "Turkey",
         "orientation": "v",
         "showlegend": true,
         "textposition": "auto",
         "type": "bar",
         "x": [
          "Africa",
          "America",
          "Asia",
          "Europe",
          "Oceania"
         ],
         "xaxis": "x",
         "y": [
          0,
          0,
          1437406,
          0,
          0
         ],
         "yaxis": "y"
        },
        {
         "alignmentgroup": "True",
         "hovertemplate": "country=United Kingdom<br>Region=%{x}<br>GDP (million USD)=%{y}<extra></extra>",
         "legendgroup": "United Kingdom",
         "marker": {
          "color": "#FF97FF",
          "pattern": {
           "shape": ""
          }
         },
         "name": "United Kingdom",
         "offsetgroup": "United Kingdom",
         "orientation": "v",
         "showlegend": true,
         "textposition": "auto",
         "type": "bar",
         "x": [
          "Africa",
          "America",
          "Asia",
          "Europe",
          "Oceania"
         ],
         "xaxis": "x",
         "y": [
          0,
          0,
          0,
          3839180,
          0
         ],
         "yaxis": "y"
        },
        {
         "alignmentgroup": "True",
         "hovertemplate": "country=United States<br>Region=%{x}<br>GDP (million USD)=%{y}<extra></extra>",
         "legendgroup": "United States",
         "marker": {
          "color": "#FECB52",
          "pattern": {
           "shape": ""
          }
         },
         "name": "United States",
         "offsetgroup": "United States",
         "orientation": "v",
         "showlegend": true,
         "textposition": "auto",
         "type": "bar",
         "x": [
          "Africa",
          "America",
          "Asia",
          "Europe",
          "Oceania"
         ],
         "xaxis": "x",
         "y": [
          0,
          30507217,
          0,
          0,
          0
         ],
         "yaxis": "y"
        },
        {
         "alignmentgroup": "True",
         "hovertemplate": "country=Vanuatu<br>Region=%{x}<br>GDP (million USD)=%{y}<extra></extra>",
         "legendgroup": "Vanuatu",
         "marker": {
          "color": "#636efa",
          "pattern": {
           "shape": ""
          }
         },
         "name": "Vanuatu",
         "offsetgroup": "Vanuatu",
         "orientation": "v",
         "showlegend": true,
         "textposition": "auto",
         "type": "bar",
         "x": [
          "Africa",
          "America",
          "Asia",
          "Europe",
          "Oceania"
         ],
         "xaxis": "x",
         "y": [
          0,
          0,
          0,
          0,
          1267
         ],
         "yaxis": "y"
        }
       ],
       "layout": {
        "barmode": "relative",
        "height": 600,
        "legend": {
         "title": {
          "text": "Country"
         },
         "tracegroupgap": 0
        },
        "template": {
         "data": {
          "bar": [
           {
            "error_x": {
             "color": "#2a3f5f"
            },
            "error_y": {
             "color": "#2a3f5f"
            },
            "marker": {
             "line": {
              "color": "white",
              "width": 0.5
             },
             "pattern": {
              "fillmode": "overlay",
              "size": 10,
              "solidity": 0.2
             }
            },
            "type": "bar"
           }
          ],
          "barpolar": [
           {
            "marker": {
             "line": {
              "color": "white",
              "width": 0.5
             },
             "pattern": {
              "fillmode": "overlay",
              "size": 10,
              "solidity": 0.2
             }
            },
            "type": "barpolar"
           }
          ],
          "carpet": [
           {
            "aaxis": {
             "endlinecolor": "#2a3f5f",
             "gridcolor": "#C8D4E3",
             "linecolor": "#C8D4E3",
             "minorgridcolor": "#C8D4E3",
             "startlinecolor": "#2a3f5f"
            },
            "baxis": {
             "endlinecolor": "#2a3f5f",
             "gridcolor": "#C8D4E3",
             "linecolor": "#C8D4E3",
             "minorgridcolor": "#C8D4E3",
             "startlinecolor": "#2a3f5f"
            },
            "type": "carpet"
           }
          ],
          "choropleth": [
           {
            "colorbar": {
             "outlinewidth": 0,
             "ticks": ""
            },
            "type": "choropleth"
           }
          ],
          "contour": [
           {
            "colorbar": {
             "outlinewidth": 0,
             "ticks": ""
            },
            "colorscale": [
             [
              0,
              "#0d0887"
             ],
             [
              0.1111111111111111,
              "#46039f"
             ],
             [
              0.2222222222222222,
              "#7201a8"
             ],
             [
              0.3333333333333333,
              "#9c179e"
             ],
             [
              0.4444444444444444,
              "#bd3786"
             ],
             [
              0.5555555555555556,
              "#d8576b"
             ],
             [
              0.6666666666666666,
              "#ed7953"
             ],
             [
              0.7777777777777778,
              "#fb9f3a"
             ],
             [
              0.8888888888888888,
              "#fdca26"
             ],
             [
              1,
              "#f0f921"
             ]
            ],
            "type": "contour"
           }
          ],
          "contourcarpet": [
           {
            "colorbar": {
             "outlinewidth": 0,
             "ticks": ""
            },
            "type": "contourcarpet"
           }
          ],
          "heatmap": [
           {
            "colorbar": {
             "outlinewidth": 0,
             "ticks": ""
            },
            "colorscale": [
             [
              0,
              "#0d0887"
             ],
             [
              0.1111111111111111,
              "#46039f"
             ],
             [
              0.2222222222222222,
              "#7201a8"
             ],
             [
              0.3333333333333333,
              "#9c179e"
             ],
             [
              0.4444444444444444,
              "#bd3786"
             ],
             [
              0.5555555555555556,
              "#d8576b"
             ],
             [
              0.6666666666666666,
              "#ed7953"
             ],
             [
              0.7777777777777778,
              "#fb9f3a"
             ],
             [
              0.8888888888888888,
              "#fdca26"
             ],
             [
              1,
              "#f0f921"
             ]
            ],
            "type": "heatmap"
           }
          ],
          "heatmapgl": [
           {
            "colorbar": {
             "outlinewidth": 0,
             "ticks": ""
            },
            "colorscale": [
             [
              0,
              "#0d0887"
             ],
             [
              0.1111111111111111,
              "#46039f"
             ],
             [
              0.2222222222222222,
              "#7201a8"
             ],
             [
              0.3333333333333333,
              "#9c179e"
             ],
             [
              0.4444444444444444,
              "#bd3786"
             ],
             [
              0.5555555555555556,
              "#d8576b"
             ],
             [
              0.6666666666666666,
              "#ed7953"
             ],
             [
              0.7777777777777778,
              "#fb9f3a"
             ],
             [
              0.8888888888888888,
              "#fdca26"
             ],
             [
              1,
              "#f0f921"
             ]
            ],
            "type": "heatmapgl"
           }
          ],
          "histogram": [
           {
            "marker": {
             "pattern": {
              "fillmode": "overlay",
              "size": 10,
              "solidity": 0.2
             }
            },
            "type": "histogram"
           }
          ],
          "histogram2d": [
           {
            "colorbar": {
             "outlinewidth": 0,
             "ticks": ""
            },
            "colorscale": [
             [
              0,
              "#0d0887"
             ],
             [
              0.1111111111111111,
              "#46039f"
             ],
             [
              0.2222222222222222,
              "#7201a8"
             ],
             [
              0.3333333333333333,
              "#9c179e"
             ],
             [
              0.4444444444444444,
              "#bd3786"
             ],
             [
              0.5555555555555556,
              "#d8576b"
             ],
             [
              0.6666666666666666,
              "#ed7953"
             ],
             [
              0.7777777777777778,
              "#fb9f3a"
             ],
             [
              0.8888888888888888,
              "#fdca26"
             ],
             [
              1,
              "#f0f921"
             ]
            ],
            "type": "histogram2d"
           }
          ],
          "histogram2dcontour": [
           {
            "colorbar": {
             "outlinewidth": 0,
             "ticks": ""
            },
            "colorscale": [
             [
              0,
              "#0d0887"
             ],
             [
              0.1111111111111111,
              "#46039f"
             ],
             [
              0.2222222222222222,
              "#7201a8"
             ],
             [
              0.3333333333333333,
              "#9c179e"
             ],
             [
              0.4444444444444444,
              "#bd3786"
             ],
             [
              0.5555555555555556,
              "#d8576b"
             ],
             [
              0.6666666666666666,
              "#ed7953"
             ],
             [
              0.7777777777777778,
              "#fb9f3a"
             ],
             [
              0.8888888888888888,
              "#fdca26"
             ],
             [
              1,
              "#f0f921"
             ]
            ],
            "type": "histogram2dcontour"
           }
          ],
          "mesh3d": [
           {
            "colorbar": {
             "outlinewidth": 0,
             "ticks": ""
            },
            "type": "mesh3d"
           }
          ],
          "parcoords": [
           {
            "line": {
             "colorbar": {
              "outlinewidth": 0,
              "ticks": ""
             }
            },
            "type": "parcoords"
           }
          ],
          "pie": [
           {
            "automargin": true,
            "type": "pie"
           }
          ],
          "scatter": [
           {
            "fillpattern": {
             "fillmode": "overlay",
             "size": 10,
             "solidity": 0.2
            },
            "type": "scatter"
           }
          ],
          "scatter3d": [
           {
            "line": {
             "colorbar": {
              "outlinewidth": 0,
              "ticks": ""
             }
            },
            "marker": {
             "colorbar": {
              "outlinewidth": 0,
              "ticks": ""
             }
            },
            "type": "scatter3d"
           }
          ],
          "scattercarpet": [
           {
            "marker": {
             "colorbar": {
              "outlinewidth": 0,
              "ticks": ""
             }
            },
            "type": "scattercarpet"
           }
          ],
          "scattergeo": [
           {
            "marker": {
             "colorbar": {
              "outlinewidth": 0,
              "ticks": ""
             }
            },
            "type": "scattergeo"
           }
          ],
          "scattergl": [
           {
            "marker": {
             "colorbar": {
              "outlinewidth": 0,
              "ticks": ""
             }
            },
            "type": "scattergl"
           }
          ],
          "scattermapbox": [
           {
            "marker": {
             "colorbar": {
              "outlinewidth": 0,
              "ticks": ""
             }
            },
            "type": "scattermapbox"
           }
          ],
          "scatterpolar": [
           {
            "marker": {
             "colorbar": {
              "outlinewidth": 0,
              "ticks": ""
             }
            },
            "type": "scatterpolar"
           }
          ],
          "scatterpolargl": [
           {
            "marker": {
             "colorbar": {
              "outlinewidth": 0,
              "ticks": ""
             }
            },
            "type": "scatterpolargl"
           }
          ],
          "scatterternary": [
           {
            "marker": {
             "colorbar": {
              "outlinewidth": 0,
              "ticks": ""
             }
            },
            "type": "scatterternary"
           }
          ],
          "surface": [
           {
            "colorbar": {
             "outlinewidth": 0,
             "ticks": ""
            },
            "colorscale": [
             [
              0,
              "#0d0887"
             ],
             [
              0.1111111111111111,
              "#46039f"
             ],
             [
              0.2222222222222222,
              "#7201a8"
             ],
             [
              0.3333333333333333,
              "#9c179e"
             ],
             [
              0.4444444444444444,
              "#bd3786"
             ],
             [
              0.5555555555555556,
              "#d8576b"
             ],
             [
              0.6666666666666666,
              "#ed7953"
             ],
             [
              0.7777777777777778,
              "#fb9f3a"
             ],
             [
              0.8888888888888888,
              "#fdca26"
             ],
             [
              1,
              "#f0f921"
             ]
            ],
            "type": "surface"
           }
          ],
          "table": [
           {
            "cells": {
             "fill": {
              "color": "#EBF0F8"
             },
             "line": {
              "color": "white"
             }
            },
            "header": {
             "fill": {
              "color": "#C8D4E3"
             },
             "line": {
              "color": "white"
             }
            },
            "type": "table"
           }
          ]
         },
         "layout": {
          "annotationdefaults": {
           "arrowcolor": "#2a3f5f",
           "arrowhead": 0,
           "arrowwidth": 1
          },
          "autotypenumbers": "strict",
          "coloraxis": {
           "colorbar": {
            "outlinewidth": 0,
            "ticks": ""
           }
          },
          "colorscale": {
           "diverging": [
            [
             0,
             "#8e0152"
            ],
            [
             0.1,
             "#c51b7d"
            ],
            [
             0.2,
             "#de77ae"
            ],
            [
             0.3,
             "#f1b6da"
            ],
            [
             0.4,
             "#fde0ef"
            ],
            [
             0.5,
             "#f7f7f7"
            ],
            [
             0.6,
             "#e6f5d0"
            ],
            [
             0.7,
             "#b8e186"
            ],
            [
             0.8,
             "#7fbc41"
            ],
            [
             0.9,
             "#4d9221"
            ],
            [
             1,
             "#276419"
            ]
           ],
           "sequential": [
            [
             0,
             "#0d0887"
            ],
            [
             0.1111111111111111,
             "#46039f"
            ],
            [
             0.2222222222222222,
             "#7201a8"
            ],
            [
             0.3333333333333333,
             "#9c179e"
            ],
            [
             0.4444444444444444,
             "#bd3786"
            ],
            [
             0.5555555555555556,
             "#d8576b"
            ],
            [
             0.6666666666666666,
             "#ed7953"
            ],
            [
             0.7777777777777778,
             "#fb9f3a"
            ],
            [
             0.8888888888888888,
             "#fdca26"
            ],
            [
             1,
             "#f0f921"
            ]
           ],
           "sequentialminus": [
            [
             0,
             "#0d0887"
            ],
            [
             0.1111111111111111,
             "#46039f"
            ],
            [
             0.2222222222222222,
             "#7201a8"
            ],
            [
             0.3333333333333333,
             "#9c179e"
            ],
            [
             0.4444444444444444,
             "#bd3786"
            ],
            [
             0.5555555555555556,
             "#d8576b"
            ],
            [
             0.6666666666666666,
             "#ed7953"
            ],
            [
             0.7777777777777778,
             "#fb9f3a"
            ],
            [
             0.8888888888888888,
             "#fdca26"
            ],
            [
             1,
             "#f0f921"
            ]
           ]
          },
          "colorway": [
           "#636efa",
           "#EF553B",
           "#00cc96",
           "#ab63fa",
           "#FFA15A",
           "#19d3f3",
           "#FF6692",
           "#B6E880",
           "#FF97FF",
           "#FECB52"
          ],
          "font": {
           "color": "#2a3f5f"
          },
          "geo": {
           "bgcolor": "white",
           "lakecolor": "white",
           "landcolor": "white",
           "showlakes": true,
           "showland": true,
           "subunitcolor": "#C8D4E3"
          },
          "hoverlabel": {
           "align": "left"
          },
          "hovermode": "closest",
          "mapbox": {
           "style": "light"
          },
          "paper_bgcolor": "white",
          "plot_bgcolor": "white",
          "polar": {
           "angularaxis": {
            "gridcolor": "#EBF0F8",
            "linecolor": "#EBF0F8",
            "ticks": ""
           },
           "bgcolor": "white",
           "radialaxis": {
            "gridcolor": "#EBF0F8",
            "linecolor": "#EBF0F8",
            "ticks": ""
           }
          },
          "scene": {
           "xaxis": {
            "backgroundcolor": "white",
            "gridcolor": "#DFE8F3",
            "gridwidth": 2,
            "linecolor": "#EBF0F8",
            "showbackground": true,
            "ticks": "",
            "zerolinecolor": "#EBF0F8"
           },
           "yaxis": {
            "backgroundcolor": "white",
            "gridcolor": "#DFE8F3",
            "gridwidth": 2,
            "linecolor": "#EBF0F8",
            "showbackground": true,
            "ticks": "",
            "zerolinecolor": "#EBF0F8"
           },
           "zaxis": {
            "backgroundcolor": "white",
            "gridcolor": "#DFE8F3",
            "gridwidth": 2,
            "linecolor": "#EBF0F8",
            "showbackground": true,
            "ticks": "",
            "zerolinecolor": "#EBF0F8"
           }
          },
          "shapedefaults": {
           "line": {
            "color": "#2a3f5f"
           }
          },
          "ternary": {
           "aaxis": {
            "gridcolor": "#DFE8F3",
            "linecolor": "#A2B1C6",
            "ticks": ""
           },
           "baxis": {
            "gridcolor": "#DFE8F3",
            "linecolor": "#A2B1C6",
            "ticks": ""
           },
           "bgcolor": "white",
           "caxis": {
            "gridcolor": "#DFE8F3",
            "linecolor": "#A2B1C6",
            "ticks": ""
           }
          },
          "title": {
           "x": 0.05
          },
          "xaxis": {
           "automargin": true,
           "gridcolor": "#EBF0F8",
           "linecolor": "#EBF0F8",
           "ticks": "",
           "title": {
            "standoff": 15
           },
           "zerolinecolor": "#EBF0F8",
           "zerolinewidth": 2
          },
          "yaxis": {
           "automargin": true,
           "gridcolor": "#EBF0F8",
           "linecolor": "#EBF0F8",
           "ticks": "",
           "title": {
            "standoff": 15
           },
           "zerolinecolor": "#EBF0F8",
           "zerolinewidth": 2
          }
         }
        },
        "title": {
         "text": "Regional GDP by country (IMF numbers; each bar = region, stacks = countries)"
        },
        "xaxis": {
         "anchor": "y",
         "domain": [
          0,
          1
         ],
         "title": {
          "text": "Region"
         }
        },
        "yaxis": {
         "anchor": "x",
         "domain": [
          0,
          1
         ],
         "title": {
          "text": "GDP (million USD)"
         }
        }
       }
      }
     },
     "metadata": {},
     "output_type": "display_data"
    }
   ],
   "source": [
    "# create a stacked bar where each region is on the x-axis and stacks are countries' GDP contributions.\n",
    "# We pivot the data so that each country is a color segment.\n",
    "pivot = plot_df.pivot_table(index='region', columns='country', values='gdp_million_usd', aggfunc='sum', fill_value=0)\n",
    "\n",
    "fig = px.bar(pivot,\n",
    "             x=pivot.index,\n",
    "             y=pivot.columns,\n",
    "             title=\"Regional GDP by country (IMF numbers; each bar = region, stacks = countries)\",\n",
    "             labels={\"value\":\"GDP (million USD)\", \"region\":\"Region\"},\n",
    "             barmode='relative')  # 'stack' or 'relative' for stacked; 'relative' is same for positive values\n",
    "\n",
    "# Update layout for readability\n",
    "fig.update_layout(\n",
    "    xaxis_title=\"Region\",\n",
    "    yaxis_title=\"GDP (million USD)\",\n",
    "    legend_title=\"Country\",\n",
    "    template=\"plotly_white\",\n",
    "    height=600,\n",
    ")\n",
    "\n",
    "# Save interactive HTML file\n",
    "stacked_bar_filename = \"stacked_bar.html\"\n",
    "fig.write_html(stacked_bar_filename, full_html=True, include_plotlyjs='cdn')\n",
    "print(f\"Saved stacked bar to {stacked_bar_filename}\")\n",
    "\n",
    "# If running in a notebook, show the figure inline as well\n",
    "fig.show()\n"
   ]
  },
  {
   "cell_type": "code",
   "execution_count": null,
   "id": "9820abc5",
   "metadata": {},
   "outputs": [],
   "source": []
  }
 ],
 "metadata": {
  "kernelspec": {
   "display_name": "base",
   "language": "python",
   "name": "python3"
  },
  "language_info": {
   "codemirror_mode": {
    "name": "ipython",
    "version": 3
   },
   "file_extension": ".py",
   "mimetype": "text/x-python",
   "name": "python",
   "nbconvert_exporter": "python",
   "pygments_lexer": "ipython3",
   "version": "3.9.21"
  }
 },
 "nbformat": 4,
 "nbformat_minor": 5
}
